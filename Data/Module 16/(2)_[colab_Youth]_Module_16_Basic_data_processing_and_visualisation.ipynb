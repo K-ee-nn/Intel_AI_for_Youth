{
  "nbformat": 4,
  "nbformat_minor": 0,
  "metadata": {
    "kernelspec": {
      "display_name": "Python 3",
      "language": "python",
      "name": "python3"
    },
    "language_info": {
      "codemirror_mode": {
        "name": "ipython",
        "version": 3
      },
      "file_extension": ".py",
      "mimetype": "text/x-python",
      "name": "python",
      "nbconvert_exporter": "python",
      "pygments_lexer": "ipython3",
      "version": "3.6.7"
    },
    "colab": {
      "name": "(2)_[colab_Youth]_Module_16_Basic_data_processing_and_visualisation.ipynb",
      "provenance": [],
      "collapsed_sections": []
    }
  },
  "cells": [
    {
      "cell_type": "markdown",
      "metadata": {
        "id": "qlgFoww4T0HX"
      },
      "source": [
        "# Data Lesson Map\n",
        "\n",
        "<font color=red>Red </font> highlighted is the topic covered for this lesson\n",
        "\n",
        "1. <font color=red>Basics Data Science and Visualisation</font>\n",
        ">* <font color=red>Obtaining Data</font>\n",
        ">* <font color=red>Basic Data Processing</font>\n",
        ">* <font color=red>Basic statistics</font>\n",
        ">* <font color=red>Data visualization</font>\n",
        ">* Handling erroneous and missing data\n",
        "2. Data Machine Learning Techniques\n",
        ">* Supervised Learning Techniques\n",
        ">* Supervised Regression\n",
        ">* Artificial Neural Networks\n",
        "3. AI for Data Walkthrough\n",
        ">* Model Output\n",
        ">* Outputs Visualisation and Validation\n",
        "4. AI Models \n",
        ">* Linear Regression\n",
        ">* Underfitting vs Overfitting\n",
        ">* K-Nearest Neighbour (KNN)\n",
        ">* Decision Tree\n",
        ">* Convolutional Neural Networks (CNN)"
      ]
    },
    {
      "cell_type": "markdown",
      "metadata": {
        "id": "Ac992JBoSYCL"
      },
      "source": [
        "# Basic data processing and visualisation"
      ]
    },
    {
      "cell_type": "markdown",
      "metadata": {
        "id": "MNfE7Fi5SYCP"
      },
      "source": [
        "After importing the datset, we must be able to make sense of the data before any machine learning algorithms can be applied. In order to do so, we have to use basic statistics and simple plots. In this notebook, you will learn how to understand basic statstics and use the Matplotlib functions to plot simple plots. Thus, please ensure that you have the Matplotlib library installed before proceeding with the notebook. You can check by typing \"`! pip freeze`\".\n",
        "\n",
        "<font color=red>Hints:</font>  it is too obivious to miss.  In case you missed it, please read above again."
      ]
    },
    {
      "cell_type": "code",
      "metadata": {
        "id": "7Jp-N8HESYCR",
        "colab": {
          "base_uri": "https://localhost:8080/"
        },
        "outputId": "7d52d4d0-45cc-4696-f9f6-bb8720831d8b"
      },
      "source": [
        "! pip freeze \n"
      ],
      "execution_count": 1,
      "outputs": [
        {
          "output_type": "stream",
          "name": "stdout",
          "text": [
            "absl-py==0.12.0\n",
            "alabaster==0.7.12\n",
            "albumentations==0.1.12\n",
            "altair==4.1.0\n",
            "appdirs==1.4.4\n",
            "argcomplete==1.12.3\n",
            "argon2-cffi==21.1.0\n",
            "arviz==0.11.4\n",
            "astor==0.8.1\n",
            "astropy==4.3.1\n",
            "astunparse==1.6.3\n",
            "atari-py==0.2.9\n",
            "atomicwrites==1.4.0\n",
            "attrs==21.2.0\n",
            "audioread==2.1.9\n",
            "autograd==1.3\n",
            "Babel==2.9.1\n",
            "backcall==0.2.0\n",
            "beautifulsoup4==4.6.3\n",
            "bleach==4.1.0\n",
            "blis==0.4.1\n",
            "bokeh==2.3.3\n",
            "Bottleneck==1.3.2\n",
            "branca==0.4.2\n",
            "bs4==0.0.1\n",
            "CacheControl==0.12.6\n",
            "cached-property==1.5.2\n",
            "cachetools==4.2.4\n",
            "catalogue==1.0.0\n",
            "certifi==2021.5.30\n",
            "cffi==1.14.6\n",
            "cftime==1.5.1\n",
            "chardet==3.0.4\n",
            "charset-normalizer==2.0.7\n",
            "clang==5.0\n",
            "click==7.1.2\n",
            "cloudpickle==1.3.0\n",
            "cmake==3.12.0\n",
            "cmdstanpy==0.9.5\n",
            "colorcet==2.0.6\n",
            "colorlover==0.3.0\n",
            "community==1.0.0b1\n",
            "contextlib2==0.5.5\n",
            "convertdate==2.3.2\n",
            "coverage==3.7.1\n",
            "coveralls==0.5\n",
            "crcmod==1.7\n",
            "cufflinks==0.17.3\n",
            "cvxopt==1.2.7\n",
            "cvxpy==1.0.31\n",
            "cycler==0.10.0\n",
            "cymem==2.0.5\n",
            "Cython==0.29.24\n",
            "daft==0.0.4\n",
            "dask==2.12.0\n",
            "datascience==0.10.6\n",
            "debugpy==1.0.0\n",
            "decorator==4.4.2\n",
            "defusedxml==0.7.1\n",
            "descartes==1.1.0\n",
            "dill==0.3.4\n",
            "distributed==1.25.3\n",
            "dlib @ file:///dlib-19.18.0-cp37-cp37m-linux_x86_64.whl\n",
            "dm-tree==0.1.6\n",
            "docopt==0.6.2\n",
            "docutils==0.17.1\n",
            "dopamine-rl==1.0.5\n",
            "earthengine-api==0.1.284\n",
            "easydict==1.9\n",
            "ecos==2.0.7.post1\n",
            "editdistance==0.5.3\n",
            "en-core-web-sm @ https://github.com/explosion/spacy-models/releases/download/en_core_web_sm-2.2.5/en_core_web_sm-2.2.5.tar.gz\n",
            "entrypoints==0.3\n",
            "ephem==4.1\n",
            "et-xmlfile==1.1.0\n",
            "fa2==0.3.5\n",
            "fastai==1.0.61\n",
            "fastdtw==0.3.4\n",
            "fastprogress==1.0.0\n",
            "fastrlock==0.6\n",
            "fbprophet==0.7.1\n",
            "feather-format==0.4.1\n",
            "filelock==3.3.0\n",
            "firebase-admin==4.4.0\n",
            "fix-yahoo-finance==0.0.22\n",
            "Flask==1.1.4\n",
            "flatbuffers==1.12\n",
            "folium==0.8.3\n",
            "future==0.16.0\n",
            "gast==0.4.0\n",
            "GDAL==2.2.2\n",
            "gdown==3.6.4\n",
            "gensim==3.6.0\n",
            "geographiclib==1.52\n",
            "geopy==1.17.0\n",
            "gin-config==0.4.0\n",
            "glob2==0.7\n",
            "google==2.0.3\n",
            "google-api-core==1.26.3\n",
            "google-api-python-client==1.12.8\n",
            "google-auth==1.35.0\n",
            "google-auth-httplib2==0.0.4\n",
            "google-auth-oauthlib==0.4.6\n",
            "google-cloud-bigquery==1.21.0\n",
            "google-cloud-bigquery-storage==1.1.0\n",
            "google-cloud-core==1.0.3\n",
            "google-cloud-datastore==1.8.0\n",
            "google-cloud-firestore==1.7.0\n",
            "google-cloud-language==1.2.0\n",
            "google-cloud-storage==1.18.1\n",
            "google-cloud-translate==1.5.0\n",
            "google-colab @ file:///colabtools/dist/google-colab-1.0.0.tar.gz\n",
            "google-pasta==0.2.0\n",
            "google-resumable-media==0.4.1\n",
            "googleapis-common-protos==1.53.0\n",
            "googledrivedownloader==0.4\n",
            "graphviz==0.10.1\n",
            "greenlet==1.1.2\n",
            "grpcio==1.41.0\n",
            "gspread==3.0.1\n",
            "gspread-dataframe==3.0.8\n",
            "gym==0.17.3\n",
            "h5py==3.1.0\n",
            "HeapDict==1.0.1\n",
            "hijri-converter==2.2.2\n",
            "holidays==0.10.5.2\n",
            "holoviews==1.14.6\n",
            "html5lib==1.0.1\n",
            "httpimport==0.5.18\n",
            "httplib2==0.17.4\n",
            "httplib2shim==0.0.3\n",
            "humanize==0.5.1\n",
            "hyperopt==0.1.2\n",
            "ideep4py==2.0.0.post3\n",
            "idna==2.10\n",
            "imageio==2.4.1\n",
            "imagesize==1.2.0\n",
            "imbalanced-learn==0.4.3\n",
            "imblearn==0.0\n",
            "imgaug==0.2.9\n",
            "importlib-metadata==4.8.1\n",
            "importlib-resources==5.2.2\n",
            "imutils==0.5.4\n",
            "inflect==2.1.0\n",
            "iniconfig==1.1.1\n",
            "intel-openmp==2021.4.0\n",
            "intervaltree==2.1.0\n",
            "ipykernel==4.10.1\n",
            "ipython==5.5.0\n",
            "ipython-genutils==0.2.0\n",
            "ipython-sql==0.3.9\n",
            "ipywidgets==7.6.5\n",
            "itsdangerous==1.1.0\n",
            "jax==0.2.21\n",
            "jaxlib @ https://storage.googleapis.com/jax-releases/cuda111/jaxlib-0.1.71+cuda111-cp37-none-manylinux2010_x86_64.whl\n",
            "jdcal==1.4.1\n",
            "jedi==0.18.0\n",
            "jieba==0.42.1\n",
            "Jinja2==2.11.3\n",
            "joblib==1.0.1\n",
            "jpeg4py==0.1.4\n",
            "jsonschema==2.6.0\n",
            "jupyter==1.0.0\n",
            "jupyter-client==5.3.5\n",
            "jupyter-console==5.2.0\n",
            "jupyter-core==4.8.1\n",
            "jupyterlab-pygments==0.1.2\n",
            "jupyterlab-widgets==1.0.2\n",
            "kaggle==1.5.12\n",
            "kapre==0.3.5\n",
            "keras==2.6.0\n",
            "Keras-Preprocessing==1.1.2\n",
            "keras-vis==0.4.1\n",
            "kiwisolver==1.3.2\n",
            "korean-lunar-calendar==0.2.1\n",
            "librosa==0.8.1\n",
            "lightgbm==2.2.3\n",
            "llvmlite==0.34.0\n",
            "lmdb==0.99\n",
            "LunarCalendar==0.0.9\n",
            "lxml==4.2.6\n",
            "Markdown==3.3.4\n",
            "MarkupSafe==2.0.1\n",
            "matplotlib==3.2.2\n",
            "matplotlib-inline==0.1.3\n",
            "matplotlib-venn==0.11.6\n",
            "missingno==0.5.0\n",
            "mistune==0.8.4\n",
            "mizani==0.6.0\n",
            "mkl==2019.0\n",
            "mlxtend==0.14.0\n",
            "more-itertools==8.10.0\n",
            "moviepy==0.2.3.5\n",
            "mpmath==1.2.1\n",
            "msgpack==1.0.2\n",
            "multiprocess==0.70.12.2\n",
            "multitasking==0.0.9\n",
            "murmurhash==1.0.5\n",
            "music21==5.5.0\n",
            "natsort==5.5.0\n",
            "nbclient==0.5.4\n",
            "nbconvert==5.6.1\n",
            "nbformat==5.1.3\n",
            "nest-asyncio==1.5.1\n",
            "netCDF4==1.5.7\n",
            "networkx==2.6.3\n",
            "nibabel==3.0.2\n",
            "nltk==3.2.5\n",
            "notebook==5.3.1\n",
            "numba==0.51.2\n",
            "numexpr==2.7.3\n",
            "numpy==1.19.5\n",
            "nvidia-ml-py3==7.352.0\n",
            "oauth2client==4.1.3\n",
            "oauthlib==3.1.1\n",
            "okgrade==0.4.3\n",
            "opencv-contrib-python==4.1.2.30\n",
            "opencv-python==4.1.2.30\n",
            "openpyxl==2.5.9\n",
            "opt-einsum==3.3.0\n",
            "osqp==0.6.2.post0\n",
            "packaging==21.0\n",
            "palettable==3.3.0\n",
            "pandas==1.1.5\n",
            "pandas-datareader==0.9.0\n",
            "pandas-gbq==0.13.3\n",
            "pandas-profiling==1.4.1\n",
            "pandocfilters==1.5.0\n",
            "panel==0.12.1\n",
            "param==1.11.1\n",
            "parso==0.8.2\n",
            "pathlib==1.0.1\n",
            "patsy==0.5.2\n",
            "pep517==0.11.0\n",
            "pexpect==4.8.0\n",
            "pickleshare==0.7.5\n",
            "Pillow==7.1.2\n",
            "pip-tools==6.2.0\n",
            "plac==1.1.3\n",
            "plotly==4.4.1\n",
            "plotnine==0.6.0\n",
            "pluggy==0.7.1\n",
            "pooch==1.5.1\n",
            "portpicker==1.3.9\n",
            "prefetch-generator==1.0.1\n",
            "preshed==3.0.5\n",
            "prettytable==2.2.1\n",
            "progressbar2==3.38.0\n",
            "prometheus-client==0.11.0\n",
            "promise==2.3\n",
            "prompt-toolkit==1.0.18\n",
            "protobuf==3.17.3\n",
            "psutil==5.4.8\n",
            "psycopg2==2.7.6.1\n",
            "ptyprocess==0.7.0\n",
            "py==1.10.0\n",
            "pyarrow==3.0.0\n",
            "pyasn1==0.4.8\n",
            "pyasn1-modules==0.2.8\n",
            "pycocotools==2.0.2\n",
            "pycparser==2.20\n",
            "pyct==0.4.8\n",
            "pydata-google-auth==1.2.0\n",
            "pydot==1.3.0\n",
            "pydot-ng==2.0.0\n",
            "pydotplus==2.0.2\n",
            "PyDrive==1.3.1\n",
            "pyemd==0.5.1\n",
            "pyerfa==2.0.0\n",
            "pyglet==1.5.0\n",
            "Pygments==2.6.1\n",
            "pygobject==3.26.1\n",
            "pymc3==3.11.4\n",
            "PyMeeus==0.5.11\n",
            "pymongo==3.12.0\n",
            "pymystem3==0.2.0\n",
            "PyOpenGL==3.1.5\n",
            "pyparsing==2.4.7\n",
            "pyrsistent==0.18.0\n",
            "pysndfile==1.3.8\n",
            "PySocks==1.7.1\n",
            "pystan==2.19.1.1\n",
            "pytest==3.6.4\n",
            "python-apt==0.0.0\n",
            "python-chess==0.23.11\n",
            "python-dateutil==2.8.2\n",
            "python-louvain==0.15\n",
            "python-slugify==5.0.2\n",
            "python-utils==2.5.6\n",
            "pytz==2018.9\n",
            "pyviz-comms==2.1.0\n",
            "PyWavelets==1.1.1\n",
            "PyYAML==3.13\n",
            "pyzmq==22.3.0\n",
            "qdldl==0.1.5.post0\n",
            "qtconsole==5.1.1\n",
            "QtPy==1.11.2\n",
            "regex==2019.12.20\n",
            "requests==2.23.0\n",
            "requests-oauthlib==1.3.0\n",
            "resampy==0.2.2\n",
            "retrying==1.3.3\n",
            "rpy2==3.4.5\n",
            "rsa==4.7.2\n",
            "scikit-image==0.16.2\n",
            "scikit-learn==0.22.2.post1\n",
            "scipy==1.4.1\n",
            "screen-resolution-extra==0.0.0\n",
            "scs==2.1.4\n",
            "seaborn==0.11.2\n",
            "semver==2.13.0\n",
            "Send2Trash==1.8.0\n",
            "setuptools-git==1.2\n",
            "Shapely==1.7.1\n",
            "simplegeneric==0.8.1\n",
            "six==1.15.0\n",
            "sklearn==0.0\n",
            "sklearn-pandas==1.8.0\n",
            "smart-open==5.2.1\n",
            "snowballstemmer==2.1.0\n",
            "sortedcontainers==2.4.0\n",
            "SoundFile==0.10.3.post1\n",
            "spacy==2.2.4\n",
            "Sphinx==1.8.5\n",
            "sphinxcontrib-serializinghtml==1.1.5\n",
            "sphinxcontrib-websupport==1.2.4\n",
            "SQLAlchemy==1.4.25\n",
            "sqlparse==0.4.2\n",
            "srsly==1.0.5\n",
            "statsmodels==0.10.2\n",
            "sympy==1.7.1\n",
            "tables==3.4.4\n",
            "tabulate==0.8.9\n",
            "tblib==1.7.0\n",
            "tensorboard==2.6.0\n",
            "tensorboard-data-server==0.6.1\n",
            "tensorboard-plugin-wit==1.8.0\n",
            "tensorflow @ file:///tensorflow-2.6.0-cp37-cp37m-linux_x86_64.whl\n",
            "tensorflow-datasets==4.0.1\n",
            "tensorflow-estimator==2.6.0\n",
            "tensorflow-gcs-config==2.6.0\n",
            "tensorflow-hub==0.12.0\n",
            "tensorflow-metadata==1.2.0\n",
            "tensorflow-probability==0.14.1\n",
            "termcolor==1.1.0\n",
            "terminado==0.12.1\n",
            "testpath==0.5.0\n",
            "text-unidecode==1.3\n",
            "textblob==0.15.3\n",
            "Theano-PyMC==1.1.2\n",
            "thinc==7.4.0\n",
            "tifffile==2021.10.12\n",
            "toml==0.10.2\n",
            "tomli==1.2.1\n",
            "toolz==0.11.1\n",
            "torch @ https://download.pytorch.org/whl/cu111/torch-1.9.0%2Bcu111-cp37-cp37m-linux_x86_64.whl\n",
            "torchsummary==1.5.1\n",
            "torchtext==0.10.0\n",
            "torchvision @ https://download.pytorch.org/whl/cu111/torchvision-0.10.0%2Bcu111-cp37-cp37m-linux_x86_64.whl\n",
            "tornado==5.1.1\n",
            "tqdm==4.62.3\n",
            "traitlets==5.1.0\n",
            "tweepy==3.10.0\n",
            "typeguard==2.7.1\n",
            "typing-extensions==3.7.4.3\n",
            "tzlocal==1.5.1\n",
            "uritemplate==3.0.1\n",
            "urllib3==1.24.3\n",
            "vega-datasets==0.9.0\n",
            "wasabi==0.8.2\n",
            "wcwidth==0.2.5\n",
            "webencodings==0.5.1\n",
            "Werkzeug==1.0.1\n",
            "widgetsnbextension==3.5.1\n",
            "wordcloud==1.5.0\n",
            "wrapt==1.12.1\n",
            "xarray==0.18.2\n",
            "xgboost==0.90\n",
            "xkit==0.0.0\n",
            "xlrd==1.1.0\n",
            "xlwt==1.3.0\n",
            "yellowbrick==0.9.1\n",
            "zict==2.0.0\n",
            "zipp==3.6.0\n"
          ]
        }
      ]
    },
    {
      "cell_type": "markdown",
      "metadata": {
        "id": "9m36vJMqSYCW"
      },
      "source": [
        "# Basic statistics"
      ]
    },
    {
      "cell_type": "markdown",
      "metadata": {
        "id": "0YO7QhULSYCX"
      },
      "source": [
        "`Import` your required libraries below. Generally, we will import any required libraries at the start of the notebook so that we do not have to re-run the whole notebook if we want to include additional libraries. The 2 libraries needed in this notebook will help structure and visualise the data.\n",
        "\n",
        "<font color=red>Your code:</font> "
      ]
    },
    {
      "cell_type": "code",
      "metadata": {
        "id": "87yTFQ6CZxLm"
      },
      "source": [
        "import matplotlib.pyplot as plt\n",
        "import pandas as pd"
      ],
      "execution_count": 3,
      "outputs": []
    },
    {
      "cell_type": "code",
      "metadata": {
        "id": "Gx-pYxmVScA5",
        "colab": {
          "base_uri": "https://localhost:8080/"
        },
        "outputId": "1e64e4a7-4d62-49aa-bf57-93a2fb3c7d36"
      },
      "source": [
        "from google.colab import drive\n",
        "drive.mount('/content/Intel_AI4Y')"
      ],
      "execution_count": 4,
      "outputs": [
        {
          "output_type": "stream",
          "name": "stdout",
          "text": [
            "Mounted at /content/Intel_AI4Y\n"
          ]
        }
      ]
    },
    {
      "cell_type": "markdown",
      "metadata": {
        "id": "EmPedil8SYCc"
      },
      "source": [
        "# 1. Using the pandas `.describe()` function to obtain overall statistics"
      ]
    },
    {
      "cell_type": "markdown",
      "metadata": {
        "id": "6y3pqQPoSYCe"
      },
      "source": [
        "Import the previously used Iris Flower dataset as a dataframe called df and print the `.describe()` output.\n",
        "\n",
        "<font color=red>Hint:</font>  Module 16 assignment 1 \"Obtaining data\" section \"1.2.2 Iris Flower dataset\" where you read \"`iris.data`\" and give the columns names"
      ]
    },
    {
      "cell_type": "code",
      "metadata": {
        "id": "D5uOc8ZXSYCf",
        "colab": {
          "base_uri": "https://localhost:8080/",
          "height": 297
        },
        "outputId": "4aa544d7-a47b-4244-ab4f-16cfb4904df1"
      },
      "source": [
        "df = pd.read_csv('/content/Intel_AI4Y/My Drive/Intel_AI4Y/Students_E_Learning/Copy_To_Google_Drive/Intel_AI4Y_Colab/Module_16/data/iris.data')\n",
        "df.rename(columns = {'5.1':'sepal length', '3.5':'sepal width', '1.4':'petal length', '0.2':'petal width', 'Iris-setosa':'class'}, inplace = True)\n",
        "df.describe()"
      ],
      "execution_count": 10,
      "outputs": [
        {
          "output_type": "execute_result",
          "data": {
            "text/html": [
              "<div>\n",
              "<style scoped>\n",
              "    .dataframe tbody tr th:only-of-type {\n",
              "        vertical-align: middle;\n",
              "    }\n",
              "\n",
              "    .dataframe tbody tr th {\n",
              "        vertical-align: top;\n",
              "    }\n",
              "\n",
              "    .dataframe thead th {\n",
              "        text-align: right;\n",
              "    }\n",
              "</style>\n",
              "<table border=\"1\" class=\"dataframe\">\n",
              "  <thead>\n",
              "    <tr style=\"text-align: right;\">\n",
              "      <th></th>\n",
              "      <th>sepal length</th>\n",
              "      <th>sepal width</th>\n",
              "      <th>petal length</th>\n",
              "      <th>petal width</th>\n",
              "    </tr>\n",
              "  </thead>\n",
              "  <tbody>\n",
              "    <tr>\n",
              "      <th>count</th>\n",
              "      <td>149.000000</td>\n",
              "      <td>149.000000</td>\n",
              "      <td>149.000000</td>\n",
              "      <td>149.000000</td>\n",
              "    </tr>\n",
              "    <tr>\n",
              "      <th>mean</th>\n",
              "      <td>5.848322</td>\n",
              "      <td>3.051007</td>\n",
              "      <td>3.774497</td>\n",
              "      <td>1.205369</td>\n",
              "    </tr>\n",
              "    <tr>\n",
              "      <th>std</th>\n",
              "      <td>0.828594</td>\n",
              "      <td>0.433499</td>\n",
              "      <td>1.759651</td>\n",
              "      <td>0.761292</td>\n",
              "    </tr>\n",
              "    <tr>\n",
              "      <th>min</th>\n",
              "      <td>4.300000</td>\n",
              "      <td>2.000000</td>\n",
              "      <td>1.000000</td>\n",
              "      <td>0.100000</td>\n",
              "    </tr>\n",
              "    <tr>\n",
              "      <th>25%</th>\n",
              "      <td>5.100000</td>\n",
              "      <td>2.800000</td>\n",
              "      <td>1.600000</td>\n",
              "      <td>0.300000</td>\n",
              "    </tr>\n",
              "    <tr>\n",
              "      <th>50%</th>\n",
              "      <td>5.800000</td>\n",
              "      <td>3.000000</td>\n",
              "      <td>4.400000</td>\n",
              "      <td>1.300000</td>\n",
              "    </tr>\n",
              "    <tr>\n",
              "      <th>75%</th>\n",
              "      <td>6.400000</td>\n",
              "      <td>3.300000</td>\n",
              "      <td>5.100000</td>\n",
              "      <td>1.800000</td>\n",
              "    </tr>\n",
              "    <tr>\n",
              "      <th>max</th>\n",
              "      <td>7.900000</td>\n",
              "      <td>4.400000</td>\n",
              "      <td>6.900000</td>\n",
              "      <td>2.500000</td>\n",
              "    </tr>\n",
              "  </tbody>\n",
              "</table>\n",
              "</div>"
            ],
            "text/plain": [
              "       sepal length  sepal width  petal length  petal width\n",
              "count    149.000000   149.000000    149.000000   149.000000\n",
              "mean       5.848322     3.051007      3.774497     1.205369\n",
              "std        0.828594     0.433499      1.759651     0.761292\n",
              "min        4.300000     2.000000      1.000000     0.100000\n",
              "25%        5.100000     2.800000      1.600000     0.300000\n",
              "50%        5.800000     3.000000      4.400000     1.300000\n",
              "75%        6.400000     3.300000      5.100000     1.800000\n",
              "max        7.900000     4.400000      6.900000     2.500000"
            ]
          },
          "metadata": {},
          "execution_count": 10
        }
      ]
    },
    {
      "cell_type": "markdown",
      "metadata": {
        "id": "qR2MFbsFSYCi"
      },
      "source": [
        "We can see that the output will provide the values for mean, std, min, 25%, 50%, 75% and max. Do you know what these values refer to? Please briefly explain these values in your worksheet.\n",
        "\n",
        "<font color=red>Your answer:</font> "
      ]
    },
    {
      "cell_type": "code",
      "metadata": {
        "id": "c2-4UDDqSYCj"
      },
      "source": [
        "# mean -> average for each category\n",
        "# std -> Standard Deviation of the observations\n",
        "# min -> minimum of the values in the object\n",
        "# 25% -> 25% means 25% of your data have the value 1.0000 or below\n",
        "# 50% -> 50% means 50% of your data have the value 1.5 or below\n",
        "# 75% -> 75% means 75% of your data have the value 2.25 or below\n",
        "# max ->  the max is the largest number."
      ],
      "execution_count": null,
      "outputs": []
    },
    {
      "cell_type": "markdown",
      "metadata": {
        "id": "O7b2CI58SYCn"
      },
      "source": [
        "These basic statistics are important as they will tell us the distribution of the data. For example, if you have a very small difference between the 50 and the 25 percentile but a large difference between the 75 and 50 percentile, it will suggest that the distribution of the data is skewed to the larger values. However, numbers alone may be hard to understand. Thus, we will be looking at some plots and figures to help us visualise!"
      ]
    },
    {
      "cell_type": "markdown",
      "metadata": {
        "id": "gFvm46cCSYCr"
      },
      "source": [
        "# 2. Boxplots"
      ]
    },
    {
      "cell_type": "markdown",
      "metadata": {
        "id": "5hys9zoiSYCs"
      },
      "source": [
        "Boxplots or box and whisker plots, are useful tools to help visualise the distribution of the data. The plot will indicate the percentile values and also the interquartile range (IQR). Additionally, it will also be able to identify potential outliers. The potential outliers will be values larger than the 75th percentile + 1.5(IQR) or lower than the 25th percentile - 1.5(IQR). You can refer to the figure below to understand how to read the boxplot. Additionally, you can watch this video for more information on boxplots (https://www.youtube.com/watch?v=o7qWblT5NZI)."
      ]
    },
    {
      "cell_type": "markdown",
      "metadata": {
        "id": "9CcBpMEsSYCu"
      },
      "source": [
        "<img src = \"https://visualoop.com/media/2015/04/box_plot_anatomy.png\">"
      ]
    },
    {
      "cell_type": "markdown",
      "metadata": {
        "id": "c8_vg63WSYCv"
      },
      "source": [
        "Let us try to plot box plots for imported Iris Flower dataset. Try out the code below. It will plot the boxplot for the sepal length variable in the dataset. Setting `showfliers=True` will ensure that the outliers will be shown on the plot.\n",
        "\n",
        "<font color=red> Hint: If you encounter an error while plotting the boxplot, think about the previous exercise dealing with headers.</font>"
      ]
    },
    {
      "cell_type": "code",
      "metadata": {
        "id": "K8bAU2kZSYCw",
        "colab": {
          "base_uri": "https://localhost:8080/",
          "height": 545
        },
        "outputId": "670762d7-d707-4fd1-d4c9-d40e25fd2f77"
      },
      "source": [
        "y = df['sepal length']\n",
        "plt.boxplot(y,showfliers=True,labels=['sepal length'])\n",
        "plt.show();\n",
        "df.describe()"
      ],
      "execution_count": 21,
      "outputs": [
        {
          "output_type": "display_data",
          "data": {
            "image/png": "[encoded data removed]",
            "text/plain": [
              "<Figure size 432x288 with 1 Axes>"
            ]
          },
          "metadata": {
            "needs_background": "light"
          }
        },
        {
          "output_type": "execute_result",
          "data": {
            "text/html": [
              "<div>\n",
              "<style scoped>\n",
              "    .dataframe tbody tr th:only-of-type {\n",
              "        vertical-align: middle;\n",
              "    }\n",
              "\n",
              "    .dataframe tbody tr th {\n",
              "        vertical-align: top;\n",
              "    }\n",
              "\n",
              "    .dataframe thead th {\n",
              "        text-align: right;\n",
              "    }\n",
              "</style>\n",
              "<table border=\"1\" class=\"dataframe\">\n",
              "  <thead>\n",
              "    <tr style=\"text-align: right;\">\n",
              "      <th></th>\n",
              "      <th>sepal length</th>\n",
              "      <th>sepal width</th>\n",
              "      <th>petal length</th>\n",
              "      <th>petal width</th>\n",
              "    </tr>\n",
              "  </thead>\n",
              "  <tbody>\n",
              "    <tr>\n",
              "      <th>count</th>\n",
              "      <td>149.000000</td>\n",
              "      <td>149.000000</td>\n",
              "      <td>149.000000</td>\n",
              "      <td>149.000000</td>\n",
              "    </tr>\n",
              "    <tr>\n",
              "      <th>mean</th>\n",
              "      <td>5.848322</td>\n",
              "      <td>3.051007</td>\n",
              "      <td>3.774497</td>\n",
              "      <td>1.205369</td>\n",
              "    </tr>\n",
              "    <tr>\n",
              "      <th>std</th>\n",
              "      <td>0.828594</td>\n",
              "      <td>0.433499</td>\n",
              "      <td>1.759651</td>\n",
              "      <td>0.761292</td>\n",
              "    </tr>\n",
              "    <tr>\n",
              "      <th>min</th>\n",
              "      <td>4.300000</td>\n",
              "      <td>2.000000</td>\n",
              "      <td>1.000000</td>\n",
              "      <td>0.100000</td>\n",
              "    </tr>\n",
              "    <tr>\n",
              "      <th>25%</th>\n",
              "      <td>5.100000</td>\n",
              "      <td>2.800000</td>\n",
              "      <td>1.600000</td>\n",
              "      <td>0.300000</td>\n",
              "    </tr>\n",
              "    <tr>\n",
              "      <th>50%</th>\n",
              "      <td>5.800000</td>\n",
              "      <td>3.000000</td>\n",
              "      <td>4.400000</td>\n",
              "      <td>1.300000</td>\n",
              "    </tr>\n",
              "    <tr>\n",
              "      <th>75%</th>\n",
              "      <td>6.400000</td>\n",
              "      <td>3.300000</td>\n",
              "      <td>5.100000</td>\n",
              "      <td>1.800000</td>\n",
              "    </tr>\n",
              "    <tr>\n",
              "      <th>max</th>\n",
              "      <td>7.900000</td>\n",
              "      <td>4.400000</td>\n",
              "      <td>6.900000</td>\n",
              "      <td>2.500000</td>\n",
              "    </tr>\n",
              "  </tbody>\n",
              "</table>\n",
              "</div>"
            ],
            "text/plain": [
              "       sepal length  sepal width  petal length  petal width\n",
              "count    149.000000   149.000000    149.000000   149.000000\n",
              "mean       5.848322     3.051007      3.774497     1.205369\n",
              "std        0.828594     0.433499      1.759651     0.761292\n",
              "min        4.300000     2.000000      1.000000     0.100000\n",
              "25%        5.100000     2.800000      1.600000     0.300000\n",
              "50%        5.800000     3.000000      4.400000     1.300000\n",
              "75%        6.400000     3.300000      5.100000     1.800000\n",
              "max        7.900000     4.400000      6.900000     2.500000"
            ]
          },
          "metadata": {},
          "execution_count": 21
        }
      ]
    },
    {
      "cell_type": "markdown",
      "metadata": {
        "id": "rb8O7zkOSYCz"
      },
      "source": [
        "From the boxplot above, can you explain if you should expect outliers within the `sepal_length` variable?\n",
        "\n",
        "<font color=red>Your answer:</font> "
      ]
    },
    {
      "cell_type": "code",
      "metadata": {
        "id": "Tx1Rxq4lSYC0"
      },
      "source": [
        "# Yes, as you can see from the df.describe() above, the sepal length min is 4.30 and max is 7.90. In the boxplot value starts from 4.5 to 8.0, so 4.5 - 4.3 = 0.2. There are some outliers "
      ],
      "execution_count": null,
      "outputs": []
    },
    {
      "cell_type": "markdown",
      "metadata": {
        "id": "w091P6i6SYC3"
      },
      "source": [
        "It is now your turn to plot the box plots for \"`sepal_width`\",\"`petal_length`\", \"`petal_width`\" variables.\n",
        "\n",
        "<font color=red>Hint:</font>  similar to above but use \"`sepal_width`\" "
      ]
    },
    {
      "cell_type": "code",
      "metadata": {
        "id": "LoWtWpgCSYC4",
        "colab": {
          "base_uri": "https://localhost:8080/",
          "height": 268
        },
        "outputId": "1edb85ae-02fd-407b-8562-f6c8e93dc30c"
      },
      "source": [
        "y = df['sepal width']\n",
        "plt.boxplot(y,showfliers=True,labels=['sepal width'])\n",
        "plt.show();\n"
      ],
      "execution_count": 23,
      "outputs": [
        {
          "output_type": "display_data",
          "data": {
            "image/png": "[encoded data removed]",
            "text/plain": [
              "<Figure size 432x288 with 1 Axes>"
            ]
          },
          "metadata": {
            "needs_background": "light"
          }
        }
      ]
    },
    {
      "cell_type": "markdown",
      "metadata": {
        "id": "LAMwEmmFA6YU"
      },
      "source": [
        "<font color=red>Hint:</font>  similar to above but use \"`petal_length`\" "
      ]
    },
    {
      "cell_type": "code",
      "metadata": {
        "id": "nJ_AnWujA7li",
        "colab": {
          "base_uri": "https://localhost:8080/",
          "height": 265
        },
        "outputId": "1421ba92-b49e-4867-eece-b8ce00552d96"
      },
      "source": [
        "y = df['petal length']\n",
        "plt.boxplot(y,showfliers=True,labels=['petal length'])\n",
        "plt.show();\n"
      ],
      "execution_count": 24,
      "outputs": [
        {
          "output_type": "display_data",
          "data": {
            "image/png": "[encoded data removed]",
            "text/plain": [
              "<Figure size 432x288 with 1 Axes>"
            ]
          },
          "metadata": {
            "needs_background": "light"
          }
        }
      ]
    },
    {
      "cell_type": "markdown",
      "metadata": {
        "id": "cwZI1vN2BJY4"
      },
      "source": [
        "<font color=red>Hint:</font>  similar to above but use \"`petal_width`\" "
      ]
    },
    {
      "cell_type": "code",
      "metadata": {
        "id": "1-91h33qBI1X",
        "colab": {
          "base_uri": "https://localhost:8080/",
          "height": 265
        },
        "outputId": "a3007f2b-a19f-49ff-a4b8-6d6c7ba7e5e4"
      },
      "source": [
        "y = df['petal width']\n",
        "plt.boxplot(y,showfliers=True,labels=['petal width'])\n",
        "plt.show();\n",
        "\n"
      ],
      "execution_count": 25,
      "outputs": [
        {
          "output_type": "display_data",
          "data": {
            "image/png": "[encoded data removed]",
            "text/plain": [
              "<Figure size 432x288 with 1 Axes>"
            ]
          },
          "metadata": {
            "needs_background": "light"
          }
        }
      ]
    },
    {
      "cell_type": "markdown",
      "metadata": {
        "id": "ZSJ5ckmfSYC7"
      },
      "source": [
        "Did you notice that there could potentially be outliers in the sepal width variable? Additionally, did you see that the distribution within petal length and petal width may be skewed? This is because the median in both cases are closer to the top of the box than the bottom of the box."
      ]
    },
    {
      "cell_type": "markdown",
      "metadata": {
        "id": "Lt0S4qt-SYC8"
      },
      "source": [
        "<font color=green>Bonus: Are you able to plot all 4 boxplots using the same axis in 1 figure? You can search for the .subplots() method within matplotlib to help you do so.</font>"
      ]
    },
    {
      "cell_type": "markdown",
      "metadata": {
        "id": "Y1No-Be-BUXG"
      },
      "source": [
        "<font color=red>Hint:</font>  Refer to Module 13 Assignment 2 \"Data Visualization\" -> \"Challenge Questions\" -> \"Create a subplot showing all boxplots of the various areas\""
      ]
    },
    {
      "cell_type": "code",
      "metadata": {
        "id": "0Ujev4oSSYC9",
        "colab": {
          "base_uri": "https://localhost:8080/",
          "height": 281
        },
        "outputId": "abecf4b3-9f6c-4235-8413-a415a50dae52"
      },
      "source": [
        "sepal_length = df['sepal length']\n",
        "sepal_width = df['sepal width']\n",
        "petal_length = df['petal length']\n",
        "petal_width = df['petal width']\n",
        "\n",
        "fig1, (ax1, ax2, ax3, ax4) = plt.subplots(1, 4, sharex = True, sharey = True)\n",
        "\n",
        "ax1.set_title('sepal length')\n",
        "ax1.boxplot(sepal_length)\n",
        "\n",
        "ax2.set_title('sepal width')\n",
        "ax2.boxplot(sepal_width)\n",
        "\n",
        "ax3.set_title('petal length')\n",
        "ax3.boxplot(petal_length)\n",
        "\n",
        "ax4.set_title('petal width')\n",
        "ax4.boxplot(petal_width)\n",
        "\n",
        "plt.show()\n"
      ],
      "execution_count": 33,
      "outputs": [
        {
          "output_type": "display_data",
          "data": {
            "image/png": "[encoded data removed]",
            "text/plain": [
              "<Figure size 432x288 with 4 Axes>"
            ]
          },
          "metadata": {
            "needs_background": "light"
          }
        }
      ]
    },
    {
      "cell_type": "markdown",
      "metadata": {
        "id": "BtbI9BzUSYDA"
      },
      "source": [
        "# 3. Histograms"
      ]
    },
    {
      "cell_type": "markdown",
      "metadata": {
        "id": "vLf-Ra8ISYDB"
      },
      "source": [
        "Like boxplots, histograms are also able to help you visualise the distribution of the data. It will also help to see if the data is skewed towards the high or low values. The bars within the histograms are representative of the number of datapoints that fall within certain value ranges. Try out the code below to see the histogram for the sepal length values. The value for bins indicate the number of bins for the data and the range indicates the minimum and maximum value for the x axis.\n",
        "\n",
        "<font color=red>Hint:</font> \n",
        "*   refer to Module 13 assignment 1 \"Data Visualization\" -> \"Histogram\"\n",
        "*   For `sepal_length`\n",
        "\n"
      ]
    },
    {
      "cell_type": "code",
      "metadata": {
        "id": "phj6OLtcSYDC",
        "colab": {
          "base_uri": "https://localhost:8080/",
          "height": 281
        },
        "outputId": "565064ee-d50b-4962-8b48-8e80e7727585"
      },
      "source": [
        "sepal_length = df['sepal length']\n",
        "plt.hist(sepal_length, bins=8)\n",
        "plt.title('sepal length')\n",
        "plt.show()"
      ],
      "execution_count": 43,
      "outputs": [
        {
          "output_type": "display_data",
          "data": {
            "image/png": "[encoded data removed]",
            "text/plain": [
              "<Figure size 432x288 with 1 Axes>"
            ]
          },
          "metadata": {
            "needs_background": "light"
          }
        }
      ]
    },
    {
      "cell_type": "markdown",
      "metadata": {
        "id": "mD1q61VfSYDE"
      },
      "source": [
        "From the histogram above, you can see that the distribution is relatively balanced with the majority of the data falling between 4.5 and 7.0. Now, try to plot the histograms for the remaining variables. Try different bin numbers and ranges to get bins with nice intervals. For example, bins that have intervals of 1, 0.5, 0,2, etc are easier to visualise. You can print out the minimum and maximum values to help you. You can use the code below to print out the minimum and maximum values for sepal length. You can see that the values will range between 4 to 8 and 8 bins will be suitable as the interval of 0.5 will be easy to visualise.\n",
        "\n",
        "<font color=red>Hints:</font> \n",
        "*   Web search \"python pandas dataframe max()\"\n",
        "*   Web search \"python pandas dataframe min()\"\n",
        "*   Example 1 and 2 of http://www.datasciencemadesimple.com/get-maximum-value-column-python-pandas/ \n",
        "*   Please use `print()`\n",
        "\n",
        "\n",
        "\n"
      ]
    },
    {
      "cell_type": "code",
      "metadata": {
        "id": "LSH0zAwBSYDG",
        "colab": {
          "base_uri": "https://localhost:8080/"
        },
        "outputId": "74f32526-c129-4666-f2f1-3d128a887dc8"
      },
      "source": [
        "print(df.max())\n",
        "\n"
      ],
      "execution_count": 53,
      "outputs": [
        {
          "output_type": "stream",
          "name": "stdout",
          "text": [
            "sepal length               7.9\n",
            "sepal width                4.4\n",
            "petal length               6.9\n",
            "petal width                2.5\n",
            "class           Iris-virginica\n",
            "dtype: object\n"
          ]
        }
      ]
    },
    {
      "cell_type": "code",
      "metadata": {
        "colab": {
          "base_uri": "https://localhost:8080/"
        },
        "id": "poTLhx2OaUk1",
        "outputId": "9194f1e5-3caf-4210-e00e-e4969711b5d7"
      },
      "source": [
        "print(df.min())"
      ],
      "execution_count": 54,
      "outputs": [
        {
          "output_type": "stream",
          "name": "stdout",
          "text": [
            "sepal length            4.3\n",
            "sepal width               2\n",
            "petal length              1\n",
            "petal width             0.1\n",
            "class           Iris-setosa\n",
            "dtype: object\n"
          ]
        }
      ]
    },
    {
      "cell_type": "markdown",
      "metadata": {
        "id": "kv_a4VelSYDI"
      },
      "source": [
        "You can plot the remaining histograms below! Record down the ranges and number of bins used in each histogram. How did you obtain the range values and number of bins? What information can you obtain from the histogram that was not visualised by the box plot?\n",
        "\n",
        "Histograms are able to give the count for certain value ranges (for e.g. between 0 and 1) whereas boxplots onlt provide the distribution using percentile ranges.\n",
        "\n",
        "<font color=red>Hints:</font> \n",
        "*   refer to Module 13 assignment 1 \"Data Visualization\" -> \"Histogram\"\n",
        "*   For `sepal_width`\n"
      ]
    },
    {
      "cell_type": "code",
      "metadata": {
        "id": "pSH0OZoGSYDJ",
        "colab": {
          "base_uri": "https://localhost:8080/",
          "height": 281
        },
        "outputId": "3e70be3b-b0a6-4741-e4dc-34290119015c"
      },
      "source": [
        "sepal_width = df['sepal width']\n",
        "plt.hist(sepal_width, bins=8)\n",
        "plt.title('sepal width')\n",
        "plt.show()\n"
      ],
      "execution_count": 55,
      "outputs": [
        {
          "output_type": "display_data",
          "data": {
            "image/png": "[encoded data removed]",
            "text/plain": [
              "<Figure size 432x288 with 1 Axes>"
            ]
          },
          "metadata": {
            "needs_background": "light"
          }
        }
      ]
    },
    {
      "cell_type": "markdown",
      "metadata": {
        "id": "X-BYPQGXIdHa"
      },
      "source": [
        "<font color=red>Hints:</font> \n",
        "*   refer to Module 13 assignment 1 \"Data Visualization\" -> \"Histogram\"\n",
        "*   For `petal_length`"
      ]
    },
    {
      "cell_type": "code",
      "metadata": {
        "id": "MovdrP0pIcvf",
        "colab": {
          "base_uri": "https://localhost:8080/",
          "height": 281
        },
        "outputId": "457de801-586c-4516-cba2-e9c121353bb2"
      },
      "source": [
        "petal_length = df['petal length']\n",
        "plt.hist(petal_length, bins=8)\n",
        "plt.title('petal length')\n",
        "plt.show()"
      ],
      "execution_count": 56,
      "outputs": [
        {
          "output_type": "display_data",
          "data": {
            "image/png": "[encoded data removed]",
            "text/plain": [
              "<Figure size 432x288 with 1 Axes>"
            ]
          },
          "metadata": {
            "needs_background": "light"
          }
        }
      ]
    },
    {
      "cell_type": "markdown",
      "metadata": {
        "id": "XjJoLmPgIjvz"
      },
      "source": [
        "<font color=red>Hints:</font>  \n",
        "*   refer to Module 13 assignment 1 \"Data Visualization\" -> \"Histogram\"\n",
        "*   For `petal_width`"
      ]
    },
    {
      "cell_type": "code",
      "metadata": {
        "id": "W5ScMcv9IcfK",
        "colab": {
          "base_uri": "https://localhost:8080/",
          "height": 281
        },
        "outputId": "1ab0ff31-5410-4036-b038-1595f44462ba"
      },
      "source": [
        "petal_width = df['petal width']\n",
        "plt.hist(petal_width, bins=8)\n",
        "plt.title('petal width')\n",
        "plt.show()\n"
      ],
      "execution_count": 57,
      "outputs": [
        {
          "output_type": "display_data",
          "data": {
            "image/png": "[encoded data removed]",
            "text/plain": [
              "<Figure size 432x288 with 1 Axes>"
            ]
          },
          "metadata": {
            "needs_background": "light"
          }
        }
      ]
    },
    {
      "cell_type": "markdown",
      "metadata": {
        "id": "cT-dzSAJSYDM"
      },
      "source": [
        "From the histograms above, you should be able to observe that the distribution is skewed for both petal length and petal width. This is the same conclusion as that seen earlier from the boxplots."
      ]
    },
    {
      "cell_type": "markdown",
      "metadata": {
        "id": "4yi9pWuGSYDM"
      },
      "source": [
        "# 4. Scatter Plots"
      ]
    },
    {
      "cell_type": "markdown",
      "metadata": {
        "id": "IP17M3S0SYDN"
      },
      "source": [
        "Both boxplots and histograms are able to identify if outliers exist wihin a single variable. What if you need to look for outliers in 2 variables instead of just 1 variable? You can use scatter plot to help you do so. Scatter plots will be able to identify if there are outliers by plotting the points against 2 variables. Try the code out below. The code will use the \"petal length\" and \"petal width\" as variables.\n",
        "\n",
        "\n",
        "<font color=red>Hints:</font> \n",
        "*   refer to Module 13 assignment 1 \"Data Visualization\" -> \"Scatter plot\"\n",
        "*   For `petal_length` vs `petal_width`"
      ]
    },
    {
      "cell_type": "code",
      "metadata": {
        "id": "g-J9uD7zSYDO",
        "colab": {
          "base_uri": "https://localhost:8080/",
          "height": 397
        },
        "outputId": "9c234a02-87da-46fb-aa88-81b4519efdf2"
      },
      "source": [
        "import numpy as np\n",
        "x = df['petal width']\n",
        "y = df['petal length']\n",
        "colors = np.random.rand(len(y))\n",
        "\n",
        "plt.scatter(x, y, alpha=1, c=colors)\n",
        "plt.title('petal length vs petal_width')\n",
        "plt.xlabel('petal width')\n",
        "plt.ylabel('petal length')\n",
        "plt.show()\n",
        "\n",
        "\n",
        "df.max()\n",
        "df.min()"
      ],
      "execution_count": 74,
      "outputs": [
        {
          "output_type": "display_data",
          "data": {
            "image/png": "[encoded data removed]",
            "text/plain": [
              "<Figure size 432x288 with 1 Axes>"
            ]
          },
          "metadata": {
            "needs_background": "light"
          }
        },
        {
          "output_type": "execute_result",
          "data": {
            "text/plain": [
              "sepal length            4.3\n",
              "sepal width               2\n",
              "petal length              1\n",
              "petal width             0.1\n",
              "class           Iris-setosa\n",
              "dtype: object"
            ]
          },
          "metadata": {},
          "execution_count": 74
        }
      ]
    },
    {
      "cell_type": "markdown",
      "metadata": {
        "id": "HTsdJa3sSYDU"
      },
      "source": [
        "Do you notice any outlier in the scatter plot? Where are they in the plot?\n",
        "\n",
        "<font color=red>Your answer:</font> "
      ]
    },
    {
      "cell_type": "code",
      "metadata": {
        "id": "nXfe19U5SYDV"
      },
      "source": [
        "# They are not outliers "
      ],
      "execution_count": null,
      "outputs": []
    },
    {
      "cell_type": "markdown",
      "metadata": {
        "id": "AYq2w8z0SYDZ"
      },
      "source": [
        "From the figure above, it may seem that there are outliers at the left of the plot as these points are very far away from the marjority of the points. However, these are not outliers as outliers usually do not cluster together. Additionally, there are usually only a few outlier points. This grouping seems to be a cluster rather than outliers. We will see why this cluster exists later in the notebook. Additionally, if you observe carefully, you will also be able to see that there seems to be a direct relationship between petal width and petal length. This means that when petal width values are low, their petal length values will also be low and vice versa. Thus, scatter plots may sometimes be able to reveal relationships between variables as well."
      ]
    },
    {
      "cell_type": "markdown",
      "metadata": {
        "id": "p28B1gW1SYDa"
      },
      "source": [
        "Now it is your turn to try and plot a scatter plot. Use the remaining 2 variables, \"sepal length\" and \"sepal width\", to plot the scatter plot. Spend some time to study the plot. Do you see any interesting relationship between the two variables?\n",
        "\n",
        "<font color=red>Hints:</font> \n",
        "*   refer to Module 13 assignment 1 \"Data Visualization\" -> \"Scatter plot\"\n",
        "*   For `sepal_length` vs `sepal_width`"
      ]
    },
    {
      "cell_type": "code",
      "metadata": {
        "id": "f-z8uwImSYDb",
        "colab": {
          "base_uri": "https://localhost:8080/",
          "height": 397
        },
        "outputId": "75bb14a6-3298-42be-b1ed-3aa688fb6cd8"
      },
      "source": [
        "import numpy as np\n",
        "x = df['sepal width']\n",
        "y = df['sepal length']\n",
        "colors = np.random.rand(len(y))\n",
        "\n",
        "plt.scatter(x, y, alpha=1, c=colors)\n",
        "plt.title('sepal length vs sepal width')\n",
        "plt.xlabel('sepal width')\n",
        "plt.ylabel('sepal length')\n",
        "plt.show()\n",
        "\n",
        "\n",
        "df.max()\n",
        "\n"
      ],
      "execution_count": 76,
      "outputs": [
        {
          "output_type": "display_data",
          "data": {
            "image/png": "[encoded data removed]",
            "text/plain": [
              "<Figure size 432x288 with 1 Axes>"
            ]
          },
          "metadata": {
            "needs_background": "light"
          }
        },
        {
          "output_type": "execute_result",
          "data": {
            "text/plain": [
              "sepal length               7.9\n",
              "sepal width                4.4\n",
              "petal length               6.9\n",
              "petal width                2.5\n",
              "class           Iris-virginica\n",
              "dtype: object"
            ]
          },
          "metadata": {},
          "execution_count": 76
        }
      ]
    },
    {
      "cell_type": "markdown",
      "metadata": {
        "id": "2x5bORldSYDd"
      },
      "source": [
        "You can observe from the plot that it does not seem to have any obvious outliers when comparing sepal width and sepal length. Furthermore, it seems that there is no clear relationship between sepal width and sepal length."
      ]
    },
    {
      "cell_type": "markdown",
      "metadata": {
        "id": "OYw_WMuXSYDe"
      },
      "source": [
        "<font color=green>Bonus: We can also use scatter plots to understand the differences in the classes in the dataset. To recall, we did not use the classes of the flowers. The classes are the labels for each flower. This means that we may be able to use the variables \"sepal length\", \"sepal width\", \"petal length\" and \"petal width\" values to try and predict the flower class. We can use scatter plots to see which may be the most useful variable to predict the class. Try the code below!</font>\n",
        "\n",
        "<font color=red>Your code:</font> "
      ]
    },
    {
      "cell_type": "code",
      "metadata": {
        "id": "1tsrTqwbdsoG",
        "colab": {
          "base_uri": "https://localhost:8080/",
          "height": 279
        },
        "outputId": "6821025c-afac-4706-df73-b25d8f1b2c84"
      },
      "source": [
        "#Split the datframe into the 3 classes\n",
        "df_Setosa = df[df['class'] == 'Iris-setosa']\n",
        "df_Versicolour = df[df['class'] == 'Iris-versicolor']\n",
        "df_Virginica = df[df['class'] == 'Iris-virginica']\n",
        "#your code here: (HINTS) do similar for df_Versicolor and df_Virginica\n",
        "\n",
        "#Plot the different class with different colours. The c= controls the colours and the label= controls the name shown in the legend\n",
        "plt.scatter(df_Setosa['petal length'],df_Setosa['petal width'],c='r',label='Setosa')\n",
        "plt.scatter(df_Versicolour['petal length'],df_Versicolour['petal width'],c='b',label='Versicolour')\n",
        "plt.scatter(df_Virginica['petal length'],df_Virginica['petal width'],c='g',label='Virginica')\n",
        "#your code here: (HINTS) do similar to plot for df_Versicolor and df_Virginica against petal_width\n",
        "\n",
        "#Add in the axis and legend\n",
        "plt.legend()\n",
        "plt.xlabel('Petal Length')\n",
        "plt.ylabel('Petal Width')\n",
        "\n",
        "plt.show()"
      ],
      "execution_count": 86,
      "outputs": [
        {
          "output_type": "display_data",
          "data": {
            "image/png": "[encoded data removed]",
            "text/plain": [
              "<Figure size 432x288 with 1 Axes>"
            ]
          },
          "metadata": {
            "needs_background": "light"
          }
        }
      ]
    },
    {
      "cell_type": "markdown",
      "metadata": {
        "id": "PIRLYBvXSYDh"
      },
      "source": [
        "This shows that petal width and petal length may be important variables if we want to predict the classes of the flowers. This also explains why the values at the left corner are not outliers. Do the same plot for the other variables. Is it easy to separate the classes?\n",
        "\n",
        "<font color=red>Hints:</font>  do similar code as above but against `sepal_width`"
      ]
    },
    {
      "cell_type": "code",
      "metadata": {
        "id": "dPZiDI-ESYDi",
        "colab": {
          "base_uri": "https://localhost:8080/",
          "height": 282
        },
        "outputId": "6b297998-7558-408d-c016-83a2de879fda"
      },
      "source": [
        "#Split the datframe into the 3 classes\n",
        "df_Setosa = df[df['class'] == 'Iris-setosa']\n",
        "df_Versicolour = df[df['class'] == 'Iris-versicolor']\n",
        "df_Virginica = df[df['class'] == 'Iris-virginica']\n",
        "#your code here: (HINTS) do similar for df_Versicolor and df_Virginica\n",
        "\n",
        "#Plot the different class with different colours. The c= controls the colours and the label= controls the name shown in the legend\n",
        "plt.scatter(df_Setosa['sepal length'],df_Setosa['sepal width'],c='r',label='Setosa')\n",
        "plt.scatter(df_Versicolour['sepal length'],df_Versicolour['sepal width'],c='g',label='Versicolour')\n",
        "plt.scatter(df_Virginica['sepal length'],df_Virginica['sepal width'],c='b',label='Virginica')\n",
        "#your code here: (HINTS) do similar to plot for df_Versicolor and df_Virginica against petal_width\n",
        "\n",
        "#Add in the axis and legend\n",
        "plt.legend()\n",
        "plt.xlabel('Sepal Length')\n",
        "plt.ylabel('Sepal Width')\n",
        "\n",
        "plt.show()\n"
      ],
      "execution_count": 87,
      "outputs": [
        {
          "output_type": "display_data",
          "data": {
            "image/png": "[encoded data removed]",
            "text/plain": [
              "<Figure size 432x288 with 1 Axes>"
            ]
          },
          "metadata": {
            "needs_background": "light"
          }
        }
      ]
    },
    {
      "cell_type": "markdown",
      "metadata": {
        "id": "gMdYg10mSYDl"
      },
      "source": [
        "We can see from both plots that it may be easier to predict the Setosa class as the data points are easily separatable from the other two classes."
      ]
    }
  ]
}