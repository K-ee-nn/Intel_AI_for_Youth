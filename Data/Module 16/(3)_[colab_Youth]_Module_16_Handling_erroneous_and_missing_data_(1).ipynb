{
  "nbformat": 4,
  "nbformat_minor": 0,
  "metadata": {
    "kernelspec": {
      "display_name": "Python 3",
      "language": "python",
      "name": "python3"
    },
    "language_info": {
      "codemirror_mode": {
        "name": "ipython",
        "version": 3
      },
      "file_extension": ".py",
      "mimetype": "text/x-python",
      "name": "python",
      "nbconvert_exporter": "python",
      "pygments_lexer": "ipython3",
      "version": "3.6.7"
    },
    "colab": {
      "name": "(3)_[colab_Youth]_Module_16_Handling_erroneous_and_missing_data (1).ipynb",
      "provenance": [],
      "collapsed_sections": []
    }
  },
  "cells": [
    {
      "cell_type": "markdown",
      "metadata": {
        "id": "uY8wo7LhjL9A"
      },
      "source": [
        "# Data Lesson Map\n",
        "\n",
        "<font color=red>Red </font> highlighted is the topic covered for this lesson\n",
        "\n",
        "1. <font color=red>Basics Data Science and Visualisation</font>\n",
        ">* Obtaining Data\n",
        ">* Basic Data Processing\n",
        ">* Basic statistics\n",
        ">* <font color=red>Data visualization</font>\n",
        ">* <font color=red>Handling erroneous and missing data</font>\n",
        "2. Data Machine Learning Techniques\n",
        ">* Supervised Learning Techniques\n",
        ">* Supervised Regression\n",
        ">* Artificial Neural Networks\n",
        "3. AI for Data Walkthrough\n",
        ">* Model Output\n",
        ">* Outputs Visualisation and Validation\n",
        "4. AI Models \n",
        ">* Linear Regression\n",
        ">* Underfitting vs Overfitting\n",
        ">* K-Nearest Neighbour (KNN)\n",
        ">* Decision Tree\n",
        ">* Convolutional Neural Networks (CNN)"
      ]
    },
    {
      "cell_type": "markdown",
      "metadata": {
        "id": "F6fSvf5pTnyo"
      },
      "source": [
        "## Erroneous and missing data"
      ]
    },
    {
      "cell_type": "markdown",
      "metadata": {
        "id": "w8JnlLNkTnyr"
      },
      "source": [
        "We need to collect or download data prior to any data science or machine learning project. In an ideal scenario, the data will be collected at a high quality without any errors. However, in reality, no dataset is clean. All datasets have to be checked for erroneous and missing data before using the dataset. It is always important to do so as any analysis with wrong or missing data will not be accurate!"
      ]
    },
    {
      "cell_type": "markdown",
      "metadata": {
        "id": "-BmStnPaTnys"
      },
      "source": [
        "Remember that you should import any required modules at the start of a notebook. You can do it in the cell below.\n",
        "\n",
        "<font color=red>Hints:</font>\n",
        "*   Please `import pandas`, `matplotlib` and `numpy`\n",
        "*   Please refer previous assignments: Module 16 Assignment 2 \"Basic_data_processing_and_visualisation\" and Module 13 Assignment 2 \"Data_visualization\"\n",
        "\n"
      ]
    },
    {
      "cell_type": "code",
      "metadata": {
        "id": "SeFy1okfTnyt"
      },
      "source": [
        "import pandas as pd\n",
        "import matplotlib.pyplot as plt\n",
        "import numpy as np\n"
      ],
      "execution_count": null,
      "outputs": []
    },
    {
      "cell_type": "markdown",
      "metadata": {
        "id": "dGrI4tigTnyy"
      },
      "source": [
        "## 1. Erroneous data"
      ]
    },
    {
      "cell_type": "markdown",
      "metadata": {
        "id": "sNJtGYBTTnyz"
      },
      "source": [
        "Erroneous data refer to data that is either collected wrongly or input wrongly in the dataset. For example, if we have a dataset containing number of rooms in a house, we expect all the values to be positive as it is not possible to have negative number of rooms. Thus, all negative values within the dataset will be erroneous.\n",
        "\n",
        "While it may be easy in some cases to identify erroneous data, it may not be the case all the time. Using the same idea of the dataset containing number of rooms in a house, it may also be possible that large values may also be erroneous. However, it is now not so clear whether large numbers are errors or outliers. This is because very large houses such as mansions can have many rooms. As mansions are rare, their data points will show up as outliers. Outliers are not erroneous data! Outliers are just rare cases and are still valid data points.\n",
        "\n",
        "The example below will show you the difference between erroneous data and outliers."
      ]
    },
    {
      "cell_type": "markdown",
      "metadata": {
        "id": "zx9I7-v8Tny1"
      },
      "source": [
        "## 1.1 Price of Computer games"
      ]
    },
    {
      "cell_type": "markdown",
      "metadata": {
        "id": "CnnRK5-HTny1"
      },
      "source": [
        "We are given the task to study whether the price of a computer game is related to the number of people who likes the game. This will help a game development company adjust its price for its newest game. Assuming we have collected all the data on the prices in US Dollar (USD) and also the number of people who liked the game, we now need to check if the data contain any outliers or erroneous data. Run the code below and observe the output. "
      ]
    },
    {
      "cell_type": "code",
      "metadata": {
        "id": "fYJJwmnFTny2",
        "colab": {
          "base_uri": "https://localhost:8080/",
          "height": 279
        },
        "outputId": "f4c5075f-3520-4b44-f035-bfe26a67c47a"
      },
      "source": [
        "#game_name refers to the name of the games\n",
        "#game_price refers to the price of the computer game and num_people refer to the number of people who liked a game\n",
        "game_name = ['Phone of duty','PIFA soccer','Lario cart','Hokemon','Loom','League of failures','Fritnite','Fatty Trotter']\n",
        "game_price = [10,20,50,150,80,200,1000,-100]\n",
        "num_people = [1,2,5,15,8,10,1,0.5]\n",
        "\n",
        "plt.scatter(num_people[0:5],game_price[0:5])\n",
        "plt.scatter(num_people[5],game_price[5],c='g')\n",
        "plt.scatter(num_people[6:8],game_price[6:8],c='r')\n",
        "\n",
        "plt.xlabel('Number of People')\n",
        "plt.ylabel('Price of game (USD)')\n",
        "\n",
        "\n",
        "plt.show();"
      ],
      "execution_count": null,
      "outputs": [
        {
          "output_type": "display_data",
          "data": {
            "image/png": "[encoded data removed]",
            "text/plain": [
              "<Figure size 432x288 with 1 Axes>"
            ]
          },
          "metadata": {
            "needs_background": "light"
          }
        }
      ]
    },
    {
      "cell_type": "markdown",
      "metadata": {
        "id": "kqBjJCjPTny6"
      },
      "source": [
        "What do you notice about the figure above? \n",
        "\n",
        "It seems that the points in red are erroneous data. For the first point in red, it is erroneous because the price is negative and the number of people who liked the game is between 0 and 1. It is not possible for a game to be sold at a negative price and it is also not possible to have a fraction of a person liking the game. The number of people should be a whole number. For the second point in red, it is erroneous because computer games do not cost as much as 1000 USD.\n",
        "\n",
        "As the red data points are erroneous, we will need to remove these values from the dataset. Copy the code above and edit it to remove the erroneous points and only plot the remaining points. Run the edited code below. If you have done this correctly, you would have no negative value for the ‘price’, and no fraction for the ‘number of people’.\n",
        "\n",
        "<font color=green>Bonus: Can you name the games that are erroneous?</font>\n",
        "\n",
        "<font color=red>Your answer:</font> "
      ]
    },
    {
      "cell_type": "code",
      "metadata": {
        "id": "xM0H0GCbTny7",
        "colab": {
          "base_uri": "https://localhost:8080/",
          "height": 279
        },
        "outputId": "a003a734-14db-473e-8c33-972ce40e4025"
      },
      "source": [
        "#game_name refers to the name of the games\n",
        "#game_price refers to the price of the computer game and num_people refer to the number of people who liked a game\n",
        "game_name = ['Phone of duty','PIFA soccer','Lario cart','Hokemon','Loom','League of failures','Fritnite','Fatty Trotter']\n",
        "game_price = [10,20,50,150,80,90,200] # No negative value for the price, and who the hell sell games at $1000 usd???\n",
        "num_people = [1,2,5,15,8,10,1]        # No fraction for the number of people \n",
        "\n",
        "plt.scatter(num_people[0:6],game_price[0:6]) # Blue\n",
        "\n",
        "\n",
        "plt.xlabel('Number of People')\n",
        "plt.ylabel('Price of game (USD)')\n",
        "\n",
        "\n",
        "plt.show();\n",
        "# As number of poeple increases, price of games increases. This correlation -> linear graph"
      ],
      "execution_count": null,
      "outputs": [
        {
          "output_type": "display_data",
          "data": {
            "image/png": "[encoded data removed]",
            "text/plain": [
              "<Figure size 432x288 with 1 Axes>"
            ]
          },
          "metadata": {
            "needs_background": "light"
          }
        }
      ]
    },
    {
      "cell_type": "markdown",
      "metadata": {
        "id": "Op_zdkt0Tny-"
      },
      "source": [
        "We now see that there seems to be a linear relationship between the price of the game and the number of people who liked the game. The price of the game is higher when more people liked the game.\n",
        "\n",
        "However, do you notice a point that does not seem to fit into the relationship?\n",
        "\n",
        "You are right if you realised that the green point does not fit. As the game price and the number of people who liked the game seem to be realistic, it is likely to be an outlier instead of an erroneous data. To recall, an outlier may not be a wrong data point. In this case, it could just be a very expensive game that only has 12 people liking it.\n",
        "\n",
        "We can choose to remove the outlier or we can keep the outlier. If you have sufficient data points or can collect more points to replace the outlier, we can remove the outlier from the dataset. There is no strict rule to decide if outliers should be removed. However, if the outliers make up the majority of your dataset, then you should not be removing them but instead try to collect more data to see if they are really outliers. In this example, as there only seems to be one outlier, we will remove the outlier. Remove the outlier and plot the new scatter plot below.\n",
        "\n",
        "<font color=red>Hint:</font>  similar to above code but remove the errorous data from `game_price` and `num_people`"
      ]
    },
    {
      "cell_type": "code",
      "metadata": {
        "id": "gR1Pvz-NTny_",
        "colab": {
          "base_uri": "https://localhost:8080/",
          "height": 279
        },
        "outputId": "876edd3c-b5f0-4d7e-d055-5a1b99535768"
      },
      "source": [
        "# I've alr done it above, but guess what? I'll do the same here...\n",
        "\n",
        "#game_name refers to the name of the games\n",
        "#game_price refers to the price of the computer game and num_people refer to the number of people who liked a game\n",
        "game_name = ['Phone of duty','PIFA soccer','Lario cart','Hokemon','Loom','League of failures','Fritnite','Fatty Trotter']\n",
        "game_price = [10,20,50,150,80,90,200] # No negative value for the price, and who the hell sell games at $1000 usd???\n",
        "num_people = [1,2,5,15,8,10,1]        # No fraction for the number of people \n",
        "\n",
        "plt.scatter(num_people[0:6],game_price[0:6]) # Blue\n",
        "\n",
        "\n",
        "plt.xlabel('Number of People')\n",
        "plt.ylabel('Price of game (USD)')\n",
        "\n",
        "\n",
        "plt.show();\n",
        "# As number of poeple increases, price of games increases. This correlation -> linear graph"
      ],
      "execution_count": null,
      "outputs": [
        {
          "output_type": "display_data",
          "data": {
            "image/png": "[encoded data removed]",
            "text/plain": [
              "<Figure size 432x288 with 1 Axes>"
            ]
          },
          "metadata": {
            "needs_background": "light"
          }
        }
      ]
    },
    {
      "cell_type": "markdown",
      "metadata": {
        "id": "f88MBgJJTnzC"
      },
      "source": [
        "We can observe from the new scatter plot that the price of game now shares a linear, increasing relationship with the number of people who liked the game."
      ]
    },
    {
      "cell_type": "markdown",
      "metadata": {
        "id": "guttkxGLTnzD"
      },
      "source": [
        "## 1.2 Handling erroneous data in dataframes"
      ]
    },
    {
      "cell_type": "markdown",
      "metadata": {
        "id": "BWHH7oG9TnzE"
      },
      "source": [
        "You are given a CSV file \"Students_Score1.csv\". It contains data on the number of hours a student spent studying and the students' exam scores for Mathematics, English and Science. It is assumed that a student should score better when they spend more time studying. However, research has also shown that the a student is not able to study more than 16 hours a day. Additionally, it is also possible that some of the data would be erroneous. If an error is identified in the data, the whole row of data should be removed. Would you be able to help identify and remove the erroneous data?"
      ]
    },
    {
      "cell_type": "markdown",
      "metadata": {
        "id": "54BTjCsCTnzF"
      },
      "source": [
        "First, load in the data as a dataframe df."
      ]
    },
    {
      "cell_type": "code",
      "metadata": {
        "id": "TB2c73UbTrZZ",
        "colab": {
          "base_uri": "https://localhost:8080/"
        },
        "outputId": "ce6b2d9d-81fd-44cd-a01f-cb77a8c1e0e3"
      },
      "source": [
        "from google.colab import drive\n",
        "drive.mount('/content/Intel_AI4Y')"
      ],
      "execution_count": 1,
      "outputs": [
        {
          "output_type": "stream",
          "name": "stdout",
          "text": [
            "Mounted at /content/Intel_AI4Y\n"
          ]
        }
      ]
    },
    {
      "cell_type": "markdown",
      "metadata": {
        "id": "Y7dva9LdlqPF"
      },
      "source": [
        "<font color=red>Hint:</font>  Please read \"Students_Score1.csv\" to dataframe from your Google Drive at \"/content/Intel_AI4Y/My Drive/Intel_AI4Y_Colab/Module_16/data/\" similar to Module 16 assignment 2 \"Basic_data_processing_and_visualisation\""
      ]
    },
    {
      "cell_type": "code",
      "metadata": {
        "id": "jfx_hJZvTnzG"
      },
      "source": [
        "import pandas as pd\n",
        "df = pd.read_csv('/content/Intel_AI4Y/My Drive/Intel_AI4Y/Students_E_Learning/Copy_To_Google_Drive/Intel_AI4Y_Colab/Module_16/data/Students_Score1.csv')\n"
      ],
      "execution_count": 2,
      "outputs": []
    },
    {
      "cell_type": "markdown",
      "metadata": {
        "id": "1AcfdNOMTnzJ"
      },
      "source": [
        "Print out the headers and first 5 rows of `df`. Addtionally, print out the `.info()` of `df`. This will help us understand the column names and also check for missing values.\n",
        "\n",
        "<font color=red>Hint:</font>  refer to Module 16 Assignment 1 \"Obtaining_data\""
      ]
    },
    {
      "cell_type": "code",
      "metadata": {
        "id": "c0jbMdI-TnzJ",
        "colab": {
          "base_uri": "https://localhost:8080/",
          "height": 203
        },
        "outputId": "35dd0897-957c-4425-fa67-e4443ceece63"
      },
      "source": [
        "df.head()\n"
      ],
      "execution_count": 3,
      "outputs": [
        {
          "output_type": "execute_result",
          "data": {
            "text/html": [
              "<div>\n",
              "<style scoped>\n",
              "    .dataframe tbody tr th:only-of-type {\n",
              "        vertical-align: middle;\n",
              "    }\n",
              "\n",
              "    .dataframe tbody tr th {\n",
              "        vertical-align: top;\n",
              "    }\n",
              "\n",
              "    .dataframe thead th {\n",
              "        text-align: right;\n",
              "    }\n",
              "</style>\n",
              "<table border=\"1\" class=\"dataframe\">\n",
              "  <thead>\n",
              "    <tr style=\"text-align: right;\">\n",
              "      <th></th>\n",
              "      <th>Student No.</th>\n",
              "      <th>Hours spent studying in a day</th>\n",
              "      <th>Mathematics score</th>\n",
              "      <th>English score</th>\n",
              "      <th>Science score</th>\n",
              "    </tr>\n",
              "  </thead>\n",
              "  <tbody>\n",
              "    <tr>\n",
              "      <th>0</th>\n",
              "      <td>1</td>\n",
              "      <td>11</td>\n",
              "      <td>44</td>\n",
              "      <td>39.6</td>\n",
              "      <td>35.2</td>\n",
              "    </tr>\n",
              "    <tr>\n",
              "      <th>1</th>\n",
              "      <td>2</td>\n",
              "      <td>19</td>\n",
              "      <td>76</td>\n",
              "      <td>68.4</td>\n",
              "      <td>60.8</td>\n",
              "    </tr>\n",
              "    <tr>\n",
              "      <th>2</th>\n",
              "      <td>3</td>\n",
              "      <td>4</td>\n",
              "      <td>16</td>\n",
              "      <td>14.4</td>\n",
              "      <td>12.8</td>\n",
              "    </tr>\n",
              "    <tr>\n",
              "      <th>3</th>\n",
              "      <td>4</td>\n",
              "      <td>24</td>\n",
              "      <td>96</td>\n",
              "      <td>86.4</td>\n",
              "      <td>76.8</td>\n",
              "    </tr>\n",
              "    <tr>\n",
              "      <th>4</th>\n",
              "      <td>5</td>\n",
              "      <td>4</td>\n",
              "      <td>16</td>\n",
              "      <td>14.4</td>\n",
              "      <td>12.8</td>\n",
              "    </tr>\n",
              "  </tbody>\n",
              "</table>\n",
              "</div>"
            ],
            "text/plain": [
              "   Student No.  Hours spent studying in a day  ...  English score  Science score\n",
              "0            1                             11  ...           39.6           35.2\n",
              "1            2                             19  ...           68.4           60.8\n",
              "2            3                              4  ...           14.4           12.8\n",
              "3            4                             24  ...           86.4           76.8\n",
              "4            5                              4  ...           14.4           12.8\n",
              "\n",
              "[5 rows x 5 columns]"
            ]
          },
          "metadata": {},
          "execution_count": 3
        }
      ]
    },
    {
      "cell_type": "code",
      "metadata": {
        "colab": {
          "base_uri": "https://localhost:8080/"
        },
        "id": "rjopBRjfd478",
        "outputId": "e581d62d-4180-4d9e-e552-05917f855f5a"
      },
      "source": [
        "df.info()"
      ],
      "execution_count": 4,
      "outputs": [
        {
          "output_type": "stream",
          "name": "stdout",
          "text": [
            "<class 'pandas.core.frame.DataFrame'>\n",
            "RangeIndex: 267 entries, 0 to 266\n",
            "Data columns (total 5 columns):\n",
            " #   Column                         Non-Null Count  Dtype  \n",
            "---  ------                         --------------  -----  \n",
            " 0   Student No.                    267 non-null    int64  \n",
            " 1   Hours spent studying in a day  267 non-null    int64  \n",
            " 2   Mathematics score              267 non-null    int64  \n",
            " 3   English score                  267 non-null    float64\n",
            " 4   Science score                  267 non-null    float64\n",
            "dtypes: float64(2), int64(3)\n",
            "memory usage: 10.6 KB\n"
          ]
        }
      ]
    },
    {
      "cell_type": "markdown",
      "metadata": {
        "id": "M1ZsV5GbTnzM"
      },
      "source": [
        "We now know the name of the columns. We need to know the minimum and maximum values for the number of hours and scores in order to check for erroneous data. Print `.describe()` to find out these details.\n",
        "\n",
        "<font color=red>Hint:</font>  refer to Module 16 Assignment 1 \"Obtaining_data\""
      ]
    },
    {
      "cell_type": "code",
      "metadata": {
        "id": "HAs1Nn73TnzN",
        "colab": {
          "base_uri": "https://localhost:8080/",
          "height": 295
        },
        "outputId": "feb3ed3c-c56a-471f-a09f-2d5b42fa138a"
      },
      "source": [
        "df.describe()\n"
      ],
      "execution_count": 5,
      "outputs": [
        {
          "output_type": "execute_result",
          "data": {
            "text/html": [
              "<div>\n",
              "<style scoped>\n",
              "    .dataframe tbody tr th:only-of-type {\n",
              "        vertical-align: middle;\n",
              "    }\n",
              "\n",
              "    .dataframe tbody tr th {\n",
              "        vertical-align: top;\n",
              "    }\n",
              "\n",
              "    .dataframe thead th {\n",
              "        text-align: right;\n",
              "    }\n",
              "</style>\n",
              "<table border=\"1\" class=\"dataframe\">\n",
              "  <thead>\n",
              "    <tr style=\"text-align: right;\">\n",
              "      <th></th>\n",
              "      <th>Student No.</th>\n",
              "      <th>Hours spent studying in a day</th>\n",
              "      <th>Mathematics score</th>\n",
              "      <th>English score</th>\n",
              "      <th>Science score</th>\n",
              "    </tr>\n",
              "  </thead>\n",
              "  <tbody>\n",
              "    <tr>\n",
              "      <th>count</th>\n",
              "      <td>267.000000</td>\n",
              "      <td>267.000000</td>\n",
              "      <td>267.000000</td>\n",
              "      <td>267.000000</td>\n",
              "      <td>267.000000</td>\n",
              "    </tr>\n",
              "    <tr>\n",
              "      <th>mean</th>\n",
              "      <td>134.000000</td>\n",
              "      <td>12.123596</td>\n",
              "      <td>48.749064</td>\n",
              "      <td>43.539326</td>\n",
              "      <td>38.795506</td>\n",
              "    </tr>\n",
              "    <tr>\n",
              "      <th>std</th>\n",
              "      <td>77.220464</td>\n",
              "      <td>7.668636</td>\n",
              "      <td>31.802503</td>\n",
              "      <td>28.521820</td>\n",
              "      <td>24.539635</td>\n",
              "    </tr>\n",
              "    <tr>\n",
              "      <th>min</th>\n",
              "      <td>1.000000</td>\n",
              "      <td>-10.000000</td>\n",
              "      <td>-40.000000</td>\n",
              "      <td>-36.000000</td>\n",
              "      <td>-32.000000</td>\n",
              "    </tr>\n",
              "    <tr>\n",
              "      <th>25%</th>\n",
              "      <td>67.500000</td>\n",
              "      <td>6.000000</td>\n",
              "      <td>24.000000</td>\n",
              "      <td>21.600000</td>\n",
              "      <td>19.200000</td>\n",
              "    </tr>\n",
              "    <tr>\n",
              "      <th>50%</th>\n",
              "      <td>134.000000</td>\n",
              "      <td>12.000000</td>\n",
              "      <td>48.000000</td>\n",
              "      <td>43.200000</td>\n",
              "      <td>38.400000</td>\n",
              "    </tr>\n",
              "    <tr>\n",
              "      <th>75%</th>\n",
              "      <td>200.500000</td>\n",
              "      <td>18.000000</td>\n",
              "      <td>74.000000</td>\n",
              "      <td>66.600000</td>\n",
              "      <td>57.600000</td>\n",
              "    </tr>\n",
              "    <tr>\n",
              "      <th>max</th>\n",
              "      <td>267.000000</td>\n",
              "      <td>40.000000</td>\n",
              "      <td>175.000000</td>\n",
              "      <td>144.000000</td>\n",
              "      <td>128.000000</td>\n",
              "    </tr>\n",
              "  </tbody>\n",
              "</table>\n",
              "</div>"
            ],
            "text/plain": [
              "       Student No.  Hours spent studying in a day  ...  English score  Science score\n",
              "count   267.000000                     267.000000  ...     267.000000     267.000000\n",
              "mean    134.000000                      12.123596  ...      43.539326      38.795506\n",
              "std      77.220464                       7.668636  ...      28.521820      24.539635\n",
              "min       1.000000                     -10.000000  ...     -36.000000     -32.000000\n",
              "25%      67.500000                       6.000000  ...      21.600000      19.200000\n",
              "50%     134.000000                      12.000000  ...      43.200000      38.400000\n",
              "75%     200.500000                      18.000000  ...      66.600000      57.600000\n",
              "max     267.000000                      40.000000  ...     144.000000     128.000000\n",
              "\n",
              "[8 rows x 5 columns]"
            ]
          },
          "metadata": {},
          "execution_count": 5
        }
      ]
    },
    {
      "cell_type": "markdown",
      "metadata": {
        "id": "Ed6WoU0NTnzP"
      },
      "source": [
        "From the minimum and maximum values shown above, are you able to identify which columns have erroneous data?\n",
        "\n",
        "<font color=red>Your answer:</font> "
      ]
    },
    {
      "cell_type": "code",
      "metadata": {
        "id": "uOaC41nJTnzQ"
      },
      "source": [
        "# Hours spent studying in a day  -> can't have negative hours spent\n",
        "# Mathematics score  -> can't have a negative score | can't have a score more than 100\n",
        "# English score      -> can't have a negative score | can't have a score more than 100\n",
        "# Science score      -> can't have a negative score | can't have a score more than 100\n"
      ],
      "execution_count": null,
      "outputs": []
    },
    {
      "cell_type": "markdown",
      "metadata": {
        "id": "ab0O6q2wTnzT"
      },
      "source": [
        "Now let us try to remove the errorneous data. We will first work on the Mathematics score. The code should be able to remove rows with Mathematics score that are lesser than 0 or more than 100. \n",
        "\n",
        "<font color=red>Hint:</font> \n",
        "*   refer to Module 16 Assignment 2 \"Basic_data_processing_and_visualisation\" last Bonus question: similar to \"`df_Setosa = df[df['class'] == 'Iris-setosa']`\" but now is lesser than `0` or more than `100`\n",
        "*   Please use new dataframes\n",
        "*   Remember to print out `.describe()` and .info()\n",
        "\n"
      ]
    },
    {
      "cell_type": "code",
      "metadata": {
        "id": "yAzK0WoSTnzT",
        "colab": {
          "base_uri": "https://localhost:8080/",
          "height": 295
        },
        "outputId": "c3636598-0820-456e-8163-cdf2ea0c3237"
      },
      "source": [
        "# Wrong way, because you're just replacing the values that meet your conditions. Non Null Count does not decrease from 267 to 261.\n",
        "'''# For Mathematics score\n",
        "df.loc[df['Mathematics score'] > 100, 'Mathematics score'] = 100\n",
        "df.loc[df['Mathematics score'] < 0, 'Mathematics score'] = 0\n",
        "df.info()'''\n",
        "\n",
        "# Correct way, because you're deleting the errorneous values that meet your conditions. Non Null Count does decrease from 267 to 261, means there are 6 errorneous values in Mathematics score.\n",
        "less_than_zero = df[df['Mathematics score'] < 0]\n",
        "more_than_hundred = df[df['Mathematics score'] > 100]\n",
        "\n",
        "df.drop(less_than_zero.index, inplace=True)\n",
        "df.drop(more_than_hundred.index, inplace=True)\n",
        "\n",
        "df.describe()\n",
        "\n",
        "\n",
        "\n",
        "\n"
      ],
      "execution_count": 6,
      "outputs": [
        {
          "output_type": "execute_result",
          "data": {
            "text/html": [
              "<div>\n",
              "<style scoped>\n",
              "    .dataframe tbody tr th:only-of-type {\n",
              "        vertical-align: middle;\n",
              "    }\n",
              "\n",
              "    .dataframe tbody tr th {\n",
              "        vertical-align: top;\n",
              "    }\n",
              "\n",
              "    .dataframe thead th {\n",
              "        text-align: right;\n",
              "    }\n",
              "</style>\n",
              "<table border=\"1\" class=\"dataframe\">\n",
              "  <thead>\n",
              "    <tr style=\"text-align: right;\">\n",
              "      <th></th>\n",
              "      <th>Student No.</th>\n",
              "      <th>Hours spent studying in a day</th>\n",
              "      <th>Mathematics score</th>\n",
              "      <th>English score</th>\n",
              "      <th>Science score</th>\n",
              "    </tr>\n",
              "  </thead>\n",
              "  <tbody>\n",
              "    <tr>\n",
              "      <th>count</th>\n",
              "      <td>261.000000</td>\n",
              "      <td>261.000000</td>\n",
              "      <td>261.000000</td>\n",
              "      <td>261.000000</td>\n",
              "      <td>261.000000</td>\n",
              "    </tr>\n",
              "    <tr>\n",
              "      <th>mean</th>\n",
              "      <td>135.578544</td>\n",
              "      <td>12.160920</td>\n",
              "      <td>48.337165</td>\n",
              "      <td>43.671264</td>\n",
              "      <td>38.914943</td>\n",
              "    </tr>\n",
              "    <tr>\n",
              "      <th>std</th>\n",
              "      <td>77.120975</td>\n",
              "      <td>7.442405</td>\n",
              "      <td>29.021102</td>\n",
              "      <td>27.756135</td>\n",
              "      <td>23.815696</td>\n",
              "    </tr>\n",
              "    <tr>\n",
              "      <th>min</th>\n",
              "      <td>1.000000</td>\n",
              "      <td>0.000000</td>\n",
              "      <td>0.000000</td>\n",
              "      <td>-15.000000</td>\n",
              "      <td>0.000000</td>\n",
              "    </tr>\n",
              "    <tr>\n",
              "      <th>25%</th>\n",
              "      <td>70.000000</td>\n",
              "      <td>6.000000</td>\n",
              "      <td>24.000000</td>\n",
              "      <td>21.600000</td>\n",
              "      <td>19.200000</td>\n",
              "    </tr>\n",
              "    <tr>\n",
              "      <th>50%</th>\n",
              "      <td>137.000000</td>\n",
              "      <td>12.000000</td>\n",
              "      <td>48.000000</td>\n",
              "      <td>43.200000</td>\n",
              "      <td>38.400000</td>\n",
              "    </tr>\n",
              "    <tr>\n",
              "      <th>75%</th>\n",
              "      <td>202.000000</td>\n",
              "      <td>18.000000</td>\n",
              "      <td>72.000000</td>\n",
              "      <td>64.800000</td>\n",
              "      <td>57.600000</td>\n",
              "    </tr>\n",
              "    <tr>\n",
              "      <th>max</th>\n",
              "      <td>267.000000</td>\n",
              "      <td>40.000000</td>\n",
              "      <td>96.000000</td>\n",
              "      <td>144.000000</td>\n",
              "      <td>128.000000</td>\n",
              "    </tr>\n",
              "  </tbody>\n",
              "</table>\n",
              "</div>"
            ],
            "text/plain": [
              "       Student No.  Hours spent studying in a day  ...  English score  Science score\n",
              "count   261.000000                     261.000000  ...     261.000000     261.000000\n",
              "mean    135.578544                      12.160920  ...      43.671264      38.914943\n",
              "std      77.120975                       7.442405  ...      27.756135      23.815696\n",
              "min       1.000000                       0.000000  ...     -15.000000       0.000000\n",
              "25%      70.000000                       6.000000  ...      21.600000      19.200000\n",
              "50%     137.000000                      12.000000  ...      43.200000      38.400000\n",
              "75%     202.000000                      18.000000  ...      64.800000      57.600000\n",
              "max     267.000000                      40.000000  ...     144.000000     128.000000\n",
              "\n",
              "[8 rows x 5 columns]"
            ]
          },
          "metadata": {},
          "execution_count": 6
        }
      ]
    },
    {
      "cell_type": "code",
      "metadata": {
        "colab": {
          "base_uri": "https://localhost:8080/"
        },
        "id": "ORzcwNVpBScv",
        "outputId": "37e037bb-dc2d-4394-9c65-b8deb9b0a313"
      },
      "source": [
        "df.info()"
      ],
      "execution_count": 7,
      "outputs": [
        {
          "output_type": "stream",
          "name": "stdout",
          "text": [
            "<class 'pandas.core.frame.DataFrame'>\n",
            "Int64Index: 261 entries, 0 to 266\n",
            "Data columns (total 5 columns):\n",
            " #   Column                         Non-Null Count  Dtype  \n",
            "---  ------                         --------------  -----  \n",
            " 0   Student No.                    261 non-null    int64  \n",
            " 1   Hours spent studying in a day  261 non-null    int64  \n",
            " 2   Mathematics score              261 non-null    int64  \n",
            " 3   English score                  261 non-null    float64\n",
            " 4   Science score                  261 non-null    float64\n",
            "dtypes: float64(2), int64(3)\n",
            "memory usage: 12.2 KB\n"
          ]
        }
      ]
    },
    {
      "cell_type": "markdown",
      "metadata": {
        "id": "-T1MGWyATnzW"
      },
      "source": [
        "Compare the information on ‘Mathematics score’ before and after the data less than 0 and more than 100 is removed. What do you notice?\n",
        "\n",
        "\n",
        "<font color=red>Your answer:</font> "
      ]
    },
    {
      "cell_type": "code",
      "metadata": {
        "id": "h9VreWOuTnzX"
      },
      "source": [
        "# min for Mathematics score = 0.000000\n",
        "# max for Mathematics score = 96.000000\n"
      ],
      "execution_count": null,
      "outputs": []
    },
    {
      "cell_type": "markdown",
      "metadata": {
        "id": "u0A1ktqgTnza"
      },
      "source": [
        "If we compare the printout with the same table printed earlier, we can see that the Mathematics score now ranges from 0 to 96. Additionally, we can also see from .info() that the number of data points have reduced from 267 to 261. This indicates that there were 6 points that were errorneous in the Mathematics score."
      ]
    },
    {
      "cell_type": "markdown",
      "metadata": {
        "id": "wQvRWP5ZTnza"
      },
      "source": [
        "It is now your turn to remove the erroneous data from the English score, Science score and Hours spent studying in a day columns. Print out the last `.describe()` and `.info()`. \n",
        "\n",
        "<font color=red>Hint:</font> \n",
        "*   Similar to previous code just above\n",
        "*   refer to Module 16 Assignment 2 \"Basic_data_processing_and_visualisation\" last Bonus question: similar to \"`df_Setosa = df[df['class'] == 'Iris-setosa']`\" but now is lesser than `0` or more than `100`\n",
        "*   Please use new dataframes\n",
        "*   Remember to print out `.describe()` and `.info()`"
      ]
    },
    {
      "cell_type": "code",
      "metadata": {
        "id": "w7ShiMBlTnzb",
        "colab": {
          "base_uri": "https://localhost:8080/",
          "height": 295
        },
        "outputId": "2a4497b0-9a2b-40ca-9504-d7aa3ed5ef11"
      },
      "source": [
        "# Wrong way, because you're just replacing the values that meet your conditions. Non Null Count does not decrease from 267 to 261.\n",
        "'''# For Mathematics score\n",
        "df.loc[df['Mathematics score'] > 100, 'Mathematics score'] = 100\n",
        "df.loc[df['Mathematics score'] < 0, 'Mathematics score'] = 0\n",
        "df.info()'''\n",
        "\n",
        "# Correct way, because you're deleting the errorneous values that meet your conditions. Non Null Count does decrease from 267 to 261, means there are 6 errorneous values in Mathematics score.\n",
        "# min and max for Mathematics score \n",
        "less_than_zero = df[df['Mathematics score'] < 0] \n",
        "more_than_hundred = df[df['Mathematics score'] > 100]\n",
        "df.drop(less_than_zero.index, inplace=True)\n",
        "df.drop(more_than_hundred.index, inplace=True)\n",
        "\n",
        "# min and max for English score\n",
        "less_than_zero = df[df['English score'] < 0] \n",
        "more_than_hundred = df[df['English score'] > 100]\n",
        "df.drop(less_than_zero.index, inplace=True)\n",
        "df.drop(more_than_hundred.index, inplace=True)\n",
        "\n",
        "# min and max for Science score\n",
        "less_than_zero = df[df['Science score'] < 0] \n",
        "more_than_hundred = df[df['Science score'] > 100]\n",
        "df.drop(less_than_zero.index, inplace=True)\n",
        "df.drop(more_than_hundred.index, inplace=True)\n",
        "\n",
        "# min and max for hours spent\n",
        "less_than_zero = df[df['Hours spent studying in a day'] < 0]\n",
        "more_than_24 = df[df['Hours spent studying in a day'] > 24]\n",
        "df.drop(less_than_zero.index, inplace=True)\n",
        "df.drop(more_than_24.index, inplace=True)\n",
        "\n",
        "\n",
        "df.describe()\n",
        "\n",
        "\n",
        "\n"
      ],
      "execution_count": 9,
      "outputs": [
        {
          "output_type": "execute_result",
          "data": {
            "text/html": [
              "<div>\n",
              "<style scoped>\n",
              "    .dataframe tbody tr th:only-of-type {\n",
              "        vertical-align: middle;\n",
              "    }\n",
              "\n",
              "    .dataframe tbody tr th {\n",
              "        vertical-align: top;\n",
              "    }\n",
              "\n",
              "    .dataframe thead th {\n",
              "        text-align: right;\n",
              "    }\n",
              "</style>\n",
              "<table border=\"1\" class=\"dataframe\">\n",
              "  <thead>\n",
              "    <tr style=\"text-align: right;\">\n",
              "      <th></th>\n",
              "      <th>Student No.</th>\n",
              "      <th>Hours spent studying in a day</th>\n",
              "      <th>Mathematics score</th>\n",
              "      <th>English score</th>\n",
              "      <th>Science score</th>\n",
              "    </tr>\n",
              "  </thead>\n",
              "  <tbody>\n",
              "    <tr>\n",
              "      <th>count</th>\n",
              "      <td>257.000000</td>\n",
              "      <td>257.000000</td>\n",
              "      <td>257.000000</td>\n",
              "      <td>257.000000</td>\n",
              "      <td>257.000000</td>\n",
              "    </tr>\n",
              "    <tr>\n",
              "      <th>mean</th>\n",
              "      <td>135.038911</td>\n",
              "      <td>12.050584</td>\n",
              "      <td>48.202335</td>\n",
              "      <td>43.382101</td>\n",
              "      <td>38.561868</td>\n",
              "    </tr>\n",
              "    <tr>\n",
              "      <th>std</th>\n",
              "      <td>76.669685</td>\n",
              "      <td>7.292532</td>\n",
              "      <td>29.170129</td>\n",
              "      <td>26.253116</td>\n",
              "      <td>23.336103</td>\n",
              "    </tr>\n",
              "    <tr>\n",
              "      <th>min</th>\n",
              "      <td>1.000000</td>\n",
              "      <td>0.000000</td>\n",
              "      <td>0.000000</td>\n",
              "      <td>0.000000</td>\n",
              "      <td>0.000000</td>\n",
              "    </tr>\n",
              "    <tr>\n",
              "      <th>25%</th>\n",
              "      <td>69.000000</td>\n",
              "      <td>6.000000</td>\n",
              "      <td>24.000000</td>\n",
              "      <td>21.600000</td>\n",
              "      <td>19.200000</td>\n",
              "    </tr>\n",
              "    <tr>\n",
              "      <th>50%</th>\n",
              "      <td>137.000000</td>\n",
              "      <td>12.000000</td>\n",
              "      <td>48.000000</td>\n",
              "      <td>43.200000</td>\n",
              "      <td>38.400000</td>\n",
              "    </tr>\n",
              "    <tr>\n",
              "      <th>75%</th>\n",
              "      <td>201.000000</td>\n",
              "      <td>18.000000</td>\n",
              "      <td>72.000000</td>\n",
              "      <td>64.800000</td>\n",
              "      <td>57.600000</td>\n",
              "    </tr>\n",
              "    <tr>\n",
              "      <th>max</th>\n",
              "      <td>266.000000</td>\n",
              "      <td>24.000000</td>\n",
              "      <td>96.000000</td>\n",
              "      <td>86.400000</td>\n",
              "      <td>76.800000</td>\n",
              "    </tr>\n",
              "  </tbody>\n",
              "</table>\n",
              "</div>"
            ],
            "text/plain": [
              "       Student No.  Hours spent studying in a day  ...  English score  Science score\n",
              "count   257.000000                     257.000000  ...     257.000000     257.000000\n",
              "mean    135.038911                      12.050584  ...      43.382101      38.561868\n",
              "std      76.669685                       7.292532  ...      26.253116      23.336103\n",
              "min       1.000000                       0.000000  ...       0.000000       0.000000\n",
              "25%      69.000000                       6.000000  ...      21.600000      19.200000\n",
              "50%     137.000000                      12.000000  ...      43.200000      38.400000\n",
              "75%     201.000000                      18.000000  ...      64.800000      57.600000\n",
              "max     266.000000                      24.000000  ...      86.400000      76.800000\n",
              "\n",
              "[8 rows x 5 columns]"
            ]
          },
          "metadata": {},
          "execution_count": 9
        }
      ]
    },
    {
      "cell_type": "code",
      "metadata": {
        "colab": {
          "base_uri": "https://localhost:8080/"
        },
        "id": "1zx80wD3D75S",
        "outputId": "9eeac1d7-69b9-4259-ed00-f44035d7b79f"
      },
      "source": [
        "df.info()"
      ],
      "execution_count": null,
      "outputs": [
        {
          "output_type": "stream",
          "name": "stdout",
          "text": [
            "<class 'pandas.core.frame.DataFrame'>\n",
            "Int64Index: 257 entries, 0 to 265\n",
            "Data columns (total 5 columns):\n",
            " #   Column                         Non-Null Count  Dtype  \n",
            "---  ------                         --------------  -----  \n",
            " 0   Student No.                    257 non-null    int64  \n",
            " 1   Hours spent studying in a day  257 non-null    int64  \n",
            " 2   Mathematics score              257 non-null    int64  \n",
            " 3   English score                  257 non-null    float64\n",
            " 4   Science score                  257 non-null    float64\n",
            "dtypes: float64(2), int64(3)\n",
            "memory usage: 22.0 KB\n"
          ]
        }
      ]
    },
    {
      "cell_type": "markdown",
      "metadata": {
        "id": "JhY3GCTUTnzd"
      },
      "source": [
        "From the information you have obtained from `.describe()`, can you identify the total number of data points that had erroneous data? Can you also identify the correct minimum and maximum scores for each subject?\n",
        "\n",
        "<font color=red>Your answer:</font> "
      ]
    },
    {
      "cell_type": "code",
      "metadata": {
        "id": "Q6jAPrfnTnze"
      },
      "source": [
        "'''.describe()'''\n",
        "# min for Mathematics score = 0.000000\n",
        "# max for Mathematics score = 96.000000\n",
        "# min for English score = 0.000000\n",
        "# max for English score = 86.400000\n",
        "# min for Science score = 0.000000\n",
        "# max for Science score = 76.800000\n",
        "\n",
        "'''.info()'''\n",
        "# Non-Null Count\n",
        "# Mathematics score -> 257\n",
        "# English score -> 257\n",
        "# Science score -> 257\n",
        "\n"
      ],
      "execution_count": null,
      "outputs": []
    },
    {
      "cell_type": "markdown",
      "metadata": {
        "id": "Bvhc5gLATnzg"
      },
      "source": [
        "## 2. Missing data"
      ]
    },
    {
      "cell_type": "markdown",
      "metadata": {
        "id": "RunJ5RY-Tnzh"
      },
      "source": [
        "Missing data refer to gaps within the dataset. This is becasue not every data point can be collected. For example, if you are required to count the number of letters delivered by a postman each day, you may have no data on the days which the postman was on leave. Thus, you will fill in data on those days as missing data. Another possible reason for missing data could be due to carelessness of the person collecting the data. Sometimes, the person collecting the data may have forgotten to input the data into the dataset. Additionally, if you are obtaining data from survey forms, you can expect to encounter missing data due to incomplete forms. This is because not everyone will fill in all the fields within the survey form\n",
        "\n",
        "Are you able to provide some possible reasons why there may be missing data in the scenarios listed below?\n",
        "- Number of hours a teacher will spend in school a day\n",
        "- Number of phone calls an office worker receives on the mobile phone in a day\n",
        "- Air temperature of your city\n",
        "\n",
        "<font color=red>Your answer:</font> "
      ]
    },
    {
      "cell_type": "code",
      "metadata": {
        "id": "1awzOpDaTnzi"
      },
      "source": [
        "# 1. You may have no data on the days which the teacher is working from home\n",
        "# 2. Office worker may call using office telephone\n",
        "# 3. Disagreements in the company\n"
      ],
      "execution_count": null,
      "outputs": []
    },
    {
      "cell_type": "markdown",
      "metadata": {
        "id": "6lOOJFc4Tnzm"
      },
      "source": [
        "Missing data can have many different forms. Usually, we will refer to missing data as NaN but some datasets will use either very large numbers or very small numbers to represent missing data. One example will be that of meteorological or weather data. The value of -9999 is used to represent missing data values in these datasets.\n",
        "\n",
        "It is important to remove or replace these missing data values in a dataset before conducting any analysis. This is to ensure accuracy in our analysis.\n",
        "\n",
        "In the example below, you will learn how to identify and treat these missing values."
      ]
    },
    {
      "cell_type": "markdown",
      "metadata": {
        "id": "8-PMrPmfTnzo"
      },
      "source": [
        "## 2.1 House prices"
      ]
    },
    {
      "cell_type": "markdown",
      "metadata": {
        "id": "wbPT_4aaTnzo"
      },
      "source": [
        "You and your friend, Ben, have been tasked to determine if house prices within your neighbourhood is related to the number of rooms within the house. Being a nice friend, Ben decides to collect all the data for you. However, Ben may have been careless and missed some data points. Are you able to help him identify if there are any missing data?\n",
        "\n",
        "The data is given below. House_prices refer to the price of the house in US Dollar (USD) and the Num_rooms refer to the number of rooms in the house. Run the code and observe the output carefully! Make sure you have imported numpy as np before running the code."
      ]
    },
    {
      "cell_type": "code",
      "metadata": {
        "id": "MAzqLm54Tnzp",
        "colab": {
          "base_uri": "https://localhost:8080/"
        },
        "outputId": "9ccb2b59-add5-4d17-dbcd-1b5fcb4fea97"
      },
      "source": [
        "import numpy as np\n",
        "House_prices = [10050,42300,50206,np.nan,105000,np.nan,22350]\n",
        "Num_rooms = [np.nan,4,5,6,10,12,2]\n",
        "\n",
        "print('Total number of data points in House_prices = ',np.count_nonzero(~np.isnan(House_prices)))\n",
        "print('Total number of data points in Num_rooms = ',np.count_nonzero(~np.isnan(Num_rooms)))"
      ],
      "execution_count": null,
      "outputs": [
        {
          "output_type": "stream",
          "name": "stdout",
          "text": [
            "Total number of data points in House_prices =  5\n",
            "Total number of data points in Num_rooms =  6\n"
          ]
        }
      ]
    },
    {
      "cell_type": "markdown",
      "metadata": {
        "id": "KYjIMVggTnzr"
      },
      "source": [
        "Why are the number of data points in House_prices different from the number of data points in Num_rooms? How many houses are there in total?\n",
        "\n",
        "<font color=red>Your answer:</font> "
      ]
    },
    {
      "cell_type": "code",
      "metadata": {
        "id": "7iU2yypMTnzs"
      },
      "source": [
        "# There are 7 houses in total\n",
        "# Because House_prices includes 2 np.nan which stands for Not a Nmber, and Num_rooms includes 1 np.nan\n"
      ],
      "execution_count": null,
      "outputs": []
    },
    {
      "cell_type": "markdown",
      "metadata": {
        "id": "fQZuQjSGTnzu"
      },
      "source": [
        "Remove the missing data from the dataset and plot the scatter plot below. Label the axis accordingly. Remember to also remove the corresponding data for each missing value. For example, if there is a missing value in house price, the corresponding value for number of rooms should also be removed. What do you observe from the scatter plot? Write down your observations.\n",
        "\n",
        "<font color=red>Hints:</font> \n",
        "*   web search \"`numpy.nan`\"\n",
        "*   `numpy.nan`: https://numpy.org/devdocs/reference/constants.html\n",
        "*   `numpy.nan`: https://pandas.pydata.org/pandas-docs/stable/user_guide/missing_data.html \n",
        "*   Copy above code but remove `np.nan` from above code\n",
        "\n",
        "\n",
        "\n"
      ]
    },
    {
      "cell_type": "code",
      "metadata": {
        "id": "PW3gnMO6Tnzv",
        "colab": {
          "base_uri": "https://localhost:8080/",
          "height": 313
        },
        "outputId": "9703d7db-2623-4e7e-ba0e-a73356d4912d"
      },
      "source": [
        "import numpy as np\n",
        "import matplotlib.pyplot as plt\n",
        "House_prices = [42300,50206,105000,22350]\n",
        "Num_rooms = [4,5,10,2]\n",
        "plt.scatter(Num_rooms, House_prices)\n",
        "plt.xlabel('Number of rooms')\n",
        "plt.ylabel('House prices')\n",
        "\n",
        "print('Total number of data points in House_prices = ',np.count_nonzero(~np.isnan(House_prices)))\n",
        "print('Total number of data points in Num_rooms = ',np.count_nonzero(~np.isnan(Num_rooms)))\n"
      ],
      "execution_count": null,
      "outputs": [
        {
          "output_type": "stream",
          "name": "stdout",
          "text": [
            "Total number of data points in House_prices =  4\n",
            "Total number of data points in Num_rooms =  4\n"
          ]
        },
        {
          "output_type": "display_data",
          "data": {
            "image/png": "[encoded data removed]",
            "text/plain": [
              "<Figure size 432x288 with 1 Axes>"
            ]
          },
          "metadata": {
            "needs_background": "light"
          }
        }
      ]
    },
    {
      "cell_type": "markdown",
      "metadata": {
        "id": "Fgul-WzHt7QK"
      },
      "source": [
        "<font color=red>Your observation:</font> "
      ]
    },
    {
      "cell_type": "code",
      "metadata": {
        "id": "UGm73vRXt5aP"
      },
      "source": [
        "# As number of rooms increases, house pricing increases"
      ],
      "execution_count": null,
      "outputs": []
    },
    {
      "cell_type": "markdown",
      "metadata": {
        "id": "TDUWS8lvTnzx"
      },
      "source": [
        "<font color=green>Bonus: Can you guess the correct values of the previous missing values? Replace the missing values with your guesses and plot the scatter plot again!</font>"
      ]
    },
    {
      "cell_type": "markdown",
      "metadata": {
        "id": "huKjdYujuPFt"
      },
      "source": [
        "<font color=red>Hints:</font> \n",
        "*   Similar with above code\n",
        "*   1 room approximately equals to 10000 in value. You can fill in any estimates based on this approximation.\n",
        "\n"
      ]
    },
    {
      "cell_type": "code",
      "metadata": {
        "id": "pgj9BUk9Tnzx",
        "colab": {
          "base_uri": "https://localhost:8080/",
          "height": 313
        },
        "outputId": "3a1c2f9e-19b7-42fc-ba60-be51e8061aec"
      },
      "source": [
        "import numpy as np\n",
        "import matplotlib.pyplot as plt\n",
        "House_prices = [42300,50206,105000,22350,10000,60000,120000]\n",
        "Num_rooms = [4,5,10,2,1,6,12]\n",
        "plt.scatter(House_prices, Num_rooms)\n",
        "plt.xlabel('Number of rooms')\n",
        "plt.ylabel('House prices')\n",
        "\n",
        "print('Total number of data points in House_prices = ',np.count_nonzero(~np.isnan(House_prices)))\n",
        "print('Total number of data points in Num_rooms = ',np.count_nonzero(~np.isnan(Num_rooms)))\n",
        "\n"
      ],
      "execution_count": null,
      "outputs": [
        {
          "output_type": "stream",
          "name": "stdout",
          "text": [
            "Total number of data points in House_prices =  7\n",
            "Total number of data points in Num_rooms =  7\n"
          ]
        },
        {
          "output_type": "display_data",
          "data": {
            "image/png": "[encoded data removed]",
            "text/plain": [
              "<Figure size 432x288 with 1 Axes>"
            ]
          },
          "metadata": {
            "needs_background": "light"
          }
        }
      ]
    },
    {
      "cell_type": "markdown",
      "metadata": {
        "id": "vsHQRpA8Tnz0"
      },
      "source": [
        "## 2.2 Handling missing values in dataframes"
      ]
    },
    {
      "cell_type": "markdown",
      "metadata": {
        "id": "tnqPI1ooTnz0"
      },
      "source": [
        "You are again asked to handle data that contains students' exam results and their studying hours. The data is stored in the \"Students_Score2.csv\" file. Not all the students reported their studying hours and thus, there are missing values in the data. Remove the missing values and report the total number of students that have missing data."
      ]
    },
    {
      "cell_type": "markdown",
      "metadata": {
        "id": "H1q8UaLwTnz1"
      },
      "source": [
        "First, load in the data as a dataframe df.\n",
        "\n",
        "<font color=red>Hint:</font>  Please read \"Students_Score2.csv\" to dataframe from your Google Drive at \"/content/Intel_AI4Y/My Drive/Intel_AI4Y_Colab/Module_16/data/\" similar to Module 16 assignment 2 \"Basic_data_processing_and_visualisation\"  or refer to the beginning of this assignment"
      ]
    },
    {
      "cell_type": "code",
      "metadata": {
        "id": "F9QFpv9pTnz2"
      },
      "source": [
        "import pandas as pd\n",
        "df = pd.read_csv('/content/Intel_AI4Y/My Drive/Intel_AI4Y/Students_E_Learning/Copy_To_Google_Drive/Intel_AI4Y_Colab/Module_16/data/Students_Score2.csv')\n"
      ],
      "execution_count": null,
      "outputs": []
    },
    {
      "cell_type": "markdown",
      "metadata": {
        "id": "P3G5w34yTnz6"
      },
      "source": [
        "Print out the headers and first 5 rows of df. Addtionally, print out the `.info()` of `df`.\n",
        "\n",
        "<font color=red>Hint:</font>  refer to Module 16 Assignment 1 \"Obtaining_data\" or the beginning of this assignment"
      ]
    },
    {
      "cell_type": "code",
      "metadata": {
        "id": "61ebUTUxTnz7",
        "colab": {
          "base_uri": "https://localhost:8080/",
          "height": 204
        },
        "outputId": "c1baea72-8b60-48b5-f5e8-963e4d205ee6"
      },
      "source": [
        "df.head()\n"
      ],
      "execution_count": null,
      "outputs": [
        {
          "output_type": "execute_result",
          "data": {
            "text/html": [
              "<div>\n",
              "<style scoped>\n",
              "    .dataframe tbody tr th:only-of-type {\n",
              "        vertical-align: middle;\n",
              "    }\n",
              "\n",
              "    .dataframe tbody tr th {\n",
              "        vertical-align: top;\n",
              "    }\n",
              "\n",
              "    .dataframe thead th {\n",
              "        text-align: right;\n",
              "    }\n",
              "</style>\n",
              "<table border=\"1\" class=\"dataframe\">\n",
              "  <thead>\n",
              "    <tr style=\"text-align: right;\">\n",
              "      <th></th>\n",
              "      <th>Student No.</th>\n",
              "      <th>Hours spent studying in a day</th>\n",
              "      <th>Mathematics score</th>\n",
              "      <th>English score</th>\n",
              "      <th>Science score</th>\n",
              "    </tr>\n",
              "  </thead>\n",
              "  <tbody>\n",
              "    <tr>\n",
              "      <th>0</th>\n",
              "      <td>1</td>\n",
              "      <td>0.0</td>\n",
              "      <td>0.0</td>\n",
              "      <td>0.0</td>\n",
              "      <td>0.0</td>\n",
              "    </tr>\n",
              "    <tr>\n",
              "      <th>1</th>\n",
              "      <td>2</td>\n",
              "      <td>3.0</td>\n",
              "      <td>15.0</td>\n",
              "      <td>12.9</td>\n",
              "      <td>12.6</td>\n",
              "    </tr>\n",
              "    <tr>\n",
              "      <th>2</th>\n",
              "      <td>3</td>\n",
              "      <td>2.0</td>\n",
              "      <td>10.0</td>\n",
              "      <td>8.6</td>\n",
              "      <td>8.4</td>\n",
              "    </tr>\n",
              "    <tr>\n",
              "      <th>3</th>\n",
              "      <td>4</td>\n",
              "      <td>13.0</td>\n",
              "      <td>65.0</td>\n",
              "      <td>55.9</td>\n",
              "      <td>54.6</td>\n",
              "    </tr>\n",
              "    <tr>\n",
              "      <th>4</th>\n",
              "      <td>5</td>\n",
              "      <td>0.0</td>\n",
              "      <td>0.0</td>\n",
              "      <td>0.0</td>\n",
              "      <td>0.0</td>\n",
              "    </tr>\n",
              "  </tbody>\n",
              "</table>\n",
              "</div>"
            ],
            "text/plain": [
              "   Student No.  Hours spent studying in a day  ...  English score  Science score\n",
              "0            1                            0.0  ...            0.0            0.0\n",
              "1            2                            3.0  ...           12.9           12.6\n",
              "2            3                            2.0  ...            8.6            8.4\n",
              "3            4                           13.0  ...           55.9           54.6\n",
              "4            5                            0.0  ...            0.0            0.0\n",
              "\n",
              "[5 rows x 5 columns]"
            ]
          },
          "metadata": {},
          "execution_count": 186
        }
      ]
    },
    {
      "cell_type": "code",
      "metadata": {
        "colab": {
          "base_uri": "https://localhost:8080/"
        },
        "id": "sqECSJhDR5Yr",
        "outputId": "0ed2ff48-540d-4ee7-95d7-7ccb2e64fc77"
      },
      "source": [
        "df.info()"
      ],
      "execution_count": null,
      "outputs": [
        {
          "output_type": "stream",
          "name": "stdout",
          "text": [
            "<class 'pandas.core.frame.DataFrame'>\n",
            "RangeIndex: 387 entries, 0 to 386\n",
            "Data columns (total 5 columns):\n",
            " #   Column                         Non-Null Count  Dtype  \n",
            "---  ------                         --------------  -----  \n",
            " 0   Student No.                    387 non-null    int64  \n",
            " 1   Hours spent studying in a day  382 non-null    float64\n",
            " 2   Mathematics score              383 non-null    float64\n",
            " 3   English score                  382 non-null    float64\n",
            " 4   Science score                  383 non-null    float64\n",
            "dtypes: float64(4), int64(1)\n",
            "memory usage: 15.2 KB\n"
          ]
        }
      ]
    },
    {
      "cell_type": "markdown",
      "metadata": {
        "id": "p3tRwcqaTnz-"
      },
      "source": [
        "From the `.info()` output, did you observe the differing number of rows for each column? The different number of rows are due to the presence of missing numbers in them."
      ]
    },
    {
      "cell_type": "markdown",
      "metadata": {
        "id": "rV3yEHYVTnz_"
      },
      "source": [
        "Before we are able to handle the missing values, we need to first check for erroneous data. Print out `.describe()` and observe the minimum and maximum values.\n",
        "\n",
        "<font color=red>Hint:</font> refer to Module 16 Assignment 1 \"Obtaining_data\" or the beginning of this assignment"
      ]
    },
    {
      "cell_type": "code",
      "metadata": {
        "id": "BGvY5eewTn0A",
        "colab": {
          "base_uri": "https://localhost:8080/",
          "height": 297
        },
        "outputId": "65137aaf-108b-4170-915d-b91ca368872a"
      },
      "source": [
        "df.describe()\n"
      ],
      "execution_count": null,
      "outputs": [
        {
          "output_type": "execute_result",
          "data": {
            "text/html": [
              "<div>\n",
              "<style scoped>\n",
              "    .dataframe tbody tr th:only-of-type {\n",
              "        vertical-align: middle;\n",
              "    }\n",
              "\n",
              "    .dataframe tbody tr th {\n",
              "        vertical-align: top;\n",
              "    }\n",
              "\n",
              "    .dataframe thead th {\n",
              "        text-align: right;\n",
              "    }\n",
              "</style>\n",
              "<table border=\"1\" class=\"dataframe\">\n",
              "  <thead>\n",
              "    <tr style=\"text-align: right;\">\n",
              "      <th></th>\n",
              "      <th>Student No.</th>\n",
              "      <th>Hours spent studying in a day</th>\n",
              "      <th>Mathematics score</th>\n",
              "      <th>English score</th>\n",
              "      <th>Science score</th>\n",
              "    </tr>\n",
              "  </thead>\n",
              "  <tbody>\n",
              "    <tr>\n",
              "      <th>count</th>\n",
              "      <td>387.000000</td>\n",
              "      <td>382.000000</td>\n",
              "      <td>383.000000</td>\n",
              "      <td>382.000000</td>\n",
              "      <td>383.000000</td>\n",
              "    </tr>\n",
              "    <tr>\n",
              "      <th>mean</th>\n",
              "      <td>194.000000</td>\n",
              "      <td>7.083770</td>\n",
              "      <td>35.417755</td>\n",
              "      <td>30.392670</td>\n",
              "      <td>29.641253</td>\n",
              "    </tr>\n",
              "    <tr>\n",
              "      <th>std</th>\n",
              "      <td>111.861522</td>\n",
              "      <td>4.473697</td>\n",
              "      <td>22.271713</td>\n",
              "      <td>19.258215</td>\n",
              "      <td>18.783876</td>\n",
              "    </tr>\n",
              "    <tr>\n",
              "      <th>min</th>\n",
              "      <td>1.000000</td>\n",
              "      <td>0.000000</td>\n",
              "      <td>0.000000</td>\n",
              "      <td>0.000000</td>\n",
              "      <td>0.000000</td>\n",
              "    </tr>\n",
              "    <tr>\n",
              "      <th>25%</th>\n",
              "      <td>97.500000</td>\n",
              "      <td>3.000000</td>\n",
              "      <td>15.000000</td>\n",
              "      <td>12.900000</td>\n",
              "      <td>12.600000</td>\n",
              "    </tr>\n",
              "    <tr>\n",
              "      <th>50%</th>\n",
              "      <td>194.000000</td>\n",
              "      <td>7.000000</td>\n",
              "      <td>35.000000</td>\n",
              "      <td>30.100000</td>\n",
              "      <td>29.400000</td>\n",
              "    </tr>\n",
              "    <tr>\n",
              "      <th>75%</th>\n",
              "      <td>290.500000</td>\n",
              "      <td>11.000000</td>\n",
              "      <td>55.000000</td>\n",
              "      <td>47.300000</td>\n",
              "      <td>46.200000</td>\n",
              "    </tr>\n",
              "    <tr>\n",
              "      <th>max</th>\n",
              "      <td>387.000000</td>\n",
              "      <td>15.000000</td>\n",
              "      <td>75.000000</td>\n",
              "      <td>64.500000</td>\n",
              "      <td>63.000000</td>\n",
              "    </tr>\n",
              "  </tbody>\n",
              "</table>\n",
              "</div>"
            ],
            "text/plain": [
              "       Student No.  Hours spent studying in a day  ...  English score  Science score\n",
              "count   387.000000                     382.000000  ...     382.000000     383.000000\n",
              "mean    194.000000                       7.083770  ...      30.392670      29.641253\n",
              "std     111.861522                       4.473697  ...      19.258215      18.783876\n",
              "min       1.000000                       0.000000  ...       0.000000       0.000000\n",
              "25%      97.500000                       3.000000  ...      12.900000      12.600000\n",
              "50%     194.000000                       7.000000  ...      30.100000      29.400000\n",
              "75%     290.500000                      11.000000  ...      47.300000      46.200000\n",
              "max     387.000000                      15.000000  ...      64.500000      63.000000\n",
              "\n",
              "[8 rows x 5 columns]"
            ]
          },
          "metadata": {},
          "execution_count": 188
        }
      ]
    },
    {
      "cell_type": "markdown",
      "metadata": {
        "id": "s9pGEOA7Tn0C"
      },
      "source": [
        "We now see that the number of hours spent studying is wihin 0 and 15 and all the scores are also between 0 and 100. This shows that there are no errors within the dataset."
      ]
    },
    {
      "cell_type": "markdown",
      "metadata": {
        "id": "QQAul_LzTn0E"
      },
      "source": [
        "Now, lets remove the missing values from the dataset. Pandas has a nice trick to allow us to do it easily. It is called `.dropna()`. You can use it to drop missing values by row or column. For example, if you want to remove the rows that have missing values, you can call` df.dropna(axis=0)`. If you want to remove the columns that have missing values, you can call `df.dropna(axis=1)`. You can find out more information on `.dropna()` [here](https://pandas.pydata.org/pandas-docs/stable/generated/pandas.DataFrame.dropna.html)."
      ]
    },
    {
      "cell_type": "markdown",
      "metadata": {
        "id": "ne9X2091Tn0F"
      },
      "source": [
        "In the case of the students scores, should we remove the missing values by rows or by columns?\n",
        "\n",
        "<font color=red>Your answer:</font> "
      ]
    },
    {
      "cell_type": "code",
      "metadata": {
        "id": "7-1SREjbTn0G"
      },
      "source": [
        "# By row"
      ],
      "execution_count": null,
      "outputs": []
    },
    {
      "cell_type": "markdown",
      "metadata": {
        "id": "C-85XbM_Tn0I"
      },
      "source": [
        "Now, write the code that will allow you to remove the missing values below. You can refer to this [link](https://pandas.pydata.org/pandas-docs/stable/generated/pandas.DataFrame.dropna.html) for information on how to use `.dropna()` to remove missing values. Remember to assign the output to a new dataframe so that you do not edit the original dataframe. You can use `df2 = df`.(your function here) to assign to a new dataframe.\n",
        "\n",
        "<font color=red>Hints:</font> \n",
        "\n",
        "\n",
        "*   Refer to given link: https://pandas.pydata.org/pandas-docs/stable/reference/api/pandas.DataFrame.dropna.html\n",
        "*   Refer to Module 13 Assignment 2 \"Data_visualization\"\n",
        "\n"
      ]
    },
    {
      "cell_type": "code",
      "metadata": {
        "id": "AIRfp7XCTn0I"
      },
      "source": [
        "new_df = df.dropna()\n",
        "\n"
      ],
      "execution_count": null,
      "outputs": []
    },
    {
      "cell_type": "markdown",
      "metadata": {
        "id": "oNVLwtc7Tn0Q"
      },
      "source": [
        "Print out the `.info()` for the new dataframe and observe the number of non-null values for each column.\n",
        "\n",
        "\n",
        "<font color=red>Your code:</font> "
      ]
    },
    {
      "cell_type": "code",
      "metadata": {
        "id": "o997mHgRTn0S",
        "colab": {
          "base_uri": "https://localhost:8080/"
        },
        "outputId": "85e8292f-5ae6-4b21-96df-a0d1e583cd71"
      },
      "source": [
        "new_df.info()\n"
      ],
      "execution_count": null,
      "outputs": [
        {
          "output_type": "stream",
          "name": "stdout",
          "text": [
            "<class 'pandas.core.frame.DataFrame'>\n",
            "Int64Index: 373 entries, 0 to 386\n",
            "Data columns (total 5 columns):\n",
            " #   Column                         Non-Null Count  Dtype  \n",
            "---  ------                         --------------  -----  \n",
            " 0   Student No.                    373 non-null    int64  \n",
            " 1   Hours spent studying in a day  373 non-null    float64\n",
            " 2   Mathematics score              373 non-null    float64\n",
            " 3   English score                  373 non-null    float64\n",
            " 4   Science score                  373 non-null    float64\n",
            "dtypes: float64(4), int64(1)\n",
            "memory usage: 17.5 KB\n"
          ]
        }
      ]
    },
    {
      "cell_type": "markdown",
      "metadata": {
        "id": "3BwLhWW3Tn0W"
      },
      "source": [
        "Do you see that the number of rows are now the same for all columns? How many students had missing values?\n",
        "\n",
        "\n",
        "<font color=red>Your answer:</font> "
      ]
    },
    {
      "cell_type": "code",
      "metadata": {
        "id": "8lsBCHYjTn0Y"
      },
      "source": [
        "# 14 students\n"
      ],
      "execution_count": null,
      "outputs": []
    },
    {
      "cell_type": "markdown",
      "metadata": {
        "id": "npS9uNA6Tn0e"
      },
      "source": [
        "<font color=Green>Bonus: While it is easy to remove missing values, we sometimes do not do so as the dataset is very small. Removing the values will lead to a smaller dataset. As such, we can also fill in the missing values with other values instead. We can choose to fill in the missing values either with the average values or the most frequent values. For example, if the Mathematics score value is missing, we can find the average value of all the students' mathematics score and fill in the missing value with that value. </font>"
      ]
    },
    {
      "cell_type": "markdown",
      "metadata": {
        "id": "10F0AOLqz3pM"
      },
      "source": [
        "<font color=red>Hints:</font> \n",
        "*   Please use Pandas `.copy()`, `.fillna()` and `.mean()`\n",
        "*   Pandas `.copy()`: https://onlinecoursetutorials.com/pandas/pandas-dataframe-copy-function-how-to-copy-from-one-dataframe-to-another/\n",
        "*   Pandas `.mean()`: http://www.datasciencemadesimple.com/mean-function-python-pandas-dataframe-row-column-wise-mean/\n",
        "*   Pandas `.fillna()`: https://www.sharpsightlabs.com/blog/pandas-fillna/\n",
        "*   Please do web search for Pandas `.copy()`, `.fillna()` and `.mean()` for further info\n",
        "\n"
      ]
    },
    {
      "cell_type": "code",
      "metadata": {
        "id": "muuEeEMGTn0g",
        "colab": {
          "base_uri": "https://localhost:8080/"
        },
        "outputId": "c48bc243-e6fd-4cf8-f2d8-2b470b21a210"
      },
      "source": [
        "math_mean = df['Mathematics score'].mean()\n",
        "df2 = df.fillna(value = {'Mathematics score':math_mean})\n",
        "df2.info()"
      ],
      "execution_count": null,
      "outputs": [
        {
          "output_type": "stream",
          "name": "stdout",
          "text": [
            "<class 'pandas.core.frame.DataFrame'>\n",
            "RangeIndex: 387 entries, 0 to 386\n",
            "Data columns (total 5 columns):\n",
            " #   Column                         Non-Null Count  Dtype  \n",
            "---  ------                         --------------  -----  \n",
            " 0   Student No.                    387 non-null    int64  \n",
            " 1   Hours spent studying in a day  382 non-null    float64\n",
            " 2   Mathematics score              387 non-null    float64\n",
            " 3   English score                  382 non-null    float64\n",
            " 4   Science score                  383 non-null    float64\n",
            "dtypes: float64(4), int64(1)\n",
            "memory usage: 15.2 KB\n"
          ]
        }
      ]
    },
    {
      "cell_type": "markdown",
      "metadata": {
        "id": "fztFEDR8Tn0l"
      },
      "source": [
        "You should now see that the missing values for Mathematics score have been filled in and there are now 387 non-null values instead of 383 non-null values shown earlier. Now, try to fill in the missing values for the rest of the columns with their respective averages.\n",
        "\n",
        "<font color=red>Hint:</font> \n",
        "*   Please use Pandas `.fillna()` and `.mean()`"
      ]
    },
    {
      "cell_type": "code",
      "metadata": {
        "id": "F1u0-TsJTn0n",
        "colab": {
          "base_uri": "https://localhost:8080/"
        },
        "outputId": "91c45d9e-4fd3-4efc-c938-c68b878702c7"
      },
      "source": [
        "# hours spent\n",
        "hrs_spt = df['Hours spent studying in a day'].mean()\n",
        "# math mean\n",
        "math_mean = df['Mathematics score'].mean()\n",
        "# eng mean\n",
        "eng_mean = df['English score'].mean()\n",
        "# sci_mean \n",
        "sci_mean = df['Science score'].mean()\n",
        "# Fill in missing values with mean of each subject\n",
        "df2 = df.fillna(value = {'Mathematics score':math_mean, 'English score':eng_mean, 'Science score':sci_mean, 'Hours spent studying in a day':hrs_spt})\n",
        "df2.info()\n"
      ],
      "execution_count": null,
      "outputs": [
        {
          "output_type": "stream",
          "name": "stdout",
          "text": [
            "<class 'pandas.core.frame.DataFrame'>\n",
            "RangeIndex: 387 entries, 0 to 386\n",
            "Data columns (total 5 columns):\n",
            " #   Column                         Non-Null Count  Dtype  \n",
            "---  ------                         --------------  -----  \n",
            " 0   Student No.                    387 non-null    int64  \n",
            " 1   Hours spent studying in a day  387 non-null    float64\n",
            " 2   Mathematics score              387 non-null    float64\n",
            " 3   English score                  387 non-null    float64\n",
            " 4   Science score                  387 non-null    float64\n",
            "dtypes: float64(4), int64(1)\n",
            "memory usage: 15.2 KB\n"
          ]
        }
      ]
    }
  ]
}