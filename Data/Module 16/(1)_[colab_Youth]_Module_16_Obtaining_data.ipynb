{
  "nbformat": 4,
  "nbformat_minor": 0,
  "metadata": {
    "colab": {
      "name": "(1)_[colab_Youth]_Module_16_Obtaining_data.ipynb",
      "provenance": [],
      "collapsed_sections": []
    },
    "kernelspec": {
      "display_name": "Python 3",
      "language": "python",
      "name": "python3"
    },
    "language_info": {
      "codemirror_mode": {
        "name": "ipython",
        "version": 3
      },
      "file_extension": ".py",
      "mimetype": "text/x-python",
      "name": "python",
      "nbconvert_exporter": "python",
      "pygments_lexer": "ipython3",
      "version": "3.7.5"
    }
  },
  "cells": [
    {
      "cell_type": "markdown",
      "metadata": {
        "id": "UBsWWQPDtLoY"
      },
      "source": [
        "# Data Lesson Map\n",
        "\n",
        "<font color=red>Red </font> highlighted is the topic covered for this lesson\n",
        "\n",
        "1. <font color=red>Basics Data Science and Visualisation</font>\n",
        ">* <font color=red>Obtaining Data</font>\n",
        ">* Basic Data Processing\n",
        ">* Basic statistics\n",
        ">* Data visualization\n",
        ">* Handling erroneous and missing data\n",
        "2. Data Machine Learning Techniques\n",
        ">* Supervised Learning Techniques\n",
        ">* Supervised Regression\n",
        ">* Artificial Neural Networks\n",
        "3. AI for Data Walkthrough\n",
        ">* Model Output\n",
        ">* Outputs Visualisation and Validation\n",
        "4. AI Models \n",
        ">* Linear Regression\n",
        ">* Underfitting vs Overfitting\n",
        ">* K-Nearest Neighbour (KNN)\n",
        ">* Decision Tree\n",
        ">* Convolutional Neural Networks (CNN)"
      ]
    },
    {
      "cell_type": "markdown",
      "metadata": {
        "id": "-YdfrGhXaSww"
      },
      "source": [
        "# Data Import and Processing"
      ]
    },
    {
      "cell_type": "markdown",
      "metadata": {
        "id": "THfcvkzNaSwy"
      },
      "source": [
        "Datasets are essential to any data science project! The more data you have, the easier it will be to identify relationships between features. However, it is also essential for the datasets to be understood by the computer before you can conduct any data analysis. Thus, the main objective of this exercise is to equip you with the required skills to import and process your dataset before any data analysis or machine learning is conducted."
      ]
    },
    {
      "cell_type": "markdown",
      "metadata": {
        "id": "Msb1KXoIaSw0"
      },
      "source": [
        "## 1. Data Import"
      ]
    },
    {
      "cell_type": "markdown",
      "metadata": {
        "id": "Tr-GKbJkaSw2"
      },
      "source": [
        "There are many websites which you can obtain data for free. Some examples of these include Kaggle (https://www.kaggle.com/) and University of California, Irvine (UCI) (https://archive.ics.uci.edu/ml/datasets.html). We can manually download the datasets and place them in new folders on our computers. However, it may be time consuming to do so. Thus, here is a neat little trick to automate this process! The script is labelled as magic.py. Try it out!\n",
        "\n",
        "For the script to work, make sure you have the os, wget, pandas and matplotlib library installed in your python virtual environment.\n",
        "\n",
        "But first let's mount our Google Drive. Please copy your 'Intel_AI4Y_Colab' folder to your Google Drive.\n"
      ]
    },
    {
      "cell_type": "code",
      "metadata": {
        "id": "PyULD5RrPz0y",
        "colab": {
          "base_uri": "https://localhost:8080/"
        },
        "outputId": "9adff3c5-b03c-4e8e-f725-f631e5c0f043"
      },
      "source": [
        "from google.colab import drive\n",
        "drive.mount('/content/Intel_AI4Y')"
      ],
      "execution_count": 1,
      "outputs": [
        {
          "output_type": "stream",
          "name": "stdout",
          "text": [
            "Mounted at /content/Intel_AI4Y\n"
          ]
        }
      ]
    },
    {
      "cell_type": "code",
      "metadata": {
        "id": "g2YHGbLwaSw4",
        "colab": {
          "base_uri": "https://localhost:8080/",
          "height": 296
        },
        "outputId": "3136b714-1684-4280-99d5-2c3b7ce6feb0"
      },
      "source": [
        "import matplotlib\n",
        "\n",
        "%run \"/content/Intel_AI4Y/My Drive/Intel_AI4Y/Students_E_Learning/Copy_To_Google_Drive/Intel_AI4Y_Colab/Module_16/magic.py\""
      ],
      "execution_count": 2,
      "outputs": [
        {
          "output_type": "stream",
          "name": "stdout",
          "text": [
            "Performing super difficult data analysis..........\n"
          ]
        },
        {
          "output_type": "display_data",
          "data": {
            "image/png": "[encoded data removed]",
            "text/plain": [
              "<Figure size 432x288 with 1 Axes>"
            ]
          },
          "metadata": {
            "needs_background": "light"
          }
        }
      ]
    },
    {
      "cell_type": "markdown",
      "metadata": {
        "id": "bYcAogTVaSxC"
      },
      "source": [
        "Hooray! You have successfully downloaded the data and plotted a graph without any manual intervention. Without opening the magic.py file, are you able to deduce where the data was downloaded to? The printed statements above will provide some hint!\n",
        "\n",
        "<font color=red>Your answer:</font> "
      ]
    },
    {
      "cell_type": "code",
      "metadata": {
        "id": "toe2Wgb6aSxD"
      },
      "source": [
        "# It is downloaded to the directory \"/content/Intel_AI4Y/My Drive/Intel_AI4Y/Students_E_Learning/Copy_To_Google_Drive/Intel_AI4Y_Colab/Module_16/magic.py\", you can also access it via importing os."
      ],
      "execution_count": null,
      "outputs": []
    },
    {
      "cell_type": "markdown",
      "metadata": {
        "id": "R0hU1t33aSxG"
      },
      "source": [
        "<font color=green>Bonus: Does the figure look correct? Are you able to explain the negative values and the black lines on the x-axis?</font>\n",
        "\n",
        "\n",
        "<font color=red>Your answer:</font> "
      ]
    },
    {
      "cell_type": "code",
      "metadata": {
        "id": "zu67jtP0Pu1M"
      },
      "source": [
        "# The figure is actually plotted 1/2 correctly, C02 concentration shouldn't have a \n",
        "# negative value. Black lines on the x-axis is actually due to too many xticks,\n",
        "# the words are all squashed together resulting in it looking like a black line."
      ],
      "execution_count": null,
      "outputs": []
    },
    {
      "cell_type": "markdown",
      "metadata": {
        "id": "v1CqAIo8aSxL"
      },
      "source": [
        "## 1.1 Downloading the iris dataset"
      ]
    },
    {
      "cell_type": "markdown",
      "metadata": {
        "id": "IEcfNX70aSxM"
      },
      "source": [
        "Now it is time to import a dataset on your own. The dataset to be used will be the famous Iris Flower dataset. The dataset can be downloaded from http://archive.ics.uci.edu/ml/machine-learning-databases/iris/. The file to download is iris.data. More information on the dataset can be obtained from https://en.wikipedia.org/wiki/Iris_flower_data_set. Please spend some time going through the dataset description before attempting the next set of instructions."
      ]
    },
    {
      "cell_type": "markdown",
      "metadata": {
        "id": "myyrcY8EaSxN"
      },
      "source": [
        "Create a new folder to store the dataset. Write a code below to download the dataset automatically using the `urllib.request`.urlretrieve function to help you. You can use the code within magic.py as reference.\n",
        "\n",
        "To access the contents within `magic.py`, find the `magic.py` file in the folder. Right-click on it and open it with wordpad.\n",
        "\n",
        "<font color=green>Bonus: Download the data using only 2 lines of code!</font>"
      ]
    },
    {
      "cell_type": "code",
      "metadata": {
        "id": "RMnYNX7YaSxO",
        "colab": {
          "base_uri": "https://localhost:8080/",
          "height": 203
        },
        "outputId": "adaebfe6-b786-45e1-cdb3-5bfba2014d4a"
      },
      "source": [
        "import pandas as pd\n",
        "df = pd.read_csv(\"/content/Intel_AI4Y/My Drive/Intel_AI4Y/Students_E_Learning/Copy_To_Google_Drive/Intel_AI4Y_Colab/Module_16/data/iris.data\")\n",
        "df.head()"
      ],
      "execution_count": 4,
      "outputs": [
        {
          "output_type": "execute_result",
          "data": {
            "text/html": [
              "<div>\n",
              "<style scoped>\n",
              "    .dataframe tbody tr th:only-of-type {\n",
              "        vertical-align: middle;\n",
              "    }\n",
              "\n",
              "    .dataframe tbody tr th {\n",
              "        vertical-align: top;\n",
              "    }\n",
              "\n",
              "    .dataframe thead th {\n",
              "        text-align: right;\n",
              "    }\n",
              "</style>\n",
              "<table border=\"1\" class=\"dataframe\">\n",
              "  <thead>\n",
              "    <tr style=\"text-align: right;\">\n",
              "      <th></th>\n",
              "      <th>5.1</th>\n",
              "      <th>3.5</th>\n",
              "      <th>1.4</th>\n",
              "      <th>0.2</th>\n",
              "      <th>Iris-setosa</th>\n",
              "    </tr>\n",
              "  </thead>\n",
              "  <tbody>\n",
              "    <tr>\n",
              "      <th>0</th>\n",
              "      <td>4.9</td>\n",
              "      <td>3.0</td>\n",
              "      <td>1.4</td>\n",
              "      <td>0.2</td>\n",
              "      <td>Iris-setosa</td>\n",
              "    </tr>\n",
              "    <tr>\n",
              "      <th>1</th>\n",
              "      <td>4.7</td>\n",
              "      <td>3.2</td>\n",
              "      <td>1.3</td>\n",
              "      <td>0.2</td>\n",
              "      <td>Iris-setosa</td>\n",
              "    </tr>\n",
              "    <tr>\n",
              "      <th>2</th>\n",
              "      <td>4.6</td>\n",
              "      <td>3.1</td>\n",
              "      <td>1.5</td>\n",
              "      <td>0.2</td>\n",
              "      <td>Iris-setosa</td>\n",
              "    </tr>\n",
              "    <tr>\n",
              "      <th>3</th>\n",
              "      <td>5.0</td>\n",
              "      <td>3.6</td>\n",
              "      <td>1.4</td>\n",
              "      <td>0.2</td>\n",
              "      <td>Iris-setosa</td>\n",
              "    </tr>\n",
              "    <tr>\n",
              "      <th>4</th>\n",
              "      <td>5.4</td>\n",
              "      <td>3.9</td>\n",
              "      <td>1.7</td>\n",
              "      <td>0.4</td>\n",
              "      <td>Iris-setosa</td>\n",
              "    </tr>\n",
              "  </tbody>\n",
              "</table>\n",
              "</div>"
            ],
            "text/plain": [
              "   5.1  3.5  1.4  0.2  Iris-setosa\n",
              "0  4.9  3.0  1.4  0.2  Iris-setosa\n",
              "1  4.7  3.2  1.3  0.2  Iris-setosa\n",
              "2  4.6  3.1  1.5  0.2  Iris-setosa\n",
              "3  5.0  3.6  1.4  0.2  Iris-setosa\n",
              "4  5.4  3.9  1.7  0.4  Iris-setosa"
            ]
          },
          "metadata": {},
          "execution_count": 4
        }
      ]
    },
    {
      "cell_type": "markdown",
      "metadata": {
        "id": "lIWPesDCaSxR"
      },
      "source": [
        "Well done! We now have our data downloaded! We will now access our data and learn some of its features. To do this, let’s explore a Python library called ‘pandas’!"
      ]
    },
    {
      "cell_type": "markdown",
      "metadata": {
        "id": "uKRJq_OWaSxT"
      },
      "source": [
        "## 1.2 Introduction to Pandas"
      ]
    },
    {
      "cell_type": "markdown",
      "metadata": {
        "id": "xk5z-Lo1aSxU"
      },
      "source": [
        "Pandas is a powerful tool to import datasets. It organises data into an easily processed [dataframe](https://www.datacamp.com/community/tutorials/pandas-tutorial-dataframe-python) which allows for easy statistical analysis. \n",
        "\n",
        "Read this [article](https://towardsdatascience.com/a-quick-introduction-to-the-pandas-python-library-f1b678f34673) and watch this [video](https://www.youtube.com/watch?v=dcqPhpY7tWk) for a quick introduction to pandas: What they are, what are some applications of pandas, and how you can use it.\n",
        "\n",
        "Pay careful attention to the part about importing data and viewing data, as we will use some of the functions in our exercises later!\n",
        "\n",
        "Summarise what you learnt about Pandas in your worksheet.\n",
        "-  How do you install and use Pandas?\n",
        "-  What are the common type of files that Pandas is used for?\n",
        "-  What is a dataframe?\n",
        "-  How do you access the rows and columns in the dataframe?\n",
        "-  Name and describe some commonly used Pandas functions.\n",
        "\n",
        "<font color=red>Your answer:</font> "
      ]
    },
    {
      "cell_type": "code",
      "metadata": {
        "id": "AyT4tG_daSxV"
      },
      "source": [
        "# !pip install pandas or pip install pandas\n",
        "# .csv .txt .xlsx\n",
        "# A dataframe represents a table of data with rows and columns\n",
        "# For rows: df.head() df.tail() For columns: df.columns\n",
        "# df.head(), df.tail(), df.columns, df.iloc, df.loc"
      ],
      "execution_count": null,
      "outputs": []
    },
    {
      "cell_type": "markdown",
      "metadata": {
        "id": "N-QF8J_6aSxZ"
      },
      "source": [
        "Now, let us use some functions within Pandas to help us access data. The first step is to import Pandas. `Try importing pandas as pd`.\n",
        "\n",
        "\n",
        "<font color=red>Hint:</font>  Module 13 Assignment 2 \"Data Visualization\" -> \"Import Pandas\" section"
      ]
    },
    {
      "cell_type": "code",
      "metadata": {
        "id": "dhvBRe9maSxa"
      },
      "source": [
        "import pandas as pd"
      ],
      "execution_count": 5,
      "outputs": []
    },
    {
      "cell_type": "markdown",
      "metadata": {
        "id": "d9fK1C6PaSxd"
      },
      "source": [
        "After importing Pandas, we will now try to read in the Iris Flower dataset. It is currently saved as a Comma Separated Values file (CSV). We will need to understand more about CSV files before we can access the data in them."
      ]
    },
    {
      "cell_type": "markdown",
      "metadata": {
        "id": "E19thKqyaSxe"
      },
      "source": [
        "## 1.2.1 Comma Separated Values (CSV) files"
      ]
    },
    {
      "cell_type": "markdown",
      "metadata": {
        "id": "M62n4NVZaSxf"
      },
      "source": [
        "Datasets are mainly stored in CSV files. CSV files contain data that are separated by comma characters or other characters. For example, a CSV file containing names of people may be stored as John,Mary,Harry,Luke. The comma between the names will tell the computer where to separate one name from the other.\n",
        "\n",
        "The files usually have a `.csv` extension but there are files which do not follow this extension. One example will be that of the iris data. \n",
        "\n",
        "See this [article](https://www.howtogeek.com/348960/what-is-a-csv-file-and-how-do-i-open-it/) to find out more about csv files: What are they? How to access them?\n",
        "\n",
        "<font color=red>Your answer:</font> "
      ]
    },
    {
      "cell_type": "code",
      "metadata": {
        "id": "cDsFZlfoaSxg"
      },
      "source": [
        "# import pandas as pd\n",
        "# pd.read_csv('.csv')"
      ],
      "execution_count": null,
      "outputs": []
    },
    {
      "cell_type": "markdown",
      "metadata": {
        "id": "EJ-nEupOaSxj"
      },
      "source": [
        "<font color=green>Bonus: After understanding the nature of CSV files, how would one check whether the data file is a CSV file? Which python function can be used to do this?</font>\n",
        "\n",
        "<font color=red>Your answer:</font> "
      ]
    },
    {
      "cell_type": "code",
      "metadata": {
        "id": "4sQKqSkpaSxk"
      },
      "source": [
        "#import os\n",
        "# os.path.exists('file.csv') Will return true or false"
      ],
      "execution_count": null,
      "outputs": []
    },
    {
      "cell_type": "markdown",
      "metadata": {
        "id": "ff_cSddFaSxm"
      },
      "source": [
        "## 1.2.2 Iris Flower dataset"
      ]
    },
    {
      "cell_type": "markdown",
      "metadata": {
        "id": "luYPiLxZaSxn"
      },
      "source": [
        "The Iris Flower dataset is a csv file, even though it has the extension `.data`. Now, open the dataset using the `pd.read_csv()` function and assign it into a variable `df`. Then, print out the first 5 rows of the `dataframe` to see the data attribute. What do you notice?\n",
        "\n",
        "<font color=red>Hints:</font> \n",
        "*   \"`iris.data`\" is in your Google Drive \"/content/Intel_AI4Y/My Drive/Intel_AI4Y_Colab/Module_16/\"\n",
        "*   Refer to Module 13 Assignment 2 \"Data Visualization\" -> \"`Import Pandas`\" and \"Exploring our data\" sections\n",
        "\n"
      ]
    },
    {
      "cell_type": "code",
      "metadata": {
        "id": "sEVfohq4aSxo",
        "colab": {
          "base_uri": "https://localhost:8080/",
          "height": 203
        },
        "outputId": "902e50f5-55b3-48cc-94f2-ce7b8ed706a6"
      },
      "source": [
        "import pandas as pd\n",
        "df = pd.read_csv(\"/content/Intel_AI4Y/My Drive/Intel_AI4Y/Students_E_Learning/Copy_To_Google_Drive/Intel_AI4Y_Colab/Module_16/data/iris.data\")\n",
        "df.head()"
      ],
      "execution_count": 8,
      "outputs": [
        {
          "output_type": "execute_result",
          "data": {
            "text/html": [
              "<div>\n",
              "<style scoped>\n",
              "    .dataframe tbody tr th:only-of-type {\n",
              "        vertical-align: middle;\n",
              "    }\n",
              "\n",
              "    .dataframe tbody tr th {\n",
              "        vertical-align: top;\n",
              "    }\n",
              "\n",
              "    .dataframe thead th {\n",
              "        text-align: right;\n",
              "    }\n",
              "</style>\n",
              "<table border=\"1\" class=\"dataframe\">\n",
              "  <thead>\n",
              "    <tr style=\"text-align: right;\">\n",
              "      <th></th>\n",
              "      <th>5.1</th>\n",
              "      <th>3.5</th>\n",
              "      <th>1.4</th>\n",
              "      <th>0.2</th>\n",
              "      <th>Iris-setosa</th>\n",
              "    </tr>\n",
              "  </thead>\n",
              "  <tbody>\n",
              "    <tr>\n",
              "      <th>0</th>\n",
              "      <td>4.9</td>\n",
              "      <td>3.0</td>\n",
              "      <td>1.4</td>\n",
              "      <td>0.2</td>\n",
              "      <td>Iris-setosa</td>\n",
              "    </tr>\n",
              "    <tr>\n",
              "      <th>1</th>\n",
              "      <td>4.7</td>\n",
              "      <td>3.2</td>\n",
              "      <td>1.3</td>\n",
              "      <td>0.2</td>\n",
              "      <td>Iris-setosa</td>\n",
              "    </tr>\n",
              "    <tr>\n",
              "      <th>2</th>\n",
              "      <td>4.6</td>\n",
              "      <td>3.1</td>\n",
              "      <td>1.5</td>\n",
              "      <td>0.2</td>\n",
              "      <td>Iris-setosa</td>\n",
              "    </tr>\n",
              "    <tr>\n",
              "      <th>3</th>\n",
              "      <td>5.0</td>\n",
              "      <td>3.6</td>\n",
              "      <td>1.4</td>\n",
              "      <td>0.2</td>\n",
              "      <td>Iris-setosa</td>\n",
              "    </tr>\n",
              "    <tr>\n",
              "      <th>4</th>\n",
              "      <td>5.4</td>\n",
              "      <td>3.9</td>\n",
              "      <td>1.7</td>\n",
              "      <td>0.4</td>\n",
              "      <td>Iris-setosa</td>\n",
              "    </tr>\n",
              "  </tbody>\n",
              "</table>\n",
              "</div>"
            ],
            "text/plain": [
              "   5.1  3.5  1.4  0.2  Iris-setosa\n",
              "0  4.9  3.0  1.4  0.2  Iris-setosa\n",
              "1  4.7  3.2  1.3  0.2  Iris-setosa\n",
              "2  4.6  3.1  1.5  0.2  Iris-setosa\n",
              "3  5.0  3.6  1.4  0.2  Iris-setosa\n",
              "4  5.4  3.9  1.7  0.4  Iris-setosa"
            ]
          },
          "metadata": {},
          "execution_count": 8
        }
      ]
    },
    {
      "cell_type": "markdown",
      "metadata": {
        "id": "svZ8sbZqaSxs"
      },
      "source": [
        "Did you realise the dataframe was missing headers/column names? This happens as the original file does not have header/column names. As such, it is always important to find out more details about the data file before using it. \n",
        "\n",
        "We can find out more information in the iris.names file from the previous download [link](http://archive.ics.uci.edu/ml/machine-learning-databases/iris/iris.names). The iris.names file listed the column names under point 7 (Attribute Information). What are the required names?\n",
        "\n",
        "<font color=red>Your answer:</font> "
      ]
    },
    {
      "cell_type": "code",
      "metadata": {
        "id": "WqIxmdCgaSxt"
      },
      "source": [
        "#Attribute Information:\n",
        "  # 1. sepal length in cm\n",
        "  # 2. sepal width in cm\n",
        "  # 3. petal length in cm\n",
        "  # 4. petal width in cm\n",
        "  # 5. class: \n",
        "     # -- Iris Setosa\n",
        "     # -- Iris Versicolour\n",
        "     # -- Iris Virginica"
      ],
      "execution_count": null,
      "outputs": []
    },
    {
      "cell_type": "markdown",
      "metadata": {
        "id": "FuMlox-xaSxw"
      },
      "source": [
        "You can refer to the picture (source: https://www.researchgate.net/figure/Trollius-ranunculoide-flower-with-measured-traits_fig6_272514310) below to understand the variables \"`sepal_length`\", \"`sepal_width`\", \"`petal_length`\" and \"`petal_width`\"."
      ]
    },
    {
      "cell_type": "markdown",
      "metadata": {
        "id": "6hGSifnXaSxx"
      },
      "source": [
        "<img src = \"https://www.researchgate.net/profile/Zhi-Gang_Zhao2/publication/272514310/figure/fig6/AS:340442961989646@1458179335869/Trollius-ranunculoide-flower-with-measured-traits.png\">"
      ]
    },
    {
      "cell_type": "markdown",
      "metadata": {
        "id": "98Mj-zMHaSxz"
      },
      "source": [
        "Now, let us try to include the names into the dataframe. It is necessary to read the data into the dataframe again to specify that the data has missing headers. This will allow us to add the names into the dataframe later. The code to add the first 2 names is shown below. Modify the code to include the other names before printing the top 5 rows again.\n",
        "\n",
        "<font color=red>Hints:</font> \n",
        "*   \"`sepal_length`\", \"`sepal_width`\", \"`petal_length`\" and \"`petal_width`\"\n",
        "*   Observe how to use pandas dataframe columns at this section of \"Method #2: By assigning a list of new column names\" at https://www.geeksforgeeks.org/how-to-rename-columns-in-pandas-dataframe/\n",
        "*   Note the 2nd answer that uses pandas dataframe columns at https://datascience.stackexchange.com/questions/45314/dataframe-has-no-column-names-how-to-add-a-header \n",
        "*   Remember to print the dataframe heads"
      ]
    },
    {
      "cell_type": "code",
      "metadata": {
        "id": "xIFzntYlaSx0",
        "colab": {
          "base_uri": "https://localhost:8080/",
          "height": 203
        },
        "outputId": "8f9236f1-8dbd-4296-eb98-a50336181c08"
      },
      "source": [
        "import pandas as pd\n",
        "df = pd.read_csv(\"/content/Intel_AI4Y/My Drive/Intel_AI4Y/Students_E_Learning/Copy_To_Google_Drive/Intel_AI4Y_Colab/Module_16/data/iris.data\", header=None)\n",
        "names = [\"sepal_length\", \"sepal_width\",\"petal_length\" ,\"petal_width\" ,\"class\"] \n",
        "df.rename(columns = {0:'sepal_length', 1:'sepal_width', 2:'petal_length', 3:'petal_width', 4:'class'}, inplace = True)\n",
        "df.head()\n"
      ],
      "execution_count": 24,
      "outputs": [
        {
          "output_type": "execute_result",
          "data": {
            "text/html": [
              "<div>\n",
              "<style scoped>\n",
              "    .dataframe tbody tr th:only-of-type {\n",
              "        vertical-align: middle;\n",
              "    }\n",
              "\n",
              "    .dataframe tbody tr th {\n",
              "        vertical-align: top;\n",
              "    }\n",
              "\n",
              "    .dataframe thead th {\n",
              "        text-align: right;\n",
              "    }\n",
              "</style>\n",
              "<table border=\"1\" class=\"dataframe\">\n",
              "  <thead>\n",
              "    <tr style=\"text-align: right;\">\n",
              "      <th></th>\n",
              "      <th>sepal_length</th>\n",
              "      <th>sepal_width</th>\n",
              "      <th>petal_length</th>\n",
              "      <th>petal_width</th>\n",
              "      <th>class</th>\n",
              "    </tr>\n",
              "  </thead>\n",
              "  <tbody>\n",
              "    <tr>\n",
              "      <th>0</th>\n",
              "      <td>5.1</td>\n",
              "      <td>3.5</td>\n",
              "      <td>1.4</td>\n",
              "      <td>0.2</td>\n",
              "      <td>Iris-setosa</td>\n",
              "    </tr>\n",
              "    <tr>\n",
              "      <th>1</th>\n",
              "      <td>4.9</td>\n",
              "      <td>3.0</td>\n",
              "      <td>1.4</td>\n",
              "      <td>0.2</td>\n",
              "      <td>Iris-setosa</td>\n",
              "    </tr>\n",
              "    <tr>\n",
              "      <th>2</th>\n",
              "      <td>4.7</td>\n",
              "      <td>3.2</td>\n",
              "      <td>1.3</td>\n",
              "      <td>0.2</td>\n",
              "      <td>Iris-setosa</td>\n",
              "    </tr>\n",
              "    <tr>\n",
              "      <th>3</th>\n",
              "      <td>4.6</td>\n",
              "      <td>3.1</td>\n",
              "      <td>1.5</td>\n",
              "      <td>0.2</td>\n",
              "      <td>Iris-setosa</td>\n",
              "    </tr>\n",
              "    <tr>\n",
              "      <th>4</th>\n",
              "      <td>5.0</td>\n",
              "      <td>3.6</td>\n",
              "      <td>1.4</td>\n",
              "      <td>0.2</td>\n",
              "      <td>Iris-setosa</td>\n",
              "    </tr>\n",
              "  </tbody>\n",
              "</table>\n",
              "</div>"
            ],
            "text/plain": [
              "   sepal_length  sepal_width  petal_length  petal_width        class\n",
              "0           5.1          3.5           1.4          0.2  Iris-setosa\n",
              "1           4.9          3.0           1.4          0.2  Iris-setosa\n",
              "2           4.7          3.2           1.3          0.2  Iris-setosa\n",
              "3           4.6          3.1           1.5          0.2  Iris-setosa\n",
              "4           5.0          3.6           1.4          0.2  Iris-setosa"
            ]
          },
          "metadata": {},
          "execution_count": 24
        }
      ]
    },
    {
      "cell_type": "markdown",
      "metadata": {
        "id": "3Oygv8doaSx5"
      },
      "source": [
        "With the proper labels, you can now use pandas to obtain basic information (Number of rows and columns, type of data, number of missing values and basic statistics) about the dataset. Use `.info()` and `.describe()` to obtain basic information about the dataset!\n",
        "\n",
        "<font color=red>Hints:</font> \n",
        "*   Use `print()`\n",
        "*   dataframe `.info()`: https://www.w3resource.com/python-exercises/pandas/python-pandas-data-frame-exercise-3.php\n",
        "*   dataframe `.describe()`: https://www.w3resource.com/pandas/dataframe/dataframe-describe.php \n",
        "\n"
      ]
    },
    {
      "cell_type": "code",
      "metadata": {
        "id": "UF6PjBl_aSx8",
        "colab": {
          "base_uri": "https://localhost:8080/",
          "height": 497
        },
        "outputId": "ed01a19f-a400-4c73-ffd8-fd6681594670"
      },
      "source": [
        "df.info()\n",
        "df.describe()"
      ],
      "execution_count": 26,
      "outputs": [
        {
          "output_type": "stream",
          "name": "stdout",
          "text": [
            "<class 'pandas.core.frame.DataFrame'>\n",
            "RangeIndex: 150 entries, 0 to 149\n",
            "Data columns (total 5 columns):\n",
            " #   Column        Non-Null Count  Dtype  \n",
            "---  ------        --------------  -----  \n",
            " 0   sepal_length  150 non-null    float64\n",
            " 1   sepal_width   150 non-null    float64\n",
            " 2   petal_length  150 non-null    float64\n",
            " 3   petal_width   150 non-null    float64\n",
            " 4   class         150 non-null    object \n",
            "dtypes: float64(4), object(1)\n",
            "memory usage: 6.0+ KB\n"
          ]
        },
        {
          "output_type": "execute_result",
          "data": {
            "text/html": [
              "<div>\n",
              "<style scoped>\n",
              "    .dataframe tbody tr th:only-of-type {\n",
              "        vertical-align: middle;\n",
              "    }\n",
              "\n",
              "    .dataframe tbody tr th {\n",
              "        vertical-align: top;\n",
              "    }\n",
              "\n",
              "    .dataframe thead th {\n",
              "        text-align: right;\n",
              "    }\n",
              "</style>\n",
              "<table border=\"1\" class=\"dataframe\">\n",
              "  <thead>\n",
              "    <tr style=\"text-align: right;\">\n",
              "      <th></th>\n",
              "      <th>sepal_length</th>\n",
              "      <th>sepal_width</th>\n",
              "      <th>petal_length</th>\n",
              "      <th>petal_width</th>\n",
              "    </tr>\n",
              "  </thead>\n",
              "  <tbody>\n",
              "    <tr>\n",
              "      <th>count</th>\n",
              "      <td>150.000000</td>\n",
              "      <td>150.000000</td>\n",
              "      <td>150.000000</td>\n",
              "      <td>150.000000</td>\n",
              "    </tr>\n",
              "    <tr>\n",
              "      <th>mean</th>\n",
              "      <td>5.843333</td>\n",
              "      <td>3.054000</td>\n",
              "      <td>3.758667</td>\n",
              "      <td>1.198667</td>\n",
              "    </tr>\n",
              "    <tr>\n",
              "      <th>std</th>\n",
              "      <td>0.828066</td>\n",
              "      <td>0.433594</td>\n",
              "      <td>1.764420</td>\n",
              "      <td>0.763161</td>\n",
              "    </tr>\n",
              "    <tr>\n",
              "      <th>min</th>\n",
              "      <td>4.300000</td>\n",
              "      <td>2.000000</td>\n",
              "      <td>1.000000</td>\n",
              "      <td>0.100000</td>\n",
              "    </tr>\n",
              "    <tr>\n",
              "      <th>25%</th>\n",
              "      <td>5.100000</td>\n",
              "      <td>2.800000</td>\n",
              "      <td>1.600000</td>\n",
              "      <td>0.300000</td>\n",
              "    </tr>\n",
              "    <tr>\n",
              "      <th>50%</th>\n",
              "      <td>5.800000</td>\n",
              "      <td>3.000000</td>\n",
              "      <td>4.350000</td>\n",
              "      <td>1.300000</td>\n",
              "    </tr>\n",
              "    <tr>\n",
              "      <th>75%</th>\n",
              "      <td>6.400000</td>\n",
              "      <td>3.300000</td>\n",
              "      <td>5.100000</td>\n",
              "      <td>1.800000</td>\n",
              "    </tr>\n",
              "    <tr>\n",
              "      <th>max</th>\n",
              "      <td>7.900000</td>\n",
              "      <td>4.400000</td>\n",
              "      <td>6.900000</td>\n",
              "      <td>2.500000</td>\n",
              "    </tr>\n",
              "  </tbody>\n",
              "</table>\n",
              "</div>"
            ],
            "text/plain": [
              "       sepal_length  sepal_width  petal_length  petal_width\n",
              "count    150.000000   150.000000    150.000000   150.000000\n",
              "mean       5.843333     3.054000      3.758667     1.198667\n",
              "std        0.828066     0.433594      1.764420     0.763161\n",
              "min        4.300000     2.000000      1.000000     0.100000\n",
              "25%        5.100000     2.800000      1.600000     0.300000\n",
              "50%        5.800000     3.000000      4.350000     1.300000\n",
              "75%        6.400000     3.300000      5.100000     1.800000\n",
              "max        7.900000     4.400000      6.900000     2.500000"
            ]
          },
          "metadata": {},
          "execution_count": 26
        }
      ]
    },
    {
      "cell_type": "markdown",
      "metadata": {
        "id": "6lo55BdBaSx-"
      },
      "source": [
        "Based on the information obtained, you should note that there are 150 different flowers in the dataset and that there are no missing values in the dataset."
      ]
    },
    {
      "cell_type": "markdown",
      "metadata": {
        "id": "od_yIKS1aSx_"
      },
      "source": [
        "## You have now mastered the ability to download datasets automatically and import them using Pandas. Additionally, you have also learnt how to use the Pandas functions to obtain basic information about the dataset. Now we will proceed to a class activity where you will have to put all these skills to good use!"
      ]
    }
  ]
}