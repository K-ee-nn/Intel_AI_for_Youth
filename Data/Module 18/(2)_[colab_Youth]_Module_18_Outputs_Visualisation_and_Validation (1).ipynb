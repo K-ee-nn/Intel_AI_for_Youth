{
  "nbformat": 4,
  "nbformat_minor": 0,
  "metadata": {
    "kernelspec": {
      "display_name": "Python 3",
      "language": "python",
      "name": "python3"
    },
    "language_info": {
      "codemirror_mode": {
        "name": "ipython",
        "version": 3
      },
      "file_extension": ".py",
      "mimetype": "text/x-python",
      "name": "python",
      "nbconvert_exporter": "python",
      "pygments_lexer": "ipython3",
      "version": "3.6.7"
    },
    "colab": {
      "name": "(2)_[colab_Youth]_Module_18_Outputs_Visualisation_and_Validation.ipynb",
      "provenance": [],
      "collapsed_sections": []
    }
  },
  "cells": [
    {
      "cell_type": "markdown",
      "metadata": {
        "id": "0TP9jmUJumqk"
      },
      "source": [
        "# Data Lesson Map\n",
        "\n",
        "<font color=red>Red </font> highlighted is the topic covered for this lesson\n",
        "\n",
        "1. <font color=red>Basics Data Science and Visualisation</font>\n",
        ">* <font color=red>Obtaining Data</font>\n",
        ">* Basic Data Processing\n",
        ">* Basic statistics\n",
        ">* <font color=red>Data visualization</font>\n",
        ">* Handling erroneous and missing data\n",
        "2. <font color=red>Data Machine Learning Techniques</font>\n",
        ">* <font color=red>Supervised Learning Techniques</font>\n",
        ">* Supervised Regression\n",
        ">* Artificial Neural Networks\n",
        "3. <font color=red>AI for Data Walkthrough</font>\n",
        ">* Model Output\n",
        ">* <font color=red>Outputs Visualisation and Validation</font>\n",
        "4. <font color=red>AI Models </font>\n",
        ">* Linear Regression\n",
        ">* <font color=red>Underfitting vs Overfitting</font>\n",
        ">* <font color=red>K-Nearest Neighbour (KNN)</font>\n",
        ">* <font color=red>Decision Tree</font>\n",
        ">* Convolutional Neural Networks (CNN)"
      ]
    },
    {
      "cell_type": "markdown",
      "metadata": {
        "id": "kTersnYGxIe7"
      },
      "source": [
        "# Outputs Visualisation and Validation"
      ]
    },
    {
      "cell_type": "markdown",
      "metadata": {
        "id": "yn5ZVMLSxIe9"
      },
      "source": [
        "In previous workshops, you have learnt how to train different machine learning models and also use these trained models to make predictions. However, we have not focused on how to evaluate the performance of the model or visualise the outputs from the model. As such, we will now focus on how we can use different visualisation tools to help evaluate the performance of the model. In this notebook, you will learn how to utilise confusion matrix and heatmaps to evaluate your model. These tools will help to identify the accuracy of the model."
      ]
    },
    {
      "cell_type": "markdown",
      "metadata": {
        "id": "hTviJ0r4xIe-"
      },
      "source": [
        "We first need to understand the concept of accuracy. How accurate does a model have to be before it is a good model? The answer depends on the use case of the model. For example, the model has to be very close to 100% accuracy if it involves huge financial amounts or illnesses identification. This is because these are important issues that may affect many people if the model were to be wrong by just fractions of a percent. On the other hand, if you were predicting movie recommendations or video recommendations it may be ok if it were less accurate as the implications of a wrong prediction are not as serious as the previously mentioned scenarios. Furthermore, it is also important to understand that it is almost impossible to obtain 100% accuracy as in order to do so, you will need to be able to collect every single data that is relevant to the problem. As such, you will need to balance the accuracy of the model with the amount of data that you have and also the use case. However, this does not mean that it is ok to stop after obtaining a low accuracy. You still need to try and see if you can make it better. Only when you have tried many ways and are unable to improve the accuracy then can you decide if the accuracy is good enough for the use case."
      ]
    },
    {
      "cell_type": "markdown",
      "metadata": {
        "id": "gt47_0YBxIfA"
      },
      "source": [
        "We will now see how we can use the visualisation tools for the machine learning techniques that you have tried in previous notebooks.\n",
        "\n",
        "<font color=red>Your code:</font> "
      ]
    },
    {
      "cell_type": "code",
      "metadata": {
        "id": "GfnLLlEjxIfB"
      },
      "source": [
        "import pandas as pd\n",
        "from sklearn.preprocessing import StandardScaler\n",
        "import matplotlib.pyplot as plt\n",
        "from sklearn.model_selection import train_test_split\n",
        "from sklearn.neighbors import KNeighborsClassifier"
      ],
      "execution_count": 2,
      "outputs": []
    },
    {
      "cell_type": "markdown",
      "metadata": {
        "id": "Av_2Xjl1xIfF"
      },
      "source": [
        "## 1. K-Nearest Neighbours"
      ]
    },
    {
      "cell_type": "markdown",
      "metadata": {
        "id": "aNxX-9QqxIfG"
      },
      "source": [
        "We will again use the K-Nearest Neighbours algorithm on the Iris Flower dataset. Import the dataset as a dataframe df and label encode the dataset. Label encoding is the conversion of categories into numerical groups. Write the code to label encode the dataset as a function (label_encode) instead. This will allow the label encoding code to be re-used if necessary in the notebook. Read this [article](https://www.codementor.io/kaushikpal/user-defined-functions-in-python-8s7wyc8k2) to find out how to write a user defined function. When we code, it is always useful to write functions if we think that the functions would be used more than once in the script. Expand the code below to import and label encode the dataset.\n",
        "\n",
        "<font color=red>Your code:</font> "
      ]
    },
    {
      "cell_type": "code",
      "metadata": {
        "id": "gddPs5CPxMGE",
        "colab": {
          "base_uri": "https://localhost:8080/"
        },
        "outputId": "c49ffd96-2b58-4b2b-ba03-d8d5a0110b87"
      },
      "source": [
        "from google.colab import drive\n",
        "drive.mount('/content/Intel_AI4Y')"
      ],
      "execution_count": 106,
      "outputs": [
        {
          "output_type": "stream",
          "name": "stdout",
          "text": [
            "Drive already mounted at /content/Intel_AI4Y; to attempt to forcibly remount, call drive.mount(\"/content/Intel_AI4Y\", force_remount=True).\n"
          ]
        }
      ]
    },
    {
      "cell_type": "markdown",
      "metadata": {
        "id": "wljdP_TxssPp"
      },
      "source": [
        "<font color=red>Your code:</font> "
      ]
    },
    {
      "cell_type": "code",
      "metadata": {
        "id": "vIm0RP1msr3i",
        "colab": {
          "base_uri": "https://localhost:8080/",
          "height": 203
        },
        "outputId": "35251795-cf2b-4fba-e19d-9a2665ee8d76"
      },
      "source": [
        "df = pd.read_csv('/content/Intel_AI4Y/My Drive/Intel_AI4Y/Students_E_Learning/Copy_To_Google_Drive/Intel_AI4Y_Colab/Module_18/data/iris.data')\n",
        "names = ['sepal length', 'sepal width', 'petal length', 'petal width', 'class']\n",
        "df.columns = names \n",
        "df.head()"
      ],
      "execution_count": 107,
      "outputs": [
        {
          "output_type": "execute_result",
          "data": {
            "text/html": [
              "<div>\n",
              "<style scoped>\n",
              "    .dataframe tbody tr th:only-of-type {\n",
              "        vertical-align: middle;\n",
              "    }\n",
              "\n",
              "    .dataframe tbody tr th {\n",
              "        vertical-align: top;\n",
              "    }\n",
              "\n",
              "    .dataframe thead th {\n",
              "        text-align: right;\n",
              "    }\n",
              "</style>\n",
              "<table border=\"1\" class=\"dataframe\">\n",
              "  <thead>\n",
              "    <tr style=\"text-align: right;\">\n",
              "      <th></th>\n",
              "      <th>sepal length</th>\n",
              "      <th>sepal width</th>\n",
              "      <th>petal length</th>\n",
              "      <th>petal width</th>\n",
              "      <th>class</th>\n",
              "    </tr>\n",
              "  </thead>\n",
              "  <tbody>\n",
              "    <tr>\n",
              "      <th>0</th>\n",
              "      <td>4.9</td>\n",
              "      <td>3.0</td>\n",
              "      <td>1.4</td>\n",
              "      <td>0.2</td>\n",
              "      <td>Iris-setosa</td>\n",
              "    </tr>\n",
              "    <tr>\n",
              "      <th>1</th>\n",
              "      <td>4.7</td>\n",
              "      <td>3.2</td>\n",
              "      <td>1.3</td>\n",
              "      <td>0.2</td>\n",
              "      <td>Iris-setosa</td>\n",
              "    </tr>\n",
              "    <tr>\n",
              "      <th>2</th>\n",
              "      <td>4.6</td>\n",
              "      <td>3.1</td>\n",
              "      <td>1.5</td>\n",
              "      <td>0.2</td>\n",
              "      <td>Iris-setosa</td>\n",
              "    </tr>\n",
              "    <tr>\n",
              "      <th>3</th>\n",
              "      <td>5.0</td>\n",
              "      <td>3.6</td>\n",
              "      <td>1.4</td>\n",
              "      <td>0.2</td>\n",
              "      <td>Iris-setosa</td>\n",
              "    </tr>\n",
              "    <tr>\n",
              "      <th>4</th>\n",
              "      <td>5.4</td>\n",
              "      <td>3.9</td>\n",
              "      <td>1.7</td>\n",
              "      <td>0.4</td>\n",
              "      <td>Iris-setosa</td>\n",
              "    </tr>\n",
              "  </tbody>\n",
              "</table>\n",
              "</div>"
            ],
            "text/plain": [
              "   sepal length  sepal width  petal length  petal width        class\n",
              "0           4.9          3.0           1.4          0.2  Iris-setosa\n",
              "1           4.7          3.2           1.3          0.2  Iris-setosa\n",
              "2           4.6          3.1           1.5          0.2  Iris-setosa\n",
              "3           5.0          3.6           1.4          0.2  Iris-setosa\n",
              "4           5.4          3.9           1.7          0.4  Iris-setosa"
            ]
          },
          "metadata": {},
          "execution_count": 107
        }
      ]
    },
    {
      "cell_type": "code",
      "metadata": {
        "colab": {
          "base_uri": "https://localhost:8080/"
        },
        "id": "HzwXhGzcIPkE",
        "outputId": "16ec2439-95fd-4b9a-c1e6-ad598067d5a6"
      },
      "source": [
        "df.info()"
      ],
      "execution_count": 108,
      "outputs": [
        {
          "output_type": "stream",
          "name": "stdout",
          "text": [
            "<class 'pandas.core.frame.DataFrame'>\n",
            "RangeIndex: 149 entries, 0 to 148\n",
            "Data columns (total 5 columns):\n",
            " #   Column        Non-Null Count  Dtype  \n",
            "---  ------        --------------  -----  \n",
            " 0   sepal length  149 non-null    float64\n",
            " 1   sepal width   149 non-null    float64\n",
            " 2   petal length  149 non-null    float64\n",
            " 3   petal width   149 non-null    float64\n",
            " 4   class         149 non-null    object \n",
            "dtypes: float64(4), object(1)\n",
            "memory usage: 5.9+ KB\n"
          ]
        }
      ]
    },
    {
      "cell_type": "code",
      "metadata": {
        "colab": {
          "base_uri": "https://localhost:8080/",
          "height": 295
        },
        "id": "KYrGHdFsITNH",
        "outputId": "65855793-449c-49dd-e1da-26a1b7c6bc3e"
      },
      "source": [
        "df.describe()"
      ],
      "execution_count": 7,
      "outputs": [
        {
          "output_type": "execute_result",
          "data": {
            "text/html": [
              "<div>\n",
              "<style scoped>\n",
              "    .dataframe tbody tr th:only-of-type {\n",
              "        vertical-align: middle;\n",
              "    }\n",
              "\n",
              "    .dataframe tbody tr th {\n",
              "        vertical-align: top;\n",
              "    }\n",
              "\n",
              "    .dataframe thead th {\n",
              "        text-align: right;\n",
              "    }\n",
              "</style>\n",
              "<table border=\"1\" class=\"dataframe\">\n",
              "  <thead>\n",
              "    <tr style=\"text-align: right;\">\n",
              "      <th></th>\n",
              "      <th>sepal length</th>\n",
              "      <th>sepal width</th>\n",
              "      <th>petal length</th>\n",
              "      <th>petal width</th>\n",
              "    </tr>\n",
              "  </thead>\n",
              "  <tbody>\n",
              "    <tr>\n",
              "      <th>count</th>\n",
              "      <td>149.000000</td>\n",
              "      <td>149.000000</td>\n",
              "      <td>149.000000</td>\n",
              "      <td>149.000000</td>\n",
              "    </tr>\n",
              "    <tr>\n",
              "      <th>mean</th>\n",
              "      <td>5.848322</td>\n",
              "      <td>3.051007</td>\n",
              "      <td>3.774497</td>\n",
              "      <td>1.205369</td>\n",
              "    </tr>\n",
              "    <tr>\n",
              "      <th>std</th>\n",
              "      <td>0.828594</td>\n",
              "      <td>0.433499</td>\n",
              "      <td>1.759651</td>\n",
              "      <td>0.761292</td>\n",
              "    </tr>\n",
              "    <tr>\n",
              "      <th>min</th>\n",
              "      <td>4.300000</td>\n",
              "      <td>2.000000</td>\n",
              "      <td>1.000000</td>\n",
              "      <td>0.100000</td>\n",
              "    </tr>\n",
              "    <tr>\n",
              "      <th>25%</th>\n",
              "      <td>5.100000</td>\n",
              "      <td>2.800000</td>\n",
              "      <td>1.600000</td>\n",
              "      <td>0.300000</td>\n",
              "    </tr>\n",
              "    <tr>\n",
              "      <th>50%</th>\n",
              "      <td>5.800000</td>\n",
              "      <td>3.000000</td>\n",
              "      <td>4.400000</td>\n",
              "      <td>1.300000</td>\n",
              "    </tr>\n",
              "    <tr>\n",
              "      <th>75%</th>\n",
              "      <td>6.400000</td>\n",
              "      <td>3.300000</td>\n",
              "      <td>5.100000</td>\n",
              "      <td>1.800000</td>\n",
              "    </tr>\n",
              "    <tr>\n",
              "      <th>max</th>\n",
              "      <td>7.900000</td>\n",
              "      <td>4.400000</td>\n",
              "      <td>6.900000</td>\n",
              "      <td>2.500000</td>\n",
              "    </tr>\n",
              "  </tbody>\n",
              "</table>\n",
              "</div>"
            ],
            "text/plain": [
              "       sepal length  sepal width  petal length  petal width\n",
              "count    149.000000   149.000000    149.000000   149.000000\n",
              "mean       5.848322     3.051007      3.774497     1.205369\n",
              "std        0.828594     0.433499      1.759651     0.761292\n",
              "min        4.300000     2.000000      1.000000     0.100000\n",
              "25%        5.100000     2.800000      1.600000     0.300000\n",
              "50%        5.800000     3.000000      4.400000     1.300000\n",
              "75%        6.400000     3.300000      5.100000     1.800000\n",
              "max        7.900000     4.400000      6.900000     2.500000"
            ]
          },
          "metadata": {},
          "execution_count": 7
        }
      ]
    },
    {
      "cell_type": "code",
      "metadata": {
        "colab": {
          "base_uri": "https://localhost:8080/"
        },
        "id": "pMgGH7k4pZ2o",
        "outputId": "4bcf1c40-42de-46ea-a55c-6dc4aae2515a"
      },
      "source": [
        "# Do the label encoding for df['class']\n",
        "label_encode_setosa = {\"class\": {\"Iris-setosa\":1}}\n",
        "label_encode_versicolor = {\"class\": {\"Iris-versicolor\":2}}\n",
        "label_encode_virginica = {\"class\": {\"Iris-virginica\":3}}\n",
        "\n",
        "df.replace(label_encode_setosa,inplace=True)\n",
        "df.replace(label_encode_versicolor,inplace=True)\n",
        "df.replace(label_encode_virginica,inplace=True)\n",
        "print(df['class'].value_counts())\n"
      ],
      "execution_count": 109,
      "outputs": [
        {
          "output_type": "stream",
          "name": "stdout",
          "text": [
            "3    50\n",
            "2    50\n",
            "1    49\n",
            "Name: class, dtype: int64\n"
          ]
        }
      ]
    },
    {
      "cell_type": "code",
      "metadata": {
        "colab": {
          "base_uri": "https://localhost:8080/",
          "height": 417
        },
        "id": "DkQjPtfhe53R",
        "outputId": "80743704-262b-4e88-c1fc-3c7a4d2b339e"
      },
      "source": [
        "pd.get_dummies(df['class'])\n",
        "# 0 = Iris-setosa \n",
        "# 1 = Iris-vesicolor\n",
        "# 2 = Iris-virginica"
      ],
      "execution_count": 110,
      "outputs": [
        {
          "output_type": "execute_result",
          "data": {
            "text/html": [
              "<div>\n",
              "<style scoped>\n",
              "    .dataframe tbody tr th:only-of-type {\n",
              "        vertical-align: middle;\n",
              "    }\n",
              "\n",
              "    .dataframe tbody tr th {\n",
              "        vertical-align: top;\n",
              "    }\n",
              "\n",
              "    .dataframe thead th {\n",
              "        text-align: right;\n",
              "    }\n",
              "</style>\n",
              "<table border=\"1\" class=\"dataframe\">\n",
              "  <thead>\n",
              "    <tr style=\"text-align: right;\">\n",
              "      <th></th>\n",
              "      <th>1</th>\n",
              "      <th>2</th>\n",
              "      <th>3</th>\n",
              "    </tr>\n",
              "  </thead>\n",
              "  <tbody>\n",
              "    <tr>\n",
              "      <th>0</th>\n",
              "      <td>1</td>\n",
              "      <td>0</td>\n",
              "      <td>0</td>\n",
              "    </tr>\n",
              "    <tr>\n",
              "      <th>1</th>\n",
              "      <td>1</td>\n",
              "      <td>0</td>\n",
              "      <td>0</td>\n",
              "    </tr>\n",
              "    <tr>\n",
              "      <th>2</th>\n",
              "      <td>1</td>\n",
              "      <td>0</td>\n",
              "      <td>0</td>\n",
              "    </tr>\n",
              "    <tr>\n",
              "      <th>3</th>\n",
              "      <td>1</td>\n",
              "      <td>0</td>\n",
              "      <td>0</td>\n",
              "    </tr>\n",
              "    <tr>\n",
              "      <th>4</th>\n",
              "      <td>1</td>\n",
              "      <td>0</td>\n",
              "      <td>0</td>\n",
              "    </tr>\n",
              "    <tr>\n",
              "      <th>...</th>\n",
              "      <td>...</td>\n",
              "      <td>...</td>\n",
              "      <td>...</td>\n",
              "    </tr>\n",
              "    <tr>\n",
              "      <th>144</th>\n",
              "      <td>0</td>\n",
              "      <td>0</td>\n",
              "      <td>1</td>\n",
              "    </tr>\n",
              "    <tr>\n",
              "      <th>145</th>\n",
              "      <td>0</td>\n",
              "      <td>0</td>\n",
              "      <td>1</td>\n",
              "    </tr>\n",
              "    <tr>\n",
              "      <th>146</th>\n",
              "      <td>0</td>\n",
              "      <td>0</td>\n",
              "      <td>1</td>\n",
              "    </tr>\n",
              "    <tr>\n",
              "      <th>147</th>\n",
              "      <td>0</td>\n",
              "      <td>0</td>\n",
              "      <td>1</td>\n",
              "    </tr>\n",
              "    <tr>\n",
              "      <th>148</th>\n",
              "      <td>0</td>\n",
              "      <td>0</td>\n",
              "      <td>1</td>\n",
              "    </tr>\n",
              "  </tbody>\n",
              "</table>\n",
              "<p>149 rows × 3 columns</p>\n",
              "</div>"
            ],
            "text/plain": [
              "     1  2  3\n",
              "0    1  0  0\n",
              "1    1  0  0\n",
              "2    1  0  0\n",
              "3    1  0  0\n",
              "4    1  0  0\n",
              "..  .. .. ..\n",
              "144  0  0  1\n",
              "145  0  0  1\n",
              "146  0  0  1\n",
              "147  0  0  1\n",
              "148  0  0  1\n",
              "\n",
              "[149 rows x 3 columns]"
            ]
          },
          "metadata": {},
          "execution_count": 110
        }
      ]
    },
    {
      "cell_type": "markdown",
      "metadata": {
        "id": "kMyfED_ExIfO"
      },
      "source": [
        "Now, split the data into train and test sets and also standardise the data. Keep 30% of the data in the test set.\n",
        "\n",
        "<font color=red>Your code:</font> "
      ]
    },
    {
      "cell_type": "code",
      "metadata": {
        "id": "HSc5YqSgJh83"
      },
      "source": [
        "# define the x_values and y_values \n",
        "x_values = df[['sepal length', 'sepal width', 'petal length', 'petal width']]\n",
        "y_values = df['class']\n",
        "\n",
        "# train test split\n",
        "x_train, x_test, y_train, y_test = train_test_split(x_values, y_values, test_size=0.30, random_state=10)\n",
        "\n",
        "# x_train  x_test -> x_values  sepal length, sepal width, petal length, petal width\n",
        "# y_train  y_test -> y_values Iris-setosa=0, Iris-versicolor=1, Iris-virginica=2\n",
        "\n",
        "\n",
        "#print(x_train)\n",
        "#print(x_test)\n",
        "#print(y_train)\n",
        "#print(y_test)"
      ],
      "execution_count": 111,
      "outputs": []
    },
    {
      "cell_type": "code",
      "metadata": {
        "id": "YjmVO4E9f5iq",
        "colab": {
          "base_uri": "https://localhost:8080/"
        },
        "outputId": "b826c48c-b126-4c1d-8f02-c891763288df"
      },
      "source": [
        "# Proceed with standardisation\n",
        "standardise = StandardScaler()\n",
        "\n",
        "# fit_transform() -> learn and scale train data\n",
        "x_train_scale = standardise.fit_transform(x_train)\n",
        "\n",
        "# transform() ->  we use the scaling paramaters learned on the train data\n",
        "# to scale the test data.\n",
        "x_test_scale = standardise.transform(x_test)\n",
        "\n",
        "print('Number of rows in x_train:', x_train.shape[0])\n",
        "print('Number of rows in x_test:', x_test.shape[0])\n",
        "print('Number of rows in y_train', y_train.shape[0])\n",
        "print('Number of rows in y_test', y_test.shape[0])"
      ],
      "execution_count": 112,
      "outputs": [
        {
          "output_type": "stream",
          "name": "stdout",
          "text": [
            "Number of rows in x_train: 104\n",
            "Number of rows in x_test: 45\n",
            "Number of rows in y_train 104\n",
            "Number of rows in y_test 45\n"
          ]
        }
      ]
    },
    {
      "cell_type": "markdown",
      "metadata": {
        "id": "S5jyxAnGxIfU"
      },
      "source": [
        "Train a K-Nearest Neighbours algorithm with the dataset. Remember to use the optimal number of neighbours (6) found in the earlier notebook.\n",
        "\n",
        "<font color=red>Your code:</font> "
      ]
    },
    {
      "cell_type": "code",
      "metadata": {
        "colab": {
          "base_uri": "https://localhost:8080/"
        },
        "id": "XFqHLDWScVGz",
        "outputId": "7a51a3a2-c9d3-4886-cda5-4ff30bdab2a3"
      },
      "source": [
        "acc = []\n",
        "# Set number of neighbours to 6\n",
        "knn = KNeighborsClassifier(n_neighbors=6)\n",
        "\n",
        "# Training or fitting the model with the data\n",
        "knn.fit(x_train_scale, y_train) # (sepal length, sepal width, petal length, petal width) -> class 0 1 2 \n",
        "\n",
        "# .score provides the acc of the model based on the testing data. Store the acc into the list \n",
        "acc.append(knn.score(x_test_scale, y_test)) # 30% of test_size (sepal length, sepal width, petal length, petal width) -> class 0 1 2 \n",
        "\n",
        "print(acc)\n",
        "\n",
        "\n"
      ],
      "execution_count": 113,
      "outputs": [
        {
          "output_type": "stream",
          "name": "stdout",
          "text": [
            "[0.9111111111111111]\n"
          ]
        }
      ]
    },
    {
      "cell_type": "markdown",
      "metadata": {
        "id": "o3BK2F-qxIfZ"
      },
      "source": [
        "In order to evaluate the performance of the model, we have to first predict the flower type or class based on the test set. Use the .predict on KNN to predict the flower classes based on the test set. Store the predictions as `y_predict`.\n",
        "\n",
        "<font color=red>Your code:</font> "
      ]
    },
    {
      "cell_type": "code",
      "metadata": {
        "colab": {
          "base_uri": "https://localhost:8080/"
        },
        "id": "7hV6YJ2teRjQ",
        "outputId": "d1660867-9501-4957-d3ab-46b92dd1ce2b"
      },
      "source": [
        "\n",
        "predict_flower = knn.predict(x_test_scale)\n",
        "print(predict_flower)\n"
      ],
      "execution_count": 114,
      "outputs": [
        {
          "output_type": "stream",
          "name": "stdout",
          "text": [
            "[2 2 1 2 2 2 2 2 1 3 3 3 2 1 1 3 3 1 1 1 2 2 2 1 2 1 2 3 2 2 3 3 2 3 2 1 2\n",
            " 1 3 2 1 2 1 3 1]\n"
          ]
        }
      ]
    },
    {
      "cell_type": "markdown",
      "metadata": {
        "id": "IIXDG5DixIfd"
      },
      "source": [
        "We will use a tool known as a confusion matrix to help us to evaluate the model outputs. Read this [article](https://towardsdatascience.com/understanding-confusion-matrix-a9ad42dcfd62) to find out more about the confusion matrix. What does a true positive refer to? What does a false negative refer to?\n",
        "\n",
        "<font color=red>Your answer:</font> "
      ]
    },
    {
      "cell_type": "code",
      "metadata": {
        "id": "oju20AM0xIfe"
      },
      "source": [
        "# true positive -> you predicted positive and it's true\n",
        "# true negative -> you predicted negative and it's true "
      ],
      "execution_count": null,
      "outputs": []
    },
    {
      "cell_type": "markdown",
      "metadata": {
        "id": "iXR06fBQxIfj"
      },
      "source": [
        "The confusion matrix discussed above is mainly for a 2 class classification problem. In the case of the Iris dataset, it is a multi-class problem as there are more than 2 different classes. In fact, there are 3 different classes or flower types. Thus, the confusion matrix for a multi-class scenario is an extension of the 2 class confusion matrix. As such, a multi-class confusion matrix may help identify which classes were wrongly classified by the model. Let us try to obtain the confusion matrix. Try the code below to import the confusion matrix function."
      ]
    },
    {
      "cell_type": "code",
      "metadata": {
        "id": "IHzMEqeRxIfk"
      },
      "source": [
        "from sklearn.metrics import confusion_matrix  "
      ],
      "execution_count": 115,
      "outputs": []
    },
    {
      "cell_type": "markdown",
      "metadata": {
        "id": "xMsPJAa1xIfn"
      },
      "source": [
        "Pass in the predicted values and the actual y values into the confusion matrix function. Try out the code below."
      ]
    },
    {
      "cell_type": "code",
      "metadata": {
        "id": "VLJNGwk1xIfo",
        "colab": {
          "base_uri": "https://localhost:8080/"
        },
        "outputId": "d8586342-55cf-4908-fac5-ec090dbcacf3"
      },
      "source": [
        "print(confusion_matrix(y_test, predict_flower))  "
      ],
      "execution_count": 116,
      "outputs": [
        {
          "output_type": "stream",
          "name": "stdout",
          "text": [
            "[[14  0  0]\n",
            " [ 0 17  1]\n",
            " [ 0  3 10]]\n"
          ]
        }
      ]
    },
    {
      "cell_type": "markdown",
      "metadata": {
        "id": "7tqIhwwBxIfr"
      },
      "source": [
        "If the model is 100% accurate, there should only be non-zero numbers in the diagonal and zeroes everywhere else in the matrix. This is because the diagonals are where the predictions exactly match the actual data. From the above, we can see that the model is quite accurate and only 1 data point was wrongly classified by the model. Based on the [documentation](https://scikit-learn.org/stable/modules/generated/sklearn.metrics.confusion_matrix.html) for the confusion_matrix function, are you able to find out which point was misclassified? What was the data point's original class and what was the data point's predicted class? \n",
        "\n",
        "<font color=red>Hint: The rows represent the actual classes whereas the columns represent the predicted classes. </font>\n",
        "\n",
        "\n",
        "<font color=red>Your answer:</font> "
      ]
    },
    {
      "cell_type": "code",
      "metadata": {
        "id": "ITiPq0FjxIfs"
      },
      "source": [
        "# 1 of (class 3) was predicted as (class2)\n",
        "# 3 of (class 2) was predicted as (class3)\n",
        "# But the model is accurate enough :)"
      ],
      "execution_count": null,
      "outputs": []
    },
    {
      "cell_type": "markdown",
      "metadata": {
        "id": "CThGHkBoxIfv"
      },
      "source": [
        "We can also present the confusion matrix in an easy to understand heatmap. We can use the library seaborn to help us. Make sure seaborn is installed in your virtual environment. After doing so, run the code below to import seaborn as sns."
      ]
    },
    {
      "cell_type": "code",
      "metadata": {
        "id": "4KIra0TixIfw"
      },
      "source": [
        "import seaborn as sns"
      ],
      "execution_count": 117,
      "outputs": []
    },
    {
      "cell_type": "markdown",
      "metadata": {
        "id": "f89UiK-oxIf1"
      },
      "source": [
        "Try the code below to see the heatmap."
      ]
    },
    {
      "cell_type": "code",
      "metadata": {
        "id": "pcpJP6bUxIf2",
        "colab": {
          "base_uri": "https://localhost:8080/",
          "height": 296
        },
        "outputId": "88151470-8744-4db1-f635-a007ae482561"
      },
      "source": [
        "# Create new dataframe\n",
        "df = pd.DataFrame()\n",
        "\n",
        "# Create new columns within dataframe\n",
        "df['Actual'] = y_test # actual class of flowers  \n",
        "df['Predicted'] = predict_flower # predicted class of flowers \n",
        "\n",
        "# Use pd.crosstab to count the frequency of the classes in actual and predicted\n",
        "freq = pd.crosstab(df.Actual,df.Predicted)\n",
        "\n",
        "# Use sns.heatmap to plot the heatmap\n",
        "sns.heatmap(freq,annot=True,fmt=\"d\")"
      ],
      "execution_count": 118,
      "outputs": [
        {
          "output_type": "execute_result",
          "data": {
            "text/plain": [
              "<matplotlib.axes._subplots.AxesSubplot at 0x7fda17c02e90>"
            ]
          },
          "metadata": {},
          "execution_count": 118
        },
        {
          "output_type": "display_data",
          "data": {
            "image/png": "[encoded data removed]",
            "text/plain": [
              "<Figure size 432x288 with 2 Axes>"
            ]
          },
          "metadata": {
            "needs_background": "light"
          }
        }
      ]
    },
    {
      "cell_type": "markdown",
      "metadata": {
        "id": "XvTBKHzgxIf6"
      },
      "source": [
        "## 2. Decision Tree"
      ]
    },
    {
      "cell_type": "markdown",
      "metadata": {
        "id": "5S5QNqDBxIf7"
      },
      "source": [
        "We can now apply the same methods to the decision tree. First, train a decision tree on the same dataset using max_depth of 2 and `min_samples_split` of `6`. Do you remember what `max_depth` and `min_samples_split` refer to? You can refer to the previous notebook (Model_Outputs) for more information on `max_depth` and `min_samples_split`.\n",
        "\n",
        "<font color=red>Your code:</font> "
      ]
    },
    {
      "cell_type": "code",
      "metadata": {
        "id": "KiLwGMRIxIf8"
      },
      "source": [
        "from sklearn import tree \n"
      ],
      "execution_count": 119,
      "outputs": []
    },
    {
      "cell_type": "code",
      "metadata": {
        "colab": {
          "base_uri": "https://localhost:8080/"
        },
        "id": "zCvmgt_VR0or",
        "outputId": "9f045c12-8551-45ec-b77c-34821e7c8759"
      },
      "source": [
        "acc = []\n",
        "\n",
        "dt = tree.DecisionTreeClassifier(max_depth=2, min_samples_split=6)\n",
        "\n",
        "dt.fit(x_train_scale, y_train)\n",
        "\n",
        "acc.append(dt.score(x_test_scale, y_test))\n",
        "print(acc)"
      ],
      "execution_count": 120,
      "outputs": [
        {
          "output_type": "stream",
          "name": "stdout",
          "text": [
            "[0.9333333333333333]\n"
          ]
        }
      ]
    },
    {
      "cell_type": "markdown",
      "metadata": {
        "id": "JXbolwDaxIf-"
      },
      "source": [
        "Predict the classes using the `x_test_scale` values.\n",
        "\n",
        "<font color=red>Your code:</font>"
      ]
    },
    {
      "cell_type": "code",
      "metadata": {
        "id": "7tiyiI7HxIf_",
        "colab": {
          "base_uri": "https://localhost:8080/"
        },
        "outputId": "3246f3dc-ca86-4079-bedb-bd4b63875c65"
      },
      "source": [
        "predict_flower_dt = dt.predict(x_test_scale)\n",
        "print(predict_flower_dt)"
      ],
      "execution_count": 121,
      "outputs": [
        {
          "output_type": "stream",
          "name": "stdout",
          "text": [
            "[2 2 1 2 2 2 2 2 1 3 3 3 2 1 1 3 2 1 1 1 2 2 2 1 2 1 2 3 2 2 3 3 2 3 2 1 2\n",
            " 1 3 2 1 2 1 3 1]\n"
          ]
        }
      ]
    },
    {
      "cell_type": "markdown",
      "metadata": {
        "id": "ee_Tb1GxxIgD"
      },
      "source": [
        "Obtain and print the confusion matrix.\n",
        "\n",
        "<font color=red>Your code:</font>"
      ]
    },
    {
      "cell_type": "code",
      "metadata": {
        "id": "24tw3bR4xIgE",
        "colab": {
          "base_uri": "https://localhost:8080/"
        },
        "outputId": "18fadbd1-b2c6-4491-d1d6-519a660287a9"
      },
      "source": [
        "print(confusion_matrix(y_test, predict_flower_dt)) "
      ],
      "execution_count": 122,
      "outputs": [
        {
          "output_type": "stream",
          "name": "stdout",
          "text": [
            "[[14  0  0]\n",
            " [ 0 18  0]\n",
            " [ 0  3 10]]\n"
          ]
        }
      ]
    },
    {
      "cell_type": "markdown",
      "metadata": {
        "id": "N_cDp5M6xIgJ"
      },
      "source": [
        "Are there any wrong classification of data? If so, how many points were wrongly classified? What were the actual and predicted classses of the wrongly classified points?\n",
        "\n",
        "\n",
        "<font color=red>Your answer:</font> "
      ]
    },
    {
      "cell_type": "code",
      "metadata": {
        "id": "geaC3cAGxIgL"
      },
      "source": [
        "# 3 of (class2) was predicted as (class3)"
      ],
      "execution_count": null,
      "outputs": []
    },
    {
      "cell_type": "markdown",
      "metadata": {
        "id": "Fsm95B2ExIgP"
      },
      "source": [
        "Plot the heatmap for this confusion matrix.\n",
        "\n",
        "<font color=red>Your code:</font> "
      ]
    },
    {
      "cell_type": "code",
      "metadata": {
        "id": "py0RtUPexIgR",
        "colab": {
          "base_uri": "https://localhost:8080/",
          "height": 300
        },
        "outputId": "109c0cfd-193b-4d79-8195-12ca69288ef2"
      },
      "source": [
        "# Create new dataframe\n",
        "df_dt = pd.DataFrame()\n",
        "\n",
        "# Create new columns within dataframe\n",
        "df_dt['Actual'] = y_test # actual class of flowers  \n",
        "df_dt['Predicted'] = predict_flower_dt # predicted class of flowers \n",
        "\n",
        "# Use pd.crosstab to count the frequency of the classes in actual and predicted\n",
        "freq = pd.crosstab(df_dt.Actual,df_dt.Predicted)\n",
        "\n",
        "# Use sns.heatmap to plot the heatmap\n",
        "sns.heatmap(freq,annot=True,fmt=\"d\")"
      ],
      "execution_count": 123,
      "outputs": [
        {
          "output_type": "execute_result",
          "data": {
            "text/plain": [
              "<matplotlib.axes._subplots.AxesSubplot at 0x7fda175a2490>"
            ]
          },
          "metadata": {},
          "execution_count": 123
        },
        {
          "output_type": "display_data",
          "data": {
            "image/png": "[encoded data removed]",
            "text/plain": [
              "<Figure size 432x288 with 2 Axes>"
            ]
          },
          "metadata": {
            "needs_background": "light"
          }
        }
      ]
    },
    {
      "cell_type": "markdown",
      "metadata": {
        "id": "JNNql78cxIgW"
      },
      "source": [
        "By comparing the confusion matrices, which do you think is a better model for the problem? Why is it a better model? Discuss with your friends and list your answer below.\n",
        "\n",
        "<font color=red>Your answer:</font> "
      ]
    },
    {
      "cell_type": "code",
      "metadata": {
        "id": "kF9dD-jKxIgX"
      },
      "source": [
        "# The decision tree model is a better choice, Why???\n",
        "\n",
        "# For KNN model:\n",
        "# 1 of (class 3) was predicted as (class2)\n",
        "# 3 of (class 2) was predicted as (class3)\n",
        "\n",
        "\n",
        "# For dt model:\n",
        "# 3 of (class2) was predicted as (class3)"
      ],
      "execution_count": null,
      "outputs": []
    },
    {
      "cell_type": "markdown",
      "metadata": {
        "id": "L1GiLOw5Vdwl"
      },
      "source": [
        "# KNN heatmap"
      ]
    },
    {
      "cell_type": "markdown",
      "metadata": {
        "id": "8XUNrrkrxIgZ"
      },
      "source": [
        "Additionally, when accuracy is similar, there are also other metrics to also consider. These include precision, recall and F1 score. Please read this [link](https://towardsdatascience.com/accuracy-precision-recall-or-f1-331fb37c5cb9) and this [link](https://medium.com/@raghaviadoni/evaluation-metrics-i-precision-recall-and-f1-score-3ec25e9fb5d3) for more information on these metrics. How would you use these metrics to help decide on your model choice?\n",
        "\n",
        "<font color=red>Your answer:</font> "
      ]
    },
    {
      "cell_type": "code",
      "metadata": {
        "id": "NWx8drY5xIga"
      },
      "source": [
        "# Precision is a good measure to determine, when the costs of False Positive is high. \n",
        "# For instance, email spam detection. In email spam detection, a false positive means that an email that is non-spam (actual negative) \n",
        "# has been identified as spam (predicted spam). The email user might lose important emails if the precision is not high for the spam detection model.\n",
        "\n",
        "# Recall shall be the model metric we use to select our best model when there is a high cost associated with False Negative.\n",
        "\n",
        "# F1 Score is needed when you want to seek a balance between Precision and Recall. "
      ],
      "execution_count": null,
      "outputs": []
    },
    {
      "cell_type": "markdown",
      "metadata": {
        "id": "AqwQzD_lxIgd"
      },
      "source": [
        "After deciding on a model, we can also use the model to identify flower types for newly gathered data. For example, imagine that your friend has measured the `sepal_length`, `sepal_width`, `petal_length` and `petal_width` of some flowers and saved the data in a file called \"`iris_predict.data`\". Your friend wants to find the flower types for these flowers based on the values measured. Would you be able to use your model to help your friend? What are the flower types that your friend measured?\n",
        "<font color=green>Hint: Do you remember using the .predict method earlier to obtain the flower types for the test cases? You can also do the same to obtain the flower types for your friend. You will also need to scale your data before obtaining the flower types. </font>\n",
        "\n",
        "<font color=red>Your code:</font> "
      ]
    },
    {
      "cell_type": "code",
      "metadata": {
        "id": "2wk_tXCXxIge",
        "colab": {
          "base_uri": "https://localhost:8080/"
        },
        "outputId": "0bfa4131-d7a6-413f-8bef-2c7024a2591d"
      },
      "source": [
        "# Reading in my friend's data\n",
        "df_friend = pd.read_csv('/content/Intel_AI4Y/My Drive/Intel_AI4Y/Students_E_Learning/Copy_To_Google_Drive/Intel_AI4Y_Colab/Module_18/data/iris_predict.data')\n",
        "names_friend = ['sepal length', 'sepal width', 'petal length', 'petal width']\n",
        "df_friend.columns = names_friend\n",
        "print(df_friend)\n",
        "\n",
        "\n",
        "\n",
        "\n",
        "\n"
      ],
      "execution_count": 127,
      "outputs": [
        {
          "output_type": "stream",
          "name": "stdout",
          "text": [
            "   sepal length  sepal width  petal length  petal width\n",
            "0           5.0          3.1           1.5          0.3\n",
            "1           4.8          3.3           1.4          0.3\n",
            "2           6.4          3.4           4.8          1.7\n",
            "3           5.0          2.5           3.4          1.1\n",
            "4           6.4          2.8           5.0          1.9\n",
            "5           6.8          3.4           5.8          2.2\n",
            "6           7.3          3.3           6.1          1.9\n",
            "7           6.3          2.9           4.9          1.9\n",
            "8           5.9          2.8           4.2          1.1\n"
          ]
        }
      ]
    },
    {
      "cell_type": "code",
      "metadata": {
        "colab": {
          "base_uri": "https://localhost:8080/"
        },
        "id": "sIsZSXc1thcS",
        "outputId": "42b247db-1414-44cc-b998-2b57fc566eaa"
      },
      "source": [
        "# scale the data first\n",
        "# Proceed with standardisation\n",
        "standardise = StandardScaler()\n",
        "\n",
        "# fit_transform() -> learn and scale train data\n",
        "x_train_scale_friend = standardise.fit_transform(df_friend)\n",
        "\n",
        "# transform() ->  we use the scaling paramaters learned on the train data\n",
        "# to scale the test data.\n",
        "x_test_scale_friend = standardise.transform(df_friend)\n",
        "print(x_train_scale_friend)\n",
        "\n",
        "\n"
      ],
      "execution_count": 131,
      "outputs": [
        {
          "output_type": "stream",
          "name": "stdout",
          "text": [
            "[[-1.19251104  0.14704292 -1.62708326 -1.6016111 ]\n",
            " [-1.43369305  0.80873608 -1.68913305 -1.6016111 ]\n",
            " [ 0.49576302  1.13958266  0.42055966  0.47883219]\n",
            " [-1.19251104 -1.83803656 -0.44813734 -0.41278637]\n",
            " [ 0.49576302 -0.84549682  0.54465923  0.77603837]\n",
            " [ 0.97812703  1.13958266  1.04105751  1.22184765]\n",
            " [ 1.58108206  0.80873608  1.22720687  0.77603837]\n",
            " [ 0.37517201 -0.51465024  0.48260944  0.77603837]\n",
            " [-0.107192   -0.84549682  0.04826094 -0.41278637]]\n"
          ]
        }
      ]
    },
    {
      "cell_type": "code",
      "metadata": {
        "colab": {
          "base_uri": "https://localhost:8080/"
        },
        "id": "Hh7Pu9r2uQu-",
        "outputId": "7ea480e1-2c90-4c3d-e662-8d4a600e2fda"
      },
      "source": [
        "acc_friend = []\n",
        "\n",
        "dt_friend = tree.DecisionTreeClassifier()\n",
        "\n",
        "dt_friend.fit(x_train_scale, y_train)\n",
        "\n",
        "acc_friend.append(dt_friend.score(x_test_scale, y_test))\n",
        "print(acc_friend)"
      ],
      "execution_count": 132,
      "outputs": [
        {
          "output_type": "stream",
          "name": "stdout",
          "text": [
            "[0.9333333333333333]\n"
          ]
        }
      ]
    },
    {
      "cell_type": "code",
      "metadata": {
        "colab": {
          "base_uri": "https://localhost:8080/"
        },
        "id": "0hWjvOJgpV1B",
        "outputId": "1b250628-0c06-4554-9293-1804ddc36336"
      },
      "source": [
        "predict_flower_dt_friend = dt.predict(x_test_scale_friend)\n",
        "print(predict_flower_dt_friend)\n",
        "# I cannot do a confusion matrix for my friend because his dataset does not have a actual value for class-> Iris-setosa, Iris-versicolor, Iris-virginica\n",
        "# There is no way the confusion matrix will match the dataframe values \n",
        "# I can only predict his flower type\n"
      ],
      "execution_count": 138,
      "outputs": [
        {
          "output_type": "stream",
          "name": "stdout",
          "text": [
            "[1 1 2 2 3 3 3 3 2]\n"
          ]
        }
      ]
    },
    {
      "cell_type": "code",
      "metadata": {
        "colab": {
          "base_uri": "https://localhost:8080/"
        },
        "id": "PCHWDjxpw_xQ",
        "outputId": "563d21ba-b03c-4998-9534-2c8918a2b37d"
      },
      "source": [
        "flower_types_df = pd.DataFrame({\"class\": [1, 1, 2, 2, 3, 3, 3, 3, 2]})\n",
        "\n",
        "new_friend_df = df_friend.join(flower_types_df)\n",
        "print(new_friend_df)"
      ],
      "execution_count": 143,
      "outputs": [
        {
          "output_type": "stream",
          "name": "stdout",
          "text": [
            "   sepal length  sepal width  petal length  petal width  class\n",
            "0           5.0          3.1           1.5          0.3      1\n",
            "1           4.8          3.3           1.4          0.3      1\n",
            "2           6.4          3.4           4.8          1.7      2\n",
            "3           5.0          2.5           3.4          1.1      2\n",
            "4           6.4          2.8           5.0          1.9      3\n",
            "5           6.8          3.4           5.8          2.2      3\n",
            "6           7.3          3.3           6.1          1.9      3\n",
            "7           6.3          2.9           4.9          1.9      3\n",
            "8           5.9          2.8           4.2          1.1      2\n"
          ]
        }
      ]
    }
  ]
}