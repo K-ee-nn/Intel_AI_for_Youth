{
  "nbformat": 4,
  "nbformat_minor": 0,
  "metadata": {
    "kernelspec": {
      "display_name": "Python 3",
      "language": "python",
      "name": "python3"
    },
    "language_info": {
      "codemirror_mode": {
        "name": "ipython",
        "version": 3
      },
      "file_extension": ".py",
      "mimetype": "text/x-python",
      "name": "python",
      "nbconvert_exporter": "python",
      "pygments_lexer": "ipython3",
      "version": "3.6.7"
    },
    "colab": {
      "name": "(1)_[colab_Youth]_Module_18_Model_outputs.ipynb",
      "provenance": [],
      "collapsed_sections": []
    }
  },
  "cells": [
    {
      "cell_type": "markdown",
      "metadata": {
        "id": "vylGihzwmbXX"
      },
      "source": [
        "# Data Lesson Map\n",
        "\n",
        "<font color=red>Red </font> highlighted is the topic covered for this lesson\n",
        "\n",
        "1. <font color=red>Basics Data Science and Visualisation</font>\n",
        ">* <font color=red>Obtaining Data</font>\n",
        ">* Basic Data Processing\n",
        ">* Basic statistics\n",
        ">* <font color=red>Data visualization</font>\n",
        ">* Handling erroneous and missing data\n",
        "2. <font color=red>Data Machine Learning Techniques</font>\n",
        ">* <font color=red>Supervised Learning Techniques</font>\n",
        ">* Supervised Regression\n",
        ">* Artificial Neural Networks\n",
        "3. <font color=red>AI for Data Walkthrough </font>\n",
        ">* <font color=red>Model Output </font>\n",
        ">* Outputs Visualisation and Validation\n",
        "4. <font color=red>AI Models </font>\n",
        ">* Linear Regression\n",
        ">* <font color=red>Underfitting vs Overfitting</font>\n",
        ">* <font color=red>K-Nearest Neighbour (KNN)</font>\n",
        ">* <font color=red>Decision Tree</font>\n",
        ">* Convolutional Neural Networks (CNN)"
      ]
    },
    {
      "cell_type": "markdown",
      "metadata": {
        "id": "1ipMvNZtt8R9"
      },
      "source": [
        "# Model Outputs"
      ]
    },
    {
      "cell_type": "markdown",
      "metadata": {
        "id": "PMABKNLZt8SC"
      },
      "source": [
        "Previously, you have learnt how to train a model and how to use it for predictions. While that is essential in any data science project, it is not sufficient to just train a model and using it for predictions. This is because even though the model has been trained, we did not evaluate its performance. \n",
        "\n",
        "The model has to be evaluated against data that was not used to train the model. This is because while the model may perform very well with data that it has trained with, it may not be useful if the model is not able to be used for data that it was not trained with. Thus, in this notebook, we will also learn how to ensure that this does not happen. Before we do so, we have to first understand why a model can perform poorly to unseen data even after training. This could be due to either underfitting or overfitting."
      ]
    },
    {
      "cell_type": "code",
      "metadata": {
        "id": "_aIGfNkq8Sen"
      },
      "source": [
        "import pandas as pd\n",
        "from sklearn.preprocessing import StandardScaler\n",
        "from sklearn.neighbors import KNeighborsClassifier\n",
        "import matplotlib.pyplot as plt\n",
        "from sklearn import tree"
      ],
      "execution_count": 1,
      "outputs": []
    },
    {
      "cell_type": "markdown",
      "metadata": {
        "id": "V5w_3zLXt8SE"
      },
      "source": [
        "## 1. Underfitting vs Overfitting"
      ]
    },
    {
      "cell_type": "markdown",
      "metadata": {
        "id": "369tFWSBt8SF"
      },
      "source": [
        "Underfitting means that the model is too simplified to be able to explain the data. For example, if you have data that has a non-linear relationship but you are using a linear model to train on, you may suffer from underfitting. This is because the linear model will not be able to explain the non-linear relationship or trend that is observed in the data. Thus, when you use an underfitted model to predict, it will perform poorly.\n",
        "\n",
        "On the other hand, overfitting means that the model is fitted so well that it has also learnt all the noise or outliers within the dataset. As such, it can perform very well when you test it against data that it has been trained with. However, because it is so well trained, it will not be able to generalise and thus, will not perform well when you are testing it against data that it was not trained with.\n",
        "\n",
        "Read this [article](https://medium.com/greyatom/what-is-underfitting-and-overfitting-in-machine-learning-and-how-to-deal-with-it-6803a989c76) and this [article](https://towardsdatascience.com/understanding-the-bias-variance-tradeoff-165e6942b229) for more information about underfitting and overfitting and note down any interesting information in the cell below. While there may be some mathematical equations within the articles, it is ok if you are not able to understand the equations. It is more important to understand the underlying concepts. What is the difference between bias and variance? How do you prevent underfitting? How do you prevent overfitting?\n",
        "\n",
        "<font color=red>Your answer:</font> "
      ]
    },
    {
      "cell_type": "code",
      "metadata": {
        "id": "VlS0eENTt8SH"
      },
      "source": [
        "# Bias -> Bias is the difference between the average prediction of our model and the correct value which we are trying to predict.\n",
        "# variance -> Variance is the variability of model prediction for a given data point or a value which tells us spread of our data."
      ],
      "execution_count": null,
      "outputs": []
    },
    {
      "cell_type": "markdown",
      "metadata": {
        "id": "zNPqLwLQt8SL"
      },
      "source": [
        "Look at the figures below. If the red line were to be your model and the blue points are the dataset, would the model be overfitting or underfitting?"
      ]
    },
    {
      "cell_type": "markdown",
      "metadata": {
        "id": "uZrPHjXz376l"
      },
      "source": [
        ""
      ]
    },
    {
      "cell_type": "markdown",
      "metadata": {
        "id": "L_ENIQGVt8SN"
      },
      "source": [
        "![Underfitting](https://miro.medium.com/max/2688/1*khzX1tmUj86vfpzE6Gkf0A.png)\n",
        "\n",
        "Please refer to \n",
        "\"/content/Intel_AI4Y/My Drive/Intel_AI4Y_Colab/Module_18/resources/model1.jpg\"\n",
        "\n",
        "<font color=red>Your answer:</font> "
      ]
    },
    {
      "cell_type": "code",
      "metadata": {
        "id": "o9WQU6pDt8SO"
      },
      "source": [
        "# overfitting "
      ],
      "execution_count": null,
      "outputs": []
    },
    {
      "cell_type": "markdown",
      "metadata": {
        "id": "Ztn9cFnMt8ST"
      },
      "source": [
        "![Overfitting](https://upload.wikimedia.org/wikipedia/commons/thumb/6/68/Overfitted_Data.png/300px-Overfitted_Data.png)\n",
        "\n",
        "Please refer to \n",
        "\"/content/Intel_AI4Y/My Drive/Intel_AI4Y_Colab/Module_18/resources/model2.jpg\"\n",
        "\n",
        "<font color=red>Your answer:</font> "
      ]
    },
    {
      "cell_type": "code",
      "metadata": {
        "id": "aTeKLnMGt8SU"
      },
      "source": [
        "# underfitting "
      ],
      "execution_count": null,
      "outputs": []
    },
    {
      "cell_type": "markdown",
      "metadata": {
        "id": "p8j9LA1Kt8SY"
      },
      "source": [
        "## 2. Balance between underfitting and overfitting"
      ]
    },
    {
      "cell_type": "markdown",
      "metadata": {
        "id": "ZhlcHo2Ot8SZ"
      },
      "source": [
        "We can see from above that it is important to try and find a balance between underfitting and overfitting. This will allow the model to be accurate but still be able to generalise or perform well on data that it has not been trained in. This means that the model has to be somewhat complex but not too complex. As such, there are some ways that we can try to achieve the balance. We will try some of these methods for the different machine learning techniques that were explored earlier."
      ]
    },
    {
      "cell_type": "markdown",
      "metadata": {
        "id": "WpK_2XzOt8Sb"
      },
      "source": [
        "## 2.1 K-Nearest Neighbour"
      ]
    },
    {
      "cell_type": "markdown",
      "metadata": {
        "id": "aWvqc37Et8Se"
      },
      "source": [
        "In an earlier workshop, we learnt how to apply the K-Nearest Neighbour (KNN) algorithm to classify data. As a recap, KNN classifies data points based on the majority of the other points that are closest to the point in question. However, in order to use the algorithm, there was a need to input the number of neighbours as a parameter. In the case of underfitting and overfitting, the number of neighbours do play an important role. This is because the number of neighbours determine how likely the model will overfit. The higher the number of neighbours, the less likely the model will overfit. If the number of neighbours is too high, it will be likely for the model to underfit. Thus, there should be some number in between the two extreme numbers that will allow the model to be relatively balanced. This number will differ for different datasets. We will now try to find this number for the Iris Flower dataset."
      ]
    },
    {
      "cell_type": "markdown",
      "metadata": {
        "id": "z0dgl9gKt8Si"
      },
      "source": [
        "First, we will need to read in the Iris Flower dataset as a dataframe df from iris.data. Remember to check if the dataframe has column names and also perform the standard checks for the dataset (i.e check for erroneous data and outliers). You can refer to the picture (source: https://www.researchgate.net/figure/Trollius-ranunculoide-flower-with-measured-traits_fig6_272514310) below to understand the variables."
      ]
    },
    {
      "cell_type": "markdown",
      "metadata": {
        "id": "h7VbeSPFt8Sj"
      },
      "source": [
        "![alt text](https://www.researchgate.net/profile/Zhi-Gang_Zhao2/publication/272514310/figure/fig6/AS:340442961989646@1458179335869/Trollius-ranunculoide-flower-with-measured-traits.png)\n",
        "\n",
        "Please refer to \n",
        "\"/content/Intel_AI4Y/My Drive/Intel_AI4Y_Colab/Module_18/resources/PetalSepal1.png\""
      ]
    },
    {
      "cell_type": "code",
      "metadata": {
        "id": "H9APtyvGuaAQ",
        "colab": {
          "base_uri": "https://localhost:8080/"
        },
        "outputId": "da6c385b-652e-489c-b97a-192bc4afb59d"
      },
      "source": [
        "from google.colab import drive\n",
        "drive.mount('/content/Intel_AI4Y')"
      ],
      "execution_count": 2,
      "outputs": [
        {
          "output_type": "stream",
          "name": "stdout",
          "text": [
            "Mounted at /content/Intel_AI4Y\n"
          ]
        }
      ]
    },
    {
      "cell_type": "markdown",
      "metadata": {
        "id": "K9wgN3fh8NAJ"
      },
      "source": [
        "<font color=red>Hints:</font> \n",
        "\n",
        "*   Refer to Module 17 Assignment 1 \"Supervised_learning_techniques\"in the beginning or Module 17 Assignment 3 \"2. Obtain and explore dataset\"\n",
        "*   Remember to print head and describe"
      ]
    },
    {
      "cell_type": "code",
      "metadata": {
        "id": "fGHHTX4Rt8Sk",
        "colab": {
          "base_uri": "https://localhost:8080/"
        },
        "outputId": "a9657874-4ff4-44f8-b494-c9de4d3a9660"
      },
      "source": [
        "df = pd.read_csv('/content/Intel_AI4Y/My Drive/Intel_AI4Y/Students_E_Learning/Copy_To_Google_Drive/Intel_AI4Y_Colab/Module_18/data/iris.data')\n",
        "names = ['sepal length', 'sepal width', 'petal length', 'petal width', 'class']\n",
        "\n",
        "df.columns = names\n",
        "df.info()\n",
        "\n"
      ],
      "execution_count": 58,
      "outputs": [
        {
          "output_type": "stream",
          "name": "stdout",
          "text": [
            "<class 'pandas.core.frame.DataFrame'>\n",
            "RangeIndex: 149 entries, 0 to 148\n",
            "Data columns (total 5 columns):\n",
            " #   Column        Non-Null Count  Dtype  \n",
            "---  ------        --------------  -----  \n",
            " 0   sepal length  149 non-null    float64\n",
            " 1   sepal width   149 non-null    float64\n",
            " 2   petal length  149 non-null    float64\n",
            " 3   petal width   149 non-null    float64\n",
            " 4   class         149 non-null    object \n",
            "dtypes: float64(4), object(1)\n",
            "memory usage: 5.9+ KB\n"
          ]
        }
      ]
    },
    {
      "cell_type": "code",
      "metadata": {
        "colab": {
          "base_uri": "https://localhost:8080/",
          "height": 299
        },
        "id": "ImARNVCrFFCF",
        "outputId": "8ea9ce93-91b2-4317-fad3-bdf42307c048"
      },
      "source": [
        "df.describe()"
      ],
      "execution_count": 59,
      "outputs": [
        {
          "output_type": "execute_result",
          "data": {
            "text/html": [
              "<div>\n",
              "<style scoped>\n",
              "    .dataframe tbody tr th:only-of-type {\n",
              "        vertical-align: middle;\n",
              "    }\n",
              "\n",
              "    .dataframe tbody tr th {\n",
              "        vertical-align: top;\n",
              "    }\n",
              "\n",
              "    .dataframe thead th {\n",
              "        text-align: right;\n",
              "    }\n",
              "</style>\n",
              "<table border=\"1\" class=\"dataframe\">\n",
              "  <thead>\n",
              "    <tr style=\"text-align: right;\">\n",
              "      <th></th>\n",
              "      <th>sepal length</th>\n",
              "      <th>sepal width</th>\n",
              "      <th>petal length</th>\n",
              "      <th>petal width</th>\n",
              "    </tr>\n",
              "  </thead>\n",
              "  <tbody>\n",
              "    <tr>\n",
              "      <th>count</th>\n",
              "      <td>149.000000</td>\n",
              "      <td>149.000000</td>\n",
              "      <td>149.000000</td>\n",
              "      <td>149.000000</td>\n",
              "    </tr>\n",
              "    <tr>\n",
              "      <th>mean</th>\n",
              "      <td>5.848322</td>\n",
              "      <td>3.051007</td>\n",
              "      <td>3.774497</td>\n",
              "      <td>1.205369</td>\n",
              "    </tr>\n",
              "    <tr>\n",
              "      <th>std</th>\n",
              "      <td>0.828594</td>\n",
              "      <td>0.433499</td>\n",
              "      <td>1.759651</td>\n",
              "      <td>0.761292</td>\n",
              "    </tr>\n",
              "    <tr>\n",
              "      <th>min</th>\n",
              "      <td>4.300000</td>\n",
              "      <td>2.000000</td>\n",
              "      <td>1.000000</td>\n",
              "      <td>0.100000</td>\n",
              "    </tr>\n",
              "    <tr>\n",
              "      <th>25%</th>\n",
              "      <td>5.100000</td>\n",
              "      <td>2.800000</td>\n",
              "      <td>1.600000</td>\n",
              "      <td>0.300000</td>\n",
              "    </tr>\n",
              "    <tr>\n",
              "      <th>50%</th>\n",
              "      <td>5.800000</td>\n",
              "      <td>3.000000</td>\n",
              "      <td>4.400000</td>\n",
              "      <td>1.300000</td>\n",
              "    </tr>\n",
              "    <tr>\n",
              "      <th>75%</th>\n",
              "      <td>6.400000</td>\n",
              "      <td>3.300000</td>\n",
              "      <td>5.100000</td>\n",
              "      <td>1.800000</td>\n",
              "    </tr>\n",
              "    <tr>\n",
              "      <th>max</th>\n",
              "      <td>7.900000</td>\n",
              "      <td>4.400000</td>\n",
              "      <td>6.900000</td>\n",
              "      <td>2.500000</td>\n",
              "    </tr>\n",
              "  </tbody>\n",
              "</table>\n",
              "</div>"
            ],
            "text/plain": [
              "       sepal length  sepal width  petal length  petal width\n",
              "count    149.000000   149.000000    149.000000   149.000000\n",
              "mean       5.848322     3.051007      3.774497     1.205369\n",
              "std        0.828594     0.433499      1.759651     0.761292\n",
              "min        4.300000     2.000000      1.000000     0.100000\n",
              "25%        5.100000     2.800000      1.600000     0.300000\n",
              "50%        5.800000     3.000000      4.400000     1.300000\n",
              "75%        6.400000     3.300000      5.100000     1.800000\n",
              "max        7.900000     4.400000      6.900000     2.500000"
            ]
          },
          "metadata": {},
          "execution_count": 59
        }
      ]
    },
    {
      "cell_type": "code",
      "metadata": {
        "colab": {
          "base_uri": "https://localhost:8080/",
          "height": 205
        },
        "id": "UR0QxljXFSqF",
        "outputId": "94440cd0-a834-41af-e633-0d2dbeb708f8"
      },
      "source": [
        "df.head()"
      ],
      "execution_count": 60,
      "outputs": [
        {
          "output_type": "execute_result",
          "data": {
            "text/html": [
              "<div>\n",
              "<style scoped>\n",
              "    .dataframe tbody tr th:only-of-type {\n",
              "        vertical-align: middle;\n",
              "    }\n",
              "\n",
              "    .dataframe tbody tr th {\n",
              "        vertical-align: top;\n",
              "    }\n",
              "\n",
              "    .dataframe thead th {\n",
              "        text-align: right;\n",
              "    }\n",
              "</style>\n",
              "<table border=\"1\" class=\"dataframe\">\n",
              "  <thead>\n",
              "    <tr style=\"text-align: right;\">\n",
              "      <th></th>\n",
              "      <th>sepal length</th>\n",
              "      <th>sepal width</th>\n",
              "      <th>petal length</th>\n",
              "      <th>petal width</th>\n",
              "      <th>class</th>\n",
              "    </tr>\n",
              "  </thead>\n",
              "  <tbody>\n",
              "    <tr>\n",
              "      <th>0</th>\n",
              "      <td>4.9</td>\n",
              "      <td>3.0</td>\n",
              "      <td>1.4</td>\n",
              "      <td>0.2</td>\n",
              "      <td>Iris-setosa</td>\n",
              "    </tr>\n",
              "    <tr>\n",
              "      <th>1</th>\n",
              "      <td>4.7</td>\n",
              "      <td>3.2</td>\n",
              "      <td>1.3</td>\n",
              "      <td>0.2</td>\n",
              "      <td>Iris-setosa</td>\n",
              "    </tr>\n",
              "    <tr>\n",
              "      <th>2</th>\n",
              "      <td>4.6</td>\n",
              "      <td>3.1</td>\n",
              "      <td>1.5</td>\n",
              "      <td>0.2</td>\n",
              "      <td>Iris-setosa</td>\n",
              "    </tr>\n",
              "    <tr>\n",
              "      <th>3</th>\n",
              "      <td>5.0</td>\n",
              "      <td>3.6</td>\n",
              "      <td>1.4</td>\n",
              "      <td>0.2</td>\n",
              "      <td>Iris-setosa</td>\n",
              "    </tr>\n",
              "    <tr>\n",
              "      <th>4</th>\n",
              "      <td>5.4</td>\n",
              "      <td>3.9</td>\n",
              "      <td>1.7</td>\n",
              "      <td>0.4</td>\n",
              "      <td>Iris-setosa</td>\n",
              "    </tr>\n",
              "  </tbody>\n",
              "</table>\n",
              "</div>"
            ],
            "text/plain": [
              "   sepal length  sepal width  petal length  petal width        class\n",
              "0           4.9          3.0           1.4          0.2  Iris-setosa\n",
              "1           4.7          3.2           1.3          0.2  Iris-setosa\n",
              "2           4.6          3.1           1.5          0.2  Iris-setosa\n",
              "3           5.0          3.6           1.4          0.2  Iris-setosa\n",
              "4           5.4          3.9           1.7          0.4  Iris-setosa"
            ]
          },
          "metadata": {},
          "execution_count": 60
        }
      ]
    },
    {
      "cell_type": "markdown",
      "metadata": {
        "id": "Ou7x2iIwt8Sn"
      },
      "source": [
        "Now, perform the necessary steps that are required to prepare the data to be processed by a machine learning algroithm. First, extract the features as `x_values` and the target variable as `y_values`. In this case, the `x_values` will be \"`sepal_length`\", \"`sepal_width`\", \"`petal_length`\" and \"`petal_width`\" whereas the . Additionally, remmeber to label encode the y_values. You can encode \"`Setosa`\" as `0`, \"`Versicolor`\" as `1` and \"`Virginica`\" as `2`. Refer to earlier notebooks if you require a reference for the necessary codes.\n",
        "\n",
        "\n",
        "<font color=red>Hints:</font> \n",
        "*   refer to Module 17 assignment 1 \"Supervised_learning_techniques\" at \"Setting up data for the KNN algorithm\" section\n",
        "*   `x_values` => dataframe \"`sepal_length`\", \"`sepal_width`\", \"`petal_length`\" and \"`petal_width`\"\n",
        "*   `y_values` => dataframe \"class\""
      ]
    },
    {
      "cell_type": "code",
      "metadata": {
        "id": "rLhfg7w6t8So",
        "colab": {
          "base_uri": "https://localhost:8080/"
        },
        "outputId": "e36fe946-f6c3-43de-852a-48538ed8d1ed"
      },
      "source": [
        "# encode y_values into numerical data\n",
        "label_encode_setosa = {\"class\": {\"Iris-setosa\":0}}\n",
        "label_encode_versicolor = {\"class\": {\"Iris-versicolor\":1}}\n",
        "label_encode_virginica = {\"class\": {\"Iris-virginica\":2}}\n",
        "\n",
        "df.replace(label_encode_setosa,inplace=True)\n",
        "df.replace(label_encode_versicolor,inplace=True)\n",
        "df.replace(label_encode_virginica,inplace=True)\n",
        "print(df['class'].value_counts())\n"
      ],
      "execution_count": 61,
      "outputs": [
        {
          "output_type": "stream",
          "name": "stdout",
          "text": [
            "2    50\n",
            "1    50\n",
            "0    49\n",
            "Name: class, dtype: int64\n"
          ]
        }
      ]
    },
    {
      "cell_type": "code",
      "metadata": {
        "colab": {
          "base_uri": "https://localhost:8080/",
          "height": 422
        },
        "id": "cyDEYEayEjOF",
        "outputId": "890db76f-eaa5-4df9-bfd1-ce8049db6ee0"
      },
      "source": [
        "pd.get_dummies(df['class'])"
      ],
      "execution_count": 62,
      "outputs": [
        {
          "output_type": "execute_result",
          "data": {
            "text/html": [
              "<div>\n",
              "<style scoped>\n",
              "    .dataframe tbody tr th:only-of-type {\n",
              "        vertical-align: middle;\n",
              "    }\n",
              "\n",
              "    .dataframe tbody tr th {\n",
              "        vertical-align: top;\n",
              "    }\n",
              "\n",
              "    .dataframe thead th {\n",
              "        text-align: right;\n",
              "    }\n",
              "</style>\n",
              "<table border=\"1\" class=\"dataframe\">\n",
              "  <thead>\n",
              "    <tr style=\"text-align: right;\">\n",
              "      <th></th>\n",
              "      <th>0</th>\n",
              "      <th>1</th>\n",
              "      <th>2</th>\n",
              "    </tr>\n",
              "  </thead>\n",
              "  <tbody>\n",
              "    <tr>\n",
              "      <th>0</th>\n",
              "      <td>1</td>\n",
              "      <td>0</td>\n",
              "      <td>0</td>\n",
              "    </tr>\n",
              "    <tr>\n",
              "      <th>1</th>\n",
              "      <td>1</td>\n",
              "      <td>0</td>\n",
              "      <td>0</td>\n",
              "    </tr>\n",
              "    <tr>\n",
              "      <th>2</th>\n",
              "      <td>1</td>\n",
              "      <td>0</td>\n",
              "      <td>0</td>\n",
              "    </tr>\n",
              "    <tr>\n",
              "      <th>3</th>\n",
              "      <td>1</td>\n",
              "      <td>0</td>\n",
              "      <td>0</td>\n",
              "    </tr>\n",
              "    <tr>\n",
              "      <th>4</th>\n",
              "      <td>1</td>\n",
              "      <td>0</td>\n",
              "      <td>0</td>\n",
              "    </tr>\n",
              "    <tr>\n",
              "      <th>...</th>\n",
              "      <td>...</td>\n",
              "      <td>...</td>\n",
              "      <td>...</td>\n",
              "    </tr>\n",
              "    <tr>\n",
              "      <th>144</th>\n",
              "      <td>0</td>\n",
              "      <td>0</td>\n",
              "      <td>1</td>\n",
              "    </tr>\n",
              "    <tr>\n",
              "      <th>145</th>\n",
              "      <td>0</td>\n",
              "      <td>0</td>\n",
              "      <td>1</td>\n",
              "    </tr>\n",
              "    <tr>\n",
              "      <th>146</th>\n",
              "      <td>0</td>\n",
              "      <td>0</td>\n",
              "      <td>1</td>\n",
              "    </tr>\n",
              "    <tr>\n",
              "      <th>147</th>\n",
              "      <td>0</td>\n",
              "      <td>0</td>\n",
              "      <td>1</td>\n",
              "    </tr>\n",
              "    <tr>\n",
              "      <th>148</th>\n",
              "      <td>0</td>\n",
              "      <td>0</td>\n",
              "      <td>1</td>\n",
              "    </tr>\n",
              "  </tbody>\n",
              "</table>\n",
              "<p>149 rows × 3 columns</p>\n",
              "</div>"
            ],
            "text/plain": [
              "     0  1  2\n",
              "0    1  0  0\n",
              "1    1  0  0\n",
              "2    1  0  0\n",
              "3    1  0  0\n",
              "4    1  0  0\n",
              "..  .. .. ..\n",
              "144  0  0  1\n",
              "145  0  0  1\n",
              "146  0  0  1\n",
              "147  0  0  1\n",
              "148  0  0  1\n",
              "\n",
              "[149 rows x 3 columns]"
            ]
          },
          "metadata": {},
          "execution_count": 62
        }
      ]
    },
    {
      "cell_type": "code",
      "metadata": {
        "colab": {
          "base_uri": "https://localhost:8080/"
        },
        "id": "5B-SG4YYF6B_",
        "outputId": "12e385c7-8561-41a8-8746-4e5e084e6f29"
      },
      "source": [
        "x_values = df[['sepal length', 'sepal width', 'petal length', 'petal width']]\n",
        "y_values = df['class']\n",
        "\n",
        "print(x_values.head())\n",
        "print(y_values.head())"
      ],
      "execution_count": 77,
      "outputs": [
        {
          "output_type": "stream",
          "name": "stdout",
          "text": [
            "   sepal length  sepal width  petal length  petal width\n",
            "0           4.9          3.0           1.4          0.2\n",
            "1           4.7          3.2           1.3          0.2\n",
            "2           4.6          3.1           1.5          0.2\n",
            "3           5.0          3.6           1.4          0.2\n",
            "4           5.4          3.9           1.7          0.4\n",
            "0    0\n",
            "1    0\n",
            "2    0\n",
            "3    0\n",
            "4    0\n",
            "Name: class, dtype: int64\n"
          ]
        }
      ]
    },
    {
      "cell_type": "markdown",
      "metadata": {
        "id": "7RO3bT3Bt8Sr"
      },
      "source": [
        "After we are assurred that the data is ready to be processed by a machine learning technique, we can now focus on how to balance the overfitting and underfitting issue.\n",
        "\n",
        "If we want to determine this balance, we will need to be able to evaluate how well the model will perform or how accuracte the model will be if the model were to be applied to data that it has not been trained with. As we do not have future data, we will need to be able to use the current data to perform this evaluation. As such, the current dataset is usually split into 2 different groups. One group will contain all the training data which will be used to train the data. On the other hand, the other group will contain test data that will not be seen or used in the model training phase. The test data will serve as \"future\" data which will be used to evaluate the model.\n",
        "\n",
        "In order to split the data into 2 groups, we will use the `train_test_split` function from `sklearn.model_selection`. Try the code below to import the `train_test_split` function."
      ]
    },
    {
      "cell_type": "code",
      "metadata": {
        "id": "Sjnc2yD4t8Ss"
      },
      "source": [
        "from sklearn.model_selection import train_test_split"
      ],
      "execution_count": 78,
      "outputs": []
    },
    {
      "cell_type": "markdown",
      "metadata": {
        "id": "N7U851Odt8Sv"
      },
      "source": [
        "Use the `train_test_split` function to split the data into the train group and the test group. The test group usually will contain 20% to 30% of the dataset. In this case, we can split the data based on 75% in the train group and 25% in the test group. Read this [article](https://towardsdatascience.com/train-test-split-and-cross-validation-in-python-80b61beca4b6) to understand how to use the `train_test_split` function. You can create variables called `x_train`, `y_train`, `x_test` and `y_test` to hold the training and testing data. Additionally, you can also add a random_state to ensure that the data is always split the same way everytime you run the code.\n",
        "\n",
        "<font color=red>Hints:</font> \n",
        "*   Refer to Moudle 17 assignment 2 \"Supervised_Regression\"\n",
        "*   `test_size = 0.25`\n",
        "*   `random_state=10`\n",
        "*   Please review: https://towardsdatascience.com/train-test-split-and-cross-validation-in-python-80b61beca4b6\n",
        "\n",
        "\n",
        "\n"
      ]
    },
    {
      "cell_type": "code",
      "metadata": {
        "id": "EuErkKoSt8Sx"
      },
      "source": [
        "x_train, x_test, y_train, y_test = train_test_split(x_values, y_values, test_size=0.25, random_state=10)"
      ],
      "execution_count": 79,
      "outputs": []
    },
    {
      "cell_type": "markdown",
      "metadata": {
        "id": "nTCPDqgkt8S2"
      },
      "source": [
        "After splitting the data, we now have to standardise or normalise the data. It is always good practice to standardise or normalise any dataset that you use for machine learning. This will help scale the values for all the variables or features into similar ranges. Always remember to conduct the standardisation or normalisation after the data has been split. This is to ensure that the test dataset will always remain unseen by the model and not used in the normalisation or standardisation process of the training data.\n",
        "\n",
        "In this case, we will choose to use StandardScaler from `sklearn.preprocessing` to standardise the data. Remember to apply the `.fit_transform` method to the `x_train` data values but only the .transform method to the `x_test` data. Implement the standardisation process in the cell below. Create a variable called `x_train_scale` for the train data after standardisation and create another variable called `x_test` scale for the test data after standardisation.\n",
        "\n",
        "<font color=red>Hint:</font>  refer to Module 17 Assignment 3 \"Artificial_neural_networks\"  look for `StandardScaler()`, `standardise.fit_transform()` and `standardise.transform()`"
      ]
    },
    {
      "cell_type": "code",
      "metadata": {
        "id": "uBSK_qYGt8S3",
        "colab": {
          "base_uri": "https://localhost:8080/"
        },
        "outputId": "cec5156f-42e7-41e1-ce64-932cf822897c"
      },
      "source": [
        "# Proceed with standardisation\n",
        "print(\"Number of rows in x_train:\", x_train.shape[0])\n",
        "print(\"Number of rows in x_test:\", x_test.shape[0])\n",
        "print(\"Number of rows in y_train:\", y_train.shape[0])\n",
        "print(\"Number of rows in y_test:\", y_test.shape[0])\n",
        "\n",
        "standardise = StandardScaler()\n",
        "\n",
        "x_train_scale = standardise.fit_transform(x_train)\n",
        "x_test_scale = standardise.transform(x_test)\n",
        "\n",
        "\n"
      ],
      "execution_count": 86,
      "outputs": [
        {
          "output_type": "stream",
          "name": "stdout",
          "text": [
            "Number of rows in x_train: 111\n",
            "Number of rows in x_test: 38\n",
            "Number of rows in y_train: 111\n",
            "Number of rows in y_test: 38\n"
          ]
        }
      ]
    },
    {
      "cell_type": "markdown",
      "metadata": {
        "id": "nRx3htnyt8TB"
      },
      "source": [
        "After standardising the data, we can now implement a way to find the optimal number of neighbours for the KNN algorithm. To do so, we will train the KNN algorithm with differnt number of neighbours and also evaluate against the test data. By doing so, we will be able to obtain the accuracy of the KNN model for different number of neighbours. We can then find the number of neighbours that correspond to the highest accuracy. That number will be the optimal number of neighbours. Try the code below!"
      ]
    },
    {
      "cell_type": "code",
      "metadata": {
        "id": "tfFP_-0Jt8TD",
        "colab": {
          "base_uri": "https://localhost:8080/"
        },
        "outputId": "0b9131b5-2446-4a58-86a2-05350b1fd293"
      },
      "source": [
        "# Create an empty list to store the accuracy and number of neighbours for each KNN model\n",
        "accuracy = []\n",
        "num_neigh = []\n",
        "\n",
        "# Use ii to cycle through values 1 to 15. This will be the number of neighbours for the KNN classifier. \n",
        "for ii in range(1,16):\n",
        "    # Set number of neighbours to ii\n",
        "    KNN = KNeighborsClassifier(n_neighbors=ii)\n",
        "    # Training or fitting the model with the data\n",
        "    KNN.fit(x_train_scale,y_train)\n",
        "    # .score provides the accuracy of the model based on the testing data. Store the accuracy into the list.\n",
        "    accuracy.append(KNN.score(x_test_scale,y_test))\n",
        "    # Append the number of neighbours to a list\n",
        "    num_neigh.append(ii)\n",
        "\n",
        "print(accuracy)"
      ],
      "execution_count": 87,
      "outputs": [
        {
          "output_type": "stream",
          "name": "stdout",
          "text": [
            "[0.9210526315789473, 0.8947368421052632, 0.9473684210526315, 0.9473684210526315, 0.9473684210526315, 0.9210526315789473, 0.9210526315789473, 0.9473684210526315, 0.8947368421052632, 0.9210526315789473, 0.9210526315789473, 0.9210526315789473, 0.9210526315789473, 0.9210526315789473, 0.9210526315789473]\n"
          ]
        }
      ]
    },
    {
      "cell_type": "markdown",
      "metadata": {
        "id": "riI5_yY4t8TG"
      },
      "source": [
        "Let us plot the accuracy values on the graph to help us determine the optimal number of neighbours. Try the code below! Remember to `import matplotlib.pyplot as plt`."
      ]
    },
    {
      "cell_type": "code",
      "metadata": {
        "id": "ahgOfWP2t8TH",
        "colab": {
          "base_uri": "https://localhost:8080/",
          "height": 283
        },
        "outputId": "bc386ee5-e93e-4513-fb7f-1049bc12df85"
      },
      "source": [
        "plt.scatter(num_neigh,accuracy)\n",
        "plt.xlabel('Number of neighbours')\n",
        "plt.ylabel('Accuracy')\n",
        "plt.show();"
      ],
      "execution_count": 88,
      "outputs": [
        {
          "output_type": "display_data",
          "data": {
            "image/png": "[encoded data removed]",
            "text/plain": [
              "<Figure size 432x288 with 1 Axes>"
            ]
          },
          "metadata": {
            "needs_background": "light"
          }
        }
      ]
    },
    {
      "cell_type": "markdown",
      "metadata": {
        "id": "-bfbHcFUt8TK"
      },
      "source": [
        "From the graph above, which will be the optimal number of neighbours to use? Explain your answer.\n",
        "\n",
        "<font color=red>Your answer:</font> "
      ]
    },
    {
      "cell_type": "code",
      "metadata": {
        "id": "y2idKhvjt8TL"
      },
      "source": [
        "# 3, because it is a odd number and it has a high acc. It also requires the least amount of time to complete."
      ],
      "execution_count": null,
      "outputs": []
    },
    {
      "cell_type": "markdown",
      "metadata": {
        "id": "cY6ESCk-t8TQ"
      },
      "source": [
        "## 2.2 Decision Tree"
      ]
    },
    {
      "cell_type": "markdown",
      "metadata": {
        "id": "vz_tic2Tt8TR"
      },
      "source": [
        "It is also possible for a decision tree to underfit or overfit.\n",
        "\n",
        "For example, if the tree only has 1 decision point then it is likely for the tree to underfit. However, if the tree has multiple decision points, then it is possible for the tree to overfit. As such, the deeper the tree, the more likely it is for the tree to overfit. Based on your understanding of overfitting and underfitting, decide which trees (shown below) will be likely to overfit or underfit the data."
      ]
    },
    {
      "cell_type": "markdown",
      "metadata": {
        "id": "Lu5iAMNBt8TT"
      },
      "source": [
        "![Overfit](https://jotterbach.github.io/static/d2dc5f7eb2d525500c8e06241769651e/34ea8/decision_tree_overfit_branching.png)\n",
        "\n",
        "Please refer to \n",
        "\"/content/Intel_AI4Y/My Drive/Intel_AI4Y_Colab/Module_18/resources/dt1.jpg\"\n",
        "\n",
        "<font color=red>Your answer:</font> "
      ]
    },
    {
      "cell_type": "code",
      "metadata": {
        "id": "F7vDfoqPt8TU"
      },
      "source": [
        "# blue will underfit\n",
        "# orange will overfit(noisy)"
      ],
      "execution_count": null,
      "outputs": []
    },
    {
      "cell_type": "markdown",
      "metadata": {
        "id": "6-nSDvtAt8TY"
      },
      "source": [
        "![Underfit](https://miro.medium.com/max/6810/1*1tGLoeGg4cDwQXSLSgD5Zg.png)\n",
        "\n",
        "Please refer to \n",
        "\"/content/Intel_AI4Y/My Drive/Intel_AI4Y_Colab/Module_18/resources/dt2.jpg\"\n",
        "\n",
        "<font color=red>Your answer:</font> "
      ]
    },
    {
      "cell_type": "code",
      "metadata": {
        "id": "o3ngf3jyt8TZ"
      },
      "source": [
        "#your answer here"
      ],
      "execution_count": null,
      "outputs": []
    },
    {
      "cell_type": "markdown",
      "metadata": {
        "id": "MevHzmwQt8Tc"
      },
      "source": [
        "Additionally, another way to control for overfitting or underfitting is based on the minimum number of samples that are at a decision point before a split is conducted. For example, if we have a decision point in the tree that is based on weather and there are 50 different points either consisting of sunny days or rainy days, it will be obvious that we should split the data at that decision point as there are quite a few samples or data points. However, if we only have 2 data points at that weather decision point, then it may not be necessary to split them based on weather as it may lead to overfitting. Thus, we can also use the number of samples at a decision point to control the fit.\n",
        "\n",
        "You can read this [article](https://medium.com/@mohtedibf/indepth-parameter-tuning-for-decision-tree-6753118a03c3) to understand more on how to control for overfitting and underfitting in a decision tree. What are the other variables that we can use to control the fit in a decision tree?\n",
        "\n",
        "\n",
        "<font color=red>Your answer:</font> "
      ]
    },
    {
      "cell_type": "code",
      "metadata": {
        "id": "TBrhoBzBt8Td"
      },
      "source": [
        "'''criterion{“gini”, “entropy”}, default=”gini”\n",
        "The function to measure the quality of a split. Supported criteria are “gini” for the Gini impurity and “entropy” for the information gain.'''\n",
        "\n",
        "'''splitter{“best”, “random”}, default=”best”\n",
        "The strategy used to choose the split at each node. Supported strategies are “best” to choose the best split and “random” to choose the best random split.'''\n",
        "\n",
        "'''min_samples_splitint or float, default=2\n",
        "The minimum number of samples required to split an internal node:'''"
      ],
      "execution_count": null,
      "outputs": []
    },
    {
      "cell_type": "markdown",
      "metadata": {
        "id": "rWbrvCE-t8Tg"
      },
      "source": [
        "Let us try to find the best set of parameters to allow the decision tree to have a good fit on the Iris Flower dataset. We can use the same splitted datasets from the earlier exercise above. Try the code below! The variable that we are using to control the fit in the tree is known as max_depth. This refers to the maximum depth of the tree. The deeper the tree, the more likely it is for the tree to overfit. Remember to import tree from sklearn."
      ]
    },
    {
      "cell_type": "code",
      "metadata": {
        "id": "y_jH1-yXt8Th",
        "colab": {
          "base_uri": "https://localhost:8080/"
        },
        "outputId": "60cb9aad-73c9-4752-b6f6-becf27ade300"
      },
      "source": [
        "# Create an empty list to store the accuracy and the best tested parameter for each decision tree\n",
        "accuracy = []\n",
        "depth = []\n",
        "\n",
        "# Use ii to cycle through values 1 to 9. This will be the max_depth value for the decision tree. \n",
        "for ii in range(1,10):\n",
        "    # Set max_depth to ii\n",
        "    dt = tree.DecisionTreeClassifier(max_depth=ii)\n",
        "    # Training or fitting the model with the data\n",
        "    dt.fit(x_train_scale,y_train)\n",
        "    # .score provides the accuracy of the model based on the testing data. Store the accuracy into the list.\n",
        "    accuracy.append(dt.score(x_test_scale,y_test))\n",
        "    # Append the max_depth values to a list\n",
        "    depth.append(ii)\n",
        "\n",
        "print(accuracy)"
      ],
      "execution_count": 89,
      "outputs": [
        {
          "output_type": "stream",
          "name": "stdout",
          "text": [
            "[0.5526315789473685, 0.9473684210526315, 0.9473684210526315, 0.9210526315789473, 0.9210526315789473, 0.9210526315789473, 0.9210526315789473, 0.9210526315789473, 0.9210526315789473]\n"
          ]
        }
      ]
    },
    {
      "cell_type": "markdown",
      "metadata": {
        "id": "xa-eq-Ywt8Tl"
      },
      "source": [
        "Can you plot the accuracy values against the `max_depth` values in a graph? You can refer to the earlier graph for referrence.\n",
        "\n",
        "<font color=red>Hints:</font> \n",
        "*   Refer to Module 13 Assignment 2 \"Data Visualization\" or Module 16 Assignment 2 \"Basic_data_processing_and_visualisation\" on Scatter plot\n",
        "*   `x` => `Max_Depth`\n",
        "*   `y` => `Accuracy`"
      ]
    },
    {
      "cell_type": "code",
      "metadata": {
        "id": "tqpEUxcYt8Tm",
        "colab": {
          "base_uri": "https://localhost:8080/",
          "height": 280
        },
        "outputId": "596e98e9-75e7-44ab-b716-ab28d8d85c88"
      },
      "source": [
        "plt.scatter(depth,accuracy)\n",
        "plt.xlabel('Max_Depth')\n",
        "plt.ylabel('Accuracy')\n",
        "plt.show();"
      ],
      "execution_count": 90,
      "outputs": [
        {
          "output_type": "display_data",
          "data": {
            "image/png": "[encoded data removed]",
            "text/plain": [
              "<Figure size 432x288 with 1 Axes>"
            ]
          },
          "metadata": {
            "needs_background": "light"
          }
        }
      ]
    },
    {
      "cell_type": "markdown",
      "metadata": {
        "id": "69TuTrb5t8To"
      },
      "source": [
        "From the graph, which will be the recommended `max_depth` value?\n",
        "\n",
        "<font color=red>Your answer:</font> "
      ]
    },
    {
      "cell_type": "code",
      "metadata": {
        "id": "t82bvsXut8Tp"
      },
      "source": [
        "# 2"
      ],
      "execution_count": null,
      "outputs": []
    },
    {
      "cell_type": "markdown",
      "metadata": {
        "id": "czz5d__vt8Tr"
      },
      "source": [
        "If you recall, the minimum number of samples at a decision point can also be used to prevent overfitting or underfitting. In the decision tree algorithm, this value is controlled by `min_samples_split`. Copy the code above and modify it to find the best `min_samples_split` value. You can use the range between `2` and `15`. Plot the accuracy values for easy visualisation as well.\n",
        "\n",
        "<font color=red>Hint:</font>  similar to above 2 sections of code but use `min_samples_split`"
      ]
    },
    {
      "cell_type": "code",
      "metadata": {
        "id": "lCS1h8A5t8Ts",
        "colab": {
          "base_uri": "https://localhost:8080/"
        },
        "outputId": "9bfa2b49-f204-43ee-ccf0-ec429b5e0c5f"
      },
      "source": [
        "# Create an empty list to store the accuracy and the best tested parameter for each decision tree\n",
        "accuracy = []\n",
        "depth = []\n",
        "\n",
        "# Use ii to cycle through values 1 to 9. This will be the max_depth value for the decision tree. \n",
        "for ii in range(1,10):\n",
        "    # Set max_depth to ii\n",
        "    dt = tree.DecisionTreeClassifier(min_samples_split=2)\n",
        "    # Training or fitting the model with the data\n",
        "    dt.fit(x_train_scale,y_train)\n",
        "    # .score provides the accuracy of the model based on the testing data. Store the accuracy into the list.\n",
        "    accuracy.append(dt.score(x_test_scale,y_test))\n",
        "    # Append the max_depth values to a list\n",
        "    depth.append(ii)\n",
        "\n",
        "print(accuracy)"
      ],
      "execution_count": 97,
      "outputs": [
        {
          "output_type": "stream",
          "name": "stdout",
          "text": [
            "[0.9210526315789473, 0.9210526315789473, 0.9210526315789473, 0.9210526315789473, 0.9210526315789473, 0.9210526315789473, 0.9210526315789473, 0.9210526315789473, 0.9210526315789473]\n"
          ]
        }
      ]
    },
    {
      "cell_type": "code",
      "metadata": {
        "colab": {
          "base_uri": "https://localhost:8080/",
          "height": 280
        },
        "id": "S6l8b-HFUc3y",
        "outputId": "95a0cc57-f001-48c5-8a61-c11cd35fa631"
      },
      "source": [
        "plt.scatter(depth,accuracy)\n",
        "plt.xlabel('min_samples_split')\n",
        "plt.ylabel('Accuracy')\n",
        "plt.show();"
      ],
      "execution_count": 98,
      "outputs": [
        {
          "output_type": "display_data",
          "data": {
            "image/png": "[encoded data removed]",
            "text/plain": [
              "<Figure size 432x288 with 1 Axes>"
            ]
          },
          "metadata": {
            "needs_background": "light"
          }
        }
      ]
    },
    {
      "cell_type": "markdown",
      "metadata": {
        "id": "TxO3LgUit8Tu"
      },
      "source": [
        "From your graph, which will be the best `min_samples_split` value? Would you choose the lowest value with the highest accuracy?\n",
        "\n",
        "\n",
        "<font color=red>Your answer:</font> "
      ]
    },
    {
      "cell_type": "code",
      "metadata": {
        "id": "a3Ta1zost8Tv"
      },
      "source": [
        "# 1. 5, becuase min_samples_split is used to control over-fitting. Higher values prevent a model from learning relations which might be highly specific to the particular sample selected for a tree. \n",
        "#Too high values can also lead to under-fitting hence depending on the level of underfitting or overfitting"
      ],
      "execution_count": null,
      "outputs": []
    }
  ]
}