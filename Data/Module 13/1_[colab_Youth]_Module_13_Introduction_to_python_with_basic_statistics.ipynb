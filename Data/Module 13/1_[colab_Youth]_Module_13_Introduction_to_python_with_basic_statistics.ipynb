{
  "nbformat": 4,
  "nbformat_minor": 0,
  "metadata": {
    "kernelspec": {
      "display_name": "Python 3",
      "language": "python",
      "name": "python3"
    },
    "language_info": {
      "codemirror_mode": {
        "name": "ipython",
        "version": 3
      },
      "file_extension": ".py",
      "mimetype": "text/x-python",
      "name": "python",
      "nbconvert_exporter": "python",
      "pygments_lexer": "ipython3",
      "version": "3.7.5"
    },
    "colab": {
      "name": "1_[colab_Youth]_Module_13_Introduction_to_python_with_basic_statistics.ipynb",
      "provenance": [],
      "collapsed_sections": []
    }
  },
  "cells": [
    {
      "cell_type": "markdown",
      "metadata": {
        "id": "C_Lz1u5cUf-v"
      },
      "source": [
        "# Data Lesson Map\n",
        "\n",
        "<font color=red>Red </font> highlighted is the topic covered for this lesson\n",
        "\n",
        "1. <font color=red>Basics Data Science and Visualisation </font> \n",
        ">* Obtaining Data\n",
        ">* Basic Data Processing\n",
        ">* <font color=red>Basic statistics </font> \n",
        ">* Data visualization\n",
        ">* Handling erroneous and missing data\n",
        "2. Data Machine Learning Techniques\n",
        ">* Supervised Learning Techniques\n",
        ">* Supervised Regression\n",
        ">* Artificial Neural Networks\n",
        "3. AI for Data Walkthrough\n",
        ">* Model Output\n",
        ">* Outputs Visualisation and Validation\n",
        "4. AI Models \n",
        ">* Linear Regression\n",
        ">* Underfitting vs Overfitting\n",
        ">* K-Nearest Neighbour (KNN)\n",
        ">* Decision Tree\n",
        ">* Convolutional Neural Networks (CNN)\n",
        "\n",
        "\n"
      ]
    },
    {
      "cell_type": "markdown",
      "metadata": {
        "id": "p6866gIFNMbd"
      },
      "source": [
        "# Introduction to Python"
      ]
    },
    {
      "cell_type": "markdown",
      "metadata": {
        "id": "LsIJWzdSNMbg"
      },
      "source": [
        "This notebook contains some programming exercises which will equip you with the programming skills that you require for the workshops ahead. Do not be afraid to make mistakes. Making mistakes while coding is perfectly normal. It is more important for you to learn how to rectify those mistakes. If you are stuck in any of the exercises, you can try to search for similar solutions online and also ask your friends or the facilitator for help."
      ]
    },
    {
      "cell_type": "markdown",
      "metadata": {
        "id": "vH-CCKI3NMbi"
      },
      "source": [
        "Lists are like variables that let you store more than one value.\n",
        "\n",
        "Before we start coding, here are some important properties about lists:\n",
        "1. Lists are wrapped in square brackets `[]`\n",
        "2. Lists can contain strings, integers, floats, Booleans or any combination of these.\n",
        "3. Items in a list are separated by commas `,`\n",
        "\n",
        "With the 3 properties in mind, let's start coding!\n",
        "Look at the code below and try running it.\n",
        "\n",
        "<font color=red>Your code for empty list:</font> "
      ]
    },
    {
      "cell_type": "code",
      "metadata": {
        "id": "-CnLho5mNMbj",
        "colab": {
          "base_uri": "https://localhost:8080/"
        },
        "outputId": "185d291c-e1ce-4a30-c431-cd23787ee34d"
      },
      "source": [
        "# Create a empty list \n",
        "# Hint: web search \"python empty list\"\n",
        "sampleList = []\n",
        "print (\"Empty List: \", sampleList)"
      ],
      "execution_count": null,
      "outputs": [
        {
          "output_type": "stream",
          "name": "stdout",
          "text": [
            "Empty List:  []\n"
          ]
        }
      ]
    },
    {
      "cell_type": "code",
      "metadata": {
        "id": "rgRMUwVcNMbq",
        "colab": {
          "base_uri": "https://localhost:8080/"
        },
        "outputId": "5f328eaf-d33e-4c84-9a35-67e7b003381c"
      },
      "source": [
        "#.append() is a function that allows you to add values to a list\n",
        "sampleList.append(\"Bob\")\n",
        "print (\"Bob should appear in the list:\", sampleList)"
      ],
      "execution_count": null,
      "outputs": [
        {
          "output_type": "stream",
          "name": "stdout",
          "text": [
            "Bob should appear in the list: ['Bob']\n"
          ]
        }
      ]
    },
    {
      "cell_type": "code",
      "metadata": {
        "id": "nLV_eH3lNMbv",
        "colab": {
          "base_uri": "https://localhost:8080/"
        },
        "outputId": "d3c0ba71-44f2-452a-9382-693fd9ed425f"
      },
      "source": [
        "# List can contain strings, integers, floats, boolean or any combination of it\n",
        "sampleList.append(False)\n",
        "sampleList.append(9)\n",
        "sampleList.append(10.5)\n",
        "print (\"List can contains different data types and items in a list are separated by commas: \", sampleList)"
      ],
      "execution_count": null,
      "outputs": [
        {
          "output_type": "stream",
          "name": "stdout",
          "text": [
            "List can contains different data types and items in a list are separated by commas:  ['Bob', False, 9, 10.5]\n"
          ]
        }
      ]
    },
    {
      "cell_type": "markdown",
      "metadata": {
        "id": "-_67N1CaNMbz"
      },
      "source": [
        "Here's a practice question!\n",
        "1. Assign the following numbers to a list, `X1` in the cell below. The numbers are `4, 1, 5, 7`.\n",
        "2. Now, change the 3rd number from `5` to `10`. Print `X1` to confirm that you have changed the number.\n",
        "3. Add a value of `2` to all the items in the list in the cell below. Print `X1` again to confirm the addition.\n",
        "\n",
        "<font color=red>Your code:</font> "
      ]
    },
    {
      "cell_type": "code",
      "metadata": {
        "id": "ZJbGW-SWNMb0",
        "colab": {
          "base_uri": "https://localhost:8080/"
        },
        "outputId": "ee258742-396d-4f49-e84a-bf0b56a61fa8"
      },
      "source": [
        "# TODO: Assign numbers (4,1,5,7) to a list, X1.\n",
        "# Hint: web search \"python list\"\n",
        "# Hint: https://www.w3schools.com/python/python_lists.asp under \"List\" section\n",
        "X1 = [4, 1, 5, 7]\n",
        "print(X1)\n",
        "\n",
        "# TODO: Change the 3rd number, 5, to 10 and then print the list again. \n",
        "# Hint: web search \"python list\"\n",
        "# Hint: https://www.w3schools.com/python/python_lists.asp under \"Change Item Value\" section\n",
        "#yourcodehere\n",
        "X1[2] = 10\n",
        "print(X1)\n",
        "\n",
        "# TODO: Add a value of 2 to all the items in the list. (HINT: Use a for loop!)\n",
        "# Hint: web search \"python add loop\"\n",
        "# Hint: https://pynative.com/python-program-to-calculate-sum-and-average-of-numbers/ \n",
        "#yourcodehere\n",
        "\n",
        "new_list = []\n",
        "\n",
        "for i in X1:\n",
        "  new_list.append(i+2)\n",
        "print(new_list)\n",
        "\n",
        "\n",
        "\n"
      ],
      "execution_count": null,
      "outputs": [
        {
          "output_type": "stream",
          "name": "stdout",
          "text": [
            "[4, 1, 5, 7]\n",
            "[4, 1, 10, 7]\n",
            "[6, 3, 12, 9]\n"
          ]
        }
      ]
    },
    {
      "cell_type": "markdown",
      "metadata": {
        "id": "axY1HH-VNMb5"
      },
      "source": [
        "Expected results:\n",
        "```\n",
        "[4, 1, 5, 7]\n",
        "[4, 1, 10, 7]\n",
        "[6, 3, 12, 9]\n",
        "```"
      ]
    },
    {
      "cell_type": "markdown",
      "metadata": {
        "id": "JGujGsGNNMb5"
      },
      "source": [
        "Let's try apply basic statistics we've just learnt into python.\n",
        "Here are your challenge questions!\n",
        "1. Find the mean of the data provided.\n",
        "2. Find the median of the data provided.\n",
        "3. Find the mode of the data provided.\n",
        "\n",
        "Raise your hands once you've completed exercise, the instructor will come around to look at the code!\n",
        "Once you are done, feel free to help your peers around you to conquer the challenge, but do not give them the answers!\n",
        "\n",
        "<font color=red>Your code for mean:</font> "
      ]
    },
    {
      "cell_type": "code",
      "metadata": {
        "id": "fqw3Oy06NMb7",
        "colab": {
          "base_uri": "https://localhost:8080/"
        },
        "outputId": "cdaf403e-f844-4fdf-8c8c-0c8fda99d142"
      },
      "source": [
        "import statistics\n",
        "# Here's the dataset for the challenge questions:\n",
        "dataset = [2, 1, 1, 4, 5, 8, 12, 4, 3, 8, 21, 1, 18, 5]\n",
        "\n",
        "# TODO: Find the mean of the data provided.\n",
        "# Step 1: Find out the number of items in the list.\n",
        "# Hint: web search \"python len\"\n",
        "# Hint: https://www.w3schools.com/python/ref_func_len.asp\n",
        "number_of_items = len(dataset)\n",
        "print(number_of_items)\n",
        "\n",
        "# Step 2: Find out the sum of items in list. Try doing this with the loop function. \n",
        "# Hint: web search \"python sum loop\"\n",
        "# Hint: https://pynative.com/python-program-to-calculate-sum-and-average-of-numbers/\n",
        "sum_of_items = 0\n",
        "#yourcodehere\n",
        "for i in dataset:\n",
        "  sum_of_items += i\n",
        "print(sum_of_items)\n",
        "\n",
        "# Step 3: Find the mean\n",
        "print(statistics.mean(dataset))\n"
      ],
      "execution_count": null,
      "outputs": [
        {
          "output_type": "stream",
          "name": "stdout",
          "text": [
            "14\n",
            "93\n",
            "6.642857142857143\n"
          ]
        }
      ]
    },
    {
      "cell_type": "markdown",
      "metadata": {
        "id": "G-8DiR4A3lA3"
      },
      "source": [
        "<font color=red>Your code middle index and median:</font> "
      ]
    },
    {
      "cell_type": "code",
      "metadata": {
        "id": "DaxnKhRtNMb-",
        "colab": {
          "base_uri": "https://localhost:8080/"
        },
        "outputId": "634525b3-fab6-4ead-e3b3-73a98195091d"
      },
      "source": [
        "# TODO: Find the median of the data provided. (HINT: Rearrange the items in the list)\n",
        "# Step 1: Rearrange the items in the list in ascending order, i.e. (1,1,1,2,3,4,4,5,5,8,8,12,18,21)\n",
        "# Hint: web search \"python list sort\"\n",
        "# hint: https://www.w3schools.com/python/ref_list_sort.asp\n",
        "#yourcodehere\n",
        "import statistics\n",
        "dataset = [2, 1, 1, 4, 5, 8, 12, 4, 3, 8, 21, 1, 18, 5]\n",
        "dataset.sort(reverse=False)\n",
        "\n",
        "print(dataset)\n",
        "\n",
        "# Step 2: Find the middle index\n",
        "# Hint: middle index => number of items/2 \n",
        "# Total index = 14\n",
        "middle_index = len(dataset)/2\n",
        "print (middle_index) # 7\n",
        "\n",
        "# Step 3: Find median\n",
        "# Hint: why minus 1? remember that a list index start from zero.\n",
        "print(statistics.median(dataset))\n",
        "\n",
        "\n",
        "\n",
        "\n",
        "\n"
      ],
      "execution_count": null,
      "outputs": [
        {
          "output_type": "stream",
          "name": "stdout",
          "text": [
            "[1, 1, 1, 2, 3, 4, 4, 5, 5, 8, 8, 12, 18, 21]\n",
            "7.0\n",
            "4.5\n"
          ]
        }
      ]
    },
    {
      "cell_type": "markdown",
      "metadata": {
        "id": "-8Aj5B_S3mfL"
      },
      "source": [
        "<font color=red>Your code for mode:</font> "
      ]
    },
    {
      "cell_type": "code",
      "metadata": {
        "id": "Vzwe2BSENMcB",
        "colab": {
          "base_uri": "https://localhost:8080/"
        },
        "outputId": "9a1e7798-cab2-4e6c-c831-2508fe1eb1e9"
      },
      "source": [
        "# TODO: Find the mode of the data provided. (HINT: Use max(); Search online \"python max mode\")\n",
        "# Hint: https://www.geeksforgeeks.org/finding-mean-median-mode-in-python-without-libraries/\n",
        "print(statistics.mode(dataset))"
      ],
      "execution_count": null,
      "outputs": [
        {
          "output_type": "stream",
          "name": "stdout",
          "text": [
            "1\n"
          ]
        }
      ]
    }
  ]
}