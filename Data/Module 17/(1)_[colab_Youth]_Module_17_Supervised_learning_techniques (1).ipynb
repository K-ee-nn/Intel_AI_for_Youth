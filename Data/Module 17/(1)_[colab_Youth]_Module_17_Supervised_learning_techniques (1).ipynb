{
  "nbformat": 4,
  "nbformat_minor": 0,
  "metadata": {
    "kernelspec": {
      "display_name": "Python 3",
      "language": "python",
      "name": "python3"
    },
    "language_info": {
      "codemirror_mode": {
        "name": "ipython",
        "version": 3
      },
      "file_extension": ".py",
      "mimetype": "text/x-python",
      "name": "python",
      "nbconvert_exporter": "python",
      "pygments_lexer": "ipython3",
      "version": "3.6.7"
    },
    "colab": {
      "name": "(1)_[colab_Youth]_Module_17_Supervised_learning_techniques.ipynb",
      "provenance": [],
      "collapsed_sections": []
    }
  },
  "cells": [
    {
      "cell_type": "markdown",
      "metadata": {
        "id": "PPoBQ0tlx1QY"
      },
      "source": [
        "# Data Lesson Map\n",
        "\n",
        "<font color=red>Red </font> highlighted is the topic covered for this lesson\n",
        "\n",
        "1. Basics Data Science and Visualisation\n",
        ">* Obtaining Data\n",
        ">* Basic Data Processing\n",
        ">* Basic statistics\n",
        ">* Data visualization\n",
        ">* Handling erroneous and missing data\n",
        "2. <font color=red>Data Machine Learning Techniques</font>\n",
        ">* <font color=red>Supervised Learning Techniques</font>\n",
        ">* Supervised Regression\n",
        ">* Artificial Neural Networks\n",
        "3. AI for Data Walkthrough\n",
        ">* Model Output\n",
        ">* Outputs Visualisation and Validation\n",
        "4. <font color=red>AI Models \n",
        ">* Linear Regression\n",
        ">* Underfitting vs Overfitting\n",
        ">* <font color=red>K-Nearest Neighbour (KNN)</font>\n",
        ">* <font color=red>Decision Tree</font>\n",
        ">* Convolutional Neural Networks (CNN)"
      ]
    },
    {
      "cell_type": "markdown",
      "metadata": {
        "id": "IgKbYke2aPIM"
      },
      "source": [
        "## Machine Learning Techniques"
      ]
    },
    {
      "cell_type": "markdown",
      "metadata": {
        "id": "QVqqtjJ0aPIP"
      },
      "source": [
        "## Introduction\n",
        "In the previous lesson, we have learnt how to import data and process them, so that they are ready to be used for the next step in the AI process - Modelling. \n",
        "\n",
        "There are many different types of machine learning techniques which can be used to run different [machine learning tasks](https://developers.google.com/machine-learning/problem-framing/cases) such as classification, regression, and clustering. In this session, we will create our own models to make predictions, cluster data, etc. The skills you will gain here will be used again to create your solution!  \n",
        "\n",
        "## Machine Learning\n",
        "Machine learning refers to the ability of the computer to learn patterns and relationships between data variables. They can do this through previous examples or learning from current datasets. Read this [article](https://hackernoon.com/the-simplest-explanation-of-machine-learning-youll-ever-read-bebc0700047c) to find out more about machine learning. Write down any information that you find interesting in your worksheet.\n",
        "\n",
        "As explored previously, there are 2 main types of machine learning algorithms we want to explore: Supervised learning and unsupervised learning. Do you still remember the [difference between the two](https://towardsdatascience.com/supervised-vs-unsupervised-learning-14f68e32ea8d)?\n",
        "\n",
        "\n",
        "<font color=red>Your answer:</font> "
      ]
    },
    {
      "cell_type": "code",
      "metadata": {
        "id": "ko48E0rHaPIQ"
      },
      "source": [
        "# supverised learning -> data is labelled \n",
        "# unsupervised learning -> data is unlabelled \n"
      ],
      "execution_count": null,
      "outputs": []
    },
    {
      "cell_type": "markdown",
      "metadata": {
        "id": "uQNzJkl0aPIU"
      },
      "source": [
        "### Import libraries!\n",
        "Let us first import the pandas library to help us work with our dataset.\n",
        "\n",
        "<font color=red>Hint:</font>  Please refer to Moduole 16 Assignment 3 \"Handling erroneous and missing data\" "
      ]
    },
    {
      "cell_type": "code",
      "metadata": {
        "id": "m9h-TwppaPIW"
      },
      "source": [
        "import pandas as pd\n"
      ],
      "execution_count": 1,
      "outputs": []
    },
    {
      "cell_type": "markdown",
      "metadata": {
        "id": "aTDPIDodaPIa"
      },
      "source": [
        "# 1. Supervised Learning Techniques"
      ]
    },
    {
      "cell_type": "markdown",
      "metadata": {
        "id": "AkcL9TmsaPIb"
      },
      "source": [
        "Have you used the video sharing site Youtube before? Do you realise that it will recommend videos that it thinks you will like to watch? Do you notice that the videos recommended to you will be different compared to the videos recommended to your friends? How do you think it can do that? \n",
        "\n",
        "The Youtube recommendation technology uses something known as supervised learning techique. Every time you 'like' a video, Youtube will record down the information of the video: Its name, genre, length, uploaders, etc. The more you watch and 'like' videos, the more information will be recorded into the system. \n",
        "\n",
        "This data set will be used to train a supervised learning model which will then predict which video you might like. This is done by analysing the videos you have watched and 'liked', and looking at the similarities between the video information. In this case, the videos that you liked previously will be the features or the data that the model will train. On the other hand, the videos that you most likely will want to watch (watched by other people who liked the same videos as you) will be the labels or the targets to the model/technique. The model/technique essentially tries and \"match\" the features to the labels. "
      ]
    },
    {
      "cell_type": "markdown",
      "metadata": {
        "id": "2mFQ8I2iaPIb"
      },
      "source": [
        "Supervised learning techniques requires training data that is labelled. For example, in the previous example, a video can either be liked, not rated, or disliked. These are the labels that are necessary in the training data when training the model. With more training data, a more accurate model can be made. \n",
        "\n",
        "Label has to be appropriate. For example, if you want to predict the exam scores of a student given the number of hours spent studying, then the data must contain the exam scores for each student. This will allow the machine learning algorithm to learn from the examples given. \n",
        "\n",
        "Another important term in supervised learning techniques is 'features'. Features refer to the data that can be used to predict the target or label. Based on the example of the exam scores, the exam scores are the target and the number of hours spent studying is a feature. Other features for that example can include the number of questions practiced, amount of sleep before the exam, etc. \n",
        "\n",
        "With the features and labels/targets, the algorithm will then be able to \"learn\" the relationship between the features and labels/targets."
      ]
    },
    {
      "cell_type": "markdown",
      "metadata": {
        "id": "CbW7-XllaPIc"
      },
      "source": [
        "Read the articles https://towardsdatascience.com/explaining-supervised-learning-to-a-kid-c2236f423e0f and https://www.geeksforgeeks.org/supervised-unsupervised-learning/, and watch this [video](https://www.youtube.com/watch?v=cfj6yaYE86U) and answer the questions listed below in your worksheet. Pay more attention to supervised learning. It is ok if you do not understand unsupervised learning at this point.\n",
        "\n",
        "- Explain supervised learning in your own words.\n",
        "- Explain and give examples of the terms: features, labels/targets, machine learning"
      ]
    },
    {
      "cell_type": "markdown",
      "metadata": {
        "id": "4JLDKFqtaPId"
      },
      "source": [
        "Supervised learning techniques can be used to either classify data into different groups or to predict the relationships between variables. Techniques that classify data return categories or groups. For example, if we want to predict whether there will be rain tomorrow, we can use an algorithm that will return categories such as raining or sunny. On the other hand, techniques that are used for regression return numerical solutions. For example, if we want to predict the amount of rain tomorrow, we can use an alogrithm than will return numbers instead of categories.\n",
        "\n",
        "Read this [article](https://machinelearningmastery.com/classification-versus-regression-in-machine-learning/) and watch this [video](https://www.youtube.com/watch?v=f7YB73F0zDo) to find out more information about difference between classification and regression. While reading the article and watching the video, try to think of some scenarios where you will use classification and also some scenarios where you will use regression. List these scenarios in the cell below.\n",
        "\n",
        "<font color=red>Your answer:</font> "
      ]
    },
    {
      "cell_type": "code",
      "metadata": {
        "id": "UnPMOymKaPIe"
      },
      "source": [
        "# Regression -> Housing price prediction\n",
        "# Classification -> Breast cancer (malignant, benign) classification\n"
      ],
      "execution_count": null,
      "outputs": []
    },
    {
      "cell_type": "markdown",
      "metadata": {
        "id": "6PUZy7Q6aPIi"
      },
      "source": [
        "After understanding what is supervised learning, we will now explore the different supervised learning techniques!"
      ]
    },
    {
      "cell_type": "markdown",
      "metadata": {
        "id": "6Wfvm7TQaPIj"
      },
      "source": [
        "# 1.1 K-Nearest Neighbours"
      ]
    },
    {
      "cell_type": "markdown",
      "metadata": {
        "id": "YXSWKSIraPIk"
      },
      "source": [
        "Look at the graph! These are the height and weight samples of male and female. Notice how they are grouped together. Males tend to be taller and heavier as compared to females, and you can see that there is a noticeable grouping."
      ]
    },
    {
      "cell_type": "markdown",
      "metadata": {
        "id": "SAPJRhfDaPIl"
      },
      "source": [
        "![KNN Male vs Female](https://miro.medium.com/max/1128/1*aik5M08Y9sz4p6J6ReYwig.png)"
      ]
    },
    {
      "cell_type": "markdown",
      "metadata": {
        "id": "dn_vcZznaPIm"
      },
      "source": [
        "Now, look at the green dot, the unknown input. Looking at the data, would you say that the unknown input belong to the male data or the female data? Why? How would you determine that?\n",
        "\n",
        "Well, you can see that they are closer to the male data, and thus it is more likely that the unknown data represents a male as well. This method of determining a group by its distance to other, already known data points, is called the K-nearest neighbours"
      ]
    },
    {
      "cell_type": "markdown",
      "metadata": {
        "id": "1F2X-1XUaPIo"
      },
      "source": [
        "K-Nearest Neighbours (KNN) can be used in classification or regression problems. However, it is mainly used for classification problems. As the name suggests, this algorithm relies on the surrounding points or neighbours to determine its class or group. For example, if you are trying to classify an unknown point as either class A or class B using KNN and the majority of the points nearest to the unknown point are in class A, which class do you think the unknown point will be in?\n",
        "\n",
        "If you guessed class A, your answer is right. This is because KNN utilises the properties of the majority of the nearest points to decide how to classify unknown points. This is similar to the famous phrase \"birds of the same feather, flock together\". Likewise, you will expect points that are similar to be close to each other.\n",
        "\n",
        "Watch this [video](https://www.youtube.com/watch?v=MDniRwXizWo) to find out more about KNN. What are the main advantages and disadvantages of KNN? You will be using KNN in subsequent exercises. This is because it is an easy to use and flexible algorithm which can be used for many problems.\n",
        "\n",
        "<font color=red>Your answer:</font> "
      ]
    },
    {
      "cell_type": "code",
      "metadata": {
        "id": "AJnBBhvsaPIo"
      },
      "source": [
        "# Advantages -> simple algorithm to interpret\n",
        "# Disadvantages -> may take up a long time because it has to look at every single data point/prediction\n"
      ],
      "execution_count": null,
      "outputs": []
    },
    {
      "cell_type": "markdown",
      "metadata": {
        "id": "xPZycCxIaPIr"
      },
      "source": [
        "After understanding how KNN works, lets try to apply it to a hypothetical scenario. In this scenario, you want to predict if a device is a laptop or a computer using features such as price and amount of memory. As such, you plotted a scatter plot for all the data points that you have."
      ]
    },
    {
      "cell_type": "markdown",
      "metadata": {
        "id": "jpzH3LayaPIs"
      },
      "source": [
        "![alt text](https://miro.medium.com/max/3544/1*mAgqYN_HLbYYXXkQdyBA6Q.png)"
      ]
    },
    {
      "cell_type": "markdown",
      "metadata": {
        "id": "G7OpnprwaPIs"
      },
      "source": [
        "The x-axis (X1) shows the amount of memory (GB) whereas the y-axis (X2) shows the price (USD). The green plus are data points for desktop whereas the red plus are data points for laptops. The grey plus represents the unknown point.\n",
        "\n",
        "Based on your understanding of KNN, will the unknown point be a desktop or laptop if we were to apply KNN with 3 nearest neighbours? Will your answer change if you were to use 4 nearest neighbours or 5 nearest neighbours? How about if you were to use 9 nearest neighbours?\n",
        "\n",
        "\n",
        "<font color=red>Your answer:</font> "
      ]
    },
    {
      "cell_type": "code",
      "metadata": {
        "id": "_Or8dkHDaPIt"
      },
      "source": [
        "# 3 nearest neighbours -> 2 red, 1 green -> belongs to laptop because it's data points are closer to the unknown data point\n",
        "# 4 nearest neighbours -> unable to be grouped because of k=even number \n",
        "# 5 nearest neighbours -> 3 red, 2 green -> belongs to laptop data because it's data points are closer to the unkown data point\n",
        "# 9 nearest neighbours -> misclassification \n"
      ],
      "execution_count": null,
      "outputs": []
    },
    {
      "cell_type": "markdown",
      "metadata": {
        "id": "8NY3Byw_aPIw"
      },
      "source": [
        "Did you realise that the unknown point will change its classification if you were to use 9 nearest neighbours? From the graph, it is quite obvious that the unknown point is not a desktop. However, due to KNN using the majority, it is possible for KNN to wrongly classify an unknown point if the wrong number of nearest neighbours were used. Thus, it is always important to identify the best number of nearest neighbours. We will see how this is done in the next few workshops when we learn how to tune the models! For now, it is sufficient to just understand why the number of neighbours is an important parameter in K nearest neighbours."
      ]
    },
    {
      "cell_type": "markdown",
      "metadata": {
        "id": "pnrMJVymaPIx"
      },
      "source": [
        "## Classifying flowers using KNN and the Iris Flower dataset\n",
        "\n",
        "Let us now apply the KNN technique to the Iris Flower dataset. First, load the previously used Iris Flower dataset as a pandas dataframe. Download the file from this [link](http://archive.ics.uci.edu/ml/machine-learning-databases/iris/) if you did not download the dataset previously. The file to download is the iris.data file. You can refer to the picture (source: https://www.researchgate.net/figure/Trollius-ranunculoide-flower-with-measured-traits_fig6_272514310) below for more information. \n",
        "\n",
        "From the photo below, could you explain what is meant by sepal and petal?"
      ]
    },
    {
      "cell_type": "markdown",
      "metadata": {
        "id": "xPeFvqyvaPIy"
      },
      "source": [
        "Please refer to \"/content/Intel_AI4Y/My Drive/Intel_AI4Y_Colab/Module_17/resources/PetalSepal1.PNG\"\n",
        "![Sepal and Petal](https://www.researchgate.net/profile/Zhi-Gang_Zhao2/publication/272514310/figure/fig6/AS:340442961989646@1458179335869/Trollius-ranunculoide-flower-with-measured-traits.png)"
      ]
    },
    {
      "cell_type": "markdown",
      "metadata": {
        "id": "CQOKCTH2aPIz"
      },
      "source": [
        "Now, let's start by downloading and exploring the dataset!\n",
        "1. Download dataset from website provided\n",
        "2. Open csv file\n",
        "3. print first five rows to check dataset\n",
        "4. add column names"
      ]
    },
    {
      "cell_type": "code",
      "metadata": {
        "id": "2myMKE3ia3x4",
        "colab": {
          "base_uri": "https://localhost:8080/"
        },
        "outputId": "72deed1e-9f64-4740-aad5-901252e8dca4"
      },
      "source": [
        "from google.colab import drive\n",
        "drive.mount('/content/Intel_AI4Y')"
      ],
      "execution_count": 2,
      "outputs": [
        {
          "output_type": "stream",
          "name": "stdout",
          "text": [
            "Mounted at /content/Intel_AI4Y\n"
          ]
        }
      ]
    },
    {
      "cell_type": "markdown",
      "metadata": {
        "id": "_DxPUurKPtKK"
      },
      "source": [
        "<font color=red>Hints:</font> \n",
        "*   \"iris.data\" is in your Google Drive \"/content/Intel_AI4Y/My Drive/Intel_AI4Y_Colab/Module_17/data/\" folder\n",
        "*   Please refer to Module 16 Assignment 2 \"Basic data processing and visualisation\" section \"1. Using the pandas `.describe() `function to obtain overall statistics\"\n",
        "*   name the columns as \"`sepal_length`\", \"`sepal_width`\",\"`petal_length`\", \"`petal_width`\" and \"`class`\"\n",
        "*   List item\n",
        "*   Remember to `print` the `.head()`\n",
        "\n",
        "\n",
        "\n"
      ]
    },
    {
      "cell_type": "code",
      "metadata": {
        "id": "UEtBEtCqaPI0",
        "colab": {
          "base_uri": "https://localhost:8080/",
          "height": 203
        },
        "outputId": "0bc6fb47-b382-4e3c-c855-8785ff2cafe5"
      },
      "source": [
        "import pandas as pd\n",
        "df = pd.read_csv('/content/Intel_AI4Y/My Drive/Intel_AI4Y/Students_E_Learning/Copy_To_Google_Drive/Intel_AI4Y_Colab/Module_16/data/iris.data')\n",
        "df = df.rename(columns = {'5.1':'sepal length', '3.5':'sepal width', '1.4':'petal length', '0.2':'petal width', 'Iris-setosa':'class'})\n",
        "df.head()\n",
        "                   \n",
        "                   \n"
      ],
      "execution_count": 6,
      "outputs": [
        {
          "output_type": "execute_result",
          "data": {
            "text/html": [
              "<div>\n",
              "<style scoped>\n",
              "    .dataframe tbody tr th:only-of-type {\n",
              "        vertical-align: middle;\n",
              "    }\n",
              "\n",
              "    .dataframe tbody tr th {\n",
              "        vertical-align: top;\n",
              "    }\n",
              "\n",
              "    .dataframe thead th {\n",
              "        text-align: right;\n",
              "    }\n",
              "</style>\n",
              "<table border=\"1\" class=\"dataframe\">\n",
              "  <thead>\n",
              "    <tr style=\"text-align: right;\">\n",
              "      <th></th>\n",
              "      <th>sepal length</th>\n",
              "      <th>sepal width</th>\n",
              "      <th>petal length</th>\n",
              "      <th>petal width</th>\n",
              "      <th>class</th>\n",
              "    </tr>\n",
              "  </thead>\n",
              "  <tbody>\n",
              "    <tr>\n",
              "      <th>0</th>\n",
              "      <td>4.9</td>\n",
              "      <td>3.0</td>\n",
              "      <td>1.4</td>\n",
              "      <td>0.2</td>\n",
              "      <td>Iris-setosa</td>\n",
              "    </tr>\n",
              "    <tr>\n",
              "      <th>1</th>\n",
              "      <td>4.7</td>\n",
              "      <td>3.2</td>\n",
              "      <td>1.3</td>\n",
              "      <td>0.2</td>\n",
              "      <td>Iris-setosa</td>\n",
              "    </tr>\n",
              "    <tr>\n",
              "      <th>2</th>\n",
              "      <td>4.6</td>\n",
              "      <td>3.1</td>\n",
              "      <td>1.5</td>\n",
              "      <td>0.2</td>\n",
              "      <td>Iris-setosa</td>\n",
              "    </tr>\n",
              "    <tr>\n",
              "      <th>3</th>\n",
              "      <td>5.0</td>\n",
              "      <td>3.6</td>\n",
              "      <td>1.4</td>\n",
              "      <td>0.2</td>\n",
              "      <td>Iris-setosa</td>\n",
              "    </tr>\n",
              "    <tr>\n",
              "      <th>4</th>\n",
              "      <td>5.4</td>\n",
              "      <td>3.9</td>\n",
              "      <td>1.7</td>\n",
              "      <td>0.4</td>\n",
              "      <td>Iris-setosa</td>\n",
              "    </tr>\n",
              "  </tbody>\n",
              "</table>\n",
              "</div>"
            ],
            "text/plain": [
              "   sepal length  sepal width  petal length  petal width        class\n",
              "0           4.9          3.0           1.4          0.2  Iris-setosa\n",
              "1           4.7          3.2           1.3          0.2  Iris-setosa\n",
              "2           4.6          3.1           1.5          0.2  Iris-setosa\n",
              "3           5.0          3.6           1.4          0.2  Iris-setosa\n",
              "4           5.4          3.9           1.7          0.4  Iris-setosa"
            ]
          },
          "metadata": {},
          "execution_count": 6
        }
      ]
    },
    {
      "cell_type": "markdown",
      "metadata": {
        "id": "uDhCY4XmaPI3"
      },
      "source": [
        "## Setting up data for the KNN algorithm\n",
        "\n",
        "Let us try to use KNN to classify the dataset with the type of flower or class being the target variable. To help us do so, we need to convert the categorical classes into numbers so that it can be understood easier by the computer. We can do so through the usage of label encoding. \n",
        "\n",
        "### Label Encoding\n",
        "Label encoding refers to the assignment of a number for each category. For example, if you have to predict the weather and there are two classes, rainy or sunny, we can label rainy as 0 and sunny as 1 (see table below). In this way, we can convert the categories to numbers.\n",
        "\n",
        "How would you apply label encoding to the iris dataset?"
      ]
    },
    {
      "cell_type": "markdown",
      "metadata": {
        "id": "6_2ILXh7aPI4"
      },
      "source": [
        "\n",
        "\n",
        "```\n",
        "             Weather\n",
        "Monday       0 (Sunny)\n",
        "Tuesday      1 (Rainy)\n",
        "Wednesday    0 (Sunny)\n",
        "```\n",
        "\n",
        "Please refer to \"/content/Intel_AI4Y/My Drive/Intel_AI4Y_Colab/Module_17/resources/Label2.jpg\""
      ]
    },
    {
      "cell_type": "markdown",
      "metadata": {
        "id": "TqfFIIJyaPI5"
      },
      "source": [
        "We can convert the class/flower type in the Iris Flower dataset into numbers. What are the different classes within the dataset? How many classes are there in total?\n",
        "\n",
        "<font color=red>Your answer:</font> "
      ]
    },
    {
      "cell_type": "code",
      "metadata": {
        "id": "wqv57jUvaPI6"
      },
      "source": [
        "# Total number of classes = 3\n",
        "# Iris Setosa\n",
        "# Iris Versicolor\n",
        "# Iris Virginica\n",
        "\n"
      ],
      "execution_count": 4,
      "outputs": []
    },
    {
      "cell_type": "markdown",
      "metadata": {
        "id": "VJKA1TLUaPI9"
      },
      "source": [
        "Now, label encode the different classes. '`Iris-setosa`' can be `1`, '`Iris-versicolor`' can be `2` and '`Iris-virginica`' can be `3`. The code below will encode for one of the classes. Edit the code to encode for all the classes.\n",
        "\n",
        "<font color=red>Hint:</font> \n",
        "*   Look out for the hints below in the code comments\n",
        "\n"
      ]
    },
    {
      "cell_type": "code",
      "metadata": {
        "id": "3YPnIhQ3E0tx",
        "colab": {
          "base_uri": "https://localhost:8080/",
          "height": 186
        },
        "outputId": "af5f0ad4-814a-4967-b4b8-0c75351789cc"
      },
      "source": [
        "# Print number of data points in each class\n",
        "print(df['class'].value_counts())\n",
        "'''\n",
        "# Dictionary to input the different numbers for different classes\n",
        "# Hint: in the same line for \"Iris-versicolor\" and \"Iris-virginica\" label them as 2 and 3\n",
        "label_encode_setosa = {\"class\": {\"Iris-setosa\":1}}\n",
        "label_encode_versicolor = {\"class\": {\"Iris-versicolor\":2}}\n",
        "label_encode_virginica = {\"class\": {\"Iris-virginica\":3}}\n",
        "\n",
        "# Use .replace to change the different classes into numbers\n",
        "df.replace(label_encode_setosa,inplace=True)\n",
        "df.replace(label_encode_versicolor,inplace=True)\n",
        "df.replace(label_encode_virginica,inplace=True)\n",
        "\n",
        "\n",
        "# Print number of data points in each class to check if the classes have changed to numbers\n",
        "# Hint: print value_counts as 1st line'''\n",
        "\n",
        "\n"
      ],
      "execution_count": 9,
      "outputs": [
        {
          "output_type": "stream",
          "name": "stdout",
          "text": [
            "3    50\n",
            "2    50\n",
            "1    49\n",
            "Name: class, dtype: int64\n"
          ]
        },
        {
          "output_type": "execute_result",
          "data": {
            "application/vnd.google.colaboratory.intrinsic+json": {
              "type": "string"
            },
            "text/plain": [
              "'\\n# Dictionary to input the different numbers for different classes\\n# Hint: in the same line for \"Iris-versicolor\" and \"Iris-virginica\" label them as 2 and 3\\nlabel_encode_setosa = {\"class\": {\"Iris-setosa\":1}}\\nlabel_encode_versicolor = {\"class\": {\"Iris-versicolor\":2}}\\nlabel_encode_virginica = {\"class\": {\"Iris-virginica\":3}}\\n\\n# Use .replace to change the different classes into numbers\\ndf.replace(label_encode_setosa,inplace=True)\\ndf.replace(label_encode_versicolor,inplace=True)\\ndf.replace(label_encode_virginica,inplace=True)\\n\\n\\n# Print number of data points in each class to check if the classes have changed to numbers\\n# Hint: print value_counts as 1st line'"
            ]
          },
          "metadata": {},
          "execution_count": 9
        }
      ]
    },
    {
      "cell_type": "markdown",
      "metadata": {
        "id": "0iYu_UL5aPJB"
      },
      "source": [
        "<font color=green>Bonus: There is also another method to convert categories to numbers. The method is known as one-hot encoding. One-hot encoding changes the categories into binary (0 or 1) categories. For example, if you have raining or sunny days as categories, one hot encoding will add 2 more columns, rainy and sunny, to the dataframe. If the data point shows rainy, it will be converted to a value of 1 under the raining column and a value of 0 under the sunny column (see table below). Read this [article](https://machinelearningmastery.com/why-one-hot-encode-data-in-machine-learning/) to find out more about one-hot encoding. Now, read this [article](http://queirozf.com/entries/one-hot-encoding-a-feature-on-a-pandas-dataframe-an-example) to learn how to do one-hot encoding for pandas. Import the Iris Flower dataset again as df2 and conduct the one-hot encoding for it.</font>"
      ]
    },
    {
      "cell_type": "markdown",
      "metadata": {
        "id": "BUpPJ1EAaPJC"
      },
      "source": [
        "Please refer to \"/content/Intel_AI4Y/My Drive/Intel_AI4Y_Colab/Module_17/resources/Label1.jpg\"\n",
        "\n",
        "<font color=red>Hints:</font> \n",
        "*   Read \"`iris.data`\" to another dataframe like you did above section \"Classifying flowers using KNN and the Iris Flower dataset\"\n",
        "*   Check out the above given link and note how to use pandas `.get_dummies()`: http://queirozf.com/entries/one-hot-encoding-a-feature-on-a-pandas-dataframe-an-example\n",
        "*   do it for `prefex=['class']`\n",
        "*   Print this dataframe head\n",
        "\n",
        "\n"
      ]
    },
    {
      "cell_type": "code",
      "metadata": {
        "id": "m8EOxvHVaPJD",
        "colab": {
          "base_uri": "https://localhost:8080/",
          "height": 417
        },
        "outputId": "ffddd1e7-69ff-456e-8324-11ac1914988b"
      },
      "source": [
        "#df.head()\n",
        "pd.get_dummies(df['class'], prefix='class')\n"
      ],
      "execution_count": 10,
      "outputs": [
        {
          "output_type": "execute_result",
          "data": {
            "text/html": [
              "<div>\n",
              "<style scoped>\n",
              "    .dataframe tbody tr th:only-of-type {\n",
              "        vertical-align: middle;\n",
              "    }\n",
              "\n",
              "    .dataframe tbody tr th {\n",
              "        vertical-align: top;\n",
              "    }\n",
              "\n",
              "    .dataframe thead th {\n",
              "        text-align: right;\n",
              "    }\n",
              "</style>\n",
              "<table border=\"1\" class=\"dataframe\">\n",
              "  <thead>\n",
              "    <tr style=\"text-align: right;\">\n",
              "      <th></th>\n",
              "      <th>class_1</th>\n",
              "      <th>class_2</th>\n",
              "      <th>class_3</th>\n",
              "    </tr>\n",
              "  </thead>\n",
              "  <tbody>\n",
              "    <tr>\n",
              "      <th>0</th>\n",
              "      <td>1</td>\n",
              "      <td>0</td>\n",
              "      <td>0</td>\n",
              "    </tr>\n",
              "    <tr>\n",
              "      <th>1</th>\n",
              "      <td>1</td>\n",
              "      <td>0</td>\n",
              "      <td>0</td>\n",
              "    </tr>\n",
              "    <tr>\n",
              "      <th>2</th>\n",
              "      <td>1</td>\n",
              "      <td>0</td>\n",
              "      <td>0</td>\n",
              "    </tr>\n",
              "    <tr>\n",
              "      <th>3</th>\n",
              "      <td>1</td>\n",
              "      <td>0</td>\n",
              "      <td>0</td>\n",
              "    </tr>\n",
              "    <tr>\n",
              "      <th>4</th>\n",
              "      <td>1</td>\n",
              "      <td>0</td>\n",
              "      <td>0</td>\n",
              "    </tr>\n",
              "    <tr>\n",
              "      <th>...</th>\n",
              "      <td>...</td>\n",
              "      <td>...</td>\n",
              "      <td>...</td>\n",
              "    </tr>\n",
              "    <tr>\n",
              "      <th>144</th>\n",
              "      <td>0</td>\n",
              "      <td>0</td>\n",
              "      <td>1</td>\n",
              "    </tr>\n",
              "    <tr>\n",
              "      <th>145</th>\n",
              "      <td>0</td>\n",
              "      <td>0</td>\n",
              "      <td>1</td>\n",
              "    </tr>\n",
              "    <tr>\n",
              "      <th>146</th>\n",
              "      <td>0</td>\n",
              "      <td>0</td>\n",
              "      <td>1</td>\n",
              "    </tr>\n",
              "    <tr>\n",
              "      <th>147</th>\n",
              "      <td>0</td>\n",
              "      <td>0</td>\n",
              "      <td>1</td>\n",
              "    </tr>\n",
              "    <tr>\n",
              "      <th>148</th>\n",
              "      <td>0</td>\n",
              "      <td>0</td>\n",
              "      <td>1</td>\n",
              "    </tr>\n",
              "  </tbody>\n",
              "</table>\n",
              "<p>149 rows × 3 columns</p>\n",
              "</div>"
            ],
            "text/plain": [
              "     class_1  class_2  class_3\n",
              "0          1        0        0\n",
              "1          1        0        0\n",
              "2          1        0        0\n",
              "3          1        0        0\n",
              "4          1        0        0\n",
              "..       ...      ...      ...\n",
              "144        0        0        1\n",
              "145        0        0        1\n",
              "146        0        0        1\n",
              "147        0        0        1\n",
              "148        0        0        1\n",
              "\n",
              "[149 rows x 3 columns]"
            ]
          },
          "metadata": {},
          "execution_count": 10
        }
      ]
    },
    {
      "cell_type": "markdown",
      "metadata": {
        "id": "mZ2j1KdmaPJJ"
      },
      "source": [
        "Great! You've learn how to conduct label encoding and one-hot encoding. We can now try out the KNN algorithm. We first have to import the KNN algorithm from scikit learn. [Scikit learn](https://scikit-learn.org/stable/) is an open source python library which contains numerous popular machine learning algorithms. What does scikit learn contain? What can it do? See the listed [examples](https://scikit-learn.org/stable/auto_examples/index.html) for inspiration! Are you brimming with excitement now?\n",
        "\n",
        "\n",
        "Now, try the code below."
      ]
    },
    {
      "cell_type": "code",
      "metadata": {
        "id": "BtbMCrtfaPJK"
      },
      "source": [
        "from sklearn.neighbors import KNeighborsClassifier"
      ],
      "execution_count": 11,
      "outputs": []
    },
    {
      "cell_type": "markdown",
      "metadata": {
        "id": "SppghYCsaPJN"
      },
      "source": [
        "Read this [link](https://scikit-learn.org/stable/modules/generated/sklearn.neighbors.KNeighborsClassifier.html) to find out how to use the KNeighborsClassifier from sklearn. Do you remember from earlier in this notebook that the number of neighbours is required for KNN? From the link, what is the default number of neighbors used?\n",
        "\n",
        "<font color=red>Your answer:</font> "
      ]
    },
    {
      "cell_type": "code",
      "metadata": {
        "id": "ReaSEtV1aPJO"
      },
      "source": [
        "# k = 5(default)\n"
      ],
      "execution_count": null,
      "outputs": []
    },
    {
      "cell_type": "markdown",
      "metadata": {
        "id": "emaG_7sMaPJR"
      },
      "source": [
        "Let us use the default number of neighbors to try and classify the Iris Flower dataset. \n",
        "\n",
        "We will only use 2 features (`sepal_length` and `sepal_width`) initially. In the code below, these are included in the '`x`' dataframe. The '`class`' of the flower i.e. the name of the flower species will be the '`label`', included in the '`y`' dataframe. \n",
        "\n",
        "Try the code below."
      ]
    },
    {
      "cell_type": "code",
      "metadata": {
        "id": "_mnQu2c6aPJR",
        "colab": {
          "base_uri": "https://localhost:8080/"
        },
        "outputId": "8f2c13f6-a299-469b-b91e-0714573c59c5"
      },
      "source": [
        "# Initialise the KNeighborsClassifier\n",
        "KNN = KNeighborsClassifier()\n",
        "\n",
        "# Extract out the x values and y values. x will be sepal_length and y will be classes\n",
        "x = df[['sepal length','sepal width']]\n",
        "y = df['class']\n",
        "\n",
        "# Print .head() of x and y to make sure the data is correct\n",
        "print(x.head())\n",
        "print(y.head())\n",
        "\n",
        "# Train KNN using the x and y values. This is done through the .fit method.\n",
        "KNN = KNN.fit(x,y)\n",
        "\n",
        "# Let us use the trained KNN to predict the type of flower if its sepal length = 5 and sepal_width = 3 We can use the .predict method to do so.\n",
        "test = pd.DataFrame()\n",
        "test['sepal length'] = [5]\n",
        "test['sepal width'] = [3]\n",
        "predict_flower = KNN.predict(test)\n",
        "\n",
        "# Print predict_flower\n",
        "print(predict_flower)"
      ],
      "execution_count": 12,
      "outputs": [
        {
          "output_type": "stream",
          "name": "stdout",
          "text": [
            "   sepal length  sepal width\n",
            "0           4.9          3.0\n",
            "1           4.7          3.2\n",
            "2           4.6          3.1\n",
            "3           5.0          3.6\n",
            "4           5.4          3.9\n",
            "0    1\n",
            "1    1\n",
            "2    1\n",
            "3    1\n",
            "4    1\n",
            "Name: class, dtype: int64\n",
            "[1]\n"
          ]
        }
      ]
    },
    {
      "cell_type": "markdown",
      "metadata": {
        "id": "3aCCz7VDaPJT"
      },
      "source": [
        "From the output above, do you know which flower type was predicted for a data point with sepal length = 5 and sepal width = 3? Remember our encoding earlier?\n",
        "\n",
        "\n",
        "<font color=red>Your answer:</font> "
      ]
    },
    {
      "cell_type": "code",
      "metadata": {
        "id": "Z3gwXh_daPJU"
      },
      "source": [
        "# Iris-setosa\n"
      ],
      "execution_count": null,
      "outputs": []
    },
    {
      "cell_type": "markdown",
      "metadata": {
        "id": "6GueiDndaPJW"
      },
      "source": [
        "Well done! What if the sepal length = 3 and sepal width = 5? Edit the code above to find out!\n",
        "\n",
        "<font color=red>Hints:</font>\n",
        "*   Codes is as just above\n",
        "*   change test sepal length = 3 and sepal width = 5\n",
        "\n"
      ]
    },
    {
      "cell_type": "code",
      "metadata": {
        "id": "CLcusChoaPJX",
        "colab": {
          "base_uri": "https://localhost:8080/"
        },
        "outputId": "45655df3-e4b7-48d5-fc45-d327c0ee0cd7"
      },
      "source": [
        "# # Initialise the KNeighborsClassifier\n",
        "KNN = KNeighborsClassifier()\n",
        "\n",
        "# Extract out the x values and y values. x will be sepal_length and y will be classes\n",
        "x = df[['sepal length','sepal width']]\n",
        "y = df['class']\n",
        "\n",
        "# Print .head() of x and y to make sure the data is correct\n",
        "print(x.head())\n",
        "print(y.head())\n",
        "\n",
        "# Train KNN using the x and y values. This is done through the .fit method.\n",
        "KNN = KNN.fit(x,y)\n",
        "\n",
        "# Let us use the trained KNN to predict the type of flower if its sepal length = 5 and sepal_width = 3 We can use the .predict method to do so.\n",
        "test = pd.DataFrame()\n",
        "test['sepal length'] = [3]\n",
        "test['sepal width'] = [5]\n",
        "predict_flower = KNN.predict(test)\n",
        "\n",
        "# Print predict_flower\n",
        "print(predict_flower)"
      ],
      "execution_count": 13,
      "outputs": [
        {
          "output_type": "stream",
          "name": "stdout",
          "text": [
            "   sepal length  sepal width\n",
            "0           4.9          3.0\n",
            "1           4.7          3.2\n",
            "2           4.6          3.1\n",
            "3           5.0          3.6\n",
            "4           5.4          3.9\n",
            "0    1\n",
            "1    1\n",
            "2    1\n",
            "3    1\n",
            "4    1\n",
            "Name: class, dtype: int64\n",
            "[1]\n"
          ]
        }
      ]
    },
    {
      "cell_type": "markdown",
      "metadata": {
        "id": "cJbplP4g7nH9"
      },
      "source": [
        "<font color=red>Your answer:</font> "
      ]
    },
    {
      "cell_type": "code",
      "metadata": {
        "id": "_HhodAV5aPJa"
      },
      "source": [
        "# Iris-setosa\n"
      ],
      "execution_count": null,
      "outputs": []
    },
    {
      "cell_type": "markdown",
      "metadata": {
        "id": "vmsU9FXqaPJc"
      },
      "source": [
        "You have trained your first supervised learning model. However, we only used 2 variables. Train another KNN model named KNN2 with all the other variables ('`sepal_length`','`sepal_width`','`petal_length`','`petal_width`') instead of just sepal length and sepal width.\n",
        "\n",
        "<font color=red>Hints:</font> \n",
        "*   Similar to above sample code until `KNN.fit(x,y)`\n",
        "*   Change x items to include '`sepal_length`','`sepal_width`','`petal_length`','`petal_width`'\n",
        "\n"
      ]
    },
    {
      "cell_type": "code",
      "metadata": {
        "id": "iauQkTDtaPJd",
        "colab": {
          "base_uri": "https://localhost:8080/"
        },
        "outputId": "d5166374-f759-487a-e0c3-654a6ba96621"
      },
      "source": [
        "# # Initialise the KNeighborsClassifier\n",
        "KNN2 = KNeighborsClassifier()\n",
        "\n",
        "# Extract out the x values and y values. x will be sepal_length and y will be classes\n",
        "x = df[['sepal length','sepal width', 'petal length', 'petal width']]\n",
        "y = df['class']\n",
        "\n",
        "# Print .head() of x and y to make sure the data is correct\n",
        "print(x.head())\n",
        "print(y.head())\n",
        "\n",
        "# Train KNN using the x and y values. This is done through the .fit method.\n",
        "KNN2 = KNN2.fit(x,y)\n",
        "\n",
        "# Let us use the trained KNN to predict the type of flower if its sepal length = 5 and sepal_width = 3 We can use the .predict method to do so.\n",
        "test = pd.DataFrame()\n",
        "test['sepal length'] = [3]\n",
        "test['sepal width'] = [5]\n",
        "test['petal length'] = [6]\n",
        "test['petal width'] = [8]\n",
        "predict_flower = KNN2.predict(test)\n",
        "\n",
        "# Print predict_flower\n",
        "print(predict_flower)\n"
      ],
      "execution_count": 14,
      "outputs": [
        {
          "output_type": "stream",
          "name": "stdout",
          "text": [
            "   sepal length  sepal width  petal length  petal width\n",
            "0           4.9          3.0           1.4          0.2\n",
            "1           4.7          3.2           1.3          0.2\n",
            "2           4.6          3.1           1.5          0.2\n",
            "3           5.0          3.6           1.4          0.2\n",
            "4           5.4          3.9           1.7          0.4\n",
            "0    1\n",
            "1    1\n",
            "2    1\n",
            "3    1\n",
            "4    1\n",
            "Name: class, dtype: int64\n",
            "[3]\n"
          ]
        }
      ]
    },
    {
      "cell_type": "markdown",
      "metadata": {
        "id": "dLXxJ81NaPJf"
      },
      "source": [
        "Using your new model, can you predict the flower type with `sepal_length = 5.8`, `sepal_width = 2.3`, `petal_length = 5.0` and `petal_width = 1.3`?\n",
        "\n",
        "<font color=red>Hints:</font> \n",
        "*   Similar to the above sample code after `KNN.fit(x,y)`\n",
        "*   prepare test for `sepal_length = 5.8`, `sepal_width = 2.3`, `petal_length = 5.0` and `petal_width = 1.3`\n",
        "*   Then predict\n",
        "\n",
        "\n",
        "\n"
      ]
    },
    {
      "cell_type": "code",
      "metadata": {
        "id": "kdwMYRyyaPJf",
        "colab": {
          "base_uri": "https://localhost:8080/"
        },
        "outputId": "b36466c8-6f12-4159-a143-15db24122344"
      },
      "source": [
        "# # Initialise the KNeighborsClassifier\n",
        "KNN2 = KNeighborsClassifier()\n",
        "\n",
        "# Extract out the x values and y values. x will be sepal_length and y will be classes\n",
        "x = df[['sepal length','sepal width', 'petal length', 'petal width']]\n",
        "y = df['class']\n",
        "\n",
        "# Print .head() of x and y to make sure the data is correct\n",
        "print(x.head())\n",
        "print(y.head())\n",
        "\n",
        "# Train KNN using the x and y values. This is done through the .fit method.\n",
        "KNN2 = KNN2.fit(x,y)\n",
        "\n",
        "# Let us use the trained KNN to predict the type of flower if its sepal length = 5 and sepal_width = 3 We can use the .predict method to do so.\n",
        "test = pd.DataFrame()\n",
        "test['sepal length'] = [5.8]\n",
        "test['sepal width'] = [2.3]\n",
        "test['petal length'] = [5.0]\n",
        "test['petal width'] = [1.3]\n",
        "predict_flower = KNN2.predict(test)\n",
        "\n",
        "# Print predict_flower\n",
        "print(predict_flower)\n",
        "\n"
      ],
      "execution_count": 15,
      "outputs": [
        {
          "output_type": "stream",
          "name": "stdout",
          "text": [
            "   sepal length  sepal width  petal length  petal width\n",
            "0           4.9          3.0           1.4          0.2\n",
            "1           4.7          3.2           1.3          0.2\n",
            "2           4.6          3.1           1.5          0.2\n",
            "3           5.0          3.6           1.4          0.2\n",
            "4           5.4          3.9           1.7          0.4\n",
            "0    1\n",
            "1    1\n",
            "2    1\n",
            "3    1\n",
            "4    1\n",
            "Name: class, dtype: int64\n",
            "[2]\n"
          ]
        }
      ]
    },
    {
      "cell_type": "markdown",
      "metadata": {
        "id": "7phzn6CVBzoA"
      },
      "source": [
        "\n",
        "<font color=red>Your answer:</font> "
      ]
    },
    {
      "cell_type": "code",
      "metadata": {
        "id": "1K1WqQbFaPJh"
      },
      "source": [
        "# Iris-versicolor \n"
      ],
      "execution_count": null,
      "outputs": []
    },
    {
      "cell_type": "markdown",
      "metadata": {
        "id": "13bcxgxwaPJk"
      },
      "source": [
        "Great! You have used the k-nearest neighbour algorithm to train a classification model that can classify the types of flower given the characteristics of the flowers such as the sepal length, sepal width , petal length , and the petal width. \n",
        "\n",
        "How would this kind of models be useful? Write down your answer below!\n",
        "\n",
        "<font color=red>Your answer:</font> "
      ]
    },
    {
      "cell_type": "code",
      "metadata": {
        "id": "5vZh9gS0aPJk"
      },
      "source": [
        "# let me give a example\n",
        "# Problem 1:\n",
        "# Election votes classifier"
      ],
      "execution_count": null,
      "outputs": []
    },
    {
      "cell_type": "markdown",
      "metadata": {
        "id": "qtbxt2sMaPJm"
      },
      "source": [
        "How else do you think the k-nearest neighbour algorithm can be used? Write down your answer below!\n",
        "\n",
        "<font color=red>Your answer:</font> "
      ]
    },
    {
      "cell_type": "code",
      "metadata": {
        "id": "ZIMkMV2yaPJn"
      },
      "source": [
        "# Let me give a example\n",
        "# Problem 2:\n",
        "# You'd like software to examine individual customer accounts, and for each account decide if it has been hacked/compromised. See how classification model/algorithm is useful?\n",
        "\n"
      ],
      "execution_count": null,
      "outputs": []
    },
    {
      "cell_type": "markdown",
      "metadata": {
        "id": "lUdUw5QLaPJq"
      },
      "source": [
        "There are many models that can be used for classification. Next, we will explore the decision tree to help us with classification as well. "
      ]
    },
    {
      "cell_type": "markdown",
      "metadata": {
        "id": "G01ihV9DaPJq"
      },
      "source": [
        "## 1.2 Decision Trees"
      ]
    },
    {
      "cell_type": "markdown",
      "metadata": {
        "id": "VTyAx698aPJr"
      },
      "source": [
        "Another supervised machine learning technique is the decision tree. Watch this [video](https://www.youtube.com/watch?v=eKD5gxPPeY00) to find out more about decision trees. After watching, draw an example of a decision tree in your worksheet. You can refer to the example shown below.\n",
        "\n",
        "We make numerous decisions every day. How do you make certain decisions? What kind of decision tree will you draw? "
      ]
    },
    {
      "cell_type": "markdown",
      "metadata": {
        "id": "YXYCaH49aPJs"
      },
      "source": [
        "![Decision Tree](https://cdn-images-1.medium.com/max/1144/0*BPJmRBetqRAagjjq.png)\n",
        "Please refer to \"/content/Intel_AI4Y/My Drive/Intel_AI4Y_Colab/Module_17/resources/dt1.jpg\""
      ]
    },
    {
      "cell_type": "markdown",
      "metadata": {
        "id": "i8hkBqUuaPJs"
      },
      "source": [
        "Another supervised machine learning technique is the decision tree. Watch this [video](https://www.youtube.com/watch?v=eKD5gxPPeY00) to find out more about decision trees. After watching, draw an example of a decision tree in your worksheet. You can refer to the example shown below.\n",
        "\n",
        "We make numerous decisions every day. How do you make certain decisions? What kind of decision tree will you draw? "
      ]
    },
    {
      "cell_type": "markdown",
      "metadata": {
        "id": "NnbKZDtqaPJt"
      },
      "source": [
        "First, we have to import the decision tree from scikit learn."
      ]
    },
    {
      "cell_type": "code",
      "metadata": {
        "id": "iY7caNd7aPJt"
      },
      "source": [
        "from sklearn import tree"
      ],
      "execution_count": 16,
      "outputs": []
    },
    {
      "cell_type": "markdown",
      "metadata": {
        "id": "ElC_T9HcaPJw"
      },
      "source": [
        "Next, we will use the same df dataframe from earlier in this notebook. The df dataframe contains the Iris Flower dataset and the outputs have been label encoded. We will first use the sepal length and sepal width as x values and the class as the targets/outputs or y values. Try the code below."
      ]
    },
    {
      "cell_type": "code",
      "metadata": {
        "id": "oVT425qWaPJx",
        "colab": {
          "base_uri": "https://localhost:8080/"
        },
        "outputId": "d58fccae-19cb-4919-f377-0fc10129f49d"
      },
      "source": [
        "# Initialise the Decision Tree\n",
        "dt = tree.DecisionTreeClassifier()\n",
        "\n",
        "# Extract out the x values and y values. x will be sepal_length and y will be classes\n",
        "x = df[['sepal length','sepal width']] \n",
        "y = df['class'] \n",
        "\n",
        "# Print .head() of x and y to make sure the data is correct\n",
        "print(x.head())\n",
        "print(y.head())\n",
        "\n",
        "# Train decision tree using the x and y values. This is done through the .fit method.\n",
        "dt = dt.fit(x,y)"
      ],
      "execution_count": 17,
      "outputs": [
        {
          "output_type": "stream",
          "name": "stdout",
          "text": [
            "   sepal length  sepal width\n",
            "0           4.9          3.0\n",
            "1           4.7          3.2\n",
            "2           4.6          3.1\n",
            "3           5.0          3.6\n",
            "4           5.4          3.9\n",
            "0    1\n",
            "1    1\n",
            "2    1\n",
            "3    1\n",
            "4    1\n",
            "Name: class, dtype: int64\n"
          ]
        }
      ]
    },
    {
      "cell_type": "markdown",
      "metadata": {
        "id": "Kry7JV8UaPJz"
      },
      "source": [
        "Look at the initialisation code. Why do we use the DecisionTreeClassifier instead of the DecisionTreeRegressor?\n",
        "\n",
        "<font color=red>Your answer:</font> "
      ]
    },
    {
      "cell_type": "code",
      "metadata": {
        "id": "4KPOOCAHaPJ0"
      },
      "source": [
        "# Because we're not doing a regression problem.\n"
      ],
      "execution_count": null,
      "outputs": []
    },
    {
      "cell_type": "markdown",
      "metadata": {
        "id": "AnZCW31oaPJ2"
      },
      "source": [
        "Now, can you make a prediction using the trained tree? Can you predict the type of flower if its sepal length = 5 and sepal_width = 3? You can use the .predict method to do so. Edit the code below to answer this question.\n",
        "\n",
        "<font color=red>Hint:</font> \n",
        "* Please refer to the hint in the code comments"
      ]
    },
    {
      "cell_type": "code",
      "metadata": {
        "id": "CGdl4GX8FfxB",
        "colab": {
          "base_uri": "https://localhost:8080/"
        },
        "outputId": "89c6431e-b3f6-4975-ce47-58cee304373c"
      },
      "source": [
        "# Create a dataframe called test2 with sepal_length and sepal_width as its columns. Sepal_length has been done for you in the code below.\n",
        "test2 = pd.DataFrame()\n",
        "test2['sepal_length'] = [5]\n",
        "test2['sepal width'] = [3]\n",
        "# Hint: include test2 for sepal_width = 3\n",
        "\n",
        "# Use the .predict method to predict the new flower. You can call the predicted flower as predict_flower.\n",
        "predict_flower = dt.predict(test2)\n",
        "\n",
        "# Print predict_flower\n",
        "print(predict_flower)"
      ],
      "execution_count": 18,
      "outputs": [
        {
          "output_type": "stream",
          "name": "stdout",
          "text": [
            "[1]\n"
          ]
        }
      ]
    },
    {
      "cell_type": "markdown",
      "metadata": {
        "id": "FL2qmLJYaPJ5"
      },
      "source": [
        "What is the predicted flower type and does it match with that predicted by K nearest neighbours earlier?\n",
        "\n",
        "\n",
        "<font color=red>Your answer:</font> "
      ]
    },
    {
      "cell_type": "code",
      "metadata": {
        "id": "6qCtkqa9aPJ5"
      },
      "source": [
        "# Iris-setosa, it does match.\n"
      ],
      "execution_count": null,
      "outputs": []
    },
    {
      "cell_type": "markdown",
      "metadata": {
        "id": "vP91q8d_aPJ7"
      },
      "source": [
        "Now, train a new decision tree, dt2, based on sepal length, sepal width, petal length and petal width. Predict the flower type with `sepal_length = 5.8`, `sepal_width = 2.3`, `petal_length = 5.0` and `petal_width = 1.3`.\n",
        "\n",
        "<font color=red>Hints:</font> \n",
        "*   Similar to the above given sample codes\n",
        "*   Train `x` for '`sepal_length`','`sepal_width`','`petal_length`','`petal_width`'\n",
        "*   Prepare `test2` `sepal_length = 5.8`, `sepal_width = 2.3`, `petal_length = 5.0` and `petal_width = 1.3`\n",
        "*   Then predict\n",
        "\n",
        "\n",
        "\n"
      ]
    },
    {
      "cell_type": "code",
      "metadata": {
        "id": "-ij3JWJSaPJ8",
        "colab": {
          "base_uri": "https://localhost:8080/"
        },
        "outputId": "6f7ec417-51b9-4877-f87b-733b32abea75"
      },
      "source": [
        "# Initialise the Decision Tree\n",
        "dt2 = tree.DecisionTreeClassifier()\n",
        "\n",
        "# Extract out the x values and y values. x will be sepal_length and y will be classes\n",
        "x = df[['sepal length','sepal width', 'petal length', 'petal width']]\n",
        "y = df['class']\n",
        "\n",
        "# Print .head() of x and y to make sure the data is correct\n",
        "print(x.head())\n",
        "print(y.head())\n",
        "\n",
        "# Train decision tree using the x and y values. This is done through the .fit method.\n",
        "dt2 = dt2.fit(x,y)\n",
        "\n",
        "\n",
        "# Create a dataframe called test2 with sepal_length and sepal_width as its columns. Sepal_length has been done for you in the code below.\n",
        "test3 = pd.DataFrame()\n",
        "test3['sepal length'] = [5.8]\n",
        "test3['sepal width'] = [2.3]\n",
        "test3['petal length'] = [5.0]\n",
        "test3['petal width'] = [1.3]\n",
        "\n",
        "\n",
        "# Hint: include test2 for sepal_width = 3\n",
        "\n",
        "# Use the .predict method to predict the new flower. You can call the predicted flower as predict_flower.\n",
        "predict_flower = dt2.predict(test3)\n",
        "\n",
        "# Print predict_flower\n",
        "print(predict_flower)\n"
      ],
      "execution_count": null,
      "outputs": [
        {
          "output_type": "stream",
          "name": "stdout",
          "text": [
            "   sepal length  sepal width  petal length  petal width\n",
            "0           4.9          3.0           1.4          0.2\n",
            "1           4.7          3.2           1.3          0.2\n",
            "2           4.6          3.1           1.5          0.2\n",
            "3           5.0          3.6           1.4          0.2\n",
            "4           5.4          3.9           1.7          0.4\n",
            "0    1\n",
            "1    1\n",
            "2    1\n",
            "3    1\n",
            "4    1\n",
            "Name: class, dtype: int64\n",
            "[3]\n"
          ]
        }
      ]
    },
    {
      "cell_type": "markdown",
      "metadata": {
        "id": "-jBtlVwnaPJ-"
      },
      "source": [
        "What is the flower type predicted by the new tree? Is it the same as that predicted by K-Nearest Neighbours?\n",
        "\n",
        "<font color=red>Your answer:</font> "
      ]
    },
    {
      "cell_type": "code",
      "metadata": {
        "id": "E2_mPq6VaPJ_"
      },
      "source": [
        "# Iris-virginica, it is not the same. K-Nearest Neighbours predicted Iris-versicolor\n"
      ],
      "execution_count": null,
      "outputs": []
    },
    {
      "cell_type": "markdown",
      "metadata": {
        "id": "4jZpN-CcaPKE"
      },
      "source": [
        "From the result above, we can see that while most machine learning techniques may be used to solve the same problem, the outcome/predictions may differ across models! As such, there is a need to choose which models to use based on the accuracy of the models. You will learn how to evaluate the quality of the models in the later workshops."
      ]
    }
  ]
}