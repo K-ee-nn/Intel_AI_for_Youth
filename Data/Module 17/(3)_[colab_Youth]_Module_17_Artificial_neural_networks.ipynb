{
  "nbformat": 4,
  "nbformat_minor": 0,
  "metadata": {
    "kernelspec": {
      "display_name": "Python 3",
      "language": "python",
      "name": "python3"
    },
    "language_info": {
      "codemirror_mode": {
        "name": "ipython",
        "version": 3
      },
      "file_extension": ".py",
      "mimetype": "text/x-python",
      "name": "python",
      "nbconvert_exporter": "python",
      "pygments_lexer": "ipython3",
      "version": "3.6.7"
    },
    "colab": {
      "name": "(3)_[colab_Youth]_Module_17_Artificial_neural_networks.ipynb",
      "provenance": [],
      "collapsed_sections": []
    }
  },
  "cells": [
    {
      "cell_type": "markdown",
      "metadata": {
        "id": "5j8FhnIRgbv7"
      },
      "source": [
        "# Data Lesson Map\n",
        "\n",
        "<font color=red>Red </font> highlighted is the topic covered for this lesson\n",
        "\n",
        "1. <font color=red>Basics Data Science and Visualisation</font>\n",
        ">* <font color=red>Obtaining Data</font>\n",
        ">* <font color=red>Basic Data Processing</font>\n",
        ">* Basic statistics\n",
        ">* Data visualization\n",
        ">* Handling erroneous and missing data\n",
        "2. <font color=red>Data Machine Learning Techniques</font>\n",
        ">* Supervised Learning Techniques\n",
        ">* Supervised Regression\n",
        ">* <font color=red>Artificial Neural Networks</font>\n",
        "3. AI for Data Walkthrough\n",
        ">* Model Output\n",
        ">* Outputs Visualisation and Validation\n",
        "4. <font color=red>AI Models </font>\n",
        ">* Linear Regression\n",
        ">* Underfitting vs Overfitting\n",
        ">* K-Nearest Neighbour (KNN)\n",
        ">* Decision Tree\n",
        ">* <font color=red>Convolutional Neural Networks (CNN)</font>"
      ]
    },
    {
      "cell_type": "markdown",
      "metadata": {
        "id": "F7NwFL0OlGyA"
      },
      "source": [
        "# Artificial Neural Networks"
      ]
    },
    {
      "cell_type": "markdown",
      "metadata": {
        "id": "al5cgEtBlGyD"
      },
      "source": [
        "Have you ever wondered how we process and learn information? For example, how does our body process information such that we are able to move our hands or legs? To put it simply, the brain will process information and then send out signals to the rest of the body to trigger certain muscle movements. These signals are transported through the nervous system. One of the main components of the nervous system are neuron cells. These cells work on a threshold basis which means that the signal will only be transferred from cells to cells if it is higher than a certain value or amount. As such, when we decide to move our hands, the signals from the brain will get transferred to the muscle in our hands and not the muscle in our legs.\n",
        "\n",
        "### Training Artificial Neural Networks\n",
        "However, this only explains how we process information. How about the ability of humans to learn? For example, why do we know to stop at a red light or how to kick a ball? It is because we were trained to do so by looking at examples or how other people were doing it. Through these examples, we were able to learn and remember.\n",
        "\n",
        "Would it be great if computers were able to mimic the way humans process and learn information? With artificial neural network, this can be done! Artificial neural networks are able to process and 'learn' complex relationships within datasets. An illustration of a simple neural network is shown below.\n",
        "\n",
        "The basic idea is that we input data into the input layer. Data will be processed in the subsequent hidden layer(s) - we only show one hidden layer on the picture below, but it can be many layers. Each layer is made of multiple artificial neurons which apply functions to the data and pass it on to another hidden layer, finally ending with the output layer. "
      ]
    },
    {
      "cell_type": "markdown",
      "metadata": {
        "id": "Nmiu4GxUlGyE"
      },
      "source": [
        "![ANN](https://miro.medium.com/max/1100/1*YgJ6SYO7byjfCmt5uV0PmA.png)\n",
        "Please refer to \"/content/Intel_AI4Y/My Drive/Intel_AI4Y_Colab/Module_17/resources/ANN.jpg\""
      ]
    },
    {
      "cell_type": "markdown",
      "metadata": {
        "id": "uASuh0tZlGyF"
      },
      "source": [
        "The illustration above shows a simple neural network with 1 input layer, 1 hidden layer (in between an input layer and an output layer) and 1 output layer. Each circle represent 1 node or 1 neuron. We usually do not discuss the number of nodes at the input layer within the model architecture as the input layer is just the data that is being passed to the model. Thus, the hidden layer has 4 nodes/neurons and the output layer has 1 node/neuron. \n",
        "\n",
        "The output layer will show the results of the neural network."
      ]
    },
    {
      "cell_type": "markdown",
      "metadata": {
        "id": "g8duHn9glGyG"
      },
      "source": [
        "How does the neural network work? How can they be useful for machine learning project? Watch this [video](https://www.youtube.com/watch?v=aircAruvnKk) to find out more about artificial neural networks. Pause the video and take time to try and understand how the neural network works. Note down any interesting information on neural networks on your worksheet. Are you also able to draw out the network (similar to the illustration above) if the network has 1 input layer with 5 nodes, 2 hidden layers with 3 nodes each and 1 output layer with 2 nodes?\n",
        "\n",
        "<font color=red>Your answer:</font> "
      ]
    },
    {
      "cell_type": "code",
      "metadata": {
        "id": "mJYiHivzlGyH"
      },
      "source": [
        "# Neural Networks are loosely modelled after how neurons in the brain behave, they are able to automatically extract features without the help of a programmer. \n",
        "# Every neural network node/neurons is essentially a machine learning algorithm, it is useful when solving problems for large datasets."
      ],
      "execution_count": null,
      "outputs": []
    },
    {
      "cell_type": "markdown",
      "metadata": {
        "id": "YuCuk0wdlGyL"
      },
      "source": [
        "# Training the neural network"
      ]
    },
    {
      "cell_type": "markdown",
      "metadata": {
        "id": "dTdKmhbXlGyM"
      },
      "source": [
        "After understanding the different features of an artificial neural network, one question that still remains is how does the network \"learn\"?\n",
        "\n",
        "Take for example a young basketball player who is learning to shoot a 3-point shot. If he shoots and he misses because the shot is too short, the basketball player will adjust and increase the strength of the next shot. If the next shot now is too far right of the basket, the player will again adjust his shot to shoot more towards the center. The player continues to do this until the shot is made. The player then remembers the exact strength and shot direction when shooting 3-point shots in future.\n",
        "\n",
        "This is similar to how neural networks are trained. First, the data is passed through the network and a predicted output is given. This is known as a forward propagation. The predicted output is then compared to the actual output of the data and the differences between the predicted and actual will be passed backwards through the model. During the backward pass, adjustments will be made within the model such that the differences between prediction output and actual output will be reduced. This is known as the backpropagation. After the adjustments are made, data will be passed through from the input layer again and another predicted output will be made. The new predicted output will be compared to the actual output again and the differences will be passed backwards through the model. More adjustments will be made within the model.\n",
        "\n",
        "The process of forward propagation and backpropagation will be repeated until the differences between predicted output and the actual output are minimised. The model is now trained and can be used for prediction of other similar datasets."
      ]
    },
    {
      "cell_type": "markdown",
      "metadata": {
        "id": "Ah0bzVtSlGyN"
      },
      "source": [
        "Can you think of another example in your life that is similar to the way the neural networks are trained?\n",
        "\n",
        "<font color=red>Your answer:</font> "
      ]
    },
    {
      "cell_type": "code",
      "metadata": {
        "id": "_EQvcPDxlGyO"
      },
      "source": [
        "# If the food you cooked is not tasty enough, you add more msg to it and taste it, and hopefully uncle roger likes it.\n",
        "# I literally thought about this before even refering to the scenario below, wow..."
      ],
      "execution_count": null,
      "outputs": []
    },
    {
      "cell_type": "markdown",
      "metadata": {
        "id": "RtI_LsI5lGyR"
      },
      "source": [
        "Here is another example to help you understand neural networks better. You have been tasked to bake a cake for your father's birthday. You follow the basic cookbook and come up with a basic cake. As you want your cake to be the best cake anyone has eaten, you approach your mother for a taste test. Your mother replies that the cake is too sweet and slightly burnt. Thus, you try and adjust the amount of sugar and also the time the cake spent in the oven. Next, you will then bake another cake with your new recipe and baking time before doing another taste test with your mother. This continues until you get the perfect cake.\n",
        "\n",
        "The first steps to bake the cake are similar to the forward propagation step within the artificial neural network. The taste test is similar to the comparison of a predicted output to the actual output. The adjustment of the amount of sugar and baking time is similar to backpropagation within the neural network. The repetition in the steps are similar to the full training process of the model.\n",
        "\n",
        "To have a better visualisation of how backpropagation works, watch this [video](https://www.youtube.com/watch?v=Ilg3gGewQ5U) and take down any information that interests you."
      ]
    },
    {
      "cell_type": "markdown",
      "metadata": {
        "id": "fn_esYuzlGyS"
      },
      "source": [
        "<font color=green>Bonus: You are not required to understand the actual adjustments within the model. However, if you are mathematically inclined or really interested in understanding all the adjustments and have time, you can watch the 2 videos listed below. Note down any interesting information in your worksheet or the cell below. </font>\n",
        "- [video 1](https://www.youtube.com/watch?v=IHZwWFHWa-w)\n",
        "- [video 2](https://www.youtube.com/watch?v=tIeHLnjs5U8)\n",
        "\n",
        "<font color=red>Your answer:</font> "
      ]
    },
    {
      "cell_type": "code",
      "metadata": {
        "id": "XpzbSB5OlGyT"
      },
      "source": [
        "# your answer here"
      ],
      "execution_count": null,
      "outputs": []
    },
    {
      "cell_type": "markdown",
      "metadata": {
        "id": "gC6FDVCvlGyW"
      },
      "source": [
        "# Training a neural network with the Iris Flower dataset"
      ]
    },
    {
      "cell_type": "markdown",
      "metadata": {
        "id": "1lCFicaflGyX"
      },
      "source": [
        "Let's try training the neural network using the Iris Flower dataset!\n",
        "\n",
        "## 1. Import required Libraries\n",
        "Firstly, we will import the required libraries: pandas and numpy to provide data structure, and scikit learn to gain access to artificial neural network. "
      ]
    },
    {
      "cell_type": "code",
      "metadata": {
        "id": "rAZhx2OolGyY"
      },
      "source": [
        "#your code here\n",
        "import pandas as pd\n",
        "import numpy as np \n",
        "from sklearn.preprocessing import StandardScaler"
      ],
      "execution_count": 2,
      "outputs": []
    },
    {
      "cell_type": "markdown",
      "metadata": {
        "id": "5qhZGhEwlGyb"
      },
      "source": [
        "![alt text](https://www.researchgate.net/profile/Zhi-Gang_Zhao2/publication/272514310/figure/fig6/AS:340442961989646@1458179335869/Trollius-ranunculoide-flower-with-measured-traits.png)\n",
        "Please refer to \"/content/Intel_AI4Y/My Drive/Intel_AI4Y_Colab/Module_17/resources/PetalSepal1.png\""
      ]
    },
    {
      "cell_type": "markdown",
      "metadata": {
        "id": "D5HsGWmulGyb"
      },
      "source": [
        "## 2. Obtain and explore dataset\n",
        "\n",
        "Import the Iris Flower dataset as a dataframe df below. \n",
        "The file should be iris.data. \n",
        "\n",
        "Remember to include the headers for all the columns. \n",
        "\n",
        "Refer to the picture (source: https://www.researchgate.net/figure/Trollius-ranunculoide-flower-with-measured-traits_fig6_272514310) above to understand the variables. \n",
        "\n",
        "We'll first explore the data. Do you remember how this is done?\n",
        "1. Open the csv file and put it into a dataframe.\n",
        "2. Include headers\n",
        "3. Use `.info()` and `.describe()` to see basic information about the dataset\n",
        "\n",
        "Check for any missing values or erroneous data. Are there any missing data?"
      ]
    },
    {
      "cell_type": "code",
      "metadata": {
        "id": "q8r2VapblTlG",
        "colab": {
          "base_uri": "https://localhost:8080/"
        },
        "outputId": "1a2b7c46-d541-4a16-deba-203753cc273c"
      },
      "source": [
        "from google.colab import drive\n",
        "drive.mount('/content/Intel_AI4Y')"
      ],
      "execution_count": 3,
      "outputs": [
        {
          "output_type": "stream",
          "name": "stdout",
          "text": [
            "Mounted at /content/Intel_AI4Y\n"
          ]
        }
      ]
    },
    {
      "cell_type": "markdown",
      "metadata": {
        "id": "FgPLJpW5yCYf"
      },
      "source": [
        "<font color=red>Hints:</font> \n",
        "\n",
        "\n",
        "*   Refer to Module 17 Assignment 1 \"Supervised_learning_techniques\"in the beginning\n",
        "*   Remember to print head, info and describe\n",
        "\n"
      ]
    },
    {
      "cell_type": "code",
      "metadata": {
        "id": "shkziA_VlGyc",
        "colab": {
          "base_uri": "https://localhost:8080/"
        },
        "outputId": "4ec9afe9-aab5-4fc7-ae0a-866fffee08f9"
      },
      "source": [
        "#your code here\n",
        "df = pd.read_csv(\"/content/Intel_AI4Y/My Drive/Intel_AI4Y/Students_E_Learning/Copy_To_Google_Drive/Intel_AI4Y_Colab/Module_17/data/iris.data\",header=None)\n",
        "names = ['sepal length', 'sepal width', 'petal length', 'petal width', 'class']\n",
        "df.columns = names\n",
        "print(df.info())\n",
        "print(df.describe())"
      ],
      "execution_count": 45,
      "outputs": [
        {
          "output_type": "stream",
          "name": "stdout",
          "text": [
            "<class 'pandas.core.frame.DataFrame'>\n",
            "RangeIndex: 150 entries, 0 to 149\n",
            "Data columns (total 5 columns):\n",
            " #   Column        Non-Null Count  Dtype  \n",
            "---  ------        --------------  -----  \n",
            " 0   sepal length  150 non-null    float64\n",
            " 1   sepal width   150 non-null    float64\n",
            " 2   petal length  150 non-null    float64\n",
            " 3   petal width   150 non-null    float64\n",
            " 4   class         150 non-null    object \n",
            "dtypes: float64(4), object(1)\n",
            "memory usage: 6.0+ KB\n",
            "None\n",
            "       sepal length  sepal width  petal length  petal width\n",
            "count    150.000000   150.000000    150.000000   150.000000\n",
            "mean       5.843333     3.054000      3.758667     1.198667\n",
            "std        0.828066     0.433594      1.764420     0.763161\n",
            "min        4.300000     2.000000      1.000000     0.100000\n",
            "25%        5.100000     2.800000      1.600000     0.300000\n",
            "50%        5.800000     3.000000      4.350000     1.300000\n",
            "75%        6.400000     3.300000      5.100000     1.800000\n",
            "max        7.900000     4.400000      6.900000     2.500000\n"
          ]
        }
      ]
    },
    {
      "cell_type": "markdown",
      "metadata": {
        "id": "pLG8Jj2-lGyf"
      },
      "source": [
        "## 3. Determine features and target values\n",
        "\n",
        "Now, we have to split the datset into the x values (features which the model can learn relationships from) and the y values (target values or expected output from the model). \n",
        "\n",
        "### Standardization\n",
        "We would also have to standardize the dataset. \n",
        "What is standardization for? To understand this, look at the distribution of data above! Notice the different mean and standard deviation. Comparing between these variables will be difficult. Standardization helps us to equalize these various distributions into a common mean and standart deviation, so that we can compare them easily. Refer to the [standardscaler graph here](http://benalexkeen.com/feature-scaling-with-scikit-learn/). See how data changed before and after scaling. \n",
        "\n",
        "\n",
        "This is to allow neural networks to classify easily. The code below will extract out the x values as x_values and also standardise the values. We will extract the y_values later. Run the code below!"
      ]
    },
    {
      "cell_type": "code",
      "metadata": {
        "id": "vks4kJrllGyg",
        "colab": {
          "base_uri": "https://localhost:8080/"
        },
        "outputId": "20bd0cf6-0897-4ad8-da97-2c434409ffa1"
      },
      "source": [
        "x_values = df[['sepal length','sepal width','petal length','petal width']]\n",
        "print(x_values.head())\n",
        "standardise = StandardScaler() # the standardscaler will transform your data such that its distribution will have a mean value 0 and standard deviation of 1\n",
        "x_values = standardise.fit_transform(x_values)\n",
        "x_values_df = pd.DataFrame(x_values)"
      ],
      "execution_count": 46,
      "outputs": [
        {
          "output_type": "stream",
          "name": "stdout",
          "text": [
            "   sepal length  sepal width  petal length  petal width\n",
            "0           5.1          3.5           1.4          0.2\n",
            "1           4.9          3.0           1.4          0.2\n",
            "2           4.7          3.2           1.3          0.2\n",
            "3           4.6          3.1           1.5          0.2\n",
            "4           5.0          3.6           1.4          0.2\n"
          ]
        }
      ]
    },
    {
      "cell_type": "markdown",
      "metadata": {
        "id": "m1isPcaZlGyl"
      },
      "source": [
        "Compare this standardized dataset to the original one"
      ]
    },
    {
      "cell_type": "code",
      "metadata": {
        "id": "Wrah9rPvlGyn",
        "colab": {
          "base_uri": "https://localhost:8080/"
        },
        "outputId": "b0d855a6-150a-4849-c9f2-27003921d4a1"
      },
      "source": [
        "print(x_values_df.head())"
      ],
      "execution_count": 47,
      "outputs": [
        {
          "output_type": "stream",
          "name": "stdout",
          "text": [
            "          0         1         2         3\n",
            "0 -0.900681  1.032057 -1.341272 -1.312977\n",
            "1 -1.143017 -0.124958 -1.341272 -1.312977\n",
            "2 -1.385353  0.337848 -1.398138 -1.312977\n",
            "3 -1.506521  0.106445 -1.284407 -1.312977\n",
            "4 -1.021849  1.263460 -1.341272 -1.312977\n"
          ]
        }
      ]
    },
    {
      "cell_type": "markdown",
      "metadata": {
        "id": "alxSS16nlGyq"
      },
      "source": [
        "Use the .describe function to find out what is the current mean and std value of the standardized dataset!"
      ]
    },
    {
      "cell_type": "code",
      "metadata": {
        "id": "1beIefKPlGyr",
        "colab": {
          "base_uri": "https://localhost:8080/"
        },
        "outputId": "497cc78b-bec9-4bc6-de47-e9eb976f3b18"
      },
      "source": [
        "print(x_values_df.describe())"
      ],
      "execution_count": 48,
      "outputs": [
        {
          "output_type": "stream",
          "name": "stdout",
          "text": [
            "                  0             1             2             3\n",
            "count  1.500000e+02  1.500000e+02  1.500000e+02  1.500000e+02\n",
            "mean  -2.775558e-16 -5.140333e-16  1.154632e-16  9.251859e-16\n",
            "std    1.003350e+00  1.003350e+00  1.003350e+00  1.003350e+00\n",
            "min   -1.870024e+00 -2.438987e+00 -1.568735e+00 -1.444450e+00\n",
            "25%   -9.006812e-01 -5.877635e-01 -1.227541e+00 -1.181504e+00\n",
            "50%   -5.250608e-02 -1.249576e-01  3.362659e-01  1.332259e-01\n",
            "75%    6.745011e-01  5.692513e-01  7.627586e-01  7.905908e-01\n",
            "max    2.492019e+00  3.114684e+00  1.786341e+00  1.710902e+00\n"
          ]
        }
      ]
    },
    {
      "cell_type": "markdown",
      "metadata": {
        "id": "nTx1wm0PlGyv"
      },
      "source": [
        "## 4. Build the neural network\n",
        "\n",
        "We can now build a simple neural network. In order to do so, we will need to import the dense and sequential functions from keras library. \n",
        "\n",
        "### Sequential\n",
        "The Sequential model allows you to first create an empty model object, and then add layers to it one after another in sequence.\n",
        "\n",
        "### Dense\n",
        "A dense layer is simply a layer of neurons in the neural network. "
      ]
    },
    {
      "cell_type": "code",
      "metadata": {
        "id": "sgqaIZzylGyv"
      },
      "source": [
        "from tensorflow.keras.models import Sequential\n",
        "from tensorflow.keras.layers import Dense"
      ],
      "execution_count": 49,
      "outputs": []
    },
    {
      "cell_type": "markdown",
      "metadata": {
        "id": "alCT5ePzlGyy"
      },
      "source": [
        "Let us build a neural network with 1 input layer, 2 hidden layers and 1 output layer. There are no rules to decide how many nodes should be within the hidden layers. \n",
        "\n",
        "For this neural network, we will use 6 hidden nodes for each hidden layer. \n",
        "\n",
        "With regards to the output layer, we should use as many nodes as the number of classes. How many nodes should we use for the output?\n",
        "\n",
        "<font color=red>Your answer:</font> "
      ]
    },
    {
      "cell_type": "code",
      "metadata": {
        "id": "xllSHFq8lGy0"
      },
      "source": [
        "# 3 nodes because there are three classes "
      ],
      "execution_count": null,
      "outputs": []
    },
    {
      "cell_type": "markdown",
      "metadata": {
        "id": "bnbg8_AolGy2"
      },
      "source": [
        "Can you draw the neural network you are creating? Draw them now!\n",
        "\n",
        "<font color=red>Your answer:</font> "
      ]
    },
    {
      "cell_type": "code",
      "metadata": {
        "id": "iGM9jdwQlGy3"
      },
      "source": [
        "\n",
        "#     O   O\n",
        "# O   O   O\n",
        "# O   O   O   O\n",
        "# O   O   O   O\n",
        "# O   O   O   O\n",
        "#     O   O"
      ],
      "execution_count": null,
      "outputs": []
    },
    {
      "cell_type": "markdown",
      "metadata": {
        "id": "29ns039wlGy7"
      },
      "source": [
        "Try the code below to build the artificial neural network."
      ]
    },
    {
      "cell_type": "code",
      "metadata": {
        "id": "lqB6JHATlGy8"
      },
      "source": [
        "# Initialise the neural network as model\n",
        "model = Sequential()\n",
        "\n",
        "# Add the first hidden layer with 6 nodes. Input_dim refers to the number of columns/number of features in x_values or the input layer.\n",
        "# Activation refers to how the nodes/neurons are activated. We will use relu. Other common activations are 'sigmoid' and 'tanh'\n",
        "model.add(Dense(6,input_dim=4,activation='relu'))\n",
        "\n",
        "# Add the hidden layer with 6 nodes. \n",
        "model.add(Dense(6,activation='relu'))\n",
        "\n",
        "# Add the output layer with 3 nodes. The activation used has to be 'softmax'. Softmax is used when you are dealing with categorical outputs or targets. \n",
        "model.add(Dense(3,activation='softmax'))\n",
        "\n",
        "# Compile the model together. The optimizer refers to the method to make the adjustment within the model. Loss refers to how the difference between the predicted out \n",
        "model.compile(optimizer='adam',loss='categorical_crossentropy',metrics=['accuracy'])"
      ],
      "execution_count": 50,
      "outputs": []
    },
    {
      "cell_type": "markdown",
      "metadata": {
        "id": "NLoCTPlTlGy-"
      },
      "source": [
        "Optional: [Comparisons between activation functions](http://www.machineintellegence.com/different-types-of-activation-functions-in-keras/)\n",
        "You've learnt about ReLu earlier in Acquire-CV. There are many more activation functions. They are like [on-off buttons](https://en.wikipedia.org/wiki/Activation_function) to allow certain data/input to follow through the neurons or not. You are not expected to know the functions in detail for now. "
      ]
    },
    {
      "cell_type": "markdown",
      "metadata": {
        "id": "_GqOHk9ZlGy_"
      },
      "source": [
        "We can also print out the model summary after it has been compiled. Try the code below to see:\n",
        "- The layers and their order in the model.\n",
        "- The output shape of each layer.\n",
        "- The number of parameters (weights) in each layer.\n",
        "- The total number of parameters (weights) in the model."
      ]
    },
    {
      "cell_type": "code",
      "metadata": {
        "id": "Ez30zeVOlGzA",
        "colab": {
          "base_uri": "https://localhost:8080/"
        },
        "outputId": "1a22ffd1-9ffc-4f12-df45-ef0d9efdde52"
      },
      "source": [
        "model.summary()"
      ],
      "execution_count": 51,
      "outputs": [
        {
          "output_type": "stream",
          "name": "stdout",
          "text": [
            "Model: \"sequential_17\"\n",
            "_________________________________________________________________\n",
            "Layer (type)                 Output Shape              Param #   \n",
            "=================================================================\n",
            "dense_67 (Dense)             (None, 6)                 30        \n",
            "_________________________________________________________________\n",
            "dense_68 (Dense)             (None, 6)                 42        \n",
            "_________________________________________________________________\n",
            "dense_69 (Dense)             (None, 3)                 21        \n",
            "=================================================================\n",
            "Total params: 93\n",
            "Trainable params: 93\n",
            "Non-trainable params: 0\n",
            "_________________________________________________________________\n"
          ]
        }
      ]
    },
    {
      "cell_type": "markdown",
      "metadata": {
        "id": "dE31ViYalGzD"
      },
      "source": [
        "As the y_values are categorical in nature (categories instead of numbers), we have to convert the y_values from categories into numbers before we can train the neural network. For neural networks, if the categories are not numerical groups (for example, 1,2,3,4,etc) we have to perform label encoding (Remember doing this in an earlier notebook?) before doing one-hot encoding. Refer to the bonus section in the \"Supervised learning technique\" notebook for more information on one-hot encoding. You can also read this [article](https://machinelearningmastery.com/why-one-hot-encode-data-in-machine-learning/) to find out more. We can use the to_categorical function from Keras to help us do so. Try the code below to label encode then one-hot encode the y_values."
      ]
    },
    {
      "cell_type": "code",
      "metadata": {
        "id": "SPph9fR7lGzE",
        "colab": {
          "base_uri": "https://localhost:8080/"
        },
        "outputId": "0600e763-237e-40b6-9183-79e62ce42fb8"
      },
      "source": [
        "from tensorflow.keras.utils import to_categorical\n",
        "\n",
        "# Print number of data points in each class\n",
        "print(df['class'].value_counts())\n",
        "\n",
        "# Dictionary to input the different numbers for different classes. \n",
        "# We are using values starting from 0 so that only 3 instead of 4 columns will be created in by the one-hot encoding.\n",
        "label_encode = {\"class\": {\"Iris-setosa\":0, \"Iris-versicolor\":1, \"Iris-virginica\":2}}\n",
        "\n",
        "# Use .replace to change the different classes into numbers\n",
        "df.replace(label_encode,inplace=True)\n",
        "\n",
        "# Print number of data points in each class to check if the classes have changed to numbers\n",
        "print(df['class'].value_counts())\n",
        "\n",
        "# Extract out the class as y_values\n",
        "y_values = df['class']\n",
        "\n",
        "# One-hot encode the y_values\n",
        "y_values = to_categorical(y_values)\n",
        "\n",
        "print(y_values)"
      ],
      "execution_count": 52,
      "outputs": [
        {
          "output_type": "stream",
          "name": "stdout",
          "text": [
            "Iris-virginica     50\n",
            "Iris-setosa        50\n",
            "Iris-versicolor    50\n",
            "Name: class, dtype: int64\n",
            "2    50\n",
            "1    50\n",
            "0    50\n",
            "Name: class, dtype: int64\n",
            "[[1. 0. 0.]\n",
            " [1. 0. 0.]\n",
            " [1. 0. 0.]\n",
            " [1. 0. 0.]\n",
            " [1. 0. 0.]\n",
            " [1. 0. 0.]\n",
            " [1. 0. 0.]\n",
            " [1. 0. 0.]\n",
            " [1. 0. 0.]\n",
            " [1. 0. 0.]\n",
            " [1. 0. 0.]\n",
            " [1. 0. 0.]\n",
            " [1. 0. 0.]\n",
            " [1. 0. 0.]\n",
            " [1. 0. 0.]\n",
            " [1. 0. 0.]\n",
            " [1. 0. 0.]\n",
            " [1. 0. 0.]\n",
            " [1. 0. 0.]\n",
            " [1. 0. 0.]\n",
            " [1. 0. 0.]\n",
            " [1. 0. 0.]\n",
            " [1. 0. 0.]\n",
            " [1. 0. 0.]\n",
            " [1. 0. 0.]\n",
            " [1. 0. 0.]\n",
            " [1. 0. 0.]\n",
            " [1. 0. 0.]\n",
            " [1. 0. 0.]\n",
            " [1. 0. 0.]\n",
            " [1. 0. 0.]\n",
            " [1. 0. 0.]\n",
            " [1. 0. 0.]\n",
            " [1. 0. 0.]\n",
            " [1. 0. 0.]\n",
            " [1. 0. 0.]\n",
            " [1. 0. 0.]\n",
            " [1. 0. 0.]\n",
            " [1. 0. 0.]\n",
            " [1. 0. 0.]\n",
            " [1. 0. 0.]\n",
            " [1. 0. 0.]\n",
            " [1. 0. 0.]\n",
            " [1. 0. 0.]\n",
            " [1. 0. 0.]\n",
            " [1. 0. 0.]\n",
            " [1. 0. 0.]\n",
            " [1. 0. 0.]\n",
            " [1. 0. 0.]\n",
            " [1. 0. 0.]\n",
            " [0. 1. 0.]\n",
            " [0. 1. 0.]\n",
            " [0. 1. 0.]\n",
            " [0. 1. 0.]\n",
            " [0. 1. 0.]\n",
            " [0. 1. 0.]\n",
            " [0. 1. 0.]\n",
            " [0. 1. 0.]\n",
            " [0. 1. 0.]\n",
            " [0. 1. 0.]\n",
            " [0. 1. 0.]\n",
            " [0. 1. 0.]\n",
            " [0. 1. 0.]\n",
            " [0. 1. 0.]\n",
            " [0. 1. 0.]\n",
            " [0. 1. 0.]\n",
            " [0. 1. 0.]\n",
            " [0. 1. 0.]\n",
            " [0. 1. 0.]\n",
            " [0. 1. 0.]\n",
            " [0. 1. 0.]\n",
            " [0. 1. 0.]\n",
            " [0. 1. 0.]\n",
            " [0. 1. 0.]\n",
            " [0. 1. 0.]\n",
            " [0. 1. 0.]\n",
            " [0. 1. 0.]\n",
            " [0. 1. 0.]\n",
            " [0. 1. 0.]\n",
            " [0. 1. 0.]\n",
            " [0. 1. 0.]\n",
            " [0. 1. 0.]\n",
            " [0. 1. 0.]\n",
            " [0. 1. 0.]\n",
            " [0. 1. 0.]\n",
            " [0. 1. 0.]\n",
            " [0. 1. 0.]\n",
            " [0. 1. 0.]\n",
            " [0. 1. 0.]\n",
            " [0. 1. 0.]\n",
            " [0. 1. 0.]\n",
            " [0. 1. 0.]\n",
            " [0. 1. 0.]\n",
            " [0. 1. 0.]\n",
            " [0. 1. 0.]\n",
            " [0. 1. 0.]\n",
            " [0. 1. 0.]\n",
            " [0. 1. 0.]\n",
            " [0. 1. 0.]\n",
            " [0. 1. 0.]\n",
            " [0. 0. 1.]\n",
            " [0. 0. 1.]\n",
            " [0. 0. 1.]\n",
            " [0. 0. 1.]\n",
            " [0. 0. 1.]\n",
            " [0. 0. 1.]\n",
            " [0. 0. 1.]\n",
            " [0. 0. 1.]\n",
            " [0. 0. 1.]\n",
            " [0. 0. 1.]\n",
            " [0. 0. 1.]\n",
            " [0. 0. 1.]\n",
            " [0. 0. 1.]\n",
            " [0. 0. 1.]\n",
            " [0. 0. 1.]\n",
            " [0. 0. 1.]\n",
            " [0. 0. 1.]\n",
            " [0. 0. 1.]\n",
            " [0. 0. 1.]\n",
            " [0. 0. 1.]\n",
            " [0. 0. 1.]\n",
            " [0. 0. 1.]\n",
            " [0. 0. 1.]\n",
            " [0. 0. 1.]\n",
            " [0. 0. 1.]\n",
            " [0. 0. 1.]\n",
            " [0. 0. 1.]\n",
            " [0. 0. 1.]\n",
            " [0. 0. 1.]\n",
            " [0. 0. 1.]\n",
            " [0. 0. 1.]\n",
            " [0. 0. 1.]\n",
            " [0. 0. 1.]\n",
            " [0. 0. 1.]\n",
            " [0. 0. 1.]\n",
            " [0. 0. 1.]\n",
            " [0. 0. 1.]\n",
            " [0. 0. 1.]\n",
            " [0. 0. 1.]\n",
            " [0. 0. 1.]\n",
            " [0. 0. 1.]\n",
            " [0. 0. 1.]\n",
            " [0. 0. 1.]\n",
            " [0. 0. 1.]\n",
            " [0. 0. 1.]\n",
            " [0. 0. 1.]\n",
            " [0. 0. 1.]\n",
            " [0. 0. 1.]\n",
            " [0. 0. 1.]\n",
            " [0. 0. 1.]]\n"
          ]
        }
      ]
    },
    {
      "cell_type": "markdown",
      "metadata": {
        "id": "4OPqxAxplGzH"
      },
      "source": [
        "See what is listed in the y_values above. We have encoded the flower names into numbers. "
      ]
    },
    {
      "cell_type": "markdown",
      "metadata": {
        "id": "oJGFyvm5lGzI"
      },
      "source": [
        "Now, let us train the model. Run the code below!"
      ]
    },
    {
      "cell_type": "code",
      "metadata": {
        "id": "yABNVxu3lGzI",
        "colab": {
          "base_uri": "https://localhost:8080/"
        },
        "outputId": "79d4732d-383f-45f3-efd6-af24d3ca341a"
      },
      "source": [
        "# Train model with x_values and y_values. \n",
        "# Epochs refer to the number of times the full dataset will be used to train the model.\n",
        "# Shuffle = True tells the model to randomise the arrangement of the dataset after each epoch. \n",
        "model.fit(x_values,y_values,epochs=20,shuffle=True)"
      ],
      "execution_count": 53,
      "outputs": [
        {
          "output_type": "stream",
          "name": "stdout",
          "text": [
            "Epoch 1/20\n",
            "5/5 [==============================] - 0s 3ms/step - loss: 1.1141 - accuracy: 0.2867\n",
            "Epoch 2/20\n",
            "5/5 [==============================] - 0s 3ms/step - loss: 1.0980 - accuracy: 0.2667\n",
            "Epoch 3/20\n",
            "5/5 [==============================] - 0s 2ms/step - loss: 1.0804 - accuracy: 0.2733\n",
            "Epoch 4/20\n",
            "5/5 [==============================] - 0s 3ms/step - loss: 1.0654 - accuracy: 0.2733\n",
            "Epoch 5/20\n",
            "5/5 [==============================] - 0s 2ms/step - loss: 1.0507 - accuracy: 0.2533\n",
            "Epoch 6/20\n",
            "5/5 [==============================] - 0s 3ms/step - loss: 1.0360 - accuracy: 0.2800\n",
            "Epoch 7/20\n",
            "5/5 [==============================] - 0s 2ms/step - loss: 1.0204 - accuracy: 0.3200\n",
            "Epoch 8/20\n",
            "5/5 [==============================] - 0s 3ms/step - loss: 1.0065 - accuracy: 0.4133\n",
            "Epoch 9/20\n",
            "5/5 [==============================] - 0s 3ms/step - loss: 0.9921 - accuracy: 0.5200\n",
            "Epoch 10/20\n",
            "5/5 [==============================] - 0s 3ms/step - loss: 0.9791 - accuracy: 0.6067\n",
            "Epoch 11/20\n",
            "5/5 [==============================] - 0s 3ms/step - loss: 0.9648 - accuracy: 0.6600\n",
            "Epoch 12/20\n",
            "5/5 [==============================] - 0s 4ms/step - loss: 0.9517 - accuracy: 0.7000\n",
            "Epoch 13/20\n",
            "5/5 [==============================] - 0s 4ms/step - loss: 0.9390 - accuracy: 0.7000\n",
            "Epoch 14/20\n",
            "5/5 [==============================] - 0s 4ms/step - loss: 0.9260 - accuracy: 0.6933\n",
            "Epoch 15/20\n",
            "5/5 [==============================] - 0s 4ms/step - loss: 0.9127 - accuracy: 0.6933\n",
            "Epoch 16/20\n",
            "5/5 [==============================] - 0s 4ms/step - loss: 0.8996 - accuracy: 0.6933\n",
            "Epoch 17/20\n",
            "5/5 [==============================] - 0s 4ms/step - loss: 0.8862 - accuracy: 0.6933\n",
            "Epoch 18/20\n",
            "5/5 [==============================] - 0s 5ms/step - loss: 0.8722 - accuracy: 0.6933\n",
            "Epoch 19/20\n",
            "5/5 [==============================] - 0s 3ms/step - loss: 0.8586 - accuracy: 0.7067\n",
            "Epoch 20/20\n",
            "5/5 [==============================] - 0s 3ms/step - loss: 0.8444 - accuracy: 0.7200\n"
          ]
        },
        {
          "output_type": "execute_result",
          "data": {
            "text/plain": [
              "<keras.callbacks.History at 0x7ff0f3d3a3d0>"
            ]
          },
          "metadata": {},
          "execution_count": 53
        }
      ]
    },
    {
      "cell_type": "markdown",
      "metadata": {
        "id": "cfbJkPhllGzL"
      },
      "source": [
        "Well done! You have trained your first neural network. Before we look at the accuracy, we have to understand some of the terms in the output.\n",
        "\n",
        "Epochs refer to the number of times the full dataset will be used to train the model.\n",
        "\n",
        "us/step shows how long the model took to train on each epoch.\n",
        "\n",
        "acc shows how accurate the model is. \n",
        "\n",
        "Notice how these numbers change over the different epoch."
      ]
    },
    {
      "cell_type": "markdown",
      "metadata": {
        "id": "ufMjgttklGzM"
      },
      "source": [
        "From the model above, what was the accuracy value you've got?\n",
        "\n",
        "Try to see if you can get a better accuracy by adding another hidden layer to the model. The additional hidden layer can have the same number of nodes as the previous layer. \n",
        "\n",
        "Copy the relevant codes listed above in the cell below and modify the codes to add in the additional hidden layer. Train the new model and see if the accuracy improves.\n",
        "\n",
        "<font color=red>Hints:</font> \n",
        "*   see above code at \"Try the code below to build the artificial neural network.\"\n",
        "*   Try Insert more Dense layers.\n",
        "*   Please call it `model2`\n",
        "*   Remember to train the AI by calling `.fit()`: see above codes how `.fit()` is used at \"Now, let us train the model. Run the code below!\"\n",
        "\n",
        "\n",
        "\n",
        "\n",
        "\n"
      ]
    },
    {
      "cell_type": "code",
      "metadata": {
        "id": "ZKiZUv3plGzN",
        "colab": {
          "base_uri": "https://localhost:8080/"
        },
        "outputId": "d24509ed-9c5d-41fc-f9b6-ab9b8fb250d9"
      },
      "source": [
        "# Initialise the neural network as model\n",
        "model2 = Sequential()\n",
        "\n",
        "# Add the first hidden layer with 6 nodes. Input_dim refers to the number of columns/number of features in x_values or the input layer.\n",
        "# Activation refers to how the nodes/neurons are activated. We will use relu. Other common activations are 'sigmoid' and 'tanh'\n",
        "model2.add(Dense(6,input_dim=4,activation='relu'))\n",
        "\n",
        "# Two hidden layers. \n",
        "model2.add(Dense(6,activation='relu')) # relu stands for rectified linear unit\n",
        "model2.add(Dense(6,activation='relu')) \n",
        "\n",
        "# Add the output layer with 3 nodes. The activation used has to be 'softmax'. Softmax is used when you are dealing with categorical outputs or targets. \n",
        "model2.add(Dense(3,activation='softmax'))\n",
        "\n",
        "# Compile the model together. The optimizer refers to the method to make the adjustment within the model. Loss refers to how the difference between the predicted out \n",
        "model2.compile(optimizer='adam',loss='categorical_crossentropy',metrics=['accuracy'])\n",
        "\n",
        "\n",
        "model2.summary()"
      ],
      "execution_count": 54,
      "outputs": [
        {
          "output_type": "stream",
          "name": "stdout",
          "text": [
            "Model: \"sequential_18\"\n",
            "_________________________________________________________________\n",
            "Layer (type)                 Output Shape              Param #   \n",
            "=================================================================\n",
            "dense_70 (Dense)             (None, 6)                 30        \n",
            "_________________________________________________________________\n",
            "dense_71 (Dense)             (None, 6)                 42        \n",
            "_________________________________________________________________\n",
            "dense_72 (Dense)             (None, 6)                 42        \n",
            "_________________________________________________________________\n",
            "dense_73 (Dense)             (None, 3)                 21        \n",
            "=================================================================\n",
            "Total params: 135\n",
            "Trainable params: 135\n",
            "Non-trainable params: 0\n",
            "_________________________________________________________________\n"
          ]
        }
      ]
    },
    {
      "cell_type": "code",
      "metadata": {
        "colab": {
          "base_uri": "https://localhost:8080/"
        },
        "id": "Q0QEg12O36VH",
        "outputId": "0a641cda-03be-4559-9d79-42e4cd2fac49"
      },
      "source": [
        "model2.fit(x_values,y_values,epochs=20,shuffle=True)"
      ],
      "execution_count": 55,
      "outputs": [
        {
          "output_type": "stream",
          "name": "stdout",
          "text": [
            "Epoch 1/20\n",
            "5/5 [==============================] - 0s 3ms/step - loss: 1.1355 - accuracy: 0.3333\n",
            "Epoch 2/20\n",
            "5/5 [==============================] - 0s 3ms/step - loss: 1.1179 - accuracy: 0.3333\n",
            "Epoch 3/20\n",
            "5/5 [==============================] - 0s 3ms/step - loss: 1.1030 - accuracy: 0.3267\n",
            "Epoch 4/20\n",
            "5/5 [==============================] - 0s 5ms/step - loss: 1.0877 - accuracy: 0.3133\n",
            "Epoch 5/20\n",
            "5/5 [==============================] - 0s 3ms/step - loss: 1.0733 - accuracy: 0.3067\n",
            "Epoch 6/20\n",
            "5/5 [==============================] - 0s 3ms/step - loss: 1.0590 - accuracy: 0.2933\n",
            "Epoch 7/20\n",
            "5/5 [==============================] - 0s 3ms/step - loss: 1.0454 - accuracy: 0.3133\n",
            "Epoch 8/20\n",
            "5/5 [==============================] - 0s 4ms/step - loss: 1.0328 - accuracy: 0.3467\n",
            "Epoch 9/20\n",
            "5/5 [==============================] - 0s 4ms/step - loss: 1.0203 - accuracy: 0.4067\n",
            "Epoch 10/20\n",
            "5/5 [==============================] - 0s 4ms/step - loss: 1.0085 - accuracy: 0.4667\n",
            "Epoch 11/20\n",
            "5/5 [==============================] - 0s 3ms/step - loss: 0.9976 - accuracy: 0.5000\n",
            "Epoch 12/20\n",
            "5/5 [==============================] - 0s 5ms/step - loss: 0.9870 - accuracy: 0.5533\n",
            "Epoch 13/20\n",
            "5/5 [==============================] - 0s 4ms/step - loss: 0.9768 - accuracy: 0.5867\n",
            "Epoch 14/20\n",
            "5/5 [==============================] - 0s 4ms/step - loss: 0.9667 - accuracy: 0.5733\n",
            "Epoch 15/20\n",
            "5/5 [==============================] - 0s 5ms/step - loss: 0.9574 - accuracy: 0.5933\n",
            "Epoch 16/20\n",
            "5/5 [==============================] - 0s 6ms/step - loss: 0.9474 - accuracy: 0.6467\n",
            "Epoch 17/20\n",
            "5/5 [==============================] - 0s 4ms/step - loss: 0.9379 - accuracy: 0.6600\n",
            "Epoch 18/20\n",
            "5/5 [==============================] - 0s 5ms/step - loss: 0.9274 - accuracy: 0.6933\n",
            "Epoch 19/20\n",
            "5/5 [==============================] - 0s 4ms/step - loss: 0.9176 - accuracy: 0.7200\n",
            "Epoch 20/20\n",
            "5/5 [==============================] - 0s 4ms/step - loss: 0.9081 - accuracy: 0.7267\n"
          ]
        },
        {
          "output_type": "execute_result",
          "data": {
            "text/plain": [
              "<keras.callbacks.History at 0x7ff0f3d6e210>"
            ]
          },
          "metadata": {},
          "execution_count": 55
        }
      ]
    },
    {
      "cell_type": "markdown",
      "metadata": {
        "id": "4oWOmHeClGzR"
      },
      "source": [
        "After adding another hidden layer, you should observe that the accuracy seems to be lower than the initial model. As such, this shows that adding more layers need not necessarily lead to a higher accuracy.\n",
        "\n",
        "<font color = green>Bonus: You can try other methods to improve the accuracy. How about increasing the number of nodes in the hidden layer? Do you get a higher accuracy if you do so?</font>\n",
        "\n",
        "<font color=red>Hints:</font> \n",
        "*   see above code at \"Try the code below to build the artificial neural network.\" with more layers by increase the number in Dense\n",
        "*   Try Insert more Dense layers.\n",
        "*   Please call it model2\n",
        "*   Remember to train the AI by calling `.fit()`: see above codes how `.fit()` is used at \"Now, let us train the model. Run the code below!\"\n"
      ]
    },
    {
      "cell_type": "code",
      "metadata": {
        "id": "jaA0lXbvlGzR",
        "colab": {
          "base_uri": "https://localhost:8080/"
        },
        "outputId": "65d40b00-b8e1-47f7-ae35-0423e33bd452"
      },
      "source": [
        "# Initialise the neural network as model\n",
        "model3 = Sequential()\n",
        "\n",
        "# Add the first hidden layer with 6 nodes. Input_dim refers to the number of columns/number of features in x_values or the input layer.\n",
        "# Activation refers to how the nodes/neurons are activated. We will use relu. Other common activations are 'sigmoid' and 'tanh'\n",
        "model3.add(Dense(6,input_dim=4,activation='relu'))\n",
        "\n",
        "# 3 hidden layers . \n",
        "model3.add(Dense(6,activation='relu')) # relu stands for rectified linear unit\n",
        "model3.add(Dense(6,activation='relu'))\n",
        "model3.add(Dense(6,activation='relu'))  \n",
        "\n",
        "# Add the output layer with 3 nodes. The activation used has to be 'softmax'. Softmax is used when you are dealing with categorical outputs or targets. \n",
        "model3.add(Dense(3,activation='softmax'))\n",
        "\n",
        "# Compile the model together. The optimizer refers to the method to make the adjustment within the model. Loss refers to how the difference between the predicted out \n",
        "model3.compile(optimizer='adam',loss='categorical_crossentropy',metrics=['accuracy'])\n",
        "\n",
        "\n",
        "model3.summary()"
      ],
      "execution_count": 56,
      "outputs": [
        {
          "output_type": "stream",
          "name": "stdout",
          "text": [
            "Model: \"sequential_19\"\n",
            "_________________________________________________________________\n",
            "Layer (type)                 Output Shape              Param #   \n",
            "=================================================================\n",
            "dense_74 (Dense)             (None, 6)                 30        \n",
            "_________________________________________________________________\n",
            "dense_75 (Dense)             (None, 6)                 42        \n",
            "_________________________________________________________________\n",
            "dense_76 (Dense)             (None, 6)                 42        \n",
            "_________________________________________________________________\n",
            "dense_77 (Dense)             (None, 6)                 42        \n",
            "_________________________________________________________________\n",
            "dense_78 (Dense)             (None, 3)                 21        \n",
            "=================================================================\n",
            "Total params: 177\n",
            "Trainable params: 177\n",
            "Non-trainable params: 0\n",
            "_________________________________________________________________\n"
          ]
        }
      ]
    },
    {
      "cell_type": "code",
      "metadata": {
        "colab": {
          "base_uri": "https://localhost:8080/"
        },
        "id": "Z7MaryJ-6nsr",
        "outputId": "cefdb5b7-0e85-4337-c8a4-6653dfc2e5f2"
      },
      "source": [
        "model3.fit(x_values,y_values,epochs=20,shuffle=True)"
      ],
      "execution_count": 57,
      "outputs": [
        {
          "output_type": "stream",
          "name": "stdout",
          "text": [
            "Epoch 1/20\n",
            "5/5 [==============================] - 1s 3ms/step - loss: 1.0920 - accuracy: 0.3933\n",
            "Epoch 2/20\n",
            "5/5 [==============================] - 0s 3ms/step - loss: 1.0854 - accuracy: 0.3933\n",
            "Epoch 3/20\n",
            "5/5 [==============================] - 0s 3ms/step - loss: 1.0766 - accuracy: 0.4000\n",
            "Epoch 4/20\n",
            "5/5 [==============================] - 0s 3ms/step - loss: 1.0677 - accuracy: 0.4067\n",
            "Epoch 5/20\n",
            "5/5 [==============================] - 0s 3ms/step - loss: 1.0575 - accuracy: 0.4267\n",
            "Epoch 6/20\n",
            "5/5 [==============================] - 0s 3ms/step - loss: 1.0458 - accuracy: 0.4400\n",
            "Epoch 7/20\n",
            "5/5 [==============================] - 0s 4ms/step - loss: 1.0354 - accuracy: 0.4600\n",
            "Epoch 8/20\n",
            "5/5 [==============================] - 0s 4ms/step - loss: 1.0224 - accuracy: 0.4800\n",
            "Epoch 9/20\n",
            "5/5 [==============================] - 0s 4ms/step - loss: 1.0105 - accuracy: 0.5067\n",
            "Epoch 10/20\n",
            "5/5 [==============================] - 0s 3ms/step - loss: 0.9985 - accuracy: 0.5200\n",
            "Epoch 11/20\n",
            "5/5 [==============================] - 0s 3ms/step - loss: 0.9846 - accuracy: 0.5333\n",
            "Epoch 12/20\n",
            "5/5 [==============================] - 0s 5ms/step - loss: 0.9719 - accuracy: 0.5467\n",
            "Epoch 13/20\n",
            "5/5 [==============================] - 0s 3ms/step - loss: 0.9578 - accuracy: 0.5333\n",
            "Epoch 14/20\n",
            "5/5 [==============================] - 0s 5ms/step - loss: 0.9433 - accuracy: 0.5533\n",
            "Epoch 15/20\n",
            "5/5 [==============================] - 0s 3ms/step - loss: 0.9285 - accuracy: 0.5533\n",
            "Epoch 16/20\n",
            "5/5 [==============================] - 0s 3ms/step - loss: 0.9132 - accuracy: 0.5533\n",
            "Epoch 17/20\n",
            "5/5 [==============================] - 0s 6ms/step - loss: 0.8975 - accuracy: 0.6133\n",
            "Epoch 18/20\n",
            "5/5 [==============================] - 0s 3ms/step - loss: 0.8827 - accuracy: 0.6933\n",
            "Epoch 19/20\n",
            "5/5 [==============================] - 0s 4ms/step - loss: 0.8671 - accuracy: 0.7000\n",
            "Epoch 20/20\n",
            "5/5 [==============================] - 0s 3ms/step - loss: 0.8521 - accuracy: 0.6933\n"
          ]
        },
        {
          "output_type": "execute_result",
          "data": {
            "text/plain": [
              "<keras.callbacks.History at 0x7ff0f218a3d0>"
            ]
          },
          "metadata": {},
          "execution_count": 57
        }
      ]
    },
    {
      "cell_type": "markdown",
      "metadata": {
        "id": "iFzKQRckej8X"
      },
      "source": [
        "<font color=red>Your answer:</font> "
      ]
    },
    {
      "cell_type": "code",
      "metadata": {
        "id": "DHRfJwSPenRf"
      },
      "source": [
        "# Even better acc with more dense layer"
      ],
      "execution_count": null,
      "outputs": []
    },
    {
      "cell_type": "markdown",
      "metadata": {
        "id": "WxZdIpRGlGzU"
      },
      "source": [
        "# Validation Dataset"
      ]
    },
    {
      "cell_type": "markdown",
      "metadata": {
        "id": "KtGreqcWlGzU"
      },
      "source": [
        "From the above, we can see that the neural network can be trained for any number of epochs. This means that the network can keep learning from the same dataset many times. What do you think will happen if the model keeps learning from the same dataset? Do you think the network will be able to obtain very high accuracy by doing so?\n",
        "\n",
        "<font color=red>Your answer:</font> "
      ]
    },
    {
      "cell_type": "code",
      "metadata": {
        "id": "0el06ck9lGzV"
      },
      "source": [
        "# Yes, increasing the number of epochs could reduce the model perplexity"
      ],
      "execution_count": null,
      "outputs": []
    },
    {
      "cell_type": "markdown",
      "metadata": {
        "id": "lqul6-YWlGzY"
      },
      "source": [
        "You were right if you think that the model's accuracy will increase as it continues to learn. You can try it on the same dataset. Run the code below and observe the accuracy. Is it higher than the accuracy from the previous model with the same setting?"
      ]
    },
    {
      "cell_type": "code",
      "metadata": {
        "id": "CzeI6fDulGzZ",
        "colab": {
          "base_uri": "https://localhost:8080/"
        },
        "outputId": "2dc7b62e-8d00-4b13-9731-eda73b8fa30b"
      },
      "source": [
        "# Initialise the neural network as model\n",
        "model4 = Sequential()\n",
        "\n",
        "# Add the first hidden layer with 6 nodes. Input_dim refers to the number of columns/number of features in x_values or input_layer.\n",
        "# Activation refers to how the nodes/neurons are activated. We will use relu. Other common activations are 'sigmoid' and 'tanh'\n",
        "model4.add(Dense(6,input_dim=4,activation='relu'))\n",
        "\n",
        "# Add the hidden layer with 6 nodes. \n",
        "model4.add(Dense(6,activation='relu'))\n",
        "\n",
        "# Add the output layer with 3 nodes. The activation used has to be 'softmax'. Softmax is used when you are dealing with categorical outputs or targets. \n",
        "model4.add(Dense(3,activation='softmax'))\n",
        "\n",
        "# Compile the model together. The optimizer refers to the method to make the adjustment within the model. Loss refers to how the difference between the predicted out \n",
        "model4.compile(optimizer='adam',loss='categorical_crossentropy',metrics=['accuracy'])\n",
        "\n",
        "# Train model with x_values and y_values. Epochs refer to the number of times the full dataset will be used to train the model.\n",
        "# Shuffle = True tells the model to randomise the arrangement of the dataset after each epoch. This will allow the model to learn.\n",
        "model4.fit(x_values,y_values,epochs=200,shuffle=True)"
      ],
      "execution_count": 58,
      "outputs": [
        {
          "output_type": "stream",
          "name": "stdout",
          "text": [
            "Epoch 1/200\n",
            "5/5 [==============================] - 0s 3ms/step - loss: 1.0972 - accuracy: 0.1400\n",
            "Epoch 2/200\n",
            "5/5 [==============================] - 0s 4ms/step - loss: 1.0738 - accuracy: 0.1400\n",
            "Epoch 3/200\n",
            "5/5 [==============================] - 0s 3ms/step - loss: 1.0522 - accuracy: 0.3333\n",
            "Epoch 4/200\n",
            "5/5 [==============================] - 0s 4ms/step - loss: 1.0307 - accuracy: 0.5000\n",
            "Epoch 5/200\n",
            "5/5 [==============================] - 0s 4ms/step - loss: 1.0107 - accuracy: 0.4933\n",
            "Epoch 6/200\n",
            "5/5 [==============================] - 0s 4ms/step - loss: 0.9918 - accuracy: 0.5333\n",
            "Epoch 7/200\n",
            "5/5 [==============================] - 0s 3ms/step - loss: 0.9731 - accuracy: 0.5733\n",
            "Epoch 8/200\n",
            "5/5 [==============================] - 0s 4ms/step - loss: 0.9546 - accuracy: 0.6200\n",
            "Epoch 9/200\n",
            "5/5 [==============================] - 0s 3ms/step - loss: 0.9370 - accuracy: 0.7000\n",
            "Epoch 10/200\n",
            "5/5 [==============================] - 0s 5ms/step - loss: 0.9205 - accuracy: 0.7400\n",
            "Epoch 11/200\n",
            "5/5 [==============================] - 0s 4ms/step - loss: 0.9030 - accuracy: 0.7867\n",
            "Epoch 12/200\n",
            "5/5 [==============================] - 0s 4ms/step - loss: 0.8865 - accuracy: 0.7933\n",
            "Epoch 13/200\n",
            "5/5 [==============================] - 0s 5ms/step - loss: 0.8708 - accuracy: 0.7933\n",
            "Epoch 14/200\n",
            "5/5 [==============================] - 0s 3ms/step - loss: 0.8549 - accuracy: 0.7933\n",
            "Epoch 15/200\n",
            "5/5 [==============================] - 0s 3ms/step - loss: 0.8389 - accuracy: 0.7933\n",
            "Epoch 16/200\n",
            "5/5 [==============================] - 0s 4ms/step - loss: 0.8239 - accuracy: 0.8000\n",
            "Epoch 17/200\n",
            "5/5 [==============================] - 0s 3ms/step - loss: 0.8088 - accuracy: 0.8000\n",
            "Epoch 18/200\n",
            "5/5 [==============================] - 0s 3ms/step - loss: 0.7942 - accuracy: 0.8000\n",
            "Epoch 19/200\n",
            "5/5 [==============================] - 0s 2ms/step - loss: 0.7794 - accuracy: 0.8000\n",
            "Epoch 20/200\n",
            "5/5 [==============================] - 0s 3ms/step - loss: 0.7649 - accuracy: 0.8000\n",
            "Epoch 21/200\n",
            "5/5 [==============================] - 0s 3ms/step - loss: 0.7505 - accuracy: 0.8000\n",
            "Epoch 22/200\n",
            "5/5 [==============================] - 0s 3ms/step - loss: 0.7362 - accuracy: 0.8067\n",
            "Epoch 23/200\n",
            "5/5 [==============================] - 0s 3ms/step - loss: 0.7218 - accuracy: 0.8067\n",
            "Epoch 24/200\n",
            "5/5 [==============================] - 0s 3ms/step - loss: 0.7076 - accuracy: 0.8133\n",
            "Epoch 25/200\n",
            "5/5 [==============================] - 0s 5ms/step - loss: 0.6935 - accuracy: 0.8133\n",
            "Epoch 26/200\n",
            "5/5 [==============================] - 0s 3ms/step - loss: 0.6797 - accuracy: 0.8133\n",
            "Epoch 27/200\n",
            "5/5 [==============================] - 0s 3ms/step - loss: 0.6661 - accuracy: 0.8133\n",
            "Epoch 28/200\n",
            "5/5 [==============================] - 0s 3ms/step - loss: 0.6523 - accuracy: 0.8133\n",
            "Epoch 29/200\n",
            "5/5 [==============================] - 0s 4ms/step - loss: 0.6391 - accuracy: 0.8067\n",
            "Epoch 30/200\n",
            "5/5 [==============================] - 0s 3ms/step - loss: 0.6260 - accuracy: 0.8133\n",
            "Epoch 31/200\n",
            "5/5 [==============================] - 0s 3ms/step - loss: 0.6129 - accuracy: 0.8133\n",
            "Epoch 32/200\n",
            "5/5 [==============================] - 0s 3ms/step - loss: 0.6001 - accuracy: 0.8200\n",
            "Epoch 33/200\n",
            "5/5 [==============================] - 0s 5ms/step - loss: 0.5875 - accuracy: 0.8200\n",
            "Epoch 34/200\n",
            "5/5 [==============================] - 0s 3ms/step - loss: 0.5750 - accuracy: 0.8267\n",
            "Epoch 35/200\n",
            "5/5 [==============================] - 0s 3ms/step - loss: 0.5629 - accuracy: 0.8267\n",
            "Epoch 36/200\n",
            "5/5 [==============================] - 0s 3ms/step - loss: 0.5510 - accuracy: 0.8267\n",
            "Epoch 37/200\n",
            "5/5 [==============================] - 0s 4ms/step - loss: 0.5396 - accuracy: 0.8333\n",
            "Epoch 38/200\n",
            "5/5 [==============================] - 0s 3ms/step - loss: 0.5281 - accuracy: 0.8333\n",
            "Epoch 39/200\n",
            "5/5 [==============================] - 0s 5ms/step - loss: 0.5170 - accuracy: 0.8400\n",
            "Epoch 40/200\n",
            "5/5 [==============================] - 0s 4ms/step - loss: 0.5063 - accuracy: 0.8400\n",
            "Epoch 41/200\n",
            "5/5 [==============================] - 0s 4ms/step - loss: 0.4959 - accuracy: 0.8400\n",
            "Epoch 42/200\n",
            "5/5 [==============================] - 0s 4ms/step - loss: 0.4855 - accuracy: 0.8400\n",
            "Epoch 43/200\n",
            "5/5 [==============================] - 0s 4ms/step - loss: 0.4761 - accuracy: 0.8467\n",
            "Epoch 44/200\n",
            "5/5 [==============================] - 0s 3ms/step - loss: 0.4665 - accuracy: 0.8533\n",
            "Epoch 45/200\n",
            "5/5 [==============================] - 0s 4ms/step - loss: 0.4573 - accuracy: 0.8533\n",
            "Epoch 46/200\n",
            "5/5 [==============================] - 0s 3ms/step - loss: 0.4485 - accuracy: 0.8533\n",
            "Epoch 47/200\n",
            "5/5 [==============================] - 0s 4ms/step - loss: 0.4400 - accuracy: 0.8600\n",
            "Epoch 48/200\n",
            "5/5 [==============================] - 0s 3ms/step - loss: 0.4314 - accuracy: 0.8733\n",
            "Epoch 49/200\n",
            "5/5 [==============================] - 0s 4ms/step - loss: 0.4232 - accuracy: 0.8733\n",
            "Epoch 50/200\n",
            "5/5 [==============================] - 0s 4ms/step - loss: 0.4152 - accuracy: 0.8867\n",
            "Epoch 51/200\n",
            "5/5 [==============================] - 0s 4ms/step - loss: 0.4076 - accuracy: 0.8867\n",
            "Epoch 52/200\n",
            "5/5 [==============================] - 0s 3ms/step - loss: 0.3998 - accuracy: 0.8867\n",
            "Epoch 53/200\n",
            "5/5 [==============================] - 0s 3ms/step - loss: 0.3928 - accuracy: 0.8933\n",
            "Epoch 54/200\n",
            "5/5 [==============================] - 0s 4ms/step - loss: 0.3857 - accuracy: 0.8933\n",
            "Epoch 55/200\n",
            "5/5 [==============================] - 0s 3ms/step - loss: 0.3788 - accuracy: 0.8933\n",
            "Epoch 56/200\n",
            "5/5 [==============================] - 0s 4ms/step - loss: 0.3722 - accuracy: 0.8933\n",
            "Epoch 57/200\n",
            "5/5 [==============================] - 0s 4ms/step - loss: 0.3660 - accuracy: 0.9000\n",
            "Epoch 58/200\n",
            "5/5 [==============================] - 0s 3ms/step - loss: 0.3600 - accuracy: 0.9000\n",
            "Epoch 59/200\n",
            "5/5 [==============================] - 0s 3ms/step - loss: 0.3543 - accuracy: 0.8933\n",
            "Epoch 60/200\n",
            "5/5 [==============================] - 0s 3ms/step - loss: 0.3484 - accuracy: 0.9000\n",
            "Epoch 61/200\n",
            "5/5 [==============================] - 0s 4ms/step - loss: 0.3430 - accuracy: 0.9000\n",
            "Epoch 62/200\n",
            "5/5 [==============================] - 0s 4ms/step - loss: 0.3374 - accuracy: 0.9000\n",
            "Epoch 63/200\n",
            "5/5 [==============================] - 0s 4ms/step - loss: 0.3322 - accuracy: 0.9000\n",
            "Epoch 64/200\n",
            "5/5 [==============================] - 0s 4ms/step - loss: 0.3271 - accuracy: 0.9000\n",
            "Epoch 65/200\n",
            "5/5 [==============================] - 0s 5ms/step - loss: 0.3222 - accuracy: 0.9067\n",
            "Epoch 66/200\n",
            "5/5 [==============================] - 0s 5ms/step - loss: 0.3181 - accuracy: 0.9067\n",
            "Epoch 67/200\n",
            "5/5 [==============================] - 0s 3ms/step - loss: 0.3127 - accuracy: 0.9067\n",
            "Epoch 68/200\n",
            "5/5 [==============================] - 0s 3ms/step - loss: 0.3084 - accuracy: 0.9067\n",
            "Epoch 69/200\n",
            "5/5 [==============================] - 0s 3ms/step - loss: 0.3040 - accuracy: 0.9067\n",
            "Epoch 70/200\n",
            "5/5 [==============================] - 0s 3ms/step - loss: 0.2996 - accuracy: 0.9067\n",
            "Epoch 71/200\n",
            "5/5 [==============================] - 0s 4ms/step - loss: 0.2953 - accuracy: 0.9067\n",
            "Epoch 72/200\n",
            "5/5 [==============================] - 0s 3ms/step - loss: 0.2912 - accuracy: 0.9133\n",
            "Epoch 73/200\n",
            "5/5 [==============================] - 0s 3ms/step - loss: 0.2875 - accuracy: 0.9133\n",
            "Epoch 74/200\n",
            "5/5 [==============================] - 0s 8ms/step - loss: 0.2833 - accuracy: 0.9133\n",
            "Epoch 75/200\n",
            "5/5 [==============================] - 0s 5ms/step - loss: 0.2793 - accuracy: 0.9133\n",
            "Epoch 76/200\n",
            "5/5 [==============================] - 0s 5ms/step - loss: 0.2757 - accuracy: 0.9200\n",
            "Epoch 77/200\n",
            "5/5 [==============================] - 0s 3ms/step - loss: 0.2719 - accuracy: 0.9200\n",
            "Epoch 78/200\n",
            "5/5 [==============================] - 0s 4ms/step - loss: 0.2683 - accuracy: 0.9200\n",
            "Epoch 79/200\n",
            "5/5 [==============================] - 0s 3ms/step - loss: 0.2647 - accuracy: 0.9200\n",
            "Epoch 80/200\n",
            "5/5 [==============================] - 0s 4ms/step - loss: 0.2610 - accuracy: 0.9200\n",
            "Epoch 81/200\n",
            "5/5 [==============================] - 0s 4ms/step - loss: 0.2575 - accuracy: 0.9200\n",
            "Epoch 82/200\n",
            "5/5 [==============================] - 0s 3ms/step - loss: 0.2540 - accuracy: 0.9200\n",
            "Epoch 83/200\n",
            "5/5 [==============================] - 0s 4ms/step - loss: 0.2505 - accuracy: 0.9200\n",
            "Epoch 84/200\n",
            "5/5 [==============================] - 0s 4ms/step - loss: 0.2474 - accuracy: 0.9200\n",
            "Epoch 85/200\n",
            "5/5 [==============================] - 0s 3ms/step - loss: 0.2440 - accuracy: 0.9200\n",
            "Epoch 86/200\n",
            "5/5 [==============================] - 0s 3ms/step - loss: 0.2407 - accuracy: 0.9200\n",
            "Epoch 87/200\n",
            "5/5 [==============================] - 0s 3ms/step - loss: 0.2375 - accuracy: 0.9200\n",
            "Epoch 88/200\n",
            "5/5 [==============================] - 0s 3ms/step - loss: 0.2346 - accuracy: 0.9200\n",
            "Epoch 89/200\n",
            "5/5 [==============================] - 0s 3ms/step - loss: 0.2316 - accuracy: 0.9200\n",
            "Epoch 90/200\n",
            "5/5 [==============================] - 0s 3ms/step - loss: 0.2286 - accuracy: 0.9267\n",
            "Epoch 91/200\n",
            "5/5 [==============================] - 0s 3ms/step - loss: 0.2256 - accuracy: 0.9267\n",
            "Epoch 92/200\n",
            "5/5 [==============================] - 0s 3ms/step - loss: 0.2226 - accuracy: 0.9267\n",
            "Epoch 93/200\n",
            "5/5 [==============================] - 0s 3ms/step - loss: 0.2197 - accuracy: 0.9267\n",
            "Epoch 94/200\n",
            "5/5 [==============================] - 0s 3ms/step - loss: 0.2171 - accuracy: 0.9333\n",
            "Epoch 95/200\n",
            "5/5 [==============================] - 0s 4ms/step - loss: 0.2143 - accuracy: 0.9333\n",
            "Epoch 96/200\n",
            "5/5 [==============================] - 0s 5ms/step - loss: 0.2115 - accuracy: 0.9333\n",
            "Epoch 97/200\n",
            "5/5 [==============================] - 0s 3ms/step - loss: 0.2090 - accuracy: 0.9400\n",
            "Epoch 98/200\n",
            "5/5 [==============================] - 0s 3ms/step - loss: 0.2062 - accuracy: 0.9400\n",
            "Epoch 99/200\n",
            "5/5 [==============================] - 0s 5ms/step - loss: 0.2035 - accuracy: 0.9400\n",
            "Epoch 100/200\n",
            "5/5 [==============================] - 0s 3ms/step - loss: 0.2009 - accuracy: 0.9400\n",
            "Epoch 101/200\n",
            "5/5 [==============================] - 0s 3ms/step - loss: 0.1984 - accuracy: 0.9400\n",
            "Epoch 102/200\n",
            "5/5 [==============================] - 0s 3ms/step - loss: 0.1959 - accuracy: 0.9400\n",
            "Epoch 103/200\n",
            "5/5 [==============================] - 0s 3ms/step - loss: 0.1933 - accuracy: 0.9467\n",
            "Epoch 104/200\n",
            "5/5 [==============================] - 0s 3ms/step - loss: 0.1908 - accuracy: 0.9533\n",
            "Epoch 105/200\n",
            "5/5 [==============================] - 0s 3ms/step - loss: 0.1888 - accuracy: 0.9467\n",
            "Epoch 106/200\n",
            "5/5 [==============================] - 0s 3ms/step - loss: 0.1860 - accuracy: 0.9533\n",
            "Epoch 107/200\n",
            "5/5 [==============================] - 0s 3ms/step - loss: 0.1835 - accuracy: 0.9533\n",
            "Epoch 108/200\n",
            "5/5 [==============================] - 0s 3ms/step - loss: 0.1815 - accuracy: 0.9533\n",
            "Epoch 109/200\n",
            "5/5 [==============================] - 0s 3ms/step - loss: 0.1789 - accuracy: 0.9533\n",
            "Epoch 110/200\n",
            "5/5 [==============================] - 0s 4ms/step - loss: 0.1766 - accuracy: 0.9533\n",
            "Epoch 111/200\n",
            "5/5 [==============================] - 0s 3ms/step - loss: 0.1743 - accuracy: 0.9533\n",
            "Epoch 112/200\n",
            "5/5 [==============================] - 0s 3ms/step - loss: 0.1725 - accuracy: 0.9533\n",
            "Epoch 113/200\n",
            "5/5 [==============================] - 0s 4ms/step - loss: 0.1703 - accuracy: 0.9533\n",
            "Epoch 114/200\n",
            "5/5 [==============================] - 0s 3ms/step - loss: 0.1679 - accuracy: 0.9533\n",
            "Epoch 115/200\n",
            "5/5 [==============================] - 0s 3ms/step - loss: 0.1658 - accuracy: 0.9533\n",
            "Epoch 116/200\n",
            "5/5 [==============================] - 0s 4ms/step - loss: 0.1639 - accuracy: 0.9533\n",
            "Epoch 117/200\n",
            "5/5 [==============================] - 0s 5ms/step - loss: 0.1619 - accuracy: 0.9600\n",
            "Epoch 118/200\n",
            "5/5 [==============================] - 0s 3ms/step - loss: 0.1598 - accuracy: 0.9600\n",
            "Epoch 119/200\n",
            "5/5 [==============================] - 0s 6ms/step - loss: 0.1579 - accuracy: 0.9600\n",
            "Epoch 120/200\n",
            "5/5 [==============================] - 0s 3ms/step - loss: 0.1559 - accuracy: 0.9600\n",
            "Epoch 121/200\n",
            "5/5 [==============================] - 0s 5ms/step - loss: 0.1540 - accuracy: 0.9600\n",
            "Epoch 122/200\n",
            "5/5 [==============================] - 0s 4ms/step - loss: 0.1523 - accuracy: 0.9533\n",
            "Epoch 123/200\n",
            "5/5 [==============================] - 0s 6ms/step - loss: 0.1505 - accuracy: 0.9533\n",
            "Epoch 124/200\n",
            "5/5 [==============================] - 0s 5ms/step - loss: 0.1488 - accuracy: 0.9533\n",
            "Epoch 125/200\n",
            "5/5 [==============================] - 0s 4ms/step - loss: 0.1470 - accuracy: 0.9533\n",
            "Epoch 126/200\n",
            "5/5 [==============================] - 0s 3ms/step - loss: 0.1459 - accuracy: 0.9533\n",
            "Epoch 127/200\n",
            "5/5 [==============================] - 0s 3ms/step - loss: 0.1441 - accuracy: 0.9533\n",
            "Epoch 128/200\n",
            "5/5 [==============================] - 0s 4ms/step - loss: 0.1421 - accuracy: 0.9600\n",
            "Epoch 129/200\n",
            "5/5 [==============================] - 0s 4ms/step - loss: 0.1405 - accuracy: 0.9600\n",
            "Epoch 130/200\n",
            "5/5 [==============================] - 0s 4ms/step - loss: 0.1391 - accuracy: 0.9600\n",
            "Epoch 131/200\n",
            "5/5 [==============================] - 0s 3ms/step - loss: 0.1378 - accuracy: 0.9600\n",
            "Epoch 132/200\n",
            "5/5 [==============================] - 0s 3ms/step - loss: 0.1361 - accuracy: 0.9600\n",
            "Epoch 133/200\n",
            "5/5 [==============================] - 0s 4ms/step - loss: 0.1346 - accuracy: 0.9600\n",
            "Epoch 134/200\n",
            "5/5 [==============================] - 0s 3ms/step - loss: 0.1331 - accuracy: 0.9600\n",
            "Epoch 135/200\n",
            "5/5 [==============================] - 0s 3ms/step - loss: 0.1317 - accuracy: 0.9600\n",
            "Epoch 136/200\n",
            "5/5 [==============================] - 0s 3ms/step - loss: 0.1305 - accuracy: 0.9600\n",
            "Epoch 137/200\n",
            "5/5 [==============================] - 0s 3ms/step - loss: 0.1292 - accuracy: 0.9600\n",
            "Epoch 138/200\n",
            "5/5 [==============================] - 0s 4ms/step - loss: 0.1280 - accuracy: 0.9600\n",
            "Epoch 139/200\n",
            "5/5 [==============================] - 0s 4ms/step - loss: 0.1266 - accuracy: 0.9600\n",
            "Epoch 140/200\n",
            "5/5 [==============================] - 0s 4ms/step - loss: 0.1252 - accuracy: 0.9600\n",
            "Epoch 141/200\n",
            "5/5 [==============================] - 0s 4ms/step - loss: 0.1241 - accuracy: 0.9600\n",
            "Epoch 142/200\n",
            "5/5 [==============================] - 0s 3ms/step - loss: 0.1230 - accuracy: 0.9600\n",
            "Epoch 143/200\n",
            "5/5 [==============================] - 0s 3ms/step - loss: 0.1217 - accuracy: 0.9600\n",
            "Epoch 144/200\n",
            "5/5 [==============================] - 0s 3ms/step - loss: 0.1204 - accuracy: 0.9600\n",
            "Epoch 145/200\n",
            "5/5 [==============================] - 0s 3ms/step - loss: 0.1195 - accuracy: 0.9600\n",
            "Epoch 146/200\n",
            "5/5 [==============================] - 0s 3ms/step - loss: 0.1186 - accuracy: 0.9600\n",
            "Epoch 147/200\n",
            "5/5 [==============================] - 0s 4ms/step - loss: 0.1173 - accuracy: 0.9600\n",
            "Epoch 148/200\n",
            "5/5 [==============================] - 0s 3ms/step - loss: 0.1162 - accuracy: 0.9600\n",
            "Epoch 149/200\n",
            "5/5 [==============================] - 0s 3ms/step - loss: 0.1150 - accuracy: 0.9600\n",
            "Epoch 150/200\n",
            "5/5 [==============================] - 0s 4ms/step - loss: 0.1147 - accuracy: 0.9600\n",
            "Epoch 151/200\n",
            "5/5 [==============================] - 0s 4ms/step - loss: 0.1133 - accuracy: 0.9600\n",
            "Epoch 152/200\n",
            "5/5 [==============================] - 0s 4ms/step - loss: 0.1122 - accuracy: 0.9600\n",
            "Epoch 153/200\n",
            "5/5 [==============================] - 0s 4ms/step - loss: 0.1114 - accuracy: 0.9600\n",
            "Epoch 154/200\n",
            "5/5 [==============================] - 0s 5ms/step - loss: 0.1104 - accuracy: 0.9600\n",
            "Epoch 155/200\n",
            "5/5 [==============================] - 0s 3ms/step - loss: 0.1094 - accuracy: 0.9667\n",
            "Epoch 156/200\n",
            "5/5 [==============================] - 0s 6ms/step - loss: 0.1089 - accuracy: 0.9667\n",
            "Epoch 157/200\n",
            "5/5 [==============================] - 0s 3ms/step - loss: 0.1077 - accuracy: 0.9667\n",
            "Epoch 158/200\n",
            "5/5 [==============================] - 0s 4ms/step - loss: 0.1071 - accuracy: 0.9667\n",
            "Epoch 159/200\n",
            "5/5 [==============================] - 0s 3ms/step - loss: 0.1061 - accuracy: 0.9667\n",
            "Epoch 160/200\n",
            "5/5 [==============================] - 0s 3ms/step - loss: 0.1052 - accuracy: 0.9667\n",
            "Epoch 161/200\n",
            "5/5 [==============================] - 0s 3ms/step - loss: 0.1044 - accuracy: 0.9667\n",
            "Epoch 162/200\n",
            "5/5 [==============================] - 0s 4ms/step - loss: 0.1037 - accuracy: 0.9667\n",
            "Epoch 163/200\n",
            "5/5 [==============================] - 0s 4ms/step - loss: 0.1030 - accuracy: 0.9667\n",
            "Epoch 164/200\n",
            "5/5 [==============================] - 0s 3ms/step - loss: 0.1021 - accuracy: 0.9667\n",
            "Epoch 165/200\n",
            "5/5 [==============================] - 0s 4ms/step - loss: 0.1014 - accuracy: 0.9667\n",
            "Epoch 166/200\n",
            "5/5 [==============================] - 0s 4ms/step - loss: 0.1007 - accuracy: 0.9667\n",
            "Epoch 167/200\n",
            "5/5 [==============================] - 0s 5ms/step - loss: 0.1000 - accuracy: 0.9667\n",
            "Epoch 168/200\n",
            "5/5 [==============================] - 0s 5ms/step - loss: 0.0992 - accuracy: 0.9667\n",
            "Epoch 169/200\n",
            "5/5 [==============================] - 0s 4ms/step - loss: 0.0987 - accuracy: 0.9667\n",
            "Epoch 170/200\n",
            "5/5 [==============================] - 0s 3ms/step - loss: 0.0979 - accuracy: 0.9667\n",
            "Epoch 171/200\n",
            "5/5 [==============================] - 0s 4ms/step - loss: 0.0973 - accuracy: 0.9667\n",
            "Epoch 172/200\n",
            "5/5 [==============================] - 0s 4ms/step - loss: 0.0965 - accuracy: 0.9667\n",
            "Epoch 173/200\n",
            "5/5 [==============================] - 0s 4ms/step - loss: 0.0960 - accuracy: 0.9667\n",
            "Epoch 174/200\n",
            "5/5 [==============================] - 0s 4ms/step - loss: 0.0955 - accuracy: 0.9667\n",
            "Epoch 175/200\n",
            "5/5 [==============================] - 0s 4ms/step - loss: 0.0948 - accuracy: 0.9667\n",
            "Epoch 176/200\n",
            "5/5 [==============================] - 0s 3ms/step - loss: 0.0942 - accuracy: 0.9667\n",
            "Epoch 177/200\n",
            "5/5 [==============================] - 0s 4ms/step - loss: 0.0936 - accuracy: 0.9667\n",
            "Epoch 178/200\n",
            "5/5 [==============================] - 0s 5ms/step - loss: 0.0930 - accuracy: 0.9667\n",
            "Epoch 179/200\n",
            "5/5 [==============================] - 0s 4ms/step - loss: 0.0925 - accuracy: 0.9667\n",
            "Epoch 180/200\n",
            "5/5 [==============================] - 0s 3ms/step - loss: 0.0918 - accuracy: 0.9667\n",
            "Epoch 181/200\n",
            "5/5 [==============================] - 0s 4ms/step - loss: 0.0917 - accuracy: 0.9667\n",
            "Epoch 182/200\n",
            "5/5 [==============================] - 0s 4ms/step - loss: 0.0909 - accuracy: 0.9667\n",
            "Epoch 183/200\n",
            "5/5 [==============================] - 0s 4ms/step - loss: 0.0904 - accuracy: 0.9667\n",
            "Epoch 184/200\n",
            "5/5 [==============================] - 0s 5ms/step - loss: 0.0899 - accuracy: 0.9667\n",
            "Epoch 185/200\n",
            "5/5 [==============================] - 0s 5ms/step - loss: 0.0894 - accuracy: 0.9667\n",
            "Epoch 186/200\n",
            "5/5 [==============================] - 0s 4ms/step - loss: 0.0888 - accuracy: 0.9667\n",
            "Epoch 187/200\n",
            "5/5 [==============================] - 0s 3ms/step - loss: 0.0884 - accuracy: 0.9667\n",
            "Epoch 188/200\n",
            "5/5 [==============================] - 0s 4ms/step - loss: 0.0880 - accuracy: 0.9667\n",
            "Epoch 189/200\n",
            "5/5 [==============================] - 0s 5ms/step - loss: 0.0874 - accuracy: 0.9667\n",
            "Epoch 190/200\n",
            "5/5 [==============================] - 0s 4ms/step - loss: 0.0871 - accuracy: 0.9667\n",
            "Epoch 191/200\n",
            "5/5 [==============================] - 0s 3ms/step - loss: 0.0865 - accuracy: 0.9667\n",
            "Epoch 192/200\n",
            "5/5 [==============================] - 0s 3ms/step - loss: 0.0861 - accuracy: 0.9667\n",
            "Epoch 193/200\n",
            "5/5 [==============================] - 0s 5ms/step - loss: 0.0856 - accuracy: 0.9667\n",
            "Epoch 194/200\n",
            "5/5 [==============================] - 0s 5ms/step - loss: 0.0852 - accuracy: 0.9667\n",
            "Epoch 195/200\n",
            "5/5 [==============================] - 0s 4ms/step - loss: 0.0847 - accuracy: 0.9667\n",
            "Epoch 196/200\n",
            "5/5 [==============================] - 0s 4ms/step - loss: 0.0843 - accuracy: 0.9667\n",
            "Epoch 197/200\n",
            "5/5 [==============================] - 0s 3ms/step - loss: 0.0840 - accuracy: 0.9667\n",
            "Epoch 198/200\n",
            "5/5 [==============================] - 0s 3ms/step - loss: 0.0837 - accuracy: 0.9667\n",
            "Epoch 199/200\n",
            "5/5 [==============================] - 0s 3ms/step - loss: 0.0832 - accuracy: 0.9667\n",
            "Epoch 200/200\n",
            "5/5 [==============================] - 0s 4ms/step - loss: 0.0827 - accuracy: 0.9667\n"
          ]
        },
        {
          "output_type": "execute_result",
          "data": {
            "text/plain": [
              "<keras.callbacks.History at 0x7ff0f8be36d0>"
            ]
          },
          "metadata": {},
          "execution_count": 58
        }
      ]
    },
    {
      "cell_type": "markdown",
      "metadata": {
        "id": "FhYGTSq0lGzc"
      },
      "source": [
        "You can observe from the printout that the accuracy score is now above 90%. Wow! It seems amazing that just increasing the number of epochs will allow the accuracy to increase. Do you think it is good that the model is so highly accuracte on the data that it has trained on? Just imagine, will a soccer player do well in a match if he/she only trains extremely hard on scoring a goal from a specific spot on the field? Or will a baker be able to bake a delicious cake based on a customer's request if he/she only learns how to bake a cake that is a specific flavour, shape and size?"
      ]
    },
    {
      "cell_type": "markdown",
      "metadata": {
        "id": "wTjlc46alGzd"
      },
      "source": [
        "The soccer player will not perform well in a match as he/she may not be able to shoot accurately from other parts of the field. The baker will not be able to bake a delicious cake as he/she will only know 1 specific flavour.\n",
        "\n",
        "The idea behind this question is the concept of overfitting. If the model overfits, it will not be able to generalise to properly predict data that it has not seen before."
      ]
    },
    {
      "cell_type": "markdown",
      "metadata": {
        "id": "xMvQSD3jlGze"
      },
      "source": [
        "This is the concept of overfitting and also applies to all machine learning techniques. Once the technique has fitted too acurrately on the dataset, the trained technique will not be able to generalise to other data that it has not seen before. As such, we usually only train the technique on a fraction of the dataset that we have and keep the remainder as a test or validation set to see if the model has overfitted. When training on the training set, the accuracy of the model on the test set should increase. However, at the point of overfitting, the accuracy on the test set will start to decrease. If you see that the test accuracy has begin to increase after a certain epoch, you should not train the model any further.\n",
        "\n",
        "Let us apply the split between a train and a test set to the dataset that we are using here."
      ]
    },
    {
      "cell_type": "markdown",
      "metadata": {
        "id": "wpgu2amflGzf"
      },
      "source": [
        "First, we need to decide how much data we want to keep and prevent the model from training on. Usually, we withold about 20% to 30% of the dataset. In this example, we will keep 25 percent of the dataset as the test/validation set. We can use the train_test_split function from the sklearn library. Try the code below."
      ]
    },
    {
      "cell_type": "code",
      "metadata": {
        "id": "adYYa88plGzf",
        "colab": {
          "base_uri": "https://localhost:8080/"
        },
        "outputId": "ba435804-9e52-48ac-9059-630ba2ba0304"
      },
      "source": [
        "from sklearn.model_selection import train_test_split\n",
        "\n",
        "# Extract out original x_values from the dataframe df. \n",
        "# We have to re-extract the x_values as the standardisation should only be based on the data that the model will train with.\n",
        "# Thus, we have to split the data first before standardising.\n",
        "x_values = df[['sepal length','sepal width','petal length','petal width']]\n",
        "\n",
        "# Test_size=0.25 indicates that 25% of the datapoints will be in x_test and y_test whereas 75% will be in x_train and y_train.\n",
        "# random_state=10 is used to ensure that the split is the same everytime you run the code below. \n",
        "# This is because the split is done randomly everytime. The same random_state is the only way to ensure the same split everytime.\n",
        "x_train, x_test, y_train, y_test = train_test_split(x_values,y_values,test_size=0.25,random_state=10)\n",
        "\n",
        "# Check the number of rows in x_train, x_test, y_train and y_test\n",
        "print(\"Number of rows in x_train:\", x_train.shape[0])\n",
        "print(\"Number of rows in x_test:\", x_test.shape[0])\n",
        "print(\"Number of rows in y_train:\", y_train.shape[0])\n",
        "print(\"Number of rows in y_test:\", y_test.shape[0])\n",
        "\n",
        "# We can now standardise the x values.\n",
        "# Initialise the StandardScaler\n",
        "standardise = StandardScaler()\n",
        "\n",
        "# Standardise the x_train values using .fit_transform\n",
        "x_train = standardise.fit_transform(x_train)\n",
        "\n",
        "# Standardise the x_test values using .transform. \n",
        "# There is no need to fit the data as the standardisation should be the same as that of x_train.\n",
        "x_test = standardise.transform(x_test)"
      ],
      "execution_count": 62,
      "outputs": [
        {
          "output_type": "stream",
          "name": "stdout",
          "text": [
            "Number of rows in x_train: 112\n",
            "Number of rows in x_test: 38\n",
            "Number of rows in y_train: 112\n",
            "Number of rows in y_test: 38\n"
          ]
        }
      ]
    },
    {
      "cell_type": "markdown",
      "metadata": {
        "id": "MY7LXUk5lGzi"
      },
      "source": [
        "Write your own code to split the dataset into train and test/validation sets by witholding 20% of the dataset as test/validation set. Use `x_train2`, `x_test2`, `y_train2` and` y_test2` as your variables. Check that the number of rows are correct for each variable.\n",
        "\n",
        "\n",
        "<font color=red>Hint:</font> \n",
        " similar to above code but use `x_train2`, `x_test2`, `y_train2` and `y_test2` as your variables."
      ]
    },
    {
      "cell_type": "code",
      "metadata": {
        "id": "OKm4EiQPlGzj",
        "colab": {
          "base_uri": "https://localhost:8080/"
        },
        "outputId": "8487b421-fc0b-4049-aabf-bae5eff779c7"
      },
      "source": [
        "from sklearn.model_selection import train_test_split\n",
        "\n",
        "x_values = df[['sepal length', 'sepal width', 'petal length', 'petal width']]\n",
        "\n",
        "x_train, x_test, y_train, y_test = train_test_split(x_values, y_values, test_size=0.2, random_state=10)\n",
        "\n",
        "print(\"Number of rows in x_train:\", x_train.shape[0])\n",
        "print(\"Number of rows in x_test:\", x_test.shape[0])\n",
        "print(\"Number of rows in y_train:\", y_train.shape[0])\n",
        "print(\"Number of rows in y_test:\", y_test.shape[0])\n",
        "\n",
        "standardise = StandardScaler()\n",
        "\n",
        "x_train = standardise.fit_transform(x_train)\n",
        "\n",
        "x_test = standardise.transform(x_test)"
      ],
      "execution_count": 65,
      "outputs": [
        {
          "output_type": "stream",
          "name": "stdout",
          "text": [
            "Number of rows in x_train: 120\n",
            "Number of rows in x_test: 30\n",
            "Number of rows in y_train: 120\n",
            "Number of rows in y_test: 30\n"
          ]
        }
      ]
    },
    {
      "cell_type": "markdown",
      "metadata": {
        "id": "hPh4GQSRlGzo"
      },
      "source": [
        "We shall now use `x_train2`, `x_test2`, `y_train2` and `y_test2` to train a neural network. Write a code to create a neural network that has 2 hidden layers with 6 nodes each and 1 output layer with 3 nodes. The activation for the input hidden layer is '`relu`' wheras the activation for the output layer is '`softmax`'. The opitmizer to use is '`adam`' and the loss should be '`categorical_crossentropy`'. The metrics should be '`accuracy`'. Use model_val as the model variable. Print the model summary after you compile the model.\n",
        "\n",
        "<font color=red>Hint:</font> \n",
        "\n",
        "*   refer to the above codes at \"Try the code below to build the artificial neural network.\"\n",
        "*   Please name your model as `model_val`\n",
        "*   Print the model summary after you compile the model.\n",
        "\n",
        "\n"
      ]
    },
    {
      "cell_type": "code",
      "metadata": {
        "id": "MS7go0BYlGzp",
        "colab": {
          "base_uri": "https://localhost:8080/"
        },
        "outputId": "57c7747b-1708-4a67-e022-4ca9d1945e3a"
      },
      "source": [
        "model_val = Sequential()\n",
        "# Input layer \n",
        "model_val.add(Dense(6,input_dim=4,activation='relu'))\n",
        "\n",
        "# Hidden layer 1 \n",
        "model_val.add(Dense(6, activation='relu'))\n",
        "\n",
        "# Hidden layer 2\n",
        "model_val.add(Dense(6, activation='relu'))\n",
        "\n",
        "# Output layer\n",
        "model_val.add(Dense(3, activation='softmax'))\n",
        "\n",
        "# compile\n",
        "model_val.compile(optimizer='adam', loss='categorical_crossentropy', metrics=['accuracy'])\n",
        "\n",
        "model_val.summary()"
      ],
      "execution_count": 66,
      "outputs": [
        {
          "output_type": "stream",
          "name": "stdout",
          "text": [
            "Model: \"sequential_21\"\n",
            "_________________________________________________________________\n",
            "Layer (type)                 Output Shape              Param #   \n",
            "=================================================================\n",
            "dense_82 (Dense)             (None, 6)                 30        \n",
            "_________________________________________________________________\n",
            "dense_83 (Dense)             (None, 6)                 42        \n",
            "_________________________________________________________________\n",
            "dense_84 (Dense)             (None, 6)                 42        \n",
            "_________________________________________________________________\n",
            "dense_85 (Dense)             (None, 3)                 21        \n",
            "=================================================================\n",
            "Total params: 135\n",
            "Trainable params: 135\n",
            "Non-trainable params: 0\n",
            "_________________________________________________________________\n"
          ]
        }
      ]
    },
    {
      "cell_type": "markdown",
      "metadata": {
        "id": "8qb3kif0lGzt"
      },
      "source": [
        "We can now train model_val using `x_trai`n and `y_train`. We will also test the accuracy after each epoch using `x_test` and `y_test`. Try the code below!"
      ]
    },
    {
      "cell_type": "code",
      "metadata": {
        "id": "G6oUQm8clGzt",
        "colab": {
          "base_uri": "https://localhost:8080/"
        },
        "outputId": "09fb526e-aa88-479c-e313-0680577effdb"
      },
      "source": [
        "# Train model with x_values and y_values. \n",
        "# Epochs refer to the number of times the full dataset will be used to train the model.\n",
        "# Shuffle = True tells the model to randomise the arrangement of the dataset after each epoch. This will allow the model to learn.\n",
        "# Validation_data will allow us to input in the test/validation datasets. This will allow us to see the model accuracy on the test/validation set.\n",
        "model_val.fit(x_train,y_train,epochs=50,shuffle=True,validation_data=(x_test,y_test))"
      ],
      "execution_count": 67,
      "outputs": [
        {
          "output_type": "stream",
          "name": "stdout",
          "text": [
            "Epoch 1/50\n",
            "4/4 [==============================] - 1s 73ms/step - loss: 1.1591 - accuracy: 0.3083 - val_loss: 1.1247 - val_accuracy: 0.4000\n",
            "Epoch 2/50\n",
            "4/4 [==============================] - 0s 9ms/step - loss: 1.1355 - accuracy: 0.2750 - val_loss: 1.1089 - val_accuracy: 0.4000\n",
            "Epoch 3/50\n",
            "4/4 [==============================] - 0s 10ms/step - loss: 1.1154 - accuracy: 0.2167 - val_loss: 1.0937 - val_accuracy: 0.3333\n",
            "Epoch 4/50\n",
            "4/4 [==============================] - 0s 9ms/step - loss: 1.0945 - accuracy: 0.2000 - val_loss: 1.0796 - val_accuracy: 0.2333\n",
            "Epoch 5/50\n",
            "4/4 [==============================] - 0s 13ms/step - loss: 1.0738 - accuracy: 0.1917 - val_loss: 1.0662 - val_accuracy: 0.2000\n",
            "Epoch 6/50\n",
            "4/4 [==============================] - 0s 11ms/step - loss: 1.0556 - accuracy: 0.2167 - val_loss: 1.0535 - val_accuracy: 0.2000\n",
            "Epoch 7/50\n",
            "4/4 [==============================] - 0s 12ms/step - loss: 1.0378 - accuracy: 0.2500 - val_loss: 1.0426 - val_accuracy: 0.2000\n",
            "Epoch 8/50\n",
            "4/4 [==============================] - 0s 11ms/step - loss: 1.0228 - accuracy: 0.2583 - val_loss: 1.0332 - val_accuracy: 0.1333\n",
            "Epoch 9/50\n",
            "4/4 [==============================] - 0s 11ms/step - loss: 1.0078 - accuracy: 0.3333 - val_loss: 1.0252 - val_accuracy: 0.2333\n",
            "Epoch 10/50\n",
            "4/4 [==============================] - 0s 10ms/step - loss: 0.9949 - accuracy: 0.3833 - val_loss: 1.0180 - val_accuracy: 0.3000\n",
            "Epoch 11/50\n",
            "4/4 [==============================] - 0s 9ms/step - loss: 0.9832 - accuracy: 0.4500 - val_loss: 1.0111 - val_accuracy: 0.4667\n",
            "Epoch 12/50\n",
            "4/4 [==============================] - 0s 11ms/step - loss: 0.9723 - accuracy: 0.5167 - val_loss: 1.0042 - val_accuracy: 0.5000\n",
            "Epoch 13/50\n",
            "4/4 [==============================] - 0s 8ms/step - loss: 0.9615 - accuracy: 0.5417 - val_loss: 0.9974 - val_accuracy: 0.5000\n",
            "Epoch 14/50\n",
            "4/4 [==============================] - 0s 10ms/step - loss: 0.9501 - accuracy: 0.5750 - val_loss: 0.9903 - val_accuracy: 0.5000\n",
            "Epoch 15/50\n",
            "4/4 [==============================] - 0s 10ms/step - loss: 0.9392 - accuracy: 0.5917 - val_loss: 0.9831 - val_accuracy: 0.5333\n",
            "Epoch 16/50\n",
            "4/4 [==============================] - 0s 9ms/step - loss: 0.9290 - accuracy: 0.6333 - val_loss: 0.9758 - val_accuracy: 0.5667\n",
            "Epoch 17/50\n",
            "4/4 [==============================] - 0s 10ms/step - loss: 0.9176 - accuracy: 0.6417 - val_loss: 0.9685 - val_accuracy: 0.5667\n",
            "Epoch 18/50\n",
            "4/4 [==============================] - 0s 10ms/step - loss: 0.9070 - accuracy: 0.6417 - val_loss: 0.9615 - val_accuracy: 0.5667\n",
            "Epoch 19/50\n",
            "4/4 [==============================] - 0s 10ms/step - loss: 0.8966 - accuracy: 0.6750 - val_loss: 0.9544 - val_accuracy: 0.5667\n",
            "Epoch 20/50\n",
            "4/4 [==============================] - 0s 10ms/step - loss: 0.8866 - accuracy: 0.6917 - val_loss: 0.9475 - val_accuracy: 0.5667\n",
            "Epoch 21/50\n",
            "4/4 [==============================] - 0s 9ms/step - loss: 0.8767 - accuracy: 0.6917 - val_loss: 0.9408 - val_accuracy: 0.5667\n",
            "Epoch 22/50\n",
            "4/4 [==============================] - 0s 12ms/step - loss: 0.8660 - accuracy: 0.6917 - val_loss: 0.9338 - val_accuracy: 0.5667\n",
            "Epoch 23/50\n",
            "4/4 [==============================] - 0s 11ms/step - loss: 0.8568 - accuracy: 0.6917 - val_loss: 0.9272 - val_accuracy: 0.5667\n",
            "Epoch 24/50\n",
            "4/4 [==============================] - 0s 10ms/step - loss: 0.8473 - accuracy: 0.7000 - val_loss: 0.9205 - val_accuracy: 0.5667\n",
            "Epoch 25/50\n",
            "4/4 [==============================] - 0s 10ms/step - loss: 0.8386 - accuracy: 0.7000 - val_loss: 0.9138 - val_accuracy: 0.5667\n",
            "Epoch 26/50\n",
            "4/4 [==============================] - 0s 9ms/step - loss: 0.8294 - accuracy: 0.7083 - val_loss: 0.9071 - val_accuracy: 0.6000\n",
            "Epoch 27/50\n",
            "4/4 [==============================] - 0s 12ms/step - loss: 0.8208 - accuracy: 0.7083 - val_loss: 0.9003 - val_accuracy: 0.6333\n",
            "Epoch 28/50\n",
            "4/4 [==============================] - 0s 11ms/step - loss: 0.8124 - accuracy: 0.7167 - val_loss: 0.8938 - val_accuracy: 0.6333\n",
            "Epoch 29/50\n",
            "4/4 [==============================] - 0s 12ms/step - loss: 0.8040 - accuracy: 0.7333 - val_loss: 0.8877 - val_accuracy: 0.6333\n",
            "Epoch 30/50\n",
            "4/4 [==============================] - 0s 11ms/step - loss: 0.7961 - accuracy: 0.7500 - val_loss: 0.8813 - val_accuracy: 0.6667\n",
            "Epoch 31/50\n",
            "4/4 [==============================] - 0s 13ms/step - loss: 0.7883 - accuracy: 0.7500 - val_loss: 0.8750 - val_accuracy: 0.6667\n",
            "Epoch 32/50\n",
            "4/4 [==============================] - 0s 10ms/step - loss: 0.7807 - accuracy: 0.7583 - val_loss: 0.8687 - val_accuracy: 0.6667\n",
            "Epoch 33/50\n",
            "4/4 [==============================] - 0s 10ms/step - loss: 0.7736 - accuracy: 0.7583 - val_loss: 0.8626 - val_accuracy: 0.6667\n",
            "Epoch 34/50\n",
            "4/4 [==============================] - 0s 11ms/step - loss: 0.7665 - accuracy: 0.7667 - val_loss: 0.8571 - val_accuracy: 0.6667\n",
            "Epoch 35/50\n",
            "4/4 [==============================] - 0s 12ms/step - loss: 0.7596 - accuracy: 0.7667 - val_loss: 0.8513 - val_accuracy: 0.6667\n",
            "Epoch 36/50\n",
            "4/4 [==============================] - 0s 10ms/step - loss: 0.7529 - accuracy: 0.7667 - val_loss: 0.8449 - val_accuracy: 0.6667\n",
            "Epoch 37/50\n",
            "4/4 [==============================] - 0s 11ms/step - loss: 0.7465 - accuracy: 0.7667 - val_loss: 0.8384 - val_accuracy: 0.6667\n",
            "Epoch 38/50\n",
            "4/4 [==============================] - 0s 10ms/step - loss: 0.7401 - accuracy: 0.7750 - val_loss: 0.8317 - val_accuracy: 0.7333\n",
            "Epoch 39/50\n",
            "4/4 [==============================] - 0s 13ms/step - loss: 0.7336 - accuracy: 0.7917 - val_loss: 0.8262 - val_accuracy: 0.7333\n",
            "Epoch 40/50\n",
            "4/4 [==============================] - 0s 11ms/step - loss: 0.7277 - accuracy: 0.7917 - val_loss: 0.8204 - val_accuracy: 0.7333\n",
            "Epoch 41/50\n",
            "4/4 [==============================] - 0s 12ms/step - loss: 0.7211 - accuracy: 0.8083 - val_loss: 0.8137 - val_accuracy: 0.7333\n",
            "Epoch 42/50\n",
            "4/4 [==============================] - 0s 11ms/step - loss: 0.7152 - accuracy: 0.8167 - val_loss: 0.8071 - val_accuracy: 0.7333\n",
            "Epoch 43/50\n",
            "4/4 [==============================] - 0s 11ms/step - loss: 0.7091 - accuracy: 0.8167 - val_loss: 0.8004 - val_accuracy: 0.7333\n",
            "Epoch 44/50\n",
            "4/4 [==============================] - 0s 11ms/step - loss: 0.7031 - accuracy: 0.8167 - val_loss: 0.7932 - val_accuracy: 0.7333\n",
            "Epoch 45/50\n",
            "4/4 [==============================] - 0s 10ms/step - loss: 0.6971 - accuracy: 0.8333 - val_loss: 0.7854 - val_accuracy: 0.7667\n",
            "Epoch 46/50\n",
            "4/4 [==============================] - 0s 11ms/step - loss: 0.6914 - accuracy: 0.8417 - val_loss: 0.7774 - val_accuracy: 0.7667\n",
            "Epoch 47/50\n",
            "4/4 [==============================] - 0s 12ms/step - loss: 0.6852 - accuracy: 0.8500 - val_loss: 0.7705 - val_accuracy: 0.7667\n",
            "Epoch 48/50\n",
            "4/4 [==============================] - 0s 10ms/step - loss: 0.6795 - accuracy: 0.8583 - val_loss: 0.7632 - val_accuracy: 0.7667\n",
            "Epoch 49/50\n",
            "4/4 [==============================] - 0s 12ms/step - loss: 0.6734 - accuracy: 0.8667 - val_loss: 0.7566 - val_accuracy: 0.7667\n",
            "Epoch 50/50\n",
            "4/4 [==============================] - 0s 12ms/step - loss: 0.6679 - accuracy: 0.8667 - val_loss: 0.7495 - val_accuracy: 0.7667\n"
          ]
        },
        {
          "output_type": "execute_result",
          "data": {
            "text/plain": [
              "<keras.callbacks.History at 0x7ff0ec291ed0>"
            ]
          },
          "metadata": {},
          "execution_count": 67
        }
      ]
    },
    {
      "cell_type": "markdown",
      "metadata": {
        "id": "YYpjZsGilGzv"
      },
      "source": [
        "Did you notice that the printout now shows the validation accuracy as well? Is the validation accuracy higher or lower than the training accuracy?\n",
        "\n",
        "<font color=red>Your answer:</font> "
      ]
    },
    {
      "cell_type": "code",
      "metadata": {
        "id": "-McQUY_0lGzw"
      },
      "source": [
        "# Lower "
      ],
      "execution_count": null,
      "outputs": []
    },
    {
      "cell_type": "markdown",
      "metadata": {
        "id": "ioy-5YWTlGzy"
      },
      "source": [
        "We can also use the model to identify flower types for newly gathered data. For example, imagine that your friend has measured the sepal_length, sepal_width, petal_length and petal_width of some flowers and saved the data in a file called \"iris_predict.data\". Your friend wants to find the flower types for these flowers based on the values measured. Would you be able to use your model to help your friend? What are the flower types that your friend measured? Try the codes below!\n",
        "\n",
        "<font color=red>Hint: You can use model.predict method to obtain the flower types for your friend. Additionally, the values returned by the .predict method will be the probability of each flower type that the model thinks should be assigned to each data row. As such, the higher the probablity, the more confident the model is that the flower type predicted is correct. For example, if the predicted values are very high in the second column, then the model thinks that the flower type is versicolor. You will also need to scale your data before obtaining the flower types. </font>"
      ]
    },
    {
      "cell_type": "code",
      "metadata": {
        "id": "JpxCDUQwlGz3"
      },
      "source": [
        "df2 = pd.read_csv(\"/content/Intel_AI4Y/My Drive/Intel_AI4Y/Students_E_Learning/Copy_To_Google_Drive/Intel_AI4Y_Colab/Module_17/iris_predict.data\",header=None)\n",
        "names = [\"sepal_length\", \"sepal_width\",\"petal_length\", \"petal_width\"]\n",
        "df2.columns = names"
      ],
      "execution_count": 68,
      "outputs": []
    },
    {
      "cell_type": "code",
      "metadata": {
        "id": "16uj1bfklGz6"
      },
      "source": [
        "x_new = df2[['sepal_length','sepal_width','petal_length','petal_width']]"
      ],
      "execution_count": 69,
      "outputs": []
    },
    {
      "cell_type": "code",
      "metadata": {
        "id": "K9qxFK8olGz8"
      },
      "source": [
        "x_new_scale = standardise.transform(x_new)"
      ],
      "execution_count": 70,
      "outputs": []
    },
    {
      "cell_type": "code",
      "metadata": {
        "id": "xKPEZn1MlGz-"
      },
      "source": [
        "y_new = model_val.predict(x_new_scale)"
      ],
      "execution_count": 71,
      "outputs": []
    },
    {
      "cell_type": "code",
      "metadata": {
        "id": "oVomoDKClG0B",
        "colab": {
          "base_uri": "https://localhost:8080/"
        },
        "outputId": "f360432c-614e-413b-ccb2-5f1359025d8e"
      },
      "source": [
        "print(y_new)"
      ],
      "execution_count": 72,
      "outputs": [
        {
          "output_type": "stream",
          "name": "stdout",
          "text": [
            "[[0.398489   0.32016078 0.2813502 ]\n",
            " [0.36959013 0.35034534 0.2800645 ]\n",
            " [0.39731008 0.32136554 0.28132436]\n",
            " [0.05446571 0.24432164 0.7012127 ]\n",
            " [0.27277344 0.4617394  0.2654872 ]\n",
            " [0.02667199 0.2624075  0.7109205 ]\n",
            " [0.00530445 0.10167564 0.89301986]\n",
            " [0.0090673  0.12415619 0.8667765 ]\n",
            " [0.02861563 0.24671684 0.72466755]\n",
            " [0.22851314 0.456077   0.31540984]]\n"
          ]
        }
      ]
    },
    {
      "cell_type": "markdown",
      "metadata": {
        "id": "U6fht-golG0F"
      },
      "source": [
        "What are the flower types for each data row? You can use the [argmax](https://www.geeksforgeeks.org/numpy-argmax-python/) function to help you identify the flower types from `y_new`. Try the code below!"
      ]
    },
    {
      "cell_type": "code",
      "metadata": {
        "id": "KfI-T2E3lG0G",
        "colab": {
          "base_uri": "https://localhost:8080/"
        },
        "outputId": "17d2dec5-4fe0-4e02-980f-f810ed68205a"
      },
      "source": [
        "flower_types = []\n",
        "for ii in range(0,y_new.shape[0]):\n",
        "    flower_types.append(np.argmax(y_new[ii,:]))\n",
        "print(flower_types)"
      ],
      "execution_count": 73,
      "outputs": [
        {
          "output_type": "stream",
          "name": "stdout",
          "text": [
            "[0, 0, 0, 2, 1, 2, 2, 2, 2, 1]\n"
          ]
        }
      ]
    },
    {
      "cell_type": "markdown",
      "metadata": {
        "id": "nxwBgOjMlG0I"
      },
      "source": [
        "Are you able to match the flower type numbers back to the different types (Setosa, Versicolor, Virginica)?\n",
        "\n",
        "<font color=red>Your answer:</font> "
      ]
    },
    {
      "cell_type": "code",
      "metadata": {
        "id": "9TRBafcRlG0J"
      },
      "source": [
        "# ['Iris-setosa', 'Iris-setosa', 'Iris-setosa', 'Iris-virginica', 'Iris-vericolor', 'Iris-virginica', 'Iris-virginica', 'Iris-virginica', 'Iris-virginica', 'Iris-vericolor']"
      ],
      "execution_count": null,
      "outputs": []
    },
    {
      "cell_type": "markdown",
      "metadata": {
        "id": "qIXjlciElG0L"
      },
      "source": [
        "Congrats! You have successfully learnt how to create an artificial neural network model and trained it. Artficial neural networks are extremely powerful tools that can be used on very large datasets. For example, if you have a couple of hundred columns/features and over 100000 data points, it may be beneficial to use artificial neural networks instead of other machine learning techniques. Just remember, there are no strict rules on the number of nodes in the hidden layer or the number of hidden layers. Experiment with different neural networks to see which one provides the best result for your dataset."
      ]
    }
  ]
}