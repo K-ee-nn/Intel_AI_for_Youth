{
  "nbformat": 4,
  "nbformat_minor": 0,
  "metadata": {
    "kernelspec": {
      "display_name": "Python 3",
      "language": "python",
      "name": "python3"
    },
    "language_info": {
      "codemirror_mode": {
        "name": "ipython",
        "version": 3
      },
      "file_extension": ".py",
      "mimetype": "text/x-python",
      "name": "python",
      "nbconvert_exporter": "python",
      "pygments_lexer": "ipython3",
      "version": "3.6.5"
    },
    "colab": {
      "name": "[colab_Youth]Module19Experience[CV](BasicTechniquesinComputerVision).ipynb",
      "provenance": [],
      "collapsed_sections": []
    }
  },
  "cells": [
    {
      "cell_type": "markdown",
      "metadata": {
        "id": "APT0Wh10uRkS"
      },
      "source": [
        "# Vision Lesson Map\n",
        "\n",
        "<font color=red>Red </font> highlighted is the topic covered for this lesson\n",
        "1. Image Processing: OpenCV\n",
        "2. AI Model: \n",
        ">* K-Nearest Neighbour (kNN) Algorithm\n",
        ">* Support Vector (SVM)"
      ]
    },
    {
      "cell_type": "markdown",
      "metadata": {
        "id": "Lm1QUSvey04W"
      },
      "source": [
        "# Introduction to Computer Vision\n",
        "*Version 1.1*\n",
        "\n",
        "To navigate up and down, you can use the up and down arrow keys on your keyboard<br />\n",
        "To execute code in this workbook, select the code block and press **Shift+Enter** <br />\n",
        "To edit the code block, press enter. \n",
        "\n",
        "The codes in this workbook are cumulative. (Variables defined continue to be available until the notebook is closed) <br />\n",
        "So do start from the top and work your way down to avoid unexpected results!\n",
        "\n",
        "\n",
        "For more help on using Jupyter Notebook, you can click on Help > User Interface Tour in the menu above, <br />\n",
        "or visit https://jupyter-notebook.readthedocs.io/en/stable/ui_components.html\n",
        "\n",
        "Experiment and test out your ideas, for that is one of the fastest ways to learn!"
      ]
    },
    {
      "cell_type": "markdown",
      "metadata": {
        "id": "N-SnGVSRy04d"
      },
      "source": [
        "## 1. How do computers see?\n",
        "When you played the icebreaker earlier, your classmate could not talk but you could easily identify your classmate based on what was written on his/her wristband. You used your eyes to see, and your brain processed that information. \n",
        "\n",
        "Can we get a computer to do something similar? \n",
        "<br />\n",
        "Where do we even start?\n",
        "\n",
        "Similar to how we recognized our friends, there are 2 parts.<br />\n",
        "1) Seeing with your eyes<br />\n",
        "2) Making sense of what we see (recognizing your friend, or what he/she wrote or drew on the wristband)\n"
      ]
    },
    {
      "cell_type": "markdown",
      "metadata": {
        "id": "xtUIZGBmy04f"
      },
      "source": [
        "### Getting started with code"
      ]
    },
    {
      "cell_type": "markdown",
      "metadata": {
        "id": "eoIjZxjIy04g"
      },
      "source": [
        "In this workshop, we will be using the Intel® Distribution for Python and OpenCV.\n",
        "\n",
        "Another useful Python library will be the Numpy library, which is very useful for quick array manipulations. Images are actually stored as arrays/matrices of pixels, and hence, Numpy would be very useful for helping us to do faster image processing.\n",
        "\n",
        "If you have no prior experience with Python and Numpy, <br />\n",
        "you can get a good introduction online at https://www.datacamp.com/courses/intro-to-python-for-data-science\n",
        "\n",
        "To execute the code block below, select it and press **Shift+Enter**  <br />\n",
        "The results of your execution will be printed directly below the code block. In this case, it will show you your installed version of OpenCV and Python.\n",
        "\n",
        "### Importing your Libraries"
      ]
    },
    {
      "cell_type": "code",
      "metadata": {
        "id": "wYC1f409y04h",
        "colab": {
          "base_uri": "https://localhost:8080/"
        },
        "outputId": "d5687ce4-ef03-4234-e79d-e553d71502b3"
      },
      "source": [
        "import cv2              #Import the OpenCV Library\n",
        "import numpy as np      #Import the Numpy library\n",
        "import sys\n",
        "\n",
        "print (\"You have successfully installed OpenCV version \"+cv2.__version__)\n",
        "print (\"Your version of Python is \" + sys.version)"
      ],
      "execution_count": 111,
      "outputs": [
        {
          "output_type": "stream",
          "name": "stdout",
          "text": [
            "You have successfully installed OpenCV version 4.1.2\n",
            "Your version of Python is 3.7.12 (default, Sep 10 2021, 00:21:48) \n",
            "[GCC 7.5.0]\n"
          ]
        }
      ]
    },
    {
      "cell_type": "markdown",
      "metadata": {
        "id": "truXIhTby04m"
      },
      "source": [
        "### 1.1 Seeing. Let's display our first picture!"
      ]
    },
    {
      "cell_type": "code",
      "metadata": {
        "id": "ZHWXqtZq-KMf",
        "colab": {
          "base_uri": "https://localhost:8080/"
        },
        "outputId": "f173a2b8-8c12-44fb-bb49-d97f84a64d25"
      },
      "source": [
        "from google.colab import drive\n",
        "drive.mount('/content/Intel_AI4Y')"
      ],
      "execution_count": 112,
      "outputs": [
        {
          "output_type": "stream",
          "name": "stdout",
          "text": [
            "Drive already mounted at /content/Intel_AI4Y; to attempt to forcibly remount, call drive.mount(\"/content/Intel_AI4Y\", force_remount=True).\n"
          ]
        }
      ]
    },
    {
      "cell_type": "code",
      "metadata": {
        "id": "ZxDilb8oy04n",
        "colab": {
          "base_uri": "https://localhost:8080/",
          "height": 617
        },
        "outputId": "6cfc3eaa-d6a4-4bdb-cec4-2a69d24ec3f8"
      },
      "source": [
        "from google.colab.patches import cv2_imshow\n",
        "img = cv2.imread(\"/content/Intel_AI4Y/My Drive/Intel_AI4Y/Students_E_Learning/Copy_To_Google_Drive/Intel_AI4Y_Colab/Module_19/images/image001.png\")   #Load the image file into memory\n",
        "cv2_imshow(img)                  #Display that image\n",
        "\n",
        "cv2.waitKey(0)                            #Cleanup after any key is pressed\n",
        "cv2.destroyAllWindows()"
      ],
      "execution_count": 113,
      "outputs": [
        {
          "output_type": "display_data",
          "data": {
            "image/png": "[encoded data removed]",
            "text/plain": [
              "<PIL.Image.Image image mode=RGB size=800x600 at 0x7FB863A4F550>"
            ]
          },
          "metadata": {}
        }
      ]
    },
    {
      "cell_type": "markdown",
      "metadata": {
        "id": "Jk5-48Ruy04t"
      },
      "source": [
        "#### After running the code block above, check out your windows to see if the image has been produced!\n",
        "\n",
        "Let's find out what's the size of this image!"
      ]
    },
    {
      "cell_type": "code",
      "metadata": {
        "id": "QL7jwBETy04u",
        "colab": {
          "base_uri": "https://localhost:8080/"
        },
        "outputId": "0d7ac222-ce20-4f29-fa7a-2c46a50cfc9b"
      },
      "source": [
        "print (img[:,:,2].shape)"
      ],
      "execution_count": 114,
      "outputs": [
        {
          "output_type": "stream",
          "name": "stdout",
          "text": [
            "(600, 800)\n"
          ]
        }
      ]
    },
    {
      "cell_type": "markdown",
      "metadata": {
        "id": "24SpEo1Wy04x"
      },
      "source": [
        "Great! You have used OpenCV to read your image and display it on another window. \n",
        "\n",
        "However, we have also learnt in acquire stage that we can use another library to show the image on this Notebook. Do you remember what library is it? \n",
        "\n",
        "### <font color=red>Task 1: Import matplotlib library and display the image on this notebook.</font> "
      ]
    },
    {
      "cell_type": "code",
      "metadata": {
        "scrolled": true,
        "id": "wE2ozR4Ny04y",
        "colab": {
          "base_uri": "https://localhost:8080/",
          "height": 282
        },
        "outputId": "fa06e181-2552-42bf-a749-e3deb1e89016"
      },
      "source": [
        "import matplotlib.pyplot as plt\n",
        "plt.imshow(img)\n",
        "plt.title('Image')\n",
        "plt.axis('off')"
      ],
      "execution_count": 115,
      "outputs": [
        {
          "output_type": "execute_result",
          "data": {
            "text/plain": [
              "(-0.5, 799.5, 599.5, -0.5)"
            ]
          },
          "metadata": {},
          "execution_count": 115
        },
        {
          "output_type": "display_data",
          "data": {
            "image/png": "[encoded data removed]",
            "text/plain": [
              "<Figure size 432x288 with 1 Axes>"
            ]
          },
          "metadata": {
            "needs_background": "light"
          }
        }
      ]
    },
    {
      "cell_type": "markdown",
      "metadata": {
        "id": "RH4Gp6Lgy043"
      },
      "source": [
        "Is your color correct? If not, remember to use the right command to change the color space. "
      ]
    },
    {
      "cell_type": "markdown",
      "metadata": {
        "id": "amuPOfgly045"
      },
      "source": [
        "Do you think the computer understands what is in the image at this stage?"
      ]
    },
    {
      "cell_type": "markdown",
      "metadata": {
        "id": "tdhfOI0sy047"
      },
      "source": [
        "### 1.1b Instead of just a picture, how about using your webcam?\n",
        "\n",
        "<font color=red>**Note:**</font> Video Capture via webcam does not work for colab.  Please skip this portion.\n"
      ]
    },
    {
      "cell_type": "code",
      "metadata": {
        "id": "Zd-AMaaXy049",
        "colab": {
          "base_uri": "https://localhost:8080/",
          "height": 374
        },
        "outputId": "29359c09-9cd0-4178-fb06-083a9ff32c8c"
      },
      "source": [
        "from google.colab.patches import cv2_imshow\n",
        "\n",
        "camera = cv2.VideoCapture(0) #create a VideoCapture object with the 'first' camera (your webcam)\n",
        "\n",
        "print('Press Spacebar to Exit')\n",
        "while(True):\n",
        "    ret, frame = camera.read()             # Capture frame by frame   \n",
        "    cv2_imshow(frame)              # Display the frame\n",
        "    \n",
        "    if cv2.waitKey(1) & 0xFF == ord(' '):  # Stop if spacebar is detected\n",
        "        break\n",
        "\n",
        "camera.release()                           # Cleanup after spacebar is detected.\n",
        "cv2.destroyAllWindows()"
      ],
      "execution_count": 41,
      "outputs": [
        {
          "output_type": "stream",
          "name": "stdout",
          "text": [
            "Press Spacebar to Exit\n"
          ]
        },
        {
          "output_type": "error",
          "ename": "AttributeError",
          "evalue": "ignored",
          "traceback": [
            "\u001b[0;31m---------------------------------------------------------------------------\u001b[0m",
            "\u001b[0;31mAttributeError\u001b[0m                            Traceback (most recent call last)",
            "\u001b[0;32m<ipython-input-41-cf13d2d39679>\u001b[0m in \u001b[0;36m<module>\u001b[0;34m()\u001b[0m\n\u001b[1;32m      6\u001b[0m \u001b[0;32mwhile\u001b[0m\u001b[0;34m(\u001b[0m\u001b[0;32mTrue\u001b[0m\u001b[0;34m)\u001b[0m\u001b[0;34m:\u001b[0m\u001b[0;34m\u001b[0m\u001b[0;34m\u001b[0m\u001b[0m\n\u001b[1;32m      7\u001b[0m     \u001b[0mret\u001b[0m\u001b[0;34m,\u001b[0m \u001b[0mframe\u001b[0m \u001b[0;34m=\u001b[0m \u001b[0mcamera\u001b[0m\u001b[0;34m.\u001b[0m\u001b[0mread\u001b[0m\u001b[0;34m(\u001b[0m\u001b[0;34m)\u001b[0m             \u001b[0;31m# Capture frame by frame\u001b[0m\u001b[0;34m\u001b[0m\u001b[0;34m\u001b[0m\u001b[0m\n\u001b[0;32m----> 8\u001b[0;31m     \u001b[0mcv2_imshow\u001b[0m\u001b[0;34m(\u001b[0m\u001b[0mframe\u001b[0m\u001b[0;34m)\u001b[0m              \u001b[0;31m# Display the frame\u001b[0m\u001b[0;34m\u001b[0m\u001b[0;34m\u001b[0m\u001b[0m\n\u001b[0m\u001b[1;32m      9\u001b[0m \u001b[0;34m\u001b[0m\u001b[0m\n\u001b[1;32m     10\u001b[0m     \u001b[0;32mif\u001b[0m \u001b[0mcv2\u001b[0m\u001b[0;34m.\u001b[0m\u001b[0mwaitKey\u001b[0m\u001b[0;34m(\u001b[0m\u001b[0;36m1\u001b[0m\u001b[0;34m)\u001b[0m \u001b[0;34m&\u001b[0m \u001b[0;36m0xFF\u001b[0m \u001b[0;34m==\u001b[0m \u001b[0mord\u001b[0m\u001b[0;34m(\u001b[0m\u001b[0;34m' '\u001b[0m\u001b[0;34m)\u001b[0m\u001b[0;34m:\u001b[0m  \u001b[0;31m# Stop if spacebar is detected\u001b[0m\u001b[0;34m\u001b[0m\u001b[0;34m\u001b[0m\u001b[0m\n",
            "\u001b[0;32m/usr/local/lib/python3.7/dist-packages/google/colab/patches/__init__.py\u001b[0m in \u001b[0;36mcv2_imshow\u001b[0;34m(a)\u001b[0m\n\u001b[1;32m     20\u001b[0m       \u001b[0mimage\u001b[0m\u001b[0;34m.\u001b[0m\u001b[0;34m\u001b[0m\u001b[0;34m\u001b[0m\u001b[0m\n\u001b[1;32m     21\u001b[0m   \"\"\"\n\u001b[0;32m---> 22\u001b[0;31m   \u001b[0ma\u001b[0m \u001b[0;34m=\u001b[0m \u001b[0ma\u001b[0m\u001b[0;34m.\u001b[0m\u001b[0mclip\u001b[0m\u001b[0;34m(\u001b[0m\u001b[0;36m0\u001b[0m\u001b[0;34m,\u001b[0m \u001b[0;36m255\u001b[0m\u001b[0;34m)\u001b[0m\u001b[0;34m.\u001b[0m\u001b[0mastype\u001b[0m\u001b[0;34m(\u001b[0m\u001b[0;34m'uint8'\u001b[0m\u001b[0;34m)\u001b[0m\u001b[0;34m\u001b[0m\u001b[0;34m\u001b[0m\u001b[0m\n\u001b[0m\u001b[1;32m     23\u001b[0m   \u001b[0;31m# cv2 stores colors as BGR; convert to RGB\u001b[0m\u001b[0;34m\u001b[0m\u001b[0;34m\u001b[0m\u001b[0;34m\u001b[0m\u001b[0m\n\u001b[1;32m     24\u001b[0m   \u001b[0;32mif\u001b[0m \u001b[0ma\u001b[0m\u001b[0;34m.\u001b[0m\u001b[0mndim\u001b[0m \u001b[0;34m==\u001b[0m \u001b[0;36m3\u001b[0m\u001b[0;34m:\u001b[0m\u001b[0;34m\u001b[0m\u001b[0;34m\u001b[0m\u001b[0m\n",
            "\u001b[0;31mAttributeError\u001b[0m: 'NoneType' object has no attribute 'clip'"
          ]
        }
      ]
    },
    {
      "cell_type": "markdown",
      "metadata": {
        "id": "2vf4tMzqy05B"
      },
      "source": [
        "Congratulations! Did you see yourself on the screen? Are you getting excited with ideas?"
      ]
    },
    {
      "cell_type": "markdown",
      "metadata": {
        "id": "pCgrbneqy05B"
      },
      "source": [
        "### 1.2 Making sense of what we see\n",
        "\n",
        "So we have quickly achieved the first part of seeing. Now the computer needs to make sense of what it sees.\n",
        "\n",
        "Remember Numpy? In OpenCV, images are stored as Numpy Arrays.\n",
        "\n",
        "These arrays have built in methods that you can use to quickly analyze your image.<br />\n",
        "For example, **.shape** would tell you the dimensions of the Numpy array where the image is stored. (height, width, channels)<br />\n",
        "There are also various other advanced array manipulation techniques, but we'll keep it simple for now.\n",
        "\n",
        "By default, there are 3 channels to store the pixel intensities of Blue, Green, and Red. This is the default colour space used by OpenCV.\n",
        "\n",
        "For the image you displayed above, What are the dimensions? What colour is it at different parts of the image? How are colour intensities represented?\n",
        "\n",
        "Please refer to \"/content/Intel_AI4Y/My Drive/Intel_AI4Y_Colab/Module_19/images/image001.png\"\n",
        "\n",
        "<div style=\"clear: both;\"></div>\n",
        "\n",
        "Try understanding the image for yourself below!\n"
      ]
    },
    {
      "cell_type": "markdown",
      "metadata": {
        "id": "1K_bKXOSy05C"
      },
      "source": [
        "#### What are the dimensions of this image?"
      ]
    },
    {
      "cell_type": "code",
      "metadata": {
        "id": "qHcnkxhFy05D",
        "colab": {
          "base_uri": "https://localhost:8080/"
        },
        "outputId": "1d4cd658-795f-4c5f-8b26-38254f555a8f"
      },
      "source": [
        "print(img.shape)         #What are the dimensions of this image? \n",
        "                         #What is the width, What is the height, How many channels are there?\n",
        "                         #Hint: Images are represented in Numpy arrays as (height,width,channels)"
      ],
      "execution_count": 116,
      "outputs": [
        {
          "output_type": "stream",
          "name": "stdout",
          "text": [
            "(600, 800, 3)\n"
          ]
        }
      ]
    },
    {
      "cell_type": "markdown",
      "metadata": {
        "id": "CH1GnIupy05H"
      },
      "source": [
        "#### What is the color of the top left corner of the image? "
      ]
    },
    {
      "cell_type": "code",
      "metadata": {
        "id": "eJMJaAfxy05I",
        "colab": {
          "base_uri": "https://localhost:8080/"
        },
        "outputId": "981a269e-bb3e-4b3d-9227-e4b0bcbf2983"
      },
      "source": [
        "print(img[0,0])          #What is the color of the top left corner of the image? Notice that array indexing starts from 0\n",
        "                         #Hint: the channels are represented as Blue,Green,Red by default"
      ],
      "execution_count": 117,
      "outputs": [
        {
          "output_type": "stream",
          "name": "stdout",
          "text": [
            "[  0 255   0]\n"
          ]
        }
      ]
    },
    {
      "cell_type": "markdown",
      "metadata": {
        "id": "jGMZFnxdy05L"
      },
      "source": [
        "### <font color=red>Task 2: Find out the color of the top right corner of the image.</font> \n",
        "What is the color of the top right corner of the image? "
      ]
    },
    {
      "cell_type": "code",
      "metadata": {
        "id": "x_f4NKl1y05O",
        "colab": {
          "base_uri": "https://localhost:8080/"
        },
        "outputId": "88e26630-4a2e-4d86-f2b1-a29acda61b47"
      },
      "source": [
        "print(img[0,799])\n",
        "                         #Hint: Notice that the rightmost pixel is 799 not 800. Numpy array indexing starts from 0."
      ],
      "execution_count": 118,
      "outputs": [
        {
          "output_type": "stream",
          "name": "stdout",
          "text": [
            "[255   0   0]\n"
          ]
        }
      ]
    },
    {
      "cell_type": "markdown",
      "metadata": {
        "id": "AY3aj_rSy05R"
      },
      "source": [
        "### <font color=red>Task 3: Find out the color of the middle of the image.</font> \n",
        "What is the color in the middle of the image?"
      ]
    },
    {
      "cell_type": "code",
      "metadata": {
        "id": "iqMY4r7by05S",
        "colab": {
          "base_uri": "https://localhost:8080/"
        },
        "outputId": "26d43375-5275-408a-d8b0-35d7e1d8dffd"
      },
      "source": [
        "print(img[300, 400])"
      ],
      "execution_count": 119,
      "outputs": [
        {
          "output_type": "stream",
          "name": "stdout",
          "text": [
            "[  0   0 255]\n"
          ]
        }
      ]
    },
    {
      "cell_type": "markdown",
      "metadata": {
        "id": "v0-Xp5Iqy05V"
      },
      "source": [
        "Do you think the computer understands that there are squares and circles in the image at this stage?<br />\n",
        "Or is it only aware that there are rows and rows of pixel intensities that seem to have values from 0 to 255?\n",
        "\n",
        "Yes, by the way, the pixel intensities from 0 to 255 are basically how much of a particular colour is present. <br />\n",
        "0 means that the intensity is 0 (basically dark), while 255 means that it is full of that colour.\n",
        "\n",
        "So, (0,0,0) would be black, and (255,255,255) would be white. How would you represent blue, green or red?"
      ]
    },
    {
      "cell_type": "markdown",
      "metadata": {
        "id": "bvv6REjKy05W"
      },
      "source": [
        "## 2. Image Processing\n",
        "\n",
        "We have discovered that a computer sees images as arrays of pixel intensities, <br />\n",
        "and it is up to the computer vision developer (you) to make sense of that image.\n",
        "\n",
        "Let us dig into some of the more common image processing techniques that you may find useful. <br />\n",
        "For a more detailed discovery, some links will be provided at the end for you to dig even deeper.\n",
        "\n",
        "Oh wait, before that, can you think of some examples of how computer vision is used in the real world today? You will be discussing that as a class later so you might want to make some notes as you think."
      ]
    },
    {
      "cell_type": "markdown",
      "metadata": {
        "id": "Co1fuUQ9y05X"
      },
      "source": [
        "### 2.1 Color Spaces/ organization of colors\n",
        "\n",
        "We have been using the Blue, Green and Red color space on the images earlier. \n",
        "\n",
        "What if we didn't need all the colors and just needed to know how light or dark an image was? We can convert the photo into grayscale. \n",
        "\n",
        "Do you remember how are greyscale images represented in Numpy?"
      ]
    },
    {
      "cell_type": "code",
      "metadata": {
        "id": "uo5gL1iFy05Y",
        "colab": {
          "base_uri": "https://localhost:8080/",
          "height": 634
        },
        "outputId": "73e9b087-a896-4177-9db5-746250b83c47"
      },
      "source": [
        "from google.colab.patches import cv2_imshow\n",
        "img_grey = cv2.imread(\"/content/Intel_AI4Y/My Drive/Intel_AI4Y/Students_E_Learning/Copy_To_Google_Drive/Intel_AI4Y_Colab/Module_19/images/image001.png\")\n",
        "grey = cv2.cvtColor(img_grey, cv2.COLOR_BGR2GRAY) #Convert color from BGR to grayscale\n",
        "print(\"Grey\")\n",
        "cv2_imshow(grey)\n",
        "\n",
        "cv2.waitKey(0)                            # Cleanup after any key is pressed\n",
        "cv2.destroyAllWindows()"
      ],
      "execution_count": 120,
      "outputs": [
        {
          "output_type": "stream",
          "name": "stdout",
          "text": [
            "Grey\n"
          ]
        },
        {
          "output_type": "display_data",
          "data": {
            "image/png": "[encoded data removed]",
            "text/plain": [
              "<PIL.Image.Image image mode=L size=800x600 at 0x7FB8639D38D0>"
            ]
          },
          "metadata": {}
        }
      ]
    },
    {
      "cell_type": "markdown",
      "metadata": {
        "id": "e1Loyr16y05d"
      },
      "source": [
        "### <font color=red>Task 4: Now show the grayscale picture on this notebook. </font> \n",
        "Use a new variable (not img)."
      ]
    },
    {
      "cell_type": "code",
      "metadata": {
        "id": "FfrdKPOPy05e",
        "colab": {
          "base_uri": "https://localhost:8080/",
          "height": 634
        },
        "outputId": "9cb4a71d-b171-43a0-9ae3-4f4f839de925"
      },
      "source": [
        "grayscale_pic = cv2.imread(\"/content/Intel_AI4Y/My Drive/Intel_AI4Y/Students_E_Learning/Copy_To_Google_Drive/Intel_AI4Y_Colab/Module_19/images/image001.png\")\n",
        "grey = cv2.cvtColor(grayscale_pic, cv2.COLOR_BGR2GRAY) #Convert color from BGR to grayscale\n",
        "print(\"Grey\")\n",
        "cv2_imshow(grey)\n",
        "\n",
        "cv2.waitKey(0)                            # Cleanup after any key is pressed\n",
        "cv2.destroyAllWindows()"
      ],
      "execution_count": 121,
      "outputs": [
        {
          "output_type": "stream",
          "name": "stdout",
          "text": [
            "Grey\n"
          ]
        },
        {
          "output_type": "display_data",
          "data": {
            "image/png": "[encoded data removed]",
            "text/plain": [
              "<PIL.Image.Image image mode=L size=800x600 at 0x7FB8639D70D0>"
            ]
          },
          "metadata": {}
        }
      ]
    },
    {
      "cell_type": "markdown",
      "metadata": {
        "id": "Tfsj-l1Ny05i"
      },
      "source": [
        "### <font color=red>Task 5: display the grayscale array shape. </font>\n",
        "What number do you expect to see?"
      ]
    },
    {
      "cell_type": "code",
      "metadata": {
        "scrolled": true,
        "id": "U1CmfDuYy05j",
        "colab": {
          "base_uri": "https://localhost:8080/"
        },
        "outputId": "bcebb975-a884-4586-d1b8-a1233e9d2445"
      },
      "source": [
        "print(grey.shape)                   # Are these dimensions different from img.shape earlier?"
      ],
      "execution_count": 122,
      "outputs": [
        {
          "output_type": "stream",
          "name": "stdout",
          "text": [
            "(600, 800)\n"
          ]
        }
      ]
    },
    {
      "cell_type": "markdown",
      "metadata": {
        "id": "iD-DPGbTy05m"
      },
      "source": [
        "Is there less memory being used to store the image now that everything is in greyscale? <br />\n",
        "Does this mean that processing this image would potentially be faster since it has 1/3 the size of the original array?"
      ]
    },
    {
      "cell_type": "markdown",
      "metadata": {
        "id": "xYtDqaKby05m"
      },
      "source": [
        "### <font color=red>Task 6: Find out the color of the top left corner of the image.</font> \n",
        "What is the color of the top left corner of the image?"
      ]
    },
    {
      "cell_type": "code",
      "metadata": {
        "id": "bOjuIC8Jy05n",
        "colab": {
          "base_uri": "https://localhost:8080/"
        },
        "outputId": "fa17b630-654d-4e37-c66f-aff92836e1d8"
      },
      "source": [
        "print(grey[0,0])         # What is the color of the top left corner of the image? Notice that array indexing starts from 0\n",
        "                          # How does this compare to your previous finding above?"
      ],
      "execution_count": 123,
      "outputs": [
        {
          "output_type": "stream",
          "name": "stdout",
          "text": [
            "150\n"
          ]
        }
      ]
    },
    {
      "cell_type": "markdown",
      "metadata": {
        "id": "G-Yf3Rtfy05q"
      },
      "source": [
        "### <font color=red>Task 7: Find out the color of the top right corner of the image.</font> \n",
        "What is the color of the top right corner of the image?"
      ]
    },
    {
      "cell_type": "code",
      "metadata": {
        "id": "QMU7nMory05r",
        "colab": {
          "base_uri": "https://localhost:8080/"
        },
        "outputId": "bbd699d3-0a96-40cb-a85a-0c536a618c31"
      },
      "source": [
        "print(grey[0,799])         # What is the color of the top right corner of the image? \n",
        "                          # How does this compare to your previous finding above?"
      ],
      "execution_count": 124,
      "outputs": [
        {
          "output_type": "stream",
          "name": "stdout",
          "text": [
            "29\n"
          ]
        }
      ]
    },
    {
      "cell_type": "markdown",
      "metadata": {
        "id": "GDltOoiby05x"
      },
      "source": [
        "Fun Fact: Do some colors actually appear darker than others when converted to greyscale? \n",
        "You can read up more about the different color spaces at https://docs.opencv.org/4.0.0/de/d25/imgproc_color_conversions.html\n",
        "\n",
        "We will not be going too deep into the other color spaces, but if you are interested, do read up the link above. And when you have more questions, you can use the Internet to help you."
      ]
    },
    {
      "cell_type": "markdown",
      "metadata": {
        "id": "0aiPe0b0y05y"
      },
      "source": [
        "### 2.2 Thresholding, Masking and Region of Interest\n",
        "Earlier, we saw how some colours were darker than others. What if we were only interested in a part of the picture that was very dark or very light? Could we filter out just the square on the top right of the screen?\n",
        "\n",
        "**Technique 1: Greyscale Intensity**"
      ]
    },
    {
      "cell_type": "code",
      "metadata": {
        "id": "qaZF_GA-y05y",
        "colab": {
          "base_uri": "https://localhost:8080/",
          "height": 634
        },
        "outputId": "5a861f5f-af00-4809-f90a-644091c1f85b"
      },
      "source": [
        "from google.colab.patches import cv2_imshow\n",
        "\n",
        "# Recall that the square on the top right had a pixel intensity of 29\n",
        "# Now everything with a value greater than 29 will become 255 (white)\n",
        "# This means that we are setting a treshold value of 29\n",
        "\n",
        "ret,thresholded = cv2.threshold(grey,29,255,cv2.THRESH_BINARY)  \n",
        "print(\"Thresholded\")\n",
        "cv2_imshow(thresholded)\n",
        "\n",
        "cv2.waitKey(0)                            # Cleanup after any key is pressed\n",
        "cv2.destroyAllWindows()"
      ],
      "execution_count": 125,
      "outputs": [
        {
          "output_type": "stream",
          "name": "stdout",
          "text": [
            "Thresholded\n"
          ]
        },
        {
          "output_type": "display_data",
          "data": {
            "image/png": "[encoded data removed]",
            "text/plain": [
              "<PIL.Image.Image image mode=L size=800x600 at 0x7FB8639DB810>"
            ]
          },
          "metadata": {}
        }
      ]
    },
    {
      "cell_type": "markdown",
      "metadata": {
        "id": "0whtJ6fjy051"
      },
      "source": [
        "The square that we want appears black, while the other parts of the image appears white. We can now focus on this area for further processes. \n",
        "\n",
        "The area we want to focus on is usually called the Region of Interest (ROI)\n",
        "\n",
        "### <font color=red>Task 8: What if you want the text, the circle and the middle and the box at the right to be captured (marked black)?</font>"
      ]
    },
    {
      "cell_type": "code",
      "metadata": {
        "id": "mJzraN67y052",
        "colab": {
          "base_uri": "https://localhost:8080/",
          "height": 634
        },
        "outputId": "0b6feee6-c17b-4377-9dce-2ca3460034b2"
      },
      "source": [
        "ret,thresholded = cv2.threshold(grey,150,255,cv2.THRESH_BINARY)  \n",
        "print(\"Thresholded\")\n",
        "cv2_imshow(thresholded)\n",
        "\n",
        "cv2.waitKey(0)                            # Cleanup after any key is pressed\n",
        "cv2.destroyAllWindows()"
      ],
      "execution_count": 126,
      "outputs": [
        {
          "output_type": "stream",
          "name": "stdout",
          "text": [
            "Thresholded\n"
          ]
        },
        {
          "output_type": "display_data",
          "data": {
            "image/png": "[encoded data removed]",
            "text/plain": [
              "<PIL.Image.Image image mode=L size=800x600 at 0x7FB8639D3D10>"
            ]
          },
          "metadata": {}
        }
      ]
    },
    {
      "cell_type": "markdown",
      "metadata": {
        "id": "aWdEl3Iky054"
      },
      "source": [
        "Let's continue working with treshold value of 29.\n",
        "\n",
        "Usually, we would want the Regions of Interest (ROI) to be white, and the other areas black instead. Let us try:"
      ]
    },
    {
      "cell_type": "code",
      "metadata": {
        "id": "Puee4HkIy055",
        "colab": {
          "base_uri": "https://localhost:8080/",
          "height": 634
        },
        "outputId": "c92122de-b78b-43aa-b265-1b245a440a30"
      },
      "source": [
        "from google.colab.patches import cv2_imshow\n",
        "ret,thresholded = cv2.threshold(grey,29,255,cv2.THRESH_BINARY_INV)    #we use cv2.THRESH_BINARY_INV instead of cv2.THRESH_BINARY\n",
        "print(\"Thresholded\")\n",
        "cv2_imshow(thresholded)\n",
        "\n",
        "cv2.waitKey(0)                            # Cleanup after any key is pressed\n",
        "cv2.destroyAllWindows()"
      ],
      "execution_count": 127,
      "outputs": [
        {
          "output_type": "stream",
          "name": "stdout",
          "text": [
            "Thresholded\n"
          ]
        },
        {
          "output_type": "display_data",
          "data": {
            "image/png": "[encoded data removed]",
            "text/plain": [
              "<PIL.Image.Image image mode=L size=800x600 at 0x7FB8639DB690>"
            ]
          },
          "metadata": {}
        }
      ]
    },
    {
      "cell_type": "markdown",
      "metadata": {
        "id": "fBMsHsUOy057"
      },
      "source": [
        "### <font color=red>Task 9: What if you want the text, the circle and the middle and the box at the right to be the ROI (marked white)?</font> "
      ]
    },
    {
      "cell_type": "code",
      "metadata": {
        "id": "a9HjtWF8y058",
        "colab": {
          "base_uri": "https://localhost:8080/",
          "height": 634
        },
        "outputId": "203b471c-fbc3-4d82-98c7-319cad589c62"
      },
      "source": [
        "ret,thresholded = cv2.threshold(grey,150,255,cv2.THRESH_BINARY_INV)    #we use cv2.THRESH_BINARY_INV instead of cv2.THRESH_BINARY\n",
        "print(\"Thresholded\")\n",
        "cv2_imshow(thresholded)\n",
        "\n",
        "cv2.waitKey(0)                            # Cleanup after any key is pressed\n",
        "cv2.destroyAllWindows()"
      ],
      "execution_count": 128,
      "outputs": [
        {
          "output_type": "stream",
          "name": "stdout",
          "text": [
            "Thresholded\n"
          ]
        },
        {
          "output_type": "display_data",
          "data": {
            "image/png": "[encoded data removed]",
            "text/plain": [
              "<PIL.Image.Image image mode=L size=800x600 at 0x7FB863A24AD0>"
            ]
          },
          "metadata": {}
        }
      ]
    },
    {
      "cell_type": "markdown",
      "metadata": {
        "id": "kep6iXjpy06C"
      },
      "source": [
        "What is the use of this? You may ask. \n",
        "\n",
        "Well, thresholding the Region of Interest (ROI) can allow us to use it as a mask to display on the original image.\n",
        "\n",
        "### Mask?\n",
        "**But what is a mask?**\n",
        "\n",
        "Let us take a look at the illustration below:\n",
        "\n",
        "Please refer to \"/content/Intel_AI4Y/My Drive/Intel_AI4Y_Colab/Module_19/images/image001_masking.jpg\"\n",
        "\n",
        "In the image (in the middle) above, you can see the mask for the blue square on the top right corner. When we apply that mask (image in the middle) to the original image (image on the left), only the blue square is left in the masked image (image on the right).\n",
        "\n",
        "The mask layer helps to highlight the parts of the image that we are interested in. When the mask is applied to the image, only the parts that we are interested in are kept (white regions of the mask), while the remaining parts (black regions) of the image are discarded. \n",
        "\n",
        "Fun Fact: You can also see this concept at work in popular image editing softwares such as Adobe Photoshop, where you can apply \"clipping masks\"."
      ]
    },
    {
      "cell_type": "code",
      "metadata": {
        "id": "xBHWaaI1y06D",
        "colab": {
          "base_uri": "https://localhost:8080/",
          "height": 634
        },
        "outputId": "67cba3b4-6907-451a-a744-a54d3daf755c"
      },
      "source": [
        "from google.colab.patches import cv2_imshow\n",
        "\n",
        "ret,thresholded = cv2.threshold(grey,29,255,cv2.THRESH_BINARY_INV)  \n",
        "\n",
        "masked = cv2.bitwise_and(img, img, mask = thresholded) \n",
        "print(\"Masked\")\n",
        "cv2_imshow(masked)\n",
        "\n",
        "cv2.waitKey(0)                            # Cleanup after any key is pressed\n",
        "cv2.destroyAllWindows()"
      ],
      "execution_count": 129,
      "outputs": [
        {
          "output_type": "stream",
          "name": "stdout",
          "text": [
            "Masked\n"
          ]
        },
        {
          "output_type": "display_data",
          "data": {
            "image/png": "[encoded data removed]",
            "text/plain": [
              "<PIL.Image.Image image mode=RGB size=800x600 at 0x7FB8639BA350>"
            ]
          },
          "metadata": {}
        }
      ]
    },
    {
      "cell_type": "markdown",
      "metadata": {
        "id": "s21QJQE8y06H"
      },
      "source": [
        "Great! Did you manage to filter the blue square?\n",
        "\n",
        "Ok, time for you to experiment and see what else you would like to threshold. Can you threshold just the Circle in the middle? How would you do that in grayscale layer?\n",
        "\n",
        "Perhaps the grey layer is not the best layer to work with. Remember you have the original image:\n",
        "\n",
        "<img src=\"images/image001.png\" alt=\"Drawing\" style=\"width: 400px; border:1px solid; float:left;\"/>\n",
        "<div style=\"clear: both;\"></div>"
      ]
    },
    {
      "cell_type": "markdown",
      "metadata": {
        "id": "44OxN55wy06K"
      },
      "source": [
        "**Technique 2: Colours.**<br />\n",
        "Remember that images are numpy arrays? And Numpy arrays can be filtered easily with advanced filters.\n",
        "\n",
        "To make our lives easier, we may want to change the white in the background to black instead."
      ]
    },
    {
      "cell_type": "code",
      "metadata": {
        "id": "eHmG_s3zy06L",
        "colab": {
          "base_uri": "https://localhost:8080/",
          "height": 634
        },
        "outputId": "3fbaf0d7-739b-40cc-8bd6-afb639bac917"
      },
      "source": [
        "mask = img.copy()                         # The masked image we are going to create. Initialize with a copy of initial image.\n",
        "(b,g,r) = cv2.split(img)                  # Split the BGR images to single planes so that we can work on the channels separately\n",
        "mask[(b==255)&(g==255)&(r==255)] = 0      # Change white background (when BGR channels are all 255) to 0 (black).\n",
        "\n",
        "print(\"Masked\")\n",
        "cv2_imshow(masked)\n",
        "\n",
        "cv2.waitKey(0)                            # Cleanup after any key is pressed\n",
        "cv2.destroyAllWindows()"
      ],
      "execution_count": 145,
      "outputs": [
        {
          "output_type": "stream",
          "name": "stdout",
          "text": [
            "Masked\n"
          ]
        },
        {
          "output_type": "display_data",
          "data": {
            "image/png": "[encoded data removed]",
            "text/plain": [
              "<PIL.Image.Image image mode=RGB size=800x600 at 0x7FB8639C2410>"
            ]
          },
          "metadata": {}
        }
      ]
    },
    {
      "cell_type": "markdown",
      "metadata": {
        "id": "UydP1XSuy06T"
      },
      "source": [
        "Lets explore what the different layers of the mask looks like. They are the layers 0, 1 and 2 respectively:"
      ]
    },
    {
      "cell_type": "code",
      "metadata": {
        "id": "Gv6jYv3Ly06U",
        "colab": {
          "base_uri": "https://localhost:8080/",
          "height": 634
        },
        "outputId": "4d10cbf4-69f2-4d1e-bd54-9a3da1baf902"
      },
      "source": [
        "print(\"Blue Mask\")\n",
        "cv2_imshow(mask[:,:,0])\n",
        "                                          # Notice how the words are blue also\n",
        "cv2.waitKey(0)                            # Cleanup after any key is pressed\n",
        "cv2.destroyAllWindows()"
      ],
      "execution_count": 146,
      "outputs": [
        {
          "output_type": "stream",
          "name": "stdout",
          "text": [
            "Blue Mask\n"
          ]
        },
        {
          "output_type": "display_data",
          "data": {
            "image/png": "[encoded data removed]",
            "text/plain": [
              "<PIL.Image.Image image mode=L size=800x600 at 0x7FB8639D32D0>"
            ]
          },
          "metadata": {}
        }
      ]
    },
    {
      "cell_type": "code",
      "metadata": {
        "id": "Y2jkfHUcy06q",
        "colab": {
          "base_uri": "https://localhost:8080/",
          "height": 634
        },
        "outputId": "a6bec3ae-9926-40a2-b064-6b3d73cce34f"
      },
      "source": [
        "print(\"Green Mask\")\n",
        "cv2_imshow(mask[:,:,1])\n",
        "\n",
        "cv2.waitKey(0)                            # Cleanup after any key is pressed\n",
        "cv2.destroyAllWindows()"
      ],
      "execution_count": 147,
      "outputs": [
        {
          "output_type": "stream",
          "name": "stdout",
          "text": [
            "Green Mask\n"
          ]
        },
        {
          "output_type": "display_data",
          "data": {
            "image/png": "[encoded data removed]",
            "text/plain": [
              "<PIL.Image.Image image mode=L size=800x600 at 0x7FB863A241D0>"
            ]
          },
          "metadata": {}
        }
      ]
    },
    {
      "cell_type": "code",
      "metadata": {
        "id": "uv96s2Pwy06z",
        "colab": {
          "base_uri": "https://localhost:8080/",
          "height": 634
        },
        "outputId": "de0ff9ea-d41b-4e73-fa21-718b3b953854"
      },
      "source": [
        "print(\"Red Mask\")\n",
        "cv2_imshow(mask[:,:,2])\n",
        "cv2.waitKey(0)                            # Cleanup after any key is pressed\n",
        "cv2.destroyAllWindows()"
      ],
      "execution_count": 148,
      "outputs": [
        {
          "output_type": "stream",
          "name": "stdout",
          "text": [
            "Red Mask\n"
          ]
        },
        {
          "output_type": "display_data",
          "data": {
            "image/png": "[encoded data removed]",
            "text/plain": [
              "<PIL.Image.Image image mode=L size=800x600 at 0x7FB8639ED850>"
            ]
          },
          "metadata": {}
        }
      ]
    },
    {
      "cell_type": "markdown",
      "metadata": {
        "id": "d_uWiBv6y068"
      },
      "source": [
        "**Technique 3: Quick Numpy Array Manipulation based on position**\n",
        "\n",
        "There are some artifacts around the words for this green layer. Can we clean it up?"
      ]
    },
    {
      "cell_type": "code",
      "metadata": {
        "id": "wLWCm9Csy069",
        "colab": {
          "base_uri": "https://localhost:8080/",
          "height": 634
        },
        "outputId": "496a7f0a-0c06-4cc9-83f2-684ac656b0b4"
      },
      "source": [
        "mask[300:,:,1]=0                          # Remember that the image is a matrix. Let's wipe the bottom half to black (0)\n",
        "\n",
        "print(\"Green Mask\")\n",
        "cv2_imshow(mask[:,:,1])\n",
        "cv2.waitKey(0)                            # Cleanup after any key is pressed\n",
        "cv2.destroyAllWindows()"
      ],
      "execution_count": 149,
      "outputs": [
        {
          "output_type": "stream",
          "name": "stdout",
          "text": [
            "Green Mask\n"
          ]
        },
        {
          "output_type": "display_data",
          "data": {
            "image/png": "[encoded data removed]",
            "text/plain": [
              "<PIL.Image.Image image mode=L size=800x600 at 0x7FB8639CE2D0>"
            ]
          },
          "metadata": {}
        }
      ]
    },
    {
      "cell_type": "markdown",
      "metadata": {
        "id": "hz2MZj3uy07W"
      },
      "source": [
        "If you do not remember the size of your image, which command can you use to find out?"
      ]
    },
    {
      "cell_type": "code",
      "metadata": {
        "id": "GeknIobby07Z",
        "colab": {
          "base_uri": "https://localhost:8080/"
        },
        "outputId": "5f97f175-33fe-4b77-c5cd-060ac4cc941a"
      },
      "source": [
        "mask.shape"
      ],
      "execution_count": 135,
      "outputs": [
        {
          "output_type": "execute_result",
          "data": {
            "text/plain": [
              "(600, 800, 3)"
            ]
          },
          "metadata": {},
          "execution_count": 135
        }
      ]
    },
    {
      "cell_type": "markdown",
      "metadata": {
        "id": "5xA_LEPiy07m"
      },
      "source": [
        "Now let's see if there are artifacts around the words for the red layer."
      ]
    },
    {
      "cell_type": "code",
      "metadata": {
        "id": "jBssw4G5y07q",
        "colab": {
          "base_uri": "https://localhost:8080/",
          "height": 634
        },
        "outputId": "a05f847f-a902-4124-f91a-53223921a0da"
      },
      "source": [
        "print(\"Red Mask\")\n",
        "cv2_imshow(mask[:,:,2])\n",
        "\n",
        "cv2.waitKey(0)                            # Cleanup after any key is pressed\n",
        "cv2.destroyAllWindows()"
      ],
      "execution_count": 150,
      "outputs": [
        {
          "output_type": "stream",
          "name": "stdout",
          "text": [
            "Red Mask\n"
          ]
        },
        {
          "output_type": "display_data",
          "data": {
            "image/png": "[encoded data removed]",
            "text/plain": [
              "<PIL.Image.Image image mode=L size=800x600 at 0x7FB8639DB890>"
            ]
          },
          "metadata": {}
        }
      ]
    },
    {
      "cell_type": "markdown",
      "metadata": {
        "id": "WG9klZ3dy07x"
      },
      "source": [
        "There are some artifacts around the words for this red layer also. Can we clean it up?\n",
        "\n",
        "### <font color=red>Task 10: Clean up the artifacts around the words for this red layer.</font> "
      ]
    },
    {
      "cell_type": "code",
      "metadata": {
        "id": "XA_EokYNy073",
        "colab": {
          "base_uri": "https://localhost:8080/",
          "height": 634
        },
        "outputId": "7a13c73e-a451-4353-8e8f-d25aebe258d4"
      },
      "source": [
        "mask[400:,:,2]=0                          # Remember that the image is a matrix. Let's wipe the bottom half to black (0)\n",
        "\n",
        "print(\"Red Mask\")\n",
        "cv2_imshow(mask[:,:,2])\n",
        "cv2.waitKey(0)                            # Cleanup after any key is pressed\n",
        "cv2.destroyAllWindows()"
      ],
      "execution_count": 151,
      "outputs": [
        {
          "output_type": "stream",
          "name": "stdout",
          "text": [
            "Red Mask\n"
          ]
        },
        {
          "output_type": "display_data",
          "data": {
            "image/png": "[encoded data removed]",
            "text/plain": [
              "<PIL.Image.Image image mode=L size=800x600 at 0x7FB8639ED450>"
            ]
          },
          "metadata": {}
        }
      ]
    },
    {
      "cell_type": "markdown",
      "metadata": {
        "id": "mZPWiH97y07-"
      },
      "source": [
        "Now we can simply get the objects based on colour."
      ]
    },
    {
      "cell_type": "code",
      "metadata": {
        "id": "wevj4iv-y08A",
        "colab": {
          "base_uri": "https://localhost:8080/",
          "height": 634
        },
        "outputId": "dc3776cf-e9cc-4567-8f3d-a99b1f49e14e"
      },
      "source": [
        "#layer 2 is the red layer. Rememeber (B,G,R) Blue, Green, Red\n",
        "masked = cv2.bitwise_and(img,img,mask=mask[:,:,2])\n",
        "\n",
        "print(\"Circle\")\n",
        "cv2_imshow(masked)\n",
        "\n",
        "cv2.waitKey(0)                            # Cleanup after any key is pressed\n",
        "cv2.destroyAllWindows()"
      ],
      "execution_count": 152,
      "outputs": [
        {
          "output_type": "stream",
          "name": "stdout",
          "text": [
            "Circle\n"
          ]
        },
        {
          "output_type": "display_data",
          "data": {
            "image/png": "[encoded data removed]",
            "text/plain": [
              "<PIL.Image.Image image mode=RGB size=800x600 at 0x7FB863A63910>"
            ]
          },
          "metadata": {}
        }
      ]
    },
    {
      "cell_type": "code",
      "metadata": {
        "id": "oNSJi8gCy08H",
        "colab": {
          "base_uri": "https://localhost:8080/",
          "height": 634
        },
        "outputId": "94ef51f9-892c-4556-b6a2-38f511e99a8c"
      },
      "source": [
        "#layer 1 is the green layer. Rememeber (B,G,R)\n",
        "masked = cv2.bitwise_and(img,img,mask=mask[:,:,1])\n",
        "\n",
        "print(\"Left Green Rectangle\")\n",
        "cv2_imshow(masked)\n",
        "\n",
        "cv2.waitKey(0)                            # Cleanup after any key is pressed\n",
        "cv2.destroyAllWindows()"
      ],
      "execution_count": 153,
      "outputs": [
        {
          "output_type": "stream",
          "name": "stdout",
          "text": [
            "Left Green Rectangle\n"
          ]
        },
        {
          "output_type": "display_data",
          "data": {
            "image/png": "[encoded data removed]",
            "text/plain": [
              "<PIL.Image.Image image mode=RGB size=800x600 at 0x7FB8639D30D0>"
            ]
          },
          "metadata": {}
        }
      ]
    },
    {
      "cell_type": "code",
      "metadata": {
        "id": "IslW46SSy08R",
        "colab": {
          "base_uri": "https://localhost:8080/",
          "height": 634
        },
        "outputId": "1e516d8d-79f1-4bd9-c692-23bf0ed3072f"
      },
      "source": [
        "#layer 0 is the blue layer. Rememeber (B,G,R)\n",
        "masked = cv2.bitwise_and(img,img,mask=mask[:,:,0])\n",
        "\n",
        "print(\"Right Blue Rectangle\")\n",
        "cv2_imshow(masked)\n",
        "\n",
        "cv2.waitKey(0)                            # Cleanup after any key is pressed\n",
        "cv2.destroyAllWindows()"
      ],
      "execution_count": 154,
      "outputs": [
        {
          "output_type": "stream",
          "name": "stdout",
          "text": [
            "Right Blue Rectangle\n"
          ]
        },
        {
          "output_type": "display_data",
          "data": {
            "image/png": "[encoded data removed]",
            "text/plain": [
              "<PIL.Image.Image image mode=RGB size=800x600 at 0x7FB8639D79D0>"
            ]
          },
          "metadata": {}
        }
      ]
    },
    {
      "cell_type": "markdown",
      "metadata": {
        "id": "jCx2AxGJy08n"
      },
      "source": [
        "Notice that the words are also appearing not just the rectangle? This is because the words are also _blue!_\n",
        "\n",
        "If you don't want the words to appear, you can \"wipe\" it away:\n",
        "\n",
        "### <font color=red>Task 11: Wipe the words away!</font> "
      ]
    },
    {
      "cell_type": "code",
      "metadata": {
        "colab": {
          "base_uri": "https://localhost:8080/",
          "height": 634
        },
        "id": "HAfpzOfCAKhj",
        "outputId": "745d5824-b136-4c24-b52b-f23b4458ec3a"
      },
      "source": [
        "mask[300:,:,0]=0                          # Remember that the image is a matrix. Let's wipe the bottom half to black (0)\n",
        "\n",
        "print(\"Blue Mask\")\n",
        "cv2_imshow(mask[:,:,0])\n",
        "cv2.waitKey(0)                            # Cleanup after any key is pressed\n",
        "cv2.destroyAllWindows()"
      ],
      "execution_count": 155,
      "outputs": [
        {
          "output_type": "stream",
          "name": "stdout",
          "text": [
            "Blue Mask\n"
          ]
        },
        {
          "output_type": "display_data",
          "data": {
            "image/png": "[encoded data removed]",
            "text/plain": [
              "<PIL.Image.Image image mode=L size=800x600 at 0x7FB863A24650>"
            ]
          },
          "metadata": {}
        }
      ]
    },
    {
      "cell_type": "code",
      "metadata": {
        "id": "xcZz898ay08q",
        "colab": {
          "base_uri": "https://localhost:8080/",
          "height": 634
        },
        "outputId": "b2d8296d-6d1b-496d-dcde-7dd60d25a471"
      },
      "source": [
        "#layer 0 is the blue layer. Rememeber (B,G,R)\n",
        "masked = cv2.bitwise_and(img,img,mask=mask[:,:,0])\n",
        "\n",
        "print(\"Right Blue Rectangle\")\n",
        "cv2_imshow(masked)\n",
        "\n",
        "cv2.waitKey(0)                            # Cleanup after any key is pressed\n",
        "cv2.destroyAllWindows()"
      ],
      "execution_count": 156,
      "outputs": [
        {
          "output_type": "stream",
          "name": "stdout",
          "text": [
            "Right Blue Rectangle\n"
          ]
        },
        {
          "output_type": "display_data",
          "data": {
            "image/png": "[encoded data removed]",
            "text/plain": [
              "<PIL.Image.Image image mode=RGB size=800x600 at 0x7FB8639DBC90>"
            ]
          },
          "metadata": {}
        }
      ]
    },
    {
      "cell_type": "markdown",
      "metadata": {
        "id": "foF7kQjMy08u"
      },
      "source": [
        "We have spent quite a bit of time on masking, thresholding and regions of interest. There are different approaches you can use, whether it is by colour, or by pixel intensity, or by manipulating the Numpy Array (e.g. for accessing and modifying parts of the image). Do take some time to practice these techniques and try it on different images.\n",
        "\n",
        "In computer vision, and in life, there are often multiple ways that you can reach the same objective. Can you think of more efficient ways to get your Region of Interest? "
      ]
    },
    {
      "cell_type": "markdown",
      "metadata": {
        "id": "_PAxI5nOy08w"
      },
      "source": [
        "### 2.3 Geometric Transformations. Resizing and Cropping\n",
        "\n",
        "Moving on, perhaps the image is too big or too small, how might we resize it?\n",
        "\n",
        "### <font color=red>Task 12: Make the 800x600 image into a 400x300 image</font> "
      ]
    },
    {
      "cell_type": "code",
      "metadata": {
        "id": "Vbzp-qLXy082"
      },
      "source": [
        "resized = cv2.resize(img, (300, 400))\n",
        "cv2.waitKey(0)                            # Cleanup after any key is pressed\n",
        "cv2.destroyAllWindows()"
      ],
      "execution_count": 157,
      "outputs": []
    },
    {
      "cell_type": "markdown",
      "metadata": {
        "id": "yiuPBVp9y08-"
      },
      "source": [
        "What is the shape now?"
      ]
    },
    {
      "cell_type": "code",
      "metadata": {
        "id": "TYzkOWAVy09A",
        "colab": {
          "base_uri": "https://localhost:8080/"
        },
        "outputId": "15d01100-20ff-46fe-d673-e32171e3146a"
      },
      "source": [
        "print(resized.shape)"
      ],
      "execution_count": 159,
      "outputs": [
        {
          "output_type": "stream",
          "name": "stdout",
          "text": [
            "(400, 300, 3)\n"
          ]
        }
      ]
    },
    {
      "cell_type": "markdown",
      "metadata": {
        "id": "2QyQEsjxy09O"
      },
      "source": [
        "Note that the resize function can also be used to stretch the image, if you use a different aspect ratio.\n",
        "\n",
        "### <font color=red>Task 13: Stretch the 800x600 image into a 200x300 image</font> "
      ]
    },
    {
      "cell_type": "code",
      "metadata": {
        "id": "XtOBV6Syy09S"
      },
      "source": [
        "stretched = cv2.resize(img, (300, 200))\n",
        "cv2.waitKey(0)                            # Cleanup after any key is pressed\n",
        "cv2.destroyAllWindows()"
      ],
      "execution_count": 160,
      "outputs": []
    },
    {
      "cell_type": "code",
      "metadata": {
        "colab": {
          "base_uri": "https://localhost:8080/"
        },
        "id": "uq8ZqDUrD4Fe",
        "outputId": "af793a9c-92c0-4e61-91ba-1731e6859382"
      },
      "source": [
        "print(stretched.shape)"
      ],
      "execution_count": 161,
      "outputs": [
        {
          "output_type": "stream",
          "name": "stdout",
          "text": [
            "(200, 300, 3)\n"
          ]
        }
      ]
    },
    {
      "cell_type": "markdown",
      "metadata": {
        "id": "hT-jxkX_y09V"
      },
      "source": [
        "### Cropping\n",
        "\n",
        "### <font color=red>Task 14: Crop to obtain the top half of the image:</font> "
      ]
    },
    {
      "cell_type": "code",
      "metadata": {
        "colab": {
          "base_uri": "https://localhost:8080/"
        },
        "id": "7YqCEoVLEpXM",
        "outputId": "e2bd5e7a-e4cf-4787-849d-89d4172b76a7"
      },
      "source": [
        "print(img.shape)"
      ],
      "execution_count": 162,
      "outputs": [
        {
          "output_type": "stream",
          "name": "stdout",
          "text": [
            "(600, 800, 3)\n"
          ]
        }
      ]
    },
    {
      "cell_type": "code",
      "metadata": {
        "id": "AqdUDZXZy09X",
        "colab": {
          "base_uri": "https://localhost:8080/",
          "height": 157
        },
        "outputId": "21aea7eb-48c3-452b-8f80-011352642b22"
      },
      "source": [
        "crop_top_half = img[0:300, 0:799]\n",
        "plt.imshow(cv2.cvtColor(crop_top_half, cv2.COLOR_BGR2RGB))\n",
        "plt.axis('off')\n",
        "plt.show()"
      ],
      "execution_count": 163,
      "outputs": [
        {
          "output_type": "display_data",
          "data": {
            "image/png": "[encoded data removed]",
            "text/plain": [
              "<Figure size 432x288 with 1 Axes>"
            ]
          },
          "metadata": {
            "needs_background": "light"
          }
        }
      ]
    },
    {
      "cell_type": "markdown",
      "metadata": {
        "id": "MO27ZlQDy09d"
      },
      "source": [
        "### <font color=red>Task 15: Crop to obtain the right side of the image.</font>"
      ]
    },
    {
      "cell_type": "code",
      "metadata": {
        "id": "ECa25dOvy09e",
        "colab": {
          "base_uri": "https://localhost:8080/",
          "height": 248
        },
        "outputId": "b98af3e5-3d3d-4c31-edfe-8d17a8e120ae"
      },
      "source": [
        "crop_right_side = img[0:600, 400:799]\n",
        "plt.imshow(cv2.cvtColor(crop_right_side, cv2.COLOR_BGR2RGB))\n",
        "plt.axis('off')\n",
        "plt.show()"
      ],
      "execution_count": 164,
      "outputs": [
        {
          "output_type": "display_data",
          "data": {
            "image/png": "[encoded data removed]",
            "text/plain": [
              "<Figure size 432x288 with 1 Axes>"
            ]
          },
          "metadata": {
            "needs_background": "light"
          }
        }
      ]
    },
    {
      "cell_type": "markdown",
      "metadata": {
        "id": "NoePPVQCy09h"
      },
      "source": [
        "You can play around with it. Cropping to a Region of Interest would be more useful. Let's move on to another very useful method for extracting a Region of Interest (ROI)"
      ]
    },
    {
      "cell_type": "markdown",
      "metadata": {
        "id": "IfNkGhOny09h"
      },
      "source": [
        "### 2.4 Contour Detection\n",
        "\n",
        "This is what is commonly used to search for regions of interest, typically using a thresholded mask. \n",
        "\n",
        "**But what is a contour?**\n",
        "\n",
        "You can think of contours as a [curve drawn along a boundary](https://docs.opencv.org/3.4/d4/d73/tutorial_py_contours_begin.html). \n",
        "\n",
        "To simplify this, think of all the black and white masks. There will be boundaries, sharp changes in color. Contours is a curve drawn along this boundary. \n",
        "\n",
        "Contour detection basically finds and returns these different groups as contours.\n",
        "\n",
        "To illustrate, how many white color regions do you think are there in the image below?\n",
        "\n",
        "Please refer to \"/content/Intel_AI4Y/My Drive/Intel_AI4Y_Colab/Module_19/images/image001_3contours.png\"\n",
        "\n",
        "<div style=\"clear: both;\"></div>\n",
        "\n",
        "Did you guess that there are 3 contours detected? Let us try to load that image and draw the contour outlines."
      ]
    },
    {
      "cell_type": "code",
      "metadata": {
        "id": "_pOenuCsy09t",
        "colab": {
          "base_uri": "https://localhost:8080/",
          "height": 452
        },
        "outputId": "b3aab299-da93-4502-dcc7-4d7bf8fcdf7c"
      },
      "source": [
        "greytest = cv2.imread(\"/content/Intel_AI4Y/My Drive/Intel_AI4Y/Students_E_Learning/Copy_To_Google_Drive/Intel_AI4Y_Colab/Module_19/images/image001_3contours.png\",0)    # Load that image\n",
        "contouroutlines = np.zeros(greytest.shape,dtype=\"uint8\")    # Create a blank canvas for drawing detected contours\n",
        "\n",
        "# Let's find the contours! https://docs.opencv.org/3.4/d3/dc0/group__imgproc__shape.html#ga17ed9f5d79ae97bd4c7cf18403e1689a\n",
        "(cnts,_) = cv2.findContours(greytest, cv2.RETR_EXTERNAL, cv2.CHAIN_APPROX_SIMPLE)\n",
        "\n",
        "for (i, c) in enumerate(cnts):    \n",
        "    cv2.drawContours(contouroutlines, [c], -1, 255, 1)  # For each contour, draw just the outline of the contours\n",
        "                                                        # https://docs.opencv.org/3.4/d6/d6e/group__imgproc__draw.html#ga746c0625f1781f1ffc9056259103edbc\n",
        "        \n",
        "print(\"Contour Outlines\")                               # Display the results\n",
        "cv2_imshow(contouroutlines)\n",
        "\n",
        "cv2.waitKey(0)                                          # Cleanup after any key is pressed\n",
        "cv2.destroyAllWindows()\n",
        "\n",
        "print(\"There are \"+str(len(cnts))+\" contours!\")         # Print out the number of contours detected"
      ],
      "execution_count": 166,
      "outputs": [
        {
          "output_type": "stream",
          "name": "stdout",
          "text": [
            "Contour Outlines\n"
          ]
        },
        {
          "output_type": "display_data",
          "data": {
            "image/png": "[encoded data removed]",
            "text/plain": [
              "<PIL.Image.Image image mode=L size=500x400 at 0x7FB8681C01D0>"
            ]
          },
          "metadata": {}
        },
        {
          "output_type": "stream",
          "name": "stdout",
          "text": [
            "There are 3 contours!\n"
          ]
        }
      ]
    },
    {
      "cell_type": "markdown",
      "metadata": {
        "id": "BsCVbjpky090"
      },
      "source": [
        "That was a simple example with just 3 contours. \n",
        "\n",
        "How many contours would you expect to find on our thresholded original image?\n",
        "\n",
        "Please refer to \"/content/Intel_AI4Y/My Drive/Intel_AI4Y_Colab/Module_19/images/image001_allcontours.png\"\n",
        "\n",
        "<div style=\"clear:both;\"></div>\n"
      ]
    },
    {
      "cell_type": "markdown",
      "metadata": {
        "id": "ihJOfo_Ay091"
      },
      "source": [
        "First we will create the image using tresholding method"
      ]
    },
    {
      "cell_type": "code",
      "metadata": {
        "id": "cNtW47Qny092",
        "colab": {
          "base_uri": "https://localhost:8080/",
          "height": 634
        },
        "outputId": "e32ac07b-bf08-4832-cdc4-ec8af450fd7a"
      },
      "source": [
        "grey = cv2.cvtColor(img, cv2.COLOR_BGR2GRAY)\n",
        "\n",
        "#We apply a threshold\n",
        "(T, thresholded) = cv2.threshold(grey, 0, 255, cv2.THRESH_BINARY_INV | cv2.THRESH_OTSU)\n",
        "\n",
        "print(\"Thresholded\")\n",
        "cv2_imshow(thresholded)\n",
        "\n",
        "cv2.waitKey(0)                            # Cleanup after any key is pressed\n",
        "cv2.destroyAllWindows()"
      ],
      "execution_count": 167,
      "outputs": [
        {
          "output_type": "stream",
          "name": "stdout",
          "text": [
            "Thresholded\n"
          ]
        },
        {
          "output_type": "display_data",
          "data": {
            "image/png": "[encoded data removed]",
            "text/plain": [
              "<PIL.Image.Image image mode=L size=800x600 at 0x7FB863B84E10>"
            ]
          },
          "metadata": {}
        }
      ]
    },
    {
      "cell_type": "markdown",
      "metadata": {
        "id": "yXB9S_qry099"
      },
      "source": [
        "Now we will find out the contour. How many do you think it will be? Look at the picture carefully!"
      ]
    },
    {
      "cell_type": "code",
      "metadata": {
        "id": "IMoq_8Ffy0-A",
        "colab": {
          "base_uri": "https://localhost:8080/",
          "height": 652
        },
        "outputId": "42abd15f-0bda-459a-8511-5da25f62c369"
      },
      "source": [
        "# Let's find the contours!\n",
        "(cnts,_) = cv2.findContours(thresholded, cv2.RETR_EXTERNAL, cv2.CHAIN_APPROX_SIMPLE)\n",
        "\n",
        "mask = np.zeros(img.shape,dtype=\"uint8\")  # Create a canvas for drawing detected contours\n",
        "for (i, c) in enumerate(cnts):    \n",
        "    cv2.drawContours(mask, [c], -1, (0,255,0), 1) \n",
        "    \n",
        "print(\"Mask\")\n",
        "cv2_imshow(mask)\n",
        "\n",
        "cv2.waitKey(0)                            # Cleanup after any key is pressed\n",
        "cv2.destroyAllWindows()\n",
        "\n",
        "\n",
        "print(\"There are \"+str(len(cnts))+\" contours!\")"
      ],
      "execution_count": 168,
      "outputs": [
        {
          "output_type": "stream",
          "name": "stdout",
          "text": [
            "Mask\n"
          ]
        },
        {
          "output_type": "display_data",
          "data": {
            "image/png": "[encoded data removed]",
            "text/plain": [
              "<PIL.Image.Image image mode=RGB size=800x600 at 0x7FB863B84290>"
            ]
          },
          "metadata": {}
        },
        {
          "output_type": "stream",
          "name": "stdout",
          "text": [
            "There are 78 contours!\n"
          ]
        }
      ]
    },
    {
      "cell_type": "markdown",
      "metadata": {
        "id": "k07zjoCly0-D"
      },
      "source": [
        "Why are there 78 contours? That is because of the line of texts. \n",
        "\n",
        "Let us try to label the contours for us to visualize what is actually being counted.\n",
        "\n",
        "Below, you will see how each letter tends to forms 1 contour. But notice how some letters like \"i\" is actually counted as 2 contours since the top of the \"i\" and the bottom of the \"i\" are not connected. Similarly for the exclamation mark.\n",
        "\n",
        "The code below seems a little longer because code has been added for the annotations. You will understand the code better when you visit section 2.5 a little further below. In the meantime, do not worry about the code. Just run the code and see how the contours are counted. Take note of the red bounding boxes which have been drawn around each \"contour\"."
      ]
    },
    {
      "cell_type": "code",
      "metadata": {
        "id": "nNHmR7Oqy0-E",
        "colab": {
          "base_uri": "https://localhost:8080/",
          "height": 1000
        },
        "outputId": "c20517ee-ec85-4e46-f408-a965da98dbb5"
      },
      "source": [
        "grey = cv2.cvtColor(img, cv2.COLOR_BGR2GRAY)\n",
        "\n",
        "#We apply a threshold\n",
        "(T, thresholded) = cv2.threshold(grey, 0, 255, cv2.THRESH_BINARY_INV | cv2.THRESH_OTSU)\n",
        "\n",
        "print(\"Thresholded\")\n",
        "cv2_imshow(thresholded)\n",
        "\n",
        "# Let's find the contours!\n",
        "(cnts,_) = cv2.findContours(thresholded, cv2.RETR_EXTERNAL, cv2.CHAIN_APPROX_SIMPLE)\n",
        "cnts = sorted(cnts, key=lambda cnts: cv2.boundingRect(cnts)[1])  #sort contours from top to bottom.\n",
        "\n",
        "mask = cv2.merge([thresholded,thresholded,thresholded])  # Create a canvas for drawing detected contours\n",
        "for (i, c) in enumerate(cnts):   #https://docs.opencv.org/3.1.0/dd/d49/tutorial_py_contour_features.html  \n",
        "    #cv2.drawContours(mask, [c], -1, (255,255,255), -1) \n",
        "    (x, y, w, h) = cv2.boundingRect(c)                   # Get the x,y coordinates of the contour's bounding box \n",
        "    cv2.rectangle(mask, (x,y), (x+w,y+h), (0,0,255))     # Draw the bounding boxes in red\n",
        "\n",
        "    cv2.putText(mask, \"\"+str(i+1), (x,y+28), cv2.FONT_HERSHEY_SIMPLEX, 0.25, (0,255,0), 1)\n",
        "    \n",
        "print(\"Mask\")\n",
        "cv2_imshow(mask)\n",
        "\n",
        "cv2.waitKey(0)                            # Cleanup after any key is pressed\n",
        "cv2.destroyAllWindows()\n",
        "\n",
        "\n",
        "print(\"There are \"+str(len(cnts))+\" contours!\")"
      ],
      "execution_count": 169,
      "outputs": [
        {
          "output_type": "stream",
          "name": "stdout",
          "text": [
            "Thresholded\n"
          ]
        },
        {
          "output_type": "display_data",
          "data": {
            "image/png": "[encoded data removed]",
            "text/plain": [
              "<PIL.Image.Image image mode=L size=800x600 at 0x7FB8681C0710>"
            ]
          },
          "metadata": {}
        },
        {
          "output_type": "stream",
          "name": "stdout",
          "text": [
            "Mask\n"
          ]
        },
        {
          "output_type": "display_data",
          "data": {
            "image/png": "[encoded data removed]",
            "text/plain": [
              "<PIL.Image.Image image mode=RGB size=800x600 at 0x7FB8681C01D0>"
            ]
          },
          "metadata": {}
        },
        {
          "output_type": "stream",
          "name": "stdout",
          "text": [
            "There are 78 contours!\n"
          ]
        }
      ]
    },
    {
      "cell_type": "markdown",
      "metadata": {
        "id": "3F73TLLyy0-M"
      },
      "source": [
        "Want to find out more about contours? You can visit https://docs.opencv.org/3.3.1/d4/d73/tutorial_py_contours_begin.html to dig deeper. As always, do continue searching on the Internet because there is a treasure trove of information out there, and it will be very useful as you go deeper!\n",
        "\n",
        "Tip: In the above examples, we used cv2.RETR_EXTERNAL to get the external contours. There are also other options that you can specify to get different types of contours. For example, cv2.RETR_LIST will list all contours and not just the external contours."
      ]
    },
    {
      "cell_type": "markdown",
      "metadata": {
        "id": "Ld7vwzSmy0-O"
      },
      "source": [
        "**Using Contours as Image Masks**\n",
        "\n",
        "Remember we talked about image masks earlier? The contours can be used to create masks too! \n",
        "\n",
        "Set the last parameter for the drawContour function to -1 to create a fill (instead of an outline), and use it as a mask!"
      ]
    },
    {
      "cell_type": "code",
      "metadata": {
        "id": "27BQqel8y0-P",
        "colab": {
          "base_uri": "https://localhost:8080/",
          "height": 1000
        },
        "outputId": "12d3bc26-a225-4a9f-dce0-d877c2489747"
      },
      "source": [
        "(T, thresholded) = cv2.threshold(grey, 0, 255, cv2.THRESH_BINARY_INV | cv2.THRESH_OTSU)\n",
        "thresholded[410:,:]=0                     # Shortcut to remove the text since it is on the bottom half of the image!\n",
        "#cv2.imshow(\"Thresholded\",thresholded)\n",
        "\n",
        "#How many contours do you think there are?\n",
        "(cnts,_) = cv2.findContours(thresholded, cv2.RETR_EXTERNAL, cv2.CHAIN_APPROX_SIMPLE)\n",
        "\n",
        "mask = np.zeros(thresholded.shape,dtype=\"uint8\")\n",
        "for (i, c) in enumerate(cnts):    \n",
        "    cv2.drawContours(mask, [c], -1, 255, -1)  #the last parameter defines the outline thickness. -1 will fill the contour\n",
        "    \n",
        "print(\"Mask\")\n",
        "cv2_imshow(mask)\n",
        "\n",
        "print(\"Masked Image\")\n",
        "cv2_imshow(cv2.bitwise_and(img,img,mask=mask))\n",
        "\n",
        "cv2.waitKey(0)                            # Cleanup after any key is pressed\n",
        "cv2.destroyAllWindows()\n",
        "\n",
        "\n",
        "print(\"There are \"+str(len(cnts))+\" contours!\")"
      ],
      "execution_count": 170,
      "outputs": [
        {
          "output_type": "stream",
          "name": "stdout",
          "text": [
            "Mask\n"
          ]
        },
        {
          "output_type": "display_data",
          "data": {
            "image/png": "[encoded data removed]",
            "text/plain": [
              "<PIL.Image.Image image mode=L size=800x600 at 0x7FB863BB4C50>"
            ]
          },
          "metadata": {}
        },
        {
          "output_type": "stream",
          "name": "stdout",
          "text": [
            "Masked Image\n"
          ]
        },
        {
          "output_type": "display_data",
          "data": {
            "image/png": "[encoded data removed]",
            "text/plain": [
              "<PIL.Image.Image image mode=RGB size=800x600 at 0x7FB863BB4C50>"
            ]
          },
          "metadata": {}
        },
        {
          "output_type": "stream",
          "name": "stdout",
          "text": [
            "There are 3 contours!\n"
          ]
        }
      ]
    },
    {
      "cell_type": "markdown",
      "metadata": {
        "id": "dXpRl6cIy0-S"
      },
      "source": [
        "Did you find it easier than manually thresholding each colour?"
      ]
    },
    {
      "cell_type": "markdown",
      "metadata": {
        "id": "f5OI-b37y0-S"
      },
      "source": [
        "### 2.5 Drawing Lines and Writing Texts\n",
        "\n",
        "We actually did a bit of this in the contour exercise above, using a method called drawContour. Let us see how we can add lines and words into images, since we may want to annotate our images. Let's revisit the example in 2.4 and add labels to our contours!\n",
        "\n",
        "Only the 3 lines that have changed are commented below. The other lines of code as similar to the example in 2.4 and you can refer to that example to recap what those lines of code do.\n",
        "\n",
        "First, we get the bounding box for each contour, draw a rectangle around it, and then add the text to label each contour."
      ]
    },
    {
      "cell_type": "code",
      "metadata": {
        "id": "zmihT43Fy0-T",
        "colab": {
          "base_uri": "https://localhost:8080/",
          "height": 452
        },
        "outputId": "a7dc49ca-1483-46da-ce2b-db3184ef65ac"
      },
      "source": [
        "greytest = cv2.imread(\"/content/Intel_AI4Y/My Drive/Intel_AI4Y/Students_E_Learning/Copy_To_Google_Drive/Intel_AI4Y_Colab/Module_19/images/image001_3contours.png\",0)\n",
        "contouroutlines = np.zeros(greytest.shape,dtype=\"uint8\")\n",
        "\n",
        "(cnts,_) = cv2.findContours(greytest, cv2.RETR_EXTERNAL, cv2.CHAIN_APPROX_SIMPLE)\n",
        "\n",
        "for (i, c) in enumerate(cnts):    \n",
        "    cv2.drawContours(contouroutlines, [c], -1, 255, 1)\n",
        "\n",
        "    # GET BOUNDING BOX OF EACH CONTOUR\n",
        "    (x, y, w, h) = cv2.boundingRect(c)\n",
        "    \n",
        "    # DRAW A RECTANGLE AROUND EACH CONTOUR (I.E. DRAW THE BOUNDING BOX)\n",
        "    cv2.rectangle(contouroutlines, (x, y), (x+w, y+h), (255,255,0), 2) \n",
        "    \n",
        "    # ADD THE TEXT \"COUNTOUR <>\" TO EACH CONTOUR\n",
        "    cv2.putText(contouroutlines, \"Contour \"+str(i+1), (x,y-10), cv2.FONT_HERSHEY_SIMPLEX, 0.5, (255, 255, 0), 2)\n",
        "\n",
        "    \n",
        "print(\"Contour Outlines\")\n",
        "cv2_imshow(contouroutlines)     \n",
        "\n",
        "cv2.waitKey(0)                                          \n",
        "cv2.destroyAllWindows()\n",
        "\n",
        "print(\"There are \"+str(len(cnts))+\" contours!\")   "
      ],
      "execution_count": 172,
      "outputs": [
        {
          "output_type": "stream",
          "name": "stdout",
          "text": [
            "Contour Outlines\n"
          ]
        },
        {
          "output_type": "display_data",
          "data": {
            "image/png": "[encoded data removed]",
            "text/plain": [
              "<PIL.Image.Image image mode=L size=500x400 at 0x7FB863B8F590>"
            ]
          },
          "metadata": {}
        },
        {
          "output_type": "stream",
          "name": "stdout",
          "text": [
            "There are 3 contours!\n"
          ]
        }
      ]
    },
    {
      "cell_type": "markdown",
      "metadata": {
        "id": "PANu3Hwoy0-V"
      },
      "source": [
        "For more details on writing text on screen, and drawing shapes such as rectangles and circles, you can visit https://docs.opencv.org/4.0.0/dc/da5/tutorial_py_drawing_functions.html\n",
        "\n",
        "If you later create applications for object detection, you can use this method to annotate what you actually detect. Or you could also create your own art work and images using just code! \n",
        "\n",
        "Let's try to draw something from scratch:\n",
        "\n",
        "**ACCESS DENIED**"
      ]
    },
    {
      "cell_type": "code",
      "metadata": {
        "id": "3RKFDSo0y0-W",
        "colab": {
          "base_uri": "https://localhost:8080/",
          "height": 634
        },
        "outputId": "51cfcdbc-6988-4df3-8e3e-caf91d917b56"
      },
      "source": [
        "# Create an empty canvas (height,width,channels) - In this case: 3 colour channels, width 400, and height 300 \n",
        "canvas_accessdenied = np.zeros((600,800,3),dtype=\"uint8\")      \n",
        "\n",
        "# Add a Hollow Rectangle at (x=100,y=230) with the colour (255,255,0), and line thickness 2 \n",
        "cv2.rectangle(canvas_accessdenied, (100, 230), (700, 370), (255,255,0), 2)  \n",
        "\n",
        "# Add your Text at (x=150,y=320) the colour (100,100,255), fint size 2, and line thickness 5 \n",
        "cv2.putText(canvas_accessdenied, \"ACCESS DENIED\", (150,320), cv2.FONT_HERSHEY_SIMPLEX, 2, (100,100,255), 5)\n",
        "\n",
        "print(\"Canvas Access Denied\")\n",
        "cv2_imshow(canvas_accessdenied)  \n",
        "\n",
        "cv2.waitKey(0)                            # Cleanup after any key is pressed\n",
        "cv2.destroyAllWindows()"
      ],
      "execution_count": 173,
      "outputs": [
        {
          "output_type": "stream",
          "name": "stdout",
          "text": [
            "Canvas Access Denied\n"
          ]
        },
        {
          "output_type": "display_data",
          "data": {
            "image/png": "[encoded data removed]",
            "text/plain": [
              "<PIL.Image.Image image mode=RGB size=800x600 at 0x7FB863B86750>"
            ]
          },
          "metadata": {}
        }
      ]
    },
    {
      "cell_type": "markdown",
      "metadata": {
        "id": "dL4ypXMpy0-a"
      },
      "source": [
        "How about doing one for Access Granted?\n",
        "\n",
        "**ACCESS GRANTED**"
      ]
    },
    {
      "cell_type": "code",
      "metadata": {
        "id": "-Rmei8q9y0-b",
        "colab": {
          "base_uri": "https://localhost:8080/",
          "height": 634
        },
        "outputId": "1c1330fc-c821-4bbc-ce74-aaeb5c17a9d5"
      },
      "source": [
        "# Create an empty canvas (height,width,channels) - In this case: 3 colour channels, width 400, and height 300 \n",
        "canvas_accessgranted = np.zeros((600,800,3),dtype=\"uint8\")      \n",
        "\n",
        "# Add a Hollow Rectangle at (x=100,y=230) with the colour (255,255,0), and line thickness 2 \n",
        "cv2.rectangle(canvas_accessgranted, (100, 230), (700, 370), (255,255,0), 2)  \n",
        "\n",
        "# Add your Text at (x=130,y=320) the colour (255,100,100), fint size 2, and line thickness 5 \n",
        "cv2.putText(canvas_accessgranted, \"ACCESS GRANTED\", (130,320), cv2.FONT_HERSHEY_SIMPLEX, 2, (255,100,100), 5)\n",
        "\n",
        "print(\"Canvas Access Granted\")\n",
        "cv2_imshow(canvas_accessgranted)  \n",
        "\n",
        "cv2.waitKey(0)                            # Cleanup after any key is pressed\n",
        "cv2.destroyAllWindows()"
      ],
      "execution_count": 174,
      "outputs": [
        {
          "output_type": "stream",
          "name": "stdout",
          "text": [
            "Canvas Access Granted\n"
          ]
        },
        {
          "output_type": "display_data",
          "data": {
            "image/png": "[encoded data removed]",
            "text/plain": [
              "<PIL.Image.Image image mode=RGB size=800x600 at 0x7FB8681A0890>"
            ]
          },
          "metadata": {}
        }
      ]
    },
    {
      "cell_type": "markdown",
      "metadata": {
        "id": "uBVNuhLAy0-f"
      },
      "source": [
        "### <font color=red>Task 16: Create a canvas with 2 boxes. The first box says \"ACCESS GRANTED\", and the second box says \"PLEASE PROCEED\".</font>"
      ]
    },
    {
      "cell_type": "code",
      "metadata": {
        "id": "Suh7g2wXy0-g",
        "colab": {
          "base_uri": "https://localhost:8080/",
          "height": 1000
        },
        "outputId": "3df6ca01-b5f6-42a8-cd2d-01727ba42ce4"
      },
      "source": [
        "# Create an empty canvas (height,width,channels) - In this case: 3 colour channels, width 400, and height 300 \n",
        "canvas_accessgranted = np.zeros((600,800,3),dtype=\"uint8\")      \n",
        "\n",
        "# Add a Hollow Rectangle at (x=100,y=230) with the colour (255,255,0), and line thickness 2 \n",
        "cv2.rectangle(canvas_accessgranted, (100, 230), (700, 370), (255,255,0), 2)  \n",
        "\n",
        "# Add your Text at (x=130,y=320) the colour (255,100,100), fint size 2, and line thickness 5 \n",
        "cv2.putText(canvas_accessgranted, \"ACCESS GRANTED\", (130,320), cv2.FONT_HERSHEY_SIMPLEX, 2, (255,100,100), 5)\n",
        "\n",
        "print(\"Canvas Access Granted\")\n",
        "cv2_imshow(canvas_accessgranted)  \n",
        "\n",
        "cv2.waitKey(0)                            # Cleanup after any key is pressed\n",
        "cv2.destroyAllWindows()\n",
        "\n",
        "\n",
        "\n",
        "\n",
        "# For PLEASE PROCEED\n",
        "canvas_please_proceed = np.zeros((600,800,3),dtype=\"uint8\")  \n",
        "\n",
        "cv2.rectangle(canvas_please_proceed, (100, 230), (700, 370), (255,255,0), 2)  \n",
        "\n",
        "\n",
        "cv2.putText(canvas_please_proceed, \"PLEASE PROCEED\", (130,320), cv2.FONT_HERSHEY_SIMPLEX, 2, (255,100,100), 5)\n",
        "\n",
        "\n",
        "cv2_imshow(canvas_please_proceed)  \n",
        "\n",
        "cv2.waitKey(0)                            # Cleanup after any key is pressed\n",
        "cv2.destroyAllWindows()"
      ],
      "execution_count": 179,
      "outputs": [
        {
          "output_type": "stream",
          "name": "stdout",
          "text": [
            "Canvas Access Granted\n"
          ]
        },
        {
          "output_type": "display_data",
          "data": {
            "image/png": "[encoded data removed]",
            "text/plain": [
              "<PIL.Image.Image image mode=RGB size=800x600 at 0x7FB863B86C50>"
            ]
          },
          "metadata": {}
        },
        {
          "output_type": "display_data",
          "data": {
            "image/png": "[encoded data removed]",
            "text/plain": [
              "<PIL.Image.Image image mode=RGB size=800x600 at 0x7FB863B86C50>"
            ]
          },
          "metadata": {}
        }
      ]
    },
    {
      "cell_type": "markdown",
      "metadata": {
        "id": "OSMBvL76y0-k"
      },
      "source": [
        "## Congratulations! \n",
        "\n",
        "## It's time for you to start creating some fun stuff! "
      ]
    },
    {
      "cell_type": "markdown",
      "metadata": {
        "id": "Tp7FGpmEy0-l"
      },
      "source": [
        "Oh wait, anytime you need some help, or if you need to know the syntax of the openCv functions, <br />\n",
        "do look it up at https://docs.opencv.org/4.0.0/d2/d96/tutorial_py_table_of_contents_imgproc.html\n",
        "\n",
        "If you can't find your answers there, there's also a good chance someone else has the answer. Get comfortable using the Internet to find out more!\n",
        "\n",
        "Keep finding solutions to your questions, and keep building good stuff to help with the many challenges out there in the world!"
      ]
    },
    {
      "cell_type": "markdown",
      "metadata": {
        "id": "f6BVRfhNy0-m"
      },
      "source": [
        "### Challenge 1: Expand on the video example in section 1.1b, resize the video to 800x600 and display it in greyscale"
      ]
    },
    {
      "cell_type": "markdown",
      "metadata": {
        "id": "yCUKUUlr4zbt"
      },
      "source": [
        "**NOTE:** <font color=red> Challenge 1 to 7 are optional. </font> "
      ]
    },
    {
      "cell_type": "code",
      "metadata": {
        "id": "NGAPLvfhy0-m"
      },
      "source": [
        "# I have Done the Face recognition with OpenCv, wanna take a look??"
      ],
      "execution_count": null,
      "outputs": []
    },
    {
      "cell_type": "markdown",
      "metadata": {
        "id": "4fpX4jSjy0-p"
      },
      "source": [
        "### Challenge 2: Use the Python time library, and add a timestamp neatly to the video feed from your webcam\n",
        "\n",
        "<font color=red>Optional: </font> as colab can't access your webcam directly."
      ]
    },
    {
      "cell_type": "code",
      "metadata": {
        "id": "X0F5oSqyy0-s"
      },
      "source": [
        "# Sample Code for getting a timestamp. Search online for more options if you need.\n",
        "from datetime import datetime\n",
        "print (datetime.now())"
      ],
      "execution_count": null,
      "outputs": []
    },
    {
      "cell_type": "code",
      "metadata": {
        "id": "wBEKbCzly0-w"
      },
      "source": [
        "# your code here"
      ],
      "execution_count": null,
      "outputs": []
    },
    {
      "cell_type": "markdown",
      "metadata": {
        "id": "VTmvhbtzy0-0"
      },
      "source": [
        "### Challenge 3: Using the red and green markers, create different coloured cards. Can you get the computer to recognize whenever a card of a particular colour is presented?\n",
        "\n",
        "Hint: First take a few pictures of the cards, then use simple image processing to analyze their colour patterns. Explore different colour spaces if necessary. Notice how this system might also be rather susceptible to changes in lighting conditions."
      ]
    },
    {
      "cell_type": "code",
      "metadata": {
        "id": "2_qW40mBy0-1"
      },
      "source": [
        ""
      ],
      "execution_count": null,
      "outputs": []
    },
    {
      "cell_type": "markdown",
      "metadata": {
        "id": "ihs078W0y0-4"
      },
      "source": [
        "### Challenge 4: Create an application that displays \"ACCESS GRANTED\" whenever you appear (or do something, or show something) in front of the camera \n",
        "\n",
        "Exercise your creativity. The only rule is that you are not allowed to touch the keyboard, and it needs to involve the camera processing the video feed.\n",
        "\n",
        "Challenge. Create something that only grants access to you, and does not grant access to friends who try to pose as you!\n",
        "First you will demonstrate gaining access to the system, 2 times. Then your friend will try to do the same. If your friend does not manage to gain access within 3 minutes, you win!"
      ]
    },
    {
      "cell_type": "code",
      "metadata": {
        "id": "a4iTFXFyy0-4"
      },
      "source": [
        "# Possible techniques: Using a particular color shirt/ carrying a coloured paper. \n",
        "# You are free to explore possibilities and to make it difficult for the opposing team to decipher what they are trying to do!"
      ],
      "execution_count": null,
      "outputs": []
    },
    {
      "cell_type": "markdown",
      "metadata": {
        "id": "SWKEjQcQy0-6"
      },
      "source": [
        "### Challenge 5: Watch the video at https://www.youtube.com/watch?v=xyfSUOfFI_E \n",
        "List down ideas of what you may like to create using the powers of Computer Vision. <br />\n",
        "Can some of your ideas help to achieve the Sustainable Development Goals (SDG)?"
      ]
    },
    {
      "cell_type": "code",
      "metadata": {
        "id": "e4kG7t3JAtyn"
      },
      "source": [
        " # Face recognition, Object recognition, Mask Detection"
      ],
      "execution_count": null,
      "outputs": []
    },
    {
      "cell_type": "markdown",
      "metadata": {
        "id": "0Sm4-I_uy0-7"
      },
      "source": [
        "### Challenge 6: List down at least 3 examples of Computer Vision applications that you have seen in the real world"
      ]
    },
    {
      "cell_type": "code",
      "metadata": {
        "id": "GcV_bderAuUo"
      },
      "source": [
        "# Intrusion Detection, restaurant real time, YOLO"
      ],
      "execution_count": null,
      "outputs": []
    },
    {
      "cell_type": "markdown",
      "metadata": {
        "id": "aY7kiLCty0-8"
      },
      "source": [
        "### Challenge 7: List down some of the limitations of the system that you created in Task 4\n",
        "How do you think it can be improved?"
      ]
    },
    {
      "cell_type": "code",
      "metadata": {
        "id": "YdyHZM1kAu3O"
      },
      "source": [
        "# Animals facial recognition?"
      ],
      "execution_count": null,
      "outputs": []
    }
  ]
}