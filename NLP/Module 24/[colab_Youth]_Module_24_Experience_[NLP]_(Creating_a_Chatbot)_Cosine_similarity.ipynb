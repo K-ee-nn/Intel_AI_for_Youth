{
  "nbformat": 4,
  "nbformat_minor": 0,
  "metadata": {
    "kernelspec": {
      "display_name": "Python 3",
      "language": "python",
      "name": "python3"
    },
    "language_info": {
      "codemirror_mode": {
        "name": "ipython",
        "version": 3
      },
      "file_extension": ".py",
      "mimetype": "text/x-python",
      "name": "python",
      "nbconvert_exporter": "python",
      "pygments_lexer": "ipython3",
      "version": "3.6.7"
    },
    "colab": {
      "name": "[colab_Youth]_Module_24_Experience_[NLP]_(Creating_a_Chatbot)_Cosine_similarity.ipynb",
      "provenance": [],
      "collapsed_sections": [
        "z2I3ZEdwbR3T"
      ]
    }
  },
  "cells": [
    {
      "cell_type": "markdown",
      "metadata": {
        "id": "8VdFURRdZA5x"
      },
      "source": [
        "# NLP Lesson Map: NLP Process\n",
        "\n",
        "<font color=red>Red </font> highlighted is the topic covered for this lesson\n",
        "\n",
        "1.\t<font color=red>Obtain Text</font> \n",
        "> *\t<font color=red> From NTLK</font> \n",
        "> *\tFrom website\n",
        "> *\tFrom CSV\n",
        "2.\t<font color=red>Tokens\n",
        "> *\tSentence Segmentation\n",
        "> *\tTokenization\n",
        "> *\tRemove stopwords, special characters, numbers\n",
        "> *\tConverting text to a common case\n",
        "> *\tStemming & Lemmatization</font> \n",
        "3.\t<font color=red>Numbers</font> \n",
        "> *\tCreate a Dictionary\n",
        "> *\t<font color=red>Create Document Vectors = Bag of Words = Term Frequency (tf)  = number of times that each word occurs per document</font> \n",
        "> *\tidf\n",
        "> *\ttf-idf\n",
        "4.\t<font color=red>AI Models</font> \n",
        "> * Logistic Regression\n",
        "> *\t<font color=red>Cosine Similarity</font> \n",
        "> *\tNeural Network\n",
        "5.\t<font color=red>NLP Applications</font> \n",
        "> * Classification\n",
        "> *\tSentiment Analysis\n",
        "> *\t<font color=red>Chatbot</font> "
      ]
    },
    {
      "cell_type": "markdown",
      "metadata": {
        "id": "-7RjlfoJbR1M"
      },
      "source": [
        "# Build a clever chatbot"
      ]
    },
    {
      "cell_type": "markdown",
      "metadata": {
        "id": "-lgYnYNWbR1P"
      },
      "source": [
        "In this session, we will create a chatbot using the cosine similarity algorithm.\n",
        "\n",
        "The basic concept of the chatbot is simple. We want to be able to create a chatbot which will recognise certain input and reply it with a response that makes sense. \n",
        "\n",
        "We will first build the chatbot's database, apply our algorithm of choice, and then create a simple interactive dashboard for chat purposes right on Jupyter Notebook!\n",
        "\n",
        "This exercise is inspired by the [great work](https://medium.com/analytics-vidhya/building-a-simple-chatbot-in-python-using-nltk-7c8c8215ac6e) by Parul Pandey.\n",
        "\n",
        "Please refer to this [great work](https://medium.com/analytics-vidhya/building-a-simple-chatbot-in-python-using-nltk-7c8c8215ac6e) by Parul Pandey for further info or **help you to understand better**.\n",
        "* https://medium.com/analytics-vidhya/building-a-simple-chatbot-in-python-using-nltk-7c8c8215ac6e "
      ]
    },
    {
      "cell_type": "markdown",
      "metadata": {
        "id": "Qncax6wMbR1Q"
      },
      "source": [
        "## 1. Adding knowledge base to your chatbot\n",
        "\n",
        "Your chatbot's ability to converse and interact depends on the data that you input to it. Therefore, the first step you want to do is to plan your chatbot. You will have to choose the right knowledge base for your particular task. For instance, you would not train your chatbot on movie reviews if you want it to answer questions about sports cars!\n",
        "\n",
        "In this exercise, you will decide what you want your chatbot to have knowledge on, and look for datasets required. \n",
        "\n",
        "To start off, we have included a document called robots.txt which is simply the wikipedia page on chatbots https://en.wikipedia.org/wiki/Chatbot copied and pasted into a text file.  \n",
        "  \n",
        "What questions would you like your chatbot to answer? You could train your chatbot on endangered species, hunger, gender equality, clean energy, or any other topic you would like! Use the tools you have learned from the previous Experiences to collect information, and process it into a corpus of knowledge.  \n",
        "\n",
        "### Task: What chatbot would you want to make? Have a brainstorming session and share your idea with your group!\n",
        "\n",
        "With that, let's get started!"
      ]
    },
    {
      "cell_type": "markdown",
      "metadata": {
        "id": "yp8UV-m1bR1S"
      },
      "source": [
        "### 1.1 Importing libraries\n",
        "\n",
        "In this exercise, we will be requiring the following libraries:"
      ]
    },
    {
      "cell_type": "code",
      "metadata": {
        "id": "rGDzKZRhbR1T"
      },
      "source": [
        "import nltk # to process text data\n",
        "import numpy as np # to represent corpus as arrays\n",
        "import random \n",
        "import string # to process standard python strings\n",
        "from sklearn.metrics.pairwise import cosine_similarity # We will use this later to decide how similar two sentences are\n",
        "from sklearn.feature_extraction.text import TfidfVectorizer # Remember when you built a function to create a tfidf bag of words in Experience 2? This function does the same thing!"
      ],
      "execution_count": 31,
      "outputs": []
    },
    {
      "cell_type": "markdown",
      "metadata": {
        "id": "Sb2C88jAbR1X"
      },
      "source": [
        "### 1.2 Processing data"
      ]
    },
    {
      "cell_type": "markdown",
      "metadata": {
        "id": "AEvPgPOTbR1Y"
      },
      "source": [
        "Now we begin to process the knowledge base. We will read the text file, convert everything to lowercase and tokenize it. Do you remember what tokenization does?  \n",
        "  \n",
        "There exists pre-trained tokenizers that will help split your document up into tokens. \n",
        "\n",
        "If this is the first time you are using these pre-trained tokenizers, you will have to download it with the command `nltk.download('punkt')`. We will also use a pre-defined model to perform lemmatization. This is downloaded using `nltk.download('wordnet')`. Subsequently, you can comment out the line if you ever have to run the cell again.\n",
        "\n",
        "#### Optional: run these if you do not have the required functions"
      ]
    },
    {
      "cell_type": "code",
      "metadata": {
        "id": "sTVOHW-_bR1a",
        "colab": {
          "base_uri": "https://localhost:8080/"
        },
        "outputId": "ccc8e966-0825-4ff0-8c3b-9060a110348e"
      },
      "source": [
        "nltk.download('punkt') # first-time use only tokenizer\n",
        "nltk.download('wordnet') # first-time use only Used for the lemmatizer"
      ],
      "execution_count": 33,
      "outputs": [
        {
          "output_type": "stream",
          "name": "stdout",
          "text": [
            "[nltk_data] Downloading package punkt to /root/nltk_data...\n",
            "[nltk_data]   Package punkt is already up-to-date!\n",
            "[nltk_data] Downloading package wordnet to /root/nltk_data...\n",
            "[nltk_data]   Package wordnet is already up-to-date!\n"
          ]
        },
        {
          "output_type": "execute_result",
          "data": {
            "text/plain": [
              "True"
            ]
          },
          "metadata": {},
          "execution_count": 33
        }
      ]
    },
    {
      "cell_type": "markdown",
      "metadata": {
        "id": "pfcus2JbbR1i"
      },
      "source": [
        "#### 1.2.1 Open file\n",
        "\n",
        "We will first load the `.txt` file using the `open()` function. Subsequently, `.read() `is used to load the data into a variable we will call `raw_data`"
      ]
    },
    {
      "cell_type": "code",
      "metadata": {
        "id": "AKzS46BpbVyV",
        "colab": {
          "base_uri": "https://localhost:8080/"
        },
        "outputId": "7bb6010b-c197-4f60-f18d-149fac6543ce"
      },
      "source": [
        "from google.colab import drive\n",
        "drive.mount('/content/Intel_AI4Y')"
      ],
      "execution_count": 34,
      "outputs": [
        {
          "output_type": "stream",
          "name": "stdout",
          "text": [
            "Drive already mounted at /content/Intel_AI4Y; to attempt to forcibly remount, call drive.mount(\"/content/Intel_AI4Y\", force_remount=True).\n"
          ]
        }
      ]
    },
    {
      "cell_type": "code",
      "metadata": {
        "id": "DhQ4QQF5bR1j",
        "colab": {
          "base_uri": "https://localhost:8080/"
        },
        "outputId": "45d1c407-43d0-4760-ebf5-2e68d50202de"
      },
      "source": [
        "'''\n",
        "When you have collected your data, update the variable 'filepath' below with the location of your knowledge base. \n",
        "The knowledge base should consist of sentences in a text file.\n",
        "'''\n",
        "filepath='/content/Intel_AI4Y/My Drive/Intel_AI4Y/Students_E_Learning/Copy_To_Google_Drive/Intel_AI4Y_Colab/Module_24/robots.txt'\n",
        "corpus=open(filepath,'r',errors = 'ignore')\n",
        "raw_data=corpus.read()\n",
        "print (raw_data)"
      ],
      "execution_count": 35,
      "outputs": [
        {
          "output_type": "stream",
          "name": "stdout",
          "text": [
            "\n",
            "Chatbot\n",
            "From Wikipedia, the free encyclopedia\n",
            "Jump to navigationJump to search\n",
            "A chatbot (also known as a smartbot, talkbot, chatterbot, Bot, IM bot, interactive agent, Conversational interface or Artificial Conversational Entity) is a computer program or an artificial intelligence which conducts a conversation via auditory or textual methods.[1] Such programs are often designed to convincingly simulate how a human would behave as a conversational partner, thereby passing the Turing test. Chatbots are typically used in dialog systems for various practical purposes including customer service or information acquisition. Some chatbots use sophisticated natural language processing systems, but many simpler ones scan for keywords within the input, then pull a reply with the most matching keywords, or the most similar wording pattern, from a database.\n",
            "\n",
            "The term \"ChatterBot\" was originally coined by Michael Mauldin (creator of the first Verbot, Julia) in 1994 to describe these conversational programs.[2] Today, most chatbots are accessed via virtual assistants such as Google Assistant and Amazon Alexa, via messaging apps such as Facebook Messenger or WeChat, or via individual organizations' apps and websites.[3][4] Chatbots can be classified into usage categories such as conversational commerce (e-commerce via chat), analytics, communication, customer support, design, developer tools, education, entertainment, finance, food, games, health, HR, marketing, news, personal, productivity, shopping, social, sports, travel and utilities.[5]\n",
            "Background\n",
            "In 1950, Alan Turing's famous article \"Computing Machinery and Intelligence\" was published,[6] which proposed what is now called the Turing test as a criterion of intelligence. This criterion depends on the ability of a computer program to impersonate a human in a real-time written conversation with a human judge, sufficiently well that the judge is unable to distinguish reliablyon the basis of the conversational content alonebetween the program and a real human. The notoriety of Turing's proposed test stimulated great interest in Joseph Weizenbaum's program ELIZA, published in 1966, which seemed to be able to fool users into believing that they were conversing with a real human. However Weizenbaum himself did not claim that ELIZA was genuinely intelligent, and the introduction to his paper presented it more as a debunking exercise:\n",
            "\n",
            "[In] artificial intelligence ... machines are made to behave in wondrous ways, often sufficient to dazzle even the most experienced observer. But once a particular program is unmasked, once its inner workings are explained ... its magic crumbles away; it stands revealed as a mere collection of procedures ... The observer says to himself \"I could have written that\". With that thought he moves the program in question from the shelf marked \"intelligent\", to that reserved for curios ... The object of this paper is to cause just such a re-evaluation of the program about to be \"explained\". Few programs ever needed it more.[7]\n",
            "\n",
            "ELIZA's key method of operation (copied by chatbot designers ever since) involves the recognition of cue words or phrases in the input, and the output of corresponding pre-prepared or pre-programmed responses that can move the conversation forward in an apparently meaningful way (e.g. by responding to any input that contains the word 'MOTHER' with 'TELL ME MORE ABOUT YOUR FAMILY').[8] Thus an illusion of understanding is generated, even though the processing involved has been merely superficial. ELIZA showed that such an illusion is surprisingly easy to generate, because human judges are so ready to give the benefit of the doubt when conversational responses are capable of being interpreted as \"intelligent\".\n",
            "\n",
            "Interface designers have come to appreciate that humans' readiness to interpret computer output as genuinely conversationaleven when it is actually based on rather simple pattern-matchingcan be exploited for useful purposes. Most people prefer to engage with programs that are human-like, and this gives chatbot-style techniques a potentially useful role in interactive systems that need to elicit information from users, as long as that information is relatively straightforward and falls into predictable categories. Thus, for example, online help systems can usefully employ chatbot techniques to identify the area of help that users require, potentially providing a \"friendlier\" interface than a more formal search or menu system. This sort of usage holds the prospect of moving chatbot technology from Weizenbaum's \"shelf ... reserved for curios\" to that marked \"genuinely useful computational methods\".\n",
            "\n",
            "Development\n",
            "The classic historic early chatbots are ELIZA (1966) and PARRY (1972).[9][10][11][12] More recent notable programs include A.L.I.C.E., Jabberwacky and D.U.D.E (Agence Nationale de la Recherche and CNRS 2006). While ELIZA and PARRY were used exclusively to simulate typed conversation, many chatbots now include functional features such as games and web searching abilities. In 1984, a book called The Policeman's Beard is Half Constructed was published, allegedly written by the chatbot Racter (though the program as released would not have been capable of doing so).[13]\n",
            "\n",
            "One pertinent field of AI research is natural language processing. Usually, weak AI fields employ specialized software or programming languages created specifically for the narrow function required. For example, A.L.I.C.E. uses a markup language called AIML, which is specific to its function as a conversational agent, and has since been adopted by various other developers of, so called, Alicebots. Nevertheless, A.L.I.C.E. is still purely based on pattern matching techniques without any reasoning capabilities, the same technique ELIZA was using back in 1966. This is not strong AI, which would require sapience and logical reasoning abilities.\n",
            "\n",
            "Jabberwacky learns new responses and context based on real-time user interactions, rather than being driven from a static database. Some more recent chatbots also combine real-time learning with evolutionary algorithms that optimise their ability to communicate based on each conversation held. Still, there is currently no general purpose conversational artificial intelligence, and some software developers focus on the practical aspect, information retrieval.\n",
            "\n",
            "Chatbot competitions focus on the Turing test or more specific goals. Two such annual contests are the Loebner Prize and The Chatterbox Challenge (the latter has been offline since 2015, however materials can still be found from web archives).[14]\n",
            "\n",
            "Application\n",
            "See also: Virtual assistant\n",
            "\n",
            "Aeromexico airline chatbot running on Facebook Messenger, March 2018\n",
            "Messaging apps\n",
            "Many companies' chatbots run on messaging apps like Facebook Messenger (since 2016), WeChat (since 2013),[15] WhatsApp, LiveChat, Kik, Slack, Line, Telegram, or simply via SMS. They are used for B2C customer service, sales and marketing.[16]\n",
            "\n",
            "In 2016, Facebook Messenger allowed developers to place chatbots on their platform. There were 30,000 bots created for Messenger in the first six months, rising to 100,000 by September 2017. [17]\n",
            "\n",
            "Since September 2017, this has also been as part of a pilot program on WhatsApp. Airlines KLM and Aeromxico both announced their participation in the testing;[18][19][20][21] both airlines had previously launched customer services on the Facebook Messenger platform.\n",
            "\n",
            "The bots usually appear as one of the user's contacts, but can sometimes act as participants in a group chat.\n",
            "\n",
            "Many banks, insurers, media companies, e-commerce companies, airlines, hotel chains, retailers, health care providers, government entities and restaurant chains have used chatbots to answer simple questions, increase customer engagement,[22] for promotion, and to offer additional ways to order from them.[23][24]\n",
            "\n",
            "A 2017 study showed 4% of companies used chatbots.[25] According to a 2016 study, 80% of businesses said they intended to have one by 2020.[26]\n",
            "\n",
            "As part of company apps and websites\n",
            "Previous generations of chatbots were present on company websites, e.g. Ask Jenn from Alaska Airlines which debuted in 2008[27] or Expedia's virtual customer service agent which launched in 2011.[27][28] The newer generation of chatbots includes IBM Watson-powered \"Rocky\", introduced in February 2017 by the New York City-based e-commerce company Rare Carat to provide information to prospective diamond buyers.[29][30]\n",
            "\n",
            "Company internal platforms\n",
            "Other companies explore ways they can use chatbots internally, for example for Customer Support, Human Resources, or even in Internet-of-Things (IoT) projects. Overstock.com, for one, has reportedly launched a chatbot named Mila to automate certain simple yet time-consuming processes when requesting for a sick leave.[31] Other large companies such as Lloyds Banking Group, Royal Bank of Scotland, Renault and Citron are now using automated online assistants instead of call centres with humans to provide a first point of contact. A SaaS chatbot business ecosystem has been steadily growing since the F8 Conference when Facebook's Mark Zuckerberg unveiled that Messenger would allow chatbots into the app.[32] In large companies, like in hospitals and aviation organizations, IT architects are designing reference architectures for Intelligent Chatbots that are used to unlock and share knowledge and experience in the organization more efficiently, and reduce the errors in answers from expert service desks significantly.[33]. These Intelligent Chatbots make use of all kinds of artificial intelligence like image moderation and natural language understanding (NLU), natural language generation (NLG), machine learning and deep learning.\n",
            "\n",
            "Toys\n",
            "Chatbots have also been incorporated into devices not primarily meant for computing such as toys.[34]\n",
            "\n",
            "Hello Barbie is an Internet-connected version of the doll that uses a chatbot provided by the company ToyTalk,[35] which previously used the chatbot for a range of smartphone-based characters for children.[36] These characters' behaviors are constrained by a set of rules that in effect emulate a particular character and produce a storyline.[37]\n",
            "\n",
            "IBM's Watson computer has been used as the basis for chatbot-based educational toys for companies such as CogniToys[34] intended to interact with children for educational purposes.[38]\n",
            "\n",
            "Chatbot creation\n",
            "The process of creating a chatbot follows a pattern similar to the development of a web page or a mobile app. It can be divided into design, building, analytics and maintenance.[39]\n",
            "\n",
            "Design\n",
            "The chatbot design is the process that defines the interaction between the user and the chatbot. The chatbot designer will define the chatbot personality, the questions that will be asked to the users, and the overall interaction.[40][41] It can be viewed as a subset of the conversational design. In order to speed up this process, designers can use dedicated chatbot design tools that allow for immediate preview, team collaboration and video export.[42] An important part of the chatbot design is also centered around user testing. User testing can be performed following the same principles that guide the user testing of graphical interfaces.[43]\n",
            "\n",
            "Building\n",
            "The process of building a chatbot can be divided into two main tasks: understanding the user's intent and producing the correct answer. The first task involves understanding the user input. In order to properly understand a user input in a free text form, a Natural Language Processing Engine can be used.[44] The second task may involve different approaches depending on the type of the response that the chatbot will generate.\n",
            "\n",
            "Analytics\n",
            "The usage of the chatbot can be monitored in order to spot potential flaws or problems. It can also provide useful insights that can improve the final user experience.[45]\n",
            "\n",
            "Maintenance\n",
            "To keep chatbots up to speed with changing company products and services, traditional chatbot development platforms require ongoing maintenance. This can either be in the form of an ongoing service provider or for larger enterprises in the form of an in-house chatbot training team.[46] To eliminate these costs, some startups are experimenting with Artificial Intelligence to develop self-learning chatbots, particularly in customer service applications.\n",
            "\n",
            "Chatbot development platforms\n",
            "The process of building, testing and deploying chatbots can be done on cloud-based chatbot development platforms[47] offered by cloud Platform as a Service (PaaS) providers such as Oracle Cloud Platform and IBM Watson.[48][49][50] These cloud platforms provide Natural Language Processing, Artificial Intelligence and Mobile Backend as a Service for chatbot development.\n",
            "\n",
            "Malicious use\n",
            "Malicious chatbots are frequently used to fill chat rooms with spam and advertisements, by mimicking human behavior and conversations or to entice people into revealing personal information, such as bank account numbers. They are commonly found on Yahoo! Messenger, Windows Live Messenger, AOL Instant Messenger and other instant messaging protocols. There has also been a published report of a chatbot used in a fake personal ad on a dating service's website.[51]\n",
            "\n",
            "Tay, an AI chatbot that learns from previous interaction, caused major controversy due to it being targeted by internet trolls on Twitter. The bot was exploited, and after 16 hours began to send extremely offensive Tweets to users. This suggests that although the bot learnt effectively from experience, adequate protection was not put in place to prevent misuse.[52]\n",
            "\n",
            "See also\n",
            "Applications of artificial intelligence\n",
            "Eugene Goostman\n",
            "Interactive online characters\n",
            "List of chatterbots\n",
            "SitePal\n",
            "Social bot\n",
            "Tay\n",
            "Twitterbot\n",
            "Citations\n",
            " \"What is a chatbot?\". techtarget.com. Retrieved 30 January 2017.\n",
            " Mauldin 1994\n",
            " Orf, Darren. \"Google Assistant Is a Mega AI Bot That Wants To Be Absoutely Everywhere\".\n",
            " \"The 8 best chatbots of 2016\". 21 December 2016.\n",
            " https://recast.ai/blog/2017-messenger-bot-landscape/\n",
            " (Turing 1950)\n",
            " (Weizenbaum 1966, p. 36)\n",
            " (Weizenbaum 1966, pp. 445)\n",
            " GzeldereFranchi 1995\n",
            " Computer History Museum 2006\n",
            " Sondheim 1997\n",
            " Network Working Group 1973Transcript of a session between Parry and Eliza. (This is not the dialogue from the ICCC, which took place October 2426, 1972, whereas this session is from September 18, 1972.)\n",
            " www.everything.com 13 November 1999\n",
            " (in German) Chatroboter simulieren Menschen\n",
            " \"China, WeChat, and the Origins of Chatbots  Chatbots Magazine\". 12 March 2017. Retrieved 2 July 2018.\n",
            " Beaver, Laurie (July 2016). The Chatbots Explainer. BI Intelligence.\n",
            " \"Facebook Messenger Hits 100,000 bots\". Retrieved 2017-09-22.\n",
            " \"KLM claims airline first with WhatsApp Business Platform\".\n",
            " Staff, Forbes (26 October 2017). \"Aeromxico te atender por WhatsApp durante 2018\". Retrieved 2 July 2018.\n",
            " Redaccin (27 October 2017). \"Podrs hacer 'check in' y consultar tu vuelo con Aeromxico a travs de WhatsApp\". Retrieved 2 July 2018  via Huff Post.\n",
            " \"Building for People, and Now Businesses\". WhatsApp.com. Retrieved 2 July 2018.\n",
            " \"She is the company's most effective employee\". Nordea News.\n",
            " \"Better believe the bot boom is blowing up big for B2B, B2C businesses\". VentureBeat.\n",
            " \"Chatbots Take Education To the Next Level  Chatbot News Daily\". Chatbot News Daily. 2016-09-29. Retrieved 2017-06-23.\n",
            " \"The AI Revolution is Underway!  PM360\". www.pm360online.com. Retrieved 2 July 2018.\n",
            " \"80% of businesses want chatbots by 2020\". Retrieved 2 July 2018.\n",
            " \"A Virtual Travel Agent With All the Answers\". The New York Times. 4 March 2008.\n",
            " \"Chatbot vendor directory released \". www.hypergridbusiness.com.\n",
            " \"Rare Carat's Watson-powered chatbot will help you put a diamond ring on it\". TechCrunch. February 15, 2017.\n",
            " \"10 ways you may have already used IBM Watson\". VentureBeat. March 10, 2017.\n",
            " Greenfield, Rebecca. \"Chatbots Are Your Newest, Dumbest Co-Workers\". Bloomberg.\n",
            " \"Facebook opens its Messenger platform to chatbots\". 12 April 2016.\n",
            " \"Chatbot Reference Architecture\". 1 January 2019.\n",
            " Amy (2015-02-23). \"Conversational Toys  The Latest Trend in Speech Technology\". Virtual Agent Chat. Retrieved 2016-08-11.\n",
            " NAGY, EVIE. \"USING TOYTALK TECHNOLOGY, NEW HELLO BARBIE WILL HAVE REAL CONVERSATIONS WITH KIDS\". Fast Company. Retrieved 18 March 2015.\n",
            " Oren Jacob, the co-founder and CEO of ToyTalk interviewed on the TV show Triangulation on the TWiT.tv network\n",
            " \"Artificial intelligence script tool\".\n",
            " Takahashi, Dean. \"Elemental's smart connected toy taps IBM's Watson supercomputer for its brains\". Venture Beat. Retrieved 15 May 2015.\n",
            " \"Awesome chatbots tools\".\n",
            " \"How to Design a robust chatbot interaction\".\n",
            " \"Principles of bot design\".\n",
            " Implementations include Botsociety botmock and Botframe\n",
            " \"How to perform user testing on your chatbot\".\n",
            " Implementations include Rasa, wit.ai, DialogFlow and Watson\n",
            " \"What are the most common words your bot receives or sends\".\n",
            " \"How much it costs to make a chatbot\".\n",
            " Yuan, Michael (2018-02-19). Chatbots: Building Intelligent, Cross-Platform, Messaging Bots. Pearson Education. ISBN 9780134650616.\n",
            " \"Oracle launches a chatbot development platform | VentureBeat\". venturebeat.com. Retrieved 2017-11-15.\n",
            " \"Oracle Introduces AI-Powered Intelligent Bots to Help Enterprises Engage Customers and Employees\". www.oracle.com. Retrieved 2017-11-15.\n",
            " \"Mobile Service | Oracle Cloud\". cloud.oracle.com. Retrieved 2017-11-15.\n",
            " \"From Russia With Love\" (PDF). Retrieved 2007-12-09. Psychologist and Scientific American: Mind contributing editor Robert Epstein reports how he was initially fooled by a chatterbot posing as an attractive girl in a personal ad he answered on a dating website. In the ad, the girl portrayed herself as being in Southern California and then soon revealed, in poor English, that she was actually in Russia. He became suspicious after a couple of months of email exchanges, sent her an email test of gibberish, and she still replied in general terms. The dating website is not named. Scientific American: Mind, OctoberNovember 2007, page 1617, \"From Russia With Love: How I got fooled (and somewhat humiliated) by a computer\". Also available online.\n",
            " Bird, Jordan J.; Ekart, Aniko; Faria, Diego R. (June 2018). Advances in Computational Intelligence Systems (1st ed.). Nottingham, UK: Springer. pp. 179190. ISBN 978-3-319-97982-3. Retrieved 3 December 2018.\n",
            "References\n",
            "Computer History Museum (2006), \"Internet History1970's\", Exhibits, Computer History Museum, archived from the original on 2008-02-21, retrieved 2008-03-05\n",
            "Gzeldere, Gven; Franchi, Stefano (1995-07-24), \"Constructions of the Mind\", Stanford Humanities Review, SEHR, Stanford University, 4 (2), retrieved 2008-03-05\n",
            "Mauldin, Michael (1994), \"ChatterBots, TinyMuds, and the Turing Test: Entering the Loebner Prize Competition\", Proceedings of the Eleventh National Conference on Artificial Intelligence, AAAI Press, retrieved 2008-03-05 (abstract)\n",
            "Network Working Group (1973), \"RFC 439, PARRY Encounters the DOCTOR\", Internet Engineering Task Force, Internet Society, retrieved 2008-03-05\n",
            "Sondheim, Alan J (1997), <nettime> Important Documents from the Early Internet (1972), nettime.org, archived from the original on 2008-06-13, retrieved 2008-03-05\n",
            "Searle, John (1980), \"Minds, Brains and Programs\", Behavioral and Brain Sciences, 3 (3): 417457, doi:10.1017/S0140525X00005756\n",
            "Shevat, Amir (2017). Designing bots: Creating conversational experiences (First ed.). Sebastopol, CA: O'Reilly Media. ISBN 9781491974827. OCLC 962125282.\n",
            "Turing, Alan (1950), \"Computing Machinery and Intelligence\", Mind, 59: 43360, doi:10.1093/mind/lix.236.433\n",
            "Weizenbaum, Joseph (January 1966), \"ELIZAA Computer Program For the Study of Natural Language Communication Between Man And Machine\", Communications of the ACM, 9 (1): 3645, doi:10.1145/365153.365168\n",
            "vte\n",
            "Natural language processing\n",
            "\n",
            "\n"
          ]
        }
      ]
    },
    {
      "cell_type": "markdown",
      "metadata": {
        "id": "5ixYzDybbR1v"
      },
      "source": [
        "#### 1.2.2 Conversion to lower case\n",
        "\n",
        "We will convert all text to lower case first. Remember to inspect the result once we are done.\n",
        "\n",
        "<font color=red>Hint:</font>  https://www.w3schools.com/python/ref_string_lower.asp "
      ]
    },
    {
      "cell_type": "code",
      "metadata": {
        "id": "4wPGox_8bR1x",
        "colab": {
          "base_uri": "https://localhost:8080/"
        },
        "outputId": "037cfa19-ec1f-4b3f-859b-795d98c5b841"
      },
      "source": [
        "df = raw_data.lower()\n",
        "print(df)"
      ],
      "execution_count": 36,
      "outputs": [
        {
          "output_type": "stream",
          "name": "stdout",
          "text": [
            "\n",
            "chatbot\n",
            "from wikipedia, the free encyclopedia\n",
            "jump to navigationjump to search\n",
            "a chatbot (also known as a smartbot, talkbot, chatterbot, bot, im bot, interactive agent, conversational interface or artificial conversational entity) is a computer program or an artificial intelligence which conducts a conversation via auditory or textual methods.[1] such programs are often designed to convincingly simulate how a human would behave as a conversational partner, thereby passing the turing test. chatbots are typically used in dialog systems for various practical purposes including customer service or information acquisition. some chatbots use sophisticated natural language processing systems, but many simpler ones scan for keywords within the input, then pull a reply with the most matching keywords, or the most similar wording pattern, from a database.\n",
            "\n",
            "the term \"chatterbot\" was originally coined by michael mauldin (creator of the first verbot, julia) in 1994 to describe these conversational programs.[2] today, most chatbots are accessed via virtual assistants such as google assistant and amazon alexa, via messaging apps such as facebook messenger or wechat, or via individual organizations' apps and websites.[3][4] chatbots can be classified into usage categories such as conversational commerce (e-commerce via chat), analytics, communication, customer support, design, developer tools, education, entertainment, finance, food, games, health, hr, marketing, news, personal, productivity, shopping, social, sports, travel and utilities.[5]\n",
            "background\n",
            "in 1950, alan turing's famous article \"computing machinery and intelligence\" was published,[6] which proposed what is now called the turing test as a criterion of intelligence. this criterion depends on the ability of a computer program to impersonate a human in a real-time written conversation with a human judge, sufficiently well that the judge is unable to distinguish reliablyon the basis of the conversational content alonebetween the program and a real human. the notoriety of turing's proposed test stimulated great interest in joseph weizenbaum's program eliza, published in 1966, which seemed to be able to fool users into believing that they were conversing with a real human. however weizenbaum himself did not claim that eliza was genuinely intelligent, and the introduction to his paper presented it more as a debunking exercise:\n",
            "\n",
            "[in] artificial intelligence ... machines are made to behave in wondrous ways, often sufficient to dazzle even the most experienced observer. but once a particular program is unmasked, once its inner workings are explained ... its magic crumbles away; it stands revealed as a mere collection of procedures ... the observer says to himself \"i could have written that\". with that thought he moves the program in question from the shelf marked \"intelligent\", to that reserved for curios ... the object of this paper is to cause just such a re-evaluation of the program about to be \"explained\". few programs ever needed it more.[7]\n",
            "\n",
            "eliza's key method of operation (copied by chatbot designers ever since) involves the recognition of cue words or phrases in the input, and the output of corresponding pre-prepared or pre-programmed responses that can move the conversation forward in an apparently meaningful way (e.g. by responding to any input that contains the word 'mother' with 'tell me more about your family').[8] thus an illusion of understanding is generated, even though the processing involved has been merely superficial. eliza showed that such an illusion is surprisingly easy to generate, because human judges are so ready to give the benefit of the doubt when conversational responses are capable of being interpreted as \"intelligent\".\n",
            "\n",
            "interface designers have come to appreciate that humans' readiness to interpret computer output as genuinely conversationaleven when it is actually based on rather simple pattern-matchingcan be exploited for useful purposes. most people prefer to engage with programs that are human-like, and this gives chatbot-style techniques a potentially useful role in interactive systems that need to elicit information from users, as long as that information is relatively straightforward and falls into predictable categories. thus, for example, online help systems can usefully employ chatbot techniques to identify the area of help that users require, potentially providing a \"friendlier\" interface than a more formal search or menu system. this sort of usage holds the prospect of moving chatbot technology from weizenbaum's \"shelf ... reserved for curios\" to that marked \"genuinely useful computational methods\".\n",
            "\n",
            "development\n",
            "the classic historic early chatbots are eliza (1966) and parry (1972).[9][10][11][12] more recent notable programs include a.l.i.c.e., jabberwacky and d.u.d.e (agence nationale de la recherche and cnrs 2006). while eliza and parry were used exclusively to simulate typed conversation, many chatbots now include functional features such as games and web searching abilities. in 1984, a book called the policeman's beard is half constructed was published, allegedly written by the chatbot racter (though the program as released would not have been capable of doing so).[13]\n",
            "\n",
            "one pertinent field of ai research is natural language processing. usually, weak ai fields employ specialized software or programming languages created specifically for the narrow function required. for example, a.l.i.c.e. uses a markup language called aiml, which is specific to its function as a conversational agent, and has since been adopted by various other developers of, so called, alicebots. nevertheless, a.l.i.c.e. is still purely based on pattern matching techniques without any reasoning capabilities, the same technique eliza was using back in 1966. this is not strong ai, which would require sapience and logical reasoning abilities.\n",
            "\n",
            "jabberwacky learns new responses and context based on real-time user interactions, rather than being driven from a static database. some more recent chatbots also combine real-time learning with evolutionary algorithms that optimise their ability to communicate based on each conversation held. still, there is currently no general purpose conversational artificial intelligence, and some software developers focus on the practical aspect, information retrieval.\n",
            "\n",
            "chatbot competitions focus on the turing test or more specific goals. two such annual contests are the loebner prize and the chatterbox challenge (the latter has been offline since 2015, however materials can still be found from web archives).[14]\n",
            "\n",
            "application\n",
            "see also: virtual assistant\n",
            "\n",
            "aeromexico airline chatbot running on facebook messenger, march 2018\n",
            "messaging apps\n",
            "many companies' chatbots run on messaging apps like facebook messenger (since 2016), wechat (since 2013),[15] whatsapp, livechat, kik, slack, line, telegram, or simply via sms. they are used for b2c customer service, sales and marketing.[16]\n",
            "\n",
            "in 2016, facebook messenger allowed developers to place chatbots on their platform. there were 30,000 bots created for messenger in the first six months, rising to 100,000 by september 2017. [17]\n",
            "\n",
            "since september 2017, this has also been as part of a pilot program on whatsapp. airlines klm and aeromxico both announced their participation in the testing;[18][19][20][21] both airlines had previously launched customer services on the facebook messenger platform.\n",
            "\n",
            "the bots usually appear as one of the user's contacts, but can sometimes act as participants in a group chat.\n",
            "\n",
            "many banks, insurers, media companies, e-commerce companies, airlines, hotel chains, retailers, health care providers, government entities and restaurant chains have used chatbots to answer simple questions, increase customer engagement,[22] for promotion, and to offer additional ways to order from them.[23][24]\n",
            "\n",
            "a 2017 study showed 4% of companies used chatbots.[25] according to a 2016 study, 80% of businesses said they intended to have one by 2020.[26]\n",
            "\n",
            "as part of company apps and websites\n",
            "previous generations of chatbots were present on company websites, e.g. ask jenn from alaska airlines which debuted in 2008[27] or expedia's virtual customer service agent which launched in 2011.[27][28] the newer generation of chatbots includes ibm watson-powered \"rocky\", introduced in february 2017 by the new york city-based e-commerce company rare carat to provide information to prospective diamond buyers.[29][30]\n",
            "\n",
            "company internal platforms\n",
            "other companies explore ways they can use chatbots internally, for example for customer support, human resources, or even in internet-of-things (iot) projects. overstock.com, for one, has reportedly launched a chatbot named mila to automate certain simple yet time-consuming processes when requesting for a sick leave.[31] other large companies such as lloyds banking group, royal bank of scotland, renault and citron are now using automated online assistants instead of call centres with humans to provide a first point of contact. a saas chatbot business ecosystem has been steadily growing since the f8 conference when facebook's mark zuckerberg unveiled that messenger would allow chatbots into the app.[32] in large companies, like in hospitals and aviation organizations, it architects are designing reference architectures for intelligent chatbots that are used to unlock and share knowledge and experience in the organization more efficiently, and reduce the errors in answers from expert service desks significantly.[33]. these intelligent chatbots make use of all kinds of artificial intelligence like image moderation and natural language understanding (nlu), natural language generation (nlg), machine learning and deep learning.\n",
            "\n",
            "toys\n",
            "chatbots have also been incorporated into devices not primarily meant for computing such as toys.[34]\n",
            "\n",
            "hello barbie is an internet-connected version of the doll that uses a chatbot provided by the company toytalk,[35] which previously used the chatbot for a range of smartphone-based characters for children.[36] these characters' behaviors are constrained by a set of rules that in effect emulate a particular character and produce a storyline.[37]\n",
            "\n",
            "ibm's watson computer has been used as the basis for chatbot-based educational toys for companies such as cognitoys[34] intended to interact with children for educational purposes.[38]\n",
            "\n",
            "chatbot creation\n",
            "the process of creating a chatbot follows a pattern similar to the development of a web page or a mobile app. it can be divided into design, building, analytics and maintenance.[39]\n",
            "\n",
            "design\n",
            "the chatbot design is the process that defines the interaction between the user and the chatbot. the chatbot designer will define the chatbot personality, the questions that will be asked to the users, and the overall interaction.[40][41] it can be viewed as a subset of the conversational design. in order to speed up this process, designers can use dedicated chatbot design tools that allow for immediate preview, team collaboration and video export.[42] an important part of the chatbot design is also centered around user testing. user testing can be performed following the same principles that guide the user testing of graphical interfaces.[43]\n",
            "\n",
            "building\n",
            "the process of building a chatbot can be divided into two main tasks: understanding the user's intent and producing the correct answer. the first task involves understanding the user input. in order to properly understand a user input in a free text form, a natural language processing engine can be used.[44] the second task may involve different approaches depending on the type of the response that the chatbot will generate.\n",
            "\n",
            "analytics\n",
            "the usage of the chatbot can be monitored in order to spot potential flaws or problems. it can also provide useful insights that can improve the final user experience.[45]\n",
            "\n",
            "maintenance\n",
            "to keep chatbots up to speed with changing company products and services, traditional chatbot development platforms require ongoing maintenance. this can either be in the form of an ongoing service provider or for larger enterprises in the form of an in-house chatbot training team.[46] to eliminate these costs, some startups are experimenting with artificial intelligence to develop self-learning chatbots, particularly in customer service applications.\n",
            "\n",
            "chatbot development platforms\n",
            "the process of building, testing and deploying chatbots can be done on cloud-based chatbot development platforms[47] offered by cloud platform as a service (paas) providers such as oracle cloud platform and ibm watson.[48][49][50] these cloud platforms provide natural language processing, artificial intelligence and mobile backend as a service for chatbot development.\n",
            "\n",
            "malicious use\n",
            "malicious chatbots are frequently used to fill chat rooms with spam and advertisements, by mimicking human behavior and conversations or to entice people into revealing personal information, such as bank account numbers. they are commonly found on yahoo! messenger, windows live messenger, aol instant messenger and other instant messaging protocols. there has also been a published report of a chatbot used in a fake personal ad on a dating service's website.[51]\n",
            "\n",
            "tay, an ai chatbot that learns from previous interaction, caused major controversy due to it being targeted by internet trolls on twitter. the bot was exploited, and after 16 hours began to send extremely offensive tweets to users. this suggests that although the bot learnt effectively from experience, adequate protection was not put in place to prevent misuse.[52]\n",
            "\n",
            "see also\n",
            "applications of artificial intelligence\n",
            "eugene goostman\n",
            "interactive online characters\n",
            "list of chatterbots\n",
            "sitepal\n",
            "social bot\n",
            "tay\n",
            "twitterbot\n",
            "citations\n",
            " \"what is a chatbot?\". techtarget.com. retrieved 30 january 2017.\n",
            " mauldin 1994\n",
            " orf, darren. \"google assistant is a mega ai bot that wants to be absoutely everywhere\".\n",
            " \"the 8 best chatbots of 2016\". 21 december 2016.\n",
            " https://recast.ai/blog/2017-messenger-bot-landscape/\n",
            " (turing 1950)\n",
            " (weizenbaum 1966, p. 36)\n",
            " (weizenbaum 1966, pp. 445)\n",
            " gzelderefranchi 1995\n",
            " computer history museum 2006\n",
            " sondheim 1997\n",
            " network working group 1973transcript of a session between parry and eliza. (this is not the dialogue from the iccc, which took place october 2426, 1972, whereas this session is from september 18, 1972.)\n",
            " www.everything.com 13 november 1999\n",
            " (in german) chatroboter simulieren menschen\n",
            " \"china, wechat, and the origins of chatbots  chatbots magazine\". 12 march 2017. retrieved 2 july 2018.\n",
            " beaver, laurie (july 2016). the chatbots explainer. bi intelligence.\n",
            " \"facebook messenger hits 100,000 bots\". retrieved 2017-09-22.\n",
            " \"klm claims airline first with whatsapp business platform\".\n",
            " staff, forbes (26 october 2017). \"aeromxico te atender por whatsapp durante 2018\". retrieved 2 july 2018.\n",
            " redaccin (27 october 2017). \"podrs hacer 'check in' y consultar tu vuelo con aeromxico a travs de whatsapp\". retrieved 2 july 2018  via huff post.\n",
            " \"building for people, and now businesses\". whatsapp.com. retrieved 2 july 2018.\n",
            " \"she is the company's most effective employee\". nordea news.\n",
            " \"better believe the bot boom is blowing up big for b2b, b2c businesses\". venturebeat.\n",
            " \"chatbots take education to the next level  chatbot news daily\". chatbot news daily. 2016-09-29. retrieved 2017-06-23.\n",
            " \"the ai revolution is underway!  pm360\". www.pm360online.com. retrieved 2 july 2018.\n",
            " \"80% of businesses want chatbots by 2020\". retrieved 2 july 2018.\n",
            " \"a virtual travel agent with all the answers\". the new york times. 4 march 2008.\n",
            " \"chatbot vendor directory released \". www.hypergridbusiness.com.\n",
            " \"rare carat's watson-powered chatbot will help you put a diamond ring on it\". techcrunch. february 15, 2017.\n",
            " \"10 ways you may have already used ibm watson\". venturebeat. march 10, 2017.\n",
            " greenfield, rebecca. \"chatbots are your newest, dumbest co-workers\". bloomberg.\n",
            " \"facebook opens its messenger platform to chatbots\". 12 april 2016.\n",
            " \"chatbot reference architecture\". 1 january 2019.\n",
            " amy (2015-02-23). \"conversational toys  the latest trend in speech technology\". virtual agent chat. retrieved 2016-08-11.\n",
            " nagy, evie. \"using toytalk technology, new hello barbie will have real conversations with kids\". fast company. retrieved 18 march 2015.\n",
            " oren jacob, the co-founder and ceo of toytalk interviewed on the tv show triangulation on the twit.tv network\n",
            " \"artificial intelligence script tool\".\n",
            " takahashi, dean. \"elemental's smart connected toy taps ibm's watson supercomputer for its brains\". venture beat. retrieved 15 may 2015.\n",
            " \"awesome chatbots tools\".\n",
            " \"how to design a robust chatbot interaction\".\n",
            " \"principles of bot design\".\n",
            " implementations include botsociety botmock and botframe\n",
            " \"how to perform user testing on your chatbot\".\n",
            " implementations include rasa, wit.ai, dialogflow and watson\n",
            " \"what are the most common words your bot receives or sends\".\n",
            " \"how much it costs to make a chatbot\".\n",
            " yuan, michael (2018-02-19). chatbots: building intelligent, cross-platform, messaging bots. pearson education. isbn 9780134650616.\n",
            " \"oracle launches a chatbot development platform | venturebeat\". venturebeat.com. retrieved 2017-11-15.\n",
            " \"oracle introduces ai-powered intelligent bots to help enterprises engage customers and employees\". www.oracle.com. retrieved 2017-11-15.\n",
            " \"mobile service | oracle cloud\". cloud.oracle.com. retrieved 2017-11-15.\n",
            " \"from russia with love\" (pdf). retrieved 2007-12-09. psychologist and scientific american: mind contributing editor robert epstein reports how he was initially fooled by a chatterbot posing as an attractive girl in a personal ad he answered on a dating website. in the ad, the girl portrayed herself as being in southern california and then soon revealed, in poor english, that she was actually in russia. he became suspicious after a couple of months of email exchanges, sent her an email test of gibberish, and she still replied in general terms. the dating website is not named. scientific american: mind, octobernovember 2007, page 1617, \"from russia with love: how i got fooled (and somewhat humiliated) by a computer\". also available online.\n",
            " bird, jordan j.; ekart, aniko; faria, diego r. (june 2018). advances in computational intelligence systems (1st ed.). nottingham, uk: springer. pp. 179190. isbn 978-3-319-97982-3. retrieved 3 december 2018.\n",
            "references\n",
            "computer history museum (2006), \"internet history1970's\", exhibits, computer history museum, archived from the original on 2008-02-21, retrieved 2008-03-05\n",
            "gzeldere, gven; franchi, stefano (1995-07-24), \"constructions of the mind\", stanford humanities review, sehr, stanford university, 4 (2), retrieved 2008-03-05\n",
            "mauldin, michael (1994), \"chatterbots, tinymuds, and the turing test: entering the loebner prize competition\", proceedings of the eleventh national conference on artificial intelligence, aaai press, retrieved 2008-03-05 (abstract)\n",
            "network working group (1973), \"rfc 439, parry encounters the doctor\", internet engineering task force, internet society, retrieved 2008-03-05\n",
            "sondheim, alan j (1997), <nettime> important documents from the early internet (1972), nettime.org, archived from the original on 2008-06-13, retrieved 2008-03-05\n",
            "searle, john (1980), \"minds, brains and programs\", behavioral and brain sciences, 3 (3): 417457, doi:10.1017/s0140525x00005756\n",
            "shevat, amir (2017). designing bots: creating conversational experiences (first ed.). sebastopol, ca: o'reilly media. isbn 9781491974827. oclc 962125282.\n",
            "turing, alan (1950), \"computing machinery and intelligence\", mind, 59: 43360, doi:10.1093/mind/lix.236.433\n",
            "weizenbaum, joseph (january 1966), \"elizaa computer program for the study of natural language communication between man and machine\", communications of the acm, 9 (1): 3645, doi:10.1145/365153.365168\n",
            "vte\n",
            "natural language processing\n",
            "\n",
            "\n"
          ]
        }
      ]
    },
    {
      "cell_type": "markdown",
      "metadata": {
        "id": "K3rt9MH5bR11"
      },
      "source": [
        "#### 1.2.3 Sentence segmentation\n",
        "\n",
        "We will use the funtion `.sent_tokenizer` to convert documents into a list of sentences.\n",
        "\n",
        "<font color=red>Hints:</font> \n",
        "*   web search \"ntlk sent_tokenizer\"\n",
        "*   Review: https://pythonspot.com/tokenizing-words-and-sentences-with-nltk/\n",
        "\n"
      ]
    },
    {
      "cell_type": "code",
      "metadata": {
        "id": "vFpSR8LIbR12",
        "colab": {
          "base_uri": "https://localhost:8080/"
        },
        "outputId": "3f8b9b58-b4a9-4617-df42-e6d7946165ca"
      },
      "source": [
        "from nltk.tokenize import sent_tokenize, word_tokenize\n",
        "# converts documents to list of sentences\n",
        "sent_tokens = sent_tokenize(df)\n",
        "print(sent_tokens)"
      ],
      "execution_count": 37,
      "outputs": [
        {
          "output_type": "stream",
          "name": "stdout",
          "text": [
            "['\\nchatbot\\nfrom wikipedia, the free encyclopedia\\njump to navigationjump to search\\na chatbot (also known as a smartbot, talkbot, chatterbot, bot, im bot, interactive agent, conversational interface or artificial conversational entity) is a computer program or an artificial intelligence which conducts a conversation via auditory or textual methods.', '[1] such programs are often designed to convincingly simulate how a human would behave as a conversational partner, thereby passing the turing test.', 'chatbots are typically used in dialog systems for various practical purposes including customer service or information acquisition.', 'some chatbots use sophisticated natural language processing systems, but many simpler ones scan for keywords within the input, then pull a reply with the most matching keywords, or the most similar wording pattern, from a database.', 'the term \"chatterbot\" was originally coined by michael mauldin (creator of the first verbot, julia) in 1994 to describe these conversational programs.', \"[2] today, most chatbots are accessed via virtual assistants such as google assistant and amazon alexa, via messaging apps such as facebook messenger or wechat, or via individual organizations' apps and websites.\", '[3][4] chatbots can be classified into usage categories such as conversational commerce (e-commerce via chat), analytics, communication, customer support, design, developer tools, education, entertainment, finance, food, games, health, hr, marketing, news, personal, productivity, shopping, social, sports, travel and utilities.', '[5]\\nbackground\\nin 1950, alan turing\\'s famous article \"computing machinery and intelligence\" was published,[6] which proposed what is now called the turing test as a criterion of intelligence.', 'this criterion depends on the ability of a computer program to impersonate a human in a real-time written conversation with a human judge, sufficiently well that the judge is unable to distinguish reliablyon the basis of the conversational content alonebetween the program and a real human.', \"the notoriety of turing's proposed test stimulated great interest in joseph weizenbaum's program eliza, published in 1966, which seemed to be able to fool users into believing that they were conversing with a real human.\", 'however weizenbaum himself did not claim that eliza was genuinely intelligent, and the introduction to his paper presented it more as a debunking exercise:\\n\\n[in] artificial intelligence ... machines are made to behave in wondrous ways, often sufficient to dazzle even the most experienced observer.', 'but once a particular program is unmasked, once its inner workings are explained ... its magic crumbles away; it stands revealed as a mere collection of procedures ... the observer says to himself \"i could have written that\".', 'with that thought he moves the program in question from the shelf marked \"intelligent\", to that reserved for curios ... the object of this paper is to cause just such a re-evaluation of the program about to be \"explained\".', 'few programs ever needed it more.', \"[7]\\n\\neliza's key method of operation (copied by chatbot designers ever since) involves the recognition of cue words or phrases in the input, and the output of corresponding pre-prepared or pre-programmed responses that can move the conversation forward in an apparently meaningful way (e.g.\", \"by responding to any input that contains the word 'mother' with 'tell me more about your family').\", '[8] thus an illusion of understanding is generated, even though the processing involved has been merely superficial.', 'eliza showed that such an illusion is surprisingly easy to generate, because human judges are so ready to give the benefit of the doubt when conversational responses are capable of being interpreted as \"intelligent\".', \"interface designers have come to appreciate that humans' readiness to interpret computer output as genuinely conversationaleven when it is actually based on rather simple pattern-matchingcan be exploited for useful purposes.\", 'most people prefer to engage with programs that are human-like, and this gives chatbot-style techniques a potentially useful role in interactive systems that need to elicit information from users, as long as that information is relatively straightforward and falls into predictable categories.', 'thus, for example, online help systems can usefully employ chatbot techniques to identify the area of help that users require, potentially providing a \"friendlier\" interface than a more formal search or menu system.', 'this sort of usage holds the prospect of moving chatbot technology from weizenbaum\\'s \"shelf ... reserved for curios\" to that marked \"genuinely useful computational methods\".', 'development\\nthe classic historic early chatbots are eliza (1966) and parry (1972).', '[9][10][11][12] more recent notable programs include a.l.i.c.e., jabberwacky and d.u.d.e (agence nationale de la recherche and cnrs 2006).', 'while eliza and parry were used exclusively to simulate typed conversation, many chatbots now include functional features such as games and web searching abilities.', \"in 1984, a book called the policeman's beard is half constructed was published, allegedly written by the chatbot racter (though the program as released would not have been capable of doing so).\", '[13]\\n\\none pertinent field of ai research is natural language processing.', 'usually, weak ai fields employ specialized software or programming languages created specifically for the narrow function required.', 'for example, a.l.i.c.e.', 'uses a markup language called aiml, which is specific to its function as a conversational agent, and has since been adopted by various other developers of, so called, alicebots.', 'nevertheless, a.l.i.c.e.', 'is still purely based on pattern matching techniques without any reasoning capabilities, the same technique eliza was using back in 1966. this is not strong ai, which would require sapience and logical reasoning abilities.', 'jabberwacky learns new responses and context based on real-time user interactions, rather than being driven from a static database.', 'some more recent chatbots also combine real-time learning with evolutionary algorithms that optimise their ability to communicate based on each conversation held.', 'still, there is currently no general purpose conversational artificial intelligence, and some software developers focus on the practical aspect, information retrieval.', 'chatbot competitions focus on the turing test or more specific goals.', 'two such annual contests are the loebner prize and the chatterbox challenge (the latter has been offline since 2015, however materials can still be found from web archives).', \"[14]\\n\\napplication\\nsee also: virtual assistant\\n\\naeromexico airline chatbot running on facebook messenger, march 2018\\nmessaging apps\\nmany companies' chatbots run on messaging apps like facebook messenger (since 2016), wechat (since 2013),[15] whatsapp, livechat, kik, slack, line, telegram, or simply via sms.\", 'they are used for b2c customer service, sales and marketing.', '[16]\\n\\nin 2016, facebook messenger allowed developers to place chatbots on their platform.', 'there were 30,000 bots created for messenger in the first six months, rising to 100,000 by september 2017.', '[17]\\n\\nsince september 2017, this has also been as part of a pilot program on whatsapp.', 'airlines klm and aeromxico both announced their participation in the testing;[18][19][20][21] both airlines had previously launched customer services on the facebook messenger platform.', \"the bots usually appear as one of the user's contacts, but can sometimes act as participants in a group chat.\", 'many banks, insurers, media companies, e-commerce companies, airlines, hotel chains, retailers, health care providers, government entities and restaurant chains have used chatbots to answer simple questions, increase customer engagement,[22] for promotion, and to offer additional ways to order from them.', '[23][24]\\n\\na 2017 study showed 4% of companies used chatbots.', '[25] according to a 2016 study, 80% of businesses said they intended to have one by 2020.', '[26]\\n\\nas part of company apps and websites\\nprevious generations of chatbots were present on company websites, e.g.', \"ask jenn from alaska airlines which debuted in 2008[27] or expedia's virtual customer service agent which launched in 2011.\", '[27][28] the newer generation of chatbots includes ibm watson-powered \"rocky\", introduced in february 2017 by the new york city-based e-commerce company rare carat to provide information to prospective diamond buyers.', '[29][30]\\n\\ncompany internal platforms\\nother companies explore ways they can use chatbots internally, for example for customer support, human resources, or even in internet-of-things (iot) projects.', 'overstock.com, for one, has reportedly launched a chatbot named mila to automate certain simple yet time-consuming processes when requesting for a sick leave.', '[31] other large companies such as lloyds banking group, royal bank of scotland, renault and citron are now using automated online assistants instead of call centres with humans to provide a first point of contact.', \"a saas chatbot business ecosystem has been steadily growing since the f8 conference when facebook's mark zuckerberg unveiled that messenger would allow chatbots into the app.\", '[32] in large companies, like in hospitals and aviation organizations, it architects are designing reference architectures for intelligent chatbots that are used to unlock and share knowledge and experience in the organization more efficiently, and reduce the errors in answers from expert service desks significantly.[33].', 'these intelligent chatbots make use of all kinds of artificial intelligence like image moderation and natural language understanding (nlu), natural language generation (nlg), machine learning and deep learning.', 'toys\\nchatbots have also been incorporated into devices not primarily meant for computing such as toys.', '[34]\\n\\nhello barbie is an internet-connected version of the doll that uses a chatbot provided by the company toytalk,[35] which previously used the chatbot for a range of smartphone-based characters for children.', \"[36] these characters' behaviors are constrained by a set of rules that in effect emulate a particular character and produce a storyline.\", \"[37]\\n\\nibm's watson computer has been used as the basis for chatbot-based educational toys for companies such as cognitoys[34] intended to interact with children for educational purposes.\", '[38]\\n\\nchatbot creation\\nthe process of creating a chatbot follows a pattern similar to the development of a web page or a mobile app.', 'it can be divided into design, building, analytics and maintenance.', '[39]\\n\\ndesign\\nthe chatbot design is the process that defines the interaction between the user and the chatbot.', 'the chatbot designer will define the chatbot personality, the questions that will be asked to the users, and the overall interaction.', '[40][41] it can be viewed as a subset of the conversational design.', 'in order to speed up this process, designers can use dedicated chatbot design tools that allow for immediate preview, team collaboration and video export.', '[42] an important part of the chatbot design is also centered around user testing.', 'user testing can be performed following the same principles that guide the user testing of graphical interfaces.', \"[43]\\n\\nbuilding\\nthe process of building a chatbot can be divided into two main tasks: understanding the user's intent and producing the correct answer.\", 'the first task involves understanding the user input.', 'in order to properly understand a user input in a free text form, a natural language processing engine can be used.', '[44] the second task may involve different approaches depending on the type of the response that the chatbot will generate.', 'analytics\\nthe usage of the chatbot can be monitored in order to spot potential flaws or problems.', 'it can also provide useful insights that can improve the final user experience.', '[45]\\n\\nmaintenance\\nto keep chatbots up to speed with changing company products and services, traditional chatbot development platforms require ongoing maintenance.', 'this can either be in the form of an ongoing service provider or for larger enterprises in the form of an in-house chatbot training team.', '[46] to eliminate these costs, some startups are experimenting with artificial intelligence to develop self-learning chatbots, particularly in customer service applications.', 'chatbot development platforms\\nthe process of building, testing and deploying chatbots can be done on cloud-based chatbot development platforms[47] offered by cloud platform as a service (paas) providers such as oracle cloud platform and ibm watson.', '[48][49][50] these cloud platforms provide natural language processing, artificial intelligence and mobile backend as a service for chatbot development.', 'malicious use\\nmalicious chatbots are frequently used to fill chat rooms with spam and advertisements, by mimicking human behavior and conversations or to entice people into revealing personal information, such as bank account numbers.', 'they are commonly found on yahoo!', 'messenger, windows live messenger, aol instant messenger and other instant messaging protocols.', \"there has also been a published report of a chatbot used in a fake personal ad on a dating service's website.\", '[51]\\n\\ntay, an ai chatbot that learns from previous interaction, caused major controversy due to it being targeted by internet trolls on twitter.', 'the bot was exploited, and after 16 hours began to send extremely offensive tweets to users.', 'this suggests that although the bot learnt effectively from experience, adequate protection was not put in place to prevent misuse.', '[52]\\n\\nsee also\\napplications of artificial intelligence\\neugene goostman\\ninteractive online characters\\nlist of chatterbots\\nsitepal\\nsocial bot\\ntay\\ntwitterbot\\ncitations\\n \"what is a chatbot?\".', 'techtarget.com.', 'retrieved 30 january 2017.\\n mauldin 1994\\n orf, darren.', '\"google assistant is a mega ai bot that wants to be absoutely everywhere\".', '\"the 8 best chatbots of 2016\".', '21 december 2016.\\n https://recast.ai/blog/2017-messenger-bot-landscape/\\n (turing 1950)\\n (weizenbaum 1966, p. 36)\\n (weizenbaum 1966, pp.', '445)\\n gzelderefranchi 1995\\n computer history museum 2006\\n sondheim 1997\\n network working group 1973transcript of a session between parry and eliza.', '(this is not the dialogue from the iccc, which took place october 2426, 1972, whereas this session is from september 18, 1972.)', 'www.everything.com 13 november 1999\\n (in german) chatroboter simulieren menschen\\n \"china, wechat, and the origins of chatbots  chatbots magazine\".', '12 march 2017. retrieved 2 july 2018.\\n beaver, laurie (july 2016).', 'the chatbots explainer.', 'bi intelligence.', '\"facebook messenger hits 100,000 bots\".', 'retrieved 2017-09-22.', '\"klm claims airline first with whatsapp business platform\".', 'staff, forbes (26 october 2017).', '\"aeromxico te atender por whatsapp durante 2018\".', 'retrieved 2 july 2018.\\n redaccin (27 october 2017).', '\"podrs hacer \\'check in\\' y consultar tu vuelo con aeromxico a travs de whatsapp\".', 'retrieved 2 july 2018  via huff post.', '\"building for people, and now businesses\".', 'whatsapp.com.', 'retrieved 2 july 2018.', '\"she is the company\\'s most effective employee\".', 'nordea news.', '\"better believe the bot boom is blowing up big for b2b, b2c businesses\".', 'venturebeat.', '\"chatbots take education to the next level  chatbot news daily\".', 'chatbot news daily.', '2016-09-29. retrieved 2017-06-23.', '\"the ai revolution is underway!', 'pm360\".', 'www.pm360online.com.', 'retrieved 2 july 2018.', '\"80% of businesses want chatbots by 2020\".', 'retrieved 2 july 2018.', '\"a virtual travel agent with all the answers\".', 'the new york times.', '4 march 2008.', '\"chatbot vendor directory released \".', 'www.hypergridbusiness.com.', '\"rare carat\\'s watson-powered chatbot will help you put a diamond ring on it\".', 'techcrunch.', 'february 15, 2017.', '\"10 ways you may have already used ibm watson\".', 'venturebeat.', 'march 10, 2017.\\n greenfield, rebecca.', '\"chatbots are your newest, dumbest co-workers\".', 'bloomberg.', '\"facebook opens its messenger platform to chatbots\".', '12 april 2016.', '\"chatbot reference architecture\".', '1 january 2019.\\n amy (2015-02-23).', '\"conversational toys  the latest trend in speech technology\".', 'virtual agent chat.', 'retrieved 2016-08-11.\\n nagy, evie.', '\"using toytalk technology, new hello barbie will have real conversations with kids\".', 'fast company.', 'retrieved 18 march 2015.\\n oren jacob, the co-founder and ceo of toytalk interviewed on the tv show triangulation on the twit.tv network\\n \"artificial intelligence script tool\".', 'takahashi, dean.', '\"elemental\\'s smart connected toy taps ibm\\'s watson supercomputer for its brains\".', 'venture beat.', 'retrieved 15 may 2015.', '\"awesome chatbots tools\".', '\"how to design a robust chatbot interaction\".', '\"principles of bot design\".', 'implementations include botsociety botmock and botframe\\n \"how to perform user testing on your chatbot\".', 'implementations include rasa, wit.ai, dialogflow and watson\\n \"what are the most common words your bot receives or sends\".', '\"how much it costs to make a chatbot\".', 'yuan, michael (2018-02-19).', 'chatbots: building intelligent, cross-platform, messaging bots.', 'pearson education.', 'isbn 9780134650616.', '\"oracle launches a chatbot development platform | venturebeat\".', 'venturebeat.com.', 'retrieved 2017-11-15.', '\"oracle introduces ai-powered intelligent bots to help enterprises engage customers and employees\".', 'www.oracle.com.', 'retrieved 2017-11-15.', '\"mobile service | oracle cloud\".', 'cloud.oracle.com.', 'retrieved 2017-11-15.', '\"from russia with love\" (pdf).', 'retrieved 2007-12-09. psychologist and scientific american: mind contributing editor robert epstein reports how he was initially fooled by a chatterbot posing as an attractive girl in a personal ad he answered on a dating website.', 'in the ad, the girl portrayed herself as being in southern california and then soon revealed, in poor english, that she was actually in russia.', 'he became suspicious after a couple of months of email exchanges, sent her an email test of gibberish, and she still replied in general terms.', 'the dating website is not named.', 'scientific american: mind, octobernovember 2007, page 1617, \"from russia with love: how i got fooled (and somewhat humiliated) by a computer\".', 'also available online.', 'bird, jordan j.; ekart, aniko; faria, diego r. (june 2018).', 'advances in computational intelligence systems (1st ed.).', 'nottingham, uk: springer.', 'pp.', '179190. isbn 978-3-319-97982-3. retrieved 3 december 2018.\\nreferences\\ncomputer history museum (2006), \"internet history1970\\'s\", exhibits, computer history museum, archived from the original on 2008-02-21, retrieved 2008-03-05\\ngzeldere, gven; franchi, stefano (1995-07-24), \"constructions of the mind\", stanford humanities review, sehr, stanford university, 4 (2), retrieved 2008-03-05\\nmauldin, michael (1994), \"chatterbots, tinymuds, and the turing test: entering the loebner prize competition\", proceedings of the eleventh national conference on artificial intelligence, aaai press, retrieved 2008-03-05 (abstract)\\nnetwork working group (1973), \"rfc 439, parry encounters the doctor\", internet engineering task force, internet society, retrieved 2008-03-05\\nsondheim, alan j (1997), <nettime> important documents from the early internet (1972), nettime.org, archived from the original on 2008-06-13, retrieved 2008-03-05\\nsearle, john (1980), \"minds, brains and programs\", behavioral and brain sciences, 3 (3): 417457, doi:10.1017/s0140525x00005756\\nshevat, amir (2017).', 'designing bots: creating conversational experiences (first ed.).', \"sebastopol, ca: o'reilly media.\", 'isbn 9781491974827. oclc 962125282.\\nturing, alan (1950), \"computing machinery and intelligence\", mind, 59: 43360, doi:10.1093/mind/lix.236.433\\nweizenbaum, joseph (january 1966), \"elizaa computer program for the study of natural language communication between man and machine\", communications of the acm, 9 (1): 3645, doi:10.1145/365153.365168\\nvte\\nnatural language processing']\n"
          ]
        }
      ]
    },
    {
      "cell_type": "markdown",
      "metadata": {
        "id": "oQsRgz7UbR15"
      },
      "source": [
        "Great! You have separated the document into sentences. However, notice that it is difficult to decipher the individual sentence now.\n",
        "\n",
        "### Task: Print every sentence in a new line!\n",
        "\n",
        "This way, it will be easier to read the sentences!\n",
        "\n",
        "Use the link [here](https://www.geeksforgeeks.org/print-lists-in-python-4-different-ways/) to learn how to do that!\n",
        "\n",
        "<font color=red>Hint:</font> \n",
        "*   Look at the given link at \"2. Without using loops\": https://www.geeksforgeeks.org/print-lists-in-python-4-different-ways/\n",
        "\n"
      ]
    },
    {
      "cell_type": "code",
      "metadata": {
        "id": "3Rffu7yZbR16",
        "colab": {
          "base_uri": "https://localhost:8080/"
        },
        "outputId": "5f11491a-e187-46a1-ceaa-8970f2281d65"
      },
      "source": [
        "print('printing lists in new line')\n",
        "for line in range(len(sent_tokens)):\n",
        "  print(sent_tokens[line])"
      ],
      "execution_count": 38,
      "outputs": [
        {
          "output_type": "stream",
          "name": "stdout",
          "text": [
            "printing lists in new line\n",
            "\n",
            "chatbot\n",
            "from wikipedia, the free encyclopedia\n",
            "jump to navigationjump to search\n",
            "a chatbot (also known as a smartbot, talkbot, chatterbot, bot, im bot, interactive agent, conversational interface or artificial conversational entity) is a computer program or an artificial intelligence which conducts a conversation via auditory or textual methods.\n",
            "[1] such programs are often designed to convincingly simulate how a human would behave as a conversational partner, thereby passing the turing test.\n",
            "chatbots are typically used in dialog systems for various practical purposes including customer service or information acquisition.\n",
            "some chatbots use sophisticated natural language processing systems, but many simpler ones scan for keywords within the input, then pull a reply with the most matching keywords, or the most similar wording pattern, from a database.\n",
            "the term \"chatterbot\" was originally coined by michael mauldin (creator of the first verbot, julia) in 1994 to describe these conversational programs.\n",
            "[2] today, most chatbots are accessed via virtual assistants such as google assistant and amazon alexa, via messaging apps such as facebook messenger or wechat, or via individual organizations' apps and websites.\n",
            "[3][4] chatbots can be classified into usage categories such as conversational commerce (e-commerce via chat), analytics, communication, customer support, design, developer tools, education, entertainment, finance, food, games, health, hr, marketing, news, personal, productivity, shopping, social, sports, travel and utilities.\n",
            "[5]\n",
            "background\n",
            "in 1950, alan turing's famous article \"computing machinery and intelligence\" was published,[6] which proposed what is now called the turing test as a criterion of intelligence.\n",
            "this criterion depends on the ability of a computer program to impersonate a human in a real-time written conversation with a human judge, sufficiently well that the judge is unable to distinguish reliablyon the basis of the conversational content alonebetween the program and a real human.\n",
            "the notoriety of turing's proposed test stimulated great interest in joseph weizenbaum's program eliza, published in 1966, which seemed to be able to fool users into believing that they were conversing with a real human.\n",
            "however weizenbaum himself did not claim that eliza was genuinely intelligent, and the introduction to his paper presented it more as a debunking exercise:\n",
            "\n",
            "[in] artificial intelligence ... machines are made to behave in wondrous ways, often sufficient to dazzle even the most experienced observer.\n",
            "but once a particular program is unmasked, once its inner workings are explained ... its magic crumbles away; it stands revealed as a mere collection of procedures ... the observer says to himself \"i could have written that\".\n",
            "with that thought he moves the program in question from the shelf marked \"intelligent\", to that reserved for curios ... the object of this paper is to cause just such a re-evaluation of the program about to be \"explained\".\n",
            "few programs ever needed it more.\n",
            "[7]\n",
            "\n",
            "eliza's key method of operation (copied by chatbot designers ever since) involves the recognition of cue words or phrases in the input, and the output of corresponding pre-prepared or pre-programmed responses that can move the conversation forward in an apparently meaningful way (e.g.\n",
            "by responding to any input that contains the word 'mother' with 'tell me more about your family').\n",
            "[8] thus an illusion of understanding is generated, even though the processing involved has been merely superficial.\n",
            "eliza showed that such an illusion is surprisingly easy to generate, because human judges are so ready to give the benefit of the doubt when conversational responses are capable of being interpreted as \"intelligent\".\n",
            "interface designers have come to appreciate that humans' readiness to interpret computer output as genuinely conversationaleven when it is actually based on rather simple pattern-matchingcan be exploited for useful purposes.\n",
            "most people prefer to engage with programs that are human-like, and this gives chatbot-style techniques a potentially useful role in interactive systems that need to elicit information from users, as long as that information is relatively straightforward and falls into predictable categories.\n",
            "thus, for example, online help systems can usefully employ chatbot techniques to identify the area of help that users require, potentially providing a \"friendlier\" interface than a more formal search or menu system.\n",
            "this sort of usage holds the prospect of moving chatbot technology from weizenbaum's \"shelf ... reserved for curios\" to that marked \"genuinely useful computational methods\".\n",
            "development\n",
            "the classic historic early chatbots are eliza (1966) and parry (1972).\n",
            "[9][10][11][12] more recent notable programs include a.l.i.c.e., jabberwacky and d.u.d.e (agence nationale de la recherche and cnrs 2006).\n",
            "while eliza and parry were used exclusively to simulate typed conversation, many chatbots now include functional features such as games and web searching abilities.\n",
            "in 1984, a book called the policeman's beard is half constructed was published, allegedly written by the chatbot racter (though the program as released would not have been capable of doing so).\n",
            "[13]\n",
            "\n",
            "one pertinent field of ai research is natural language processing.\n",
            "usually, weak ai fields employ specialized software or programming languages created specifically for the narrow function required.\n",
            "for example, a.l.i.c.e.\n",
            "uses a markup language called aiml, which is specific to its function as a conversational agent, and has since been adopted by various other developers of, so called, alicebots.\n",
            "nevertheless, a.l.i.c.e.\n",
            "is still purely based on pattern matching techniques without any reasoning capabilities, the same technique eliza was using back in 1966. this is not strong ai, which would require sapience and logical reasoning abilities.\n",
            "jabberwacky learns new responses and context based on real-time user interactions, rather than being driven from a static database.\n",
            "some more recent chatbots also combine real-time learning with evolutionary algorithms that optimise their ability to communicate based on each conversation held.\n",
            "still, there is currently no general purpose conversational artificial intelligence, and some software developers focus on the practical aspect, information retrieval.\n",
            "chatbot competitions focus on the turing test or more specific goals.\n",
            "two such annual contests are the loebner prize and the chatterbox challenge (the latter has been offline since 2015, however materials can still be found from web archives).\n",
            "[14]\n",
            "\n",
            "application\n",
            "see also: virtual assistant\n",
            "\n",
            "aeromexico airline chatbot running on facebook messenger, march 2018\n",
            "messaging apps\n",
            "many companies' chatbots run on messaging apps like facebook messenger (since 2016), wechat (since 2013),[15] whatsapp, livechat, kik, slack, line, telegram, or simply via sms.\n",
            "they are used for b2c customer service, sales and marketing.\n",
            "[16]\n",
            "\n",
            "in 2016, facebook messenger allowed developers to place chatbots on their platform.\n",
            "there were 30,000 bots created for messenger in the first six months, rising to 100,000 by september 2017.\n",
            "[17]\n",
            "\n",
            "since september 2017, this has also been as part of a pilot program on whatsapp.\n",
            "airlines klm and aeromxico both announced their participation in the testing;[18][19][20][21] both airlines had previously launched customer services on the facebook messenger platform.\n",
            "the bots usually appear as one of the user's contacts, but can sometimes act as participants in a group chat.\n",
            "many banks, insurers, media companies, e-commerce companies, airlines, hotel chains, retailers, health care providers, government entities and restaurant chains have used chatbots to answer simple questions, increase customer engagement,[22] for promotion, and to offer additional ways to order from them.\n",
            "[23][24]\n",
            "\n",
            "a 2017 study showed 4% of companies used chatbots.\n",
            "[25] according to a 2016 study, 80% of businesses said they intended to have one by 2020.\n",
            "[26]\n",
            "\n",
            "as part of company apps and websites\n",
            "previous generations of chatbots were present on company websites, e.g.\n",
            "ask jenn from alaska airlines which debuted in 2008[27] or expedia's virtual customer service agent which launched in 2011.\n",
            "[27][28] the newer generation of chatbots includes ibm watson-powered \"rocky\", introduced in february 2017 by the new york city-based e-commerce company rare carat to provide information to prospective diamond buyers.\n",
            "[29][30]\n",
            "\n",
            "company internal platforms\n",
            "other companies explore ways they can use chatbots internally, for example for customer support, human resources, or even in internet-of-things (iot) projects.\n",
            "overstock.com, for one, has reportedly launched a chatbot named mila to automate certain simple yet time-consuming processes when requesting for a sick leave.\n",
            "[31] other large companies such as lloyds banking group, royal bank of scotland, renault and citron are now using automated online assistants instead of call centres with humans to provide a first point of contact.\n",
            "a saas chatbot business ecosystem has been steadily growing since the f8 conference when facebook's mark zuckerberg unveiled that messenger would allow chatbots into the app.\n",
            "[32] in large companies, like in hospitals and aviation organizations, it architects are designing reference architectures for intelligent chatbots that are used to unlock and share knowledge and experience in the organization more efficiently, and reduce the errors in answers from expert service desks significantly.[33].\n",
            "these intelligent chatbots make use of all kinds of artificial intelligence like image moderation and natural language understanding (nlu), natural language generation (nlg), machine learning and deep learning.\n",
            "toys\n",
            "chatbots have also been incorporated into devices not primarily meant for computing such as toys.\n",
            "[34]\n",
            "\n",
            "hello barbie is an internet-connected version of the doll that uses a chatbot provided by the company toytalk,[35] which previously used the chatbot for a range of smartphone-based characters for children.\n",
            "[36] these characters' behaviors are constrained by a set of rules that in effect emulate a particular character and produce a storyline.\n",
            "[37]\n",
            "\n",
            "ibm's watson computer has been used as the basis for chatbot-based educational toys for companies such as cognitoys[34] intended to interact with children for educational purposes.\n",
            "[38]\n",
            "\n",
            "chatbot creation\n",
            "the process of creating a chatbot follows a pattern similar to the development of a web page or a mobile app.\n",
            "it can be divided into design, building, analytics and maintenance.\n",
            "[39]\n",
            "\n",
            "design\n",
            "the chatbot design is the process that defines the interaction between the user and the chatbot.\n",
            "the chatbot designer will define the chatbot personality, the questions that will be asked to the users, and the overall interaction.\n",
            "[40][41] it can be viewed as a subset of the conversational design.\n",
            "in order to speed up this process, designers can use dedicated chatbot design tools that allow for immediate preview, team collaboration and video export.\n",
            "[42] an important part of the chatbot design is also centered around user testing.\n",
            "user testing can be performed following the same principles that guide the user testing of graphical interfaces.\n",
            "[43]\n",
            "\n",
            "building\n",
            "the process of building a chatbot can be divided into two main tasks: understanding the user's intent and producing the correct answer.\n",
            "the first task involves understanding the user input.\n",
            "in order to properly understand a user input in a free text form, a natural language processing engine can be used.\n",
            "[44] the second task may involve different approaches depending on the type of the response that the chatbot will generate.\n",
            "analytics\n",
            "the usage of the chatbot can be monitored in order to spot potential flaws or problems.\n",
            "it can also provide useful insights that can improve the final user experience.\n",
            "[45]\n",
            "\n",
            "maintenance\n",
            "to keep chatbots up to speed with changing company products and services, traditional chatbot development platforms require ongoing maintenance.\n",
            "this can either be in the form of an ongoing service provider or for larger enterprises in the form of an in-house chatbot training team.\n",
            "[46] to eliminate these costs, some startups are experimenting with artificial intelligence to develop self-learning chatbots, particularly in customer service applications.\n",
            "chatbot development platforms\n",
            "the process of building, testing and deploying chatbots can be done on cloud-based chatbot development platforms[47] offered by cloud platform as a service (paas) providers such as oracle cloud platform and ibm watson.\n",
            "[48][49][50] these cloud platforms provide natural language processing, artificial intelligence and mobile backend as a service for chatbot development.\n",
            "malicious use\n",
            "malicious chatbots are frequently used to fill chat rooms with spam and advertisements, by mimicking human behavior and conversations or to entice people into revealing personal information, such as bank account numbers.\n",
            "they are commonly found on yahoo!\n",
            "messenger, windows live messenger, aol instant messenger and other instant messaging protocols.\n",
            "there has also been a published report of a chatbot used in a fake personal ad on a dating service's website.\n",
            "[51]\n",
            "\n",
            "tay, an ai chatbot that learns from previous interaction, caused major controversy due to it being targeted by internet trolls on twitter.\n",
            "the bot was exploited, and after 16 hours began to send extremely offensive tweets to users.\n",
            "this suggests that although the bot learnt effectively from experience, adequate protection was not put in place to prevent misuse.\n",
            "[52]\n",
            "\n",
            "see also\n",
            "applications of artificial intelligence\n",
            "eugene goostman\n",
            "interactive online characters\n",
            "list of chatterbots\n",
            "sitepal\n",
            "social bot\n",
            "tay\n",
            "twitterbot\n",
            "citations\n",
            " \"what is a chatbot?\".\n",
            "techtarget.com.\n",
            "retrieved 30 january 2017.\n",
            " mauldin 1994\n",
            " orf, darren.\n",
            "\"google assistant is a mega ai bot that wants to be absoutely everywhere\".\n",
            "\"the 8 best chatbots of 2016\".\n",
            "21 december 2016.\n",
            " https://recast.ai/blog/2017-messenger-bot-landscape/\n",
            " (turing 1950)\n",
            " (weizenbaum 1966, p. 36)\n",
            " (weizenbaum 1966, pp.\n",
            "445)\n",
            " gzelderefranchi 1995\n",
            " computer history museum 2006\n",
            " sondheim 1997\n",
            " network working group 1973transcript of a session between parry and eliza.\n",
            "(this is not the dialogue from the iccc, which took place october 2426, 1972, whereas this session is from september 18, 1972.)\n",
            "www.everything.com 13 november 1999\n",
            " (in german) chatroboter simulieren menschen\n",
            " \"china, wechat, and the origins of chatbots  chatbots magazine\".\n",
            "12 march 2017. retrieved 2 july 2018.\n",
            " beaver, laurie (july 2016).\n",
            "the chatbots explainer.\n",
            "bi intelligence.\n",
            "\"facebook messenger hits 100,000 bots\".\n",
            "retrieved 2017-09-22.\n",
            "\"klm claims airline first with whatsapp business platform\".\n",
            "staff, forbes (26 october 2017).\n",
            "\"aeromxico te atender por whatsapp durante 2018\".\n",
            "retrieved 2 july 2018.\n",
            " redaccin (27 october 2017).\n",
            "\"podrs hacer 'check in' y consultar tu vuelo con aeromxico a travs de whatsapp\".\n",
            "retrieved 2 july 2018  via huff post.\n",
            "\"building for people, and now businesses\".\n",
            "whatsapp.com.\n",
            "retrieved 2 july 2018.\n",
            "\"she is the company's most effective employee\".\n",
            "nordea news.\n",
            "\"better believe the bot boom is blowing up big for b2b, b2c businesses\".\n",
            "venturebeat.\n",
            "\"chatbots take education to the next level  chatbot news daily\".\n",
            "chatbot news daily.\n",
            "2016-09-29. retrieved 2017-06-23.\n",
            "\"the ai revolution is underway!\n",
            "pm360\".\n",
            "www.pm360online.com.\n",
            "retrieved 2 july 2018.\n",
            "\"80% of businesses want chatbots by 2020\".\n",
            "retrieved 2 july 2018.\n",
            "\"a virtual travel agent with all the answers\".\n",
            "the new york times.\n",
            "4 march 2008.\n",
            "\"chatbot vendor directory released \".\n",
            "www.hypergridbusiness.com.\n",
            "\"rare carat's watson-powered chatbot will help you put a diamond ring on it\".\n",
            "techcrunch.\n",
            "february 15, 2017.\n",
            "\"10 ways you may have already used ibm watson\".\n",
            "venturebeat.\n",
            "march 10, 2017.\n",
            " greenfield, rebecca.\n",
            "\"chatbots are your newest, dumbest co-workers\".\n",
            "bloomberg.\n",
            "\"facebook opens its messenger platform to chatbots\".\n",
            "12 april 2016.\n",
            "\"chatbot reference architecture\".\n",
            "1 january 2019.\n",
            " amy (2015-02-23).\n",
            "\"conversational toys  the latest trend in speech technology\".\n",
            "virtual agent chat.\n",
            "retrieved 2016-08-11.\n",
            " nagy, evie.\n",
            "\"using toytalk technology, new hello barbie will have real conversations with kids\".\n",
            "fast company.\n",
            "retrieved 18 march 2015.\n",
            " oren jacob, the co-founder and ceo of toytalk interviewed on the tv show triangulation on the twit.tv network\n",
            " \"artificial intelligence script tool\".\n",
            "takahashi, dean.\n",
            "\"elemental's smart connected toy taps ibm's watson supercomputer for its brains\".\n",
            "venture beat.\n",
            "retrieved 15 may 2015.\n",
            "\"awesome chatbots tools\".\n",
            "\"how to design a robust chatbot interaction\".\n",
            "\"principles of bot design\".\n",
            "implementations include botsociety botmock and botframe\n",
            " \"how to perform user testing on your chatbot\".\n",
            "implementations include rasa, wit.ai, dialogflow and watson\n",
            " \"what are the most common words your bot receives or sends\".\n",
            "\"how much it costs to make a chatbot\".\n",
            "yuan, michael (2018-02-19).\n",
            "chatbots: building intelligent, cross-platform, messaging bots.\n",
            "pearson education.\n",
            "isbn 9780134650616.\n",
            "\"oracle launches a chatbot development platform | venturebeat\".\n",
            "venturebeat.com.\n",
            "retrieved 2017-11-15.\n",
            "\"oracle introduces ai-powered intelligent bots to help enterprises engage customers and employees\".\n",
            "www.oracle.com.\n",
            "retrieved 2017-11-15.\n",
            "\"mobile service | oracle cloud\".\n",
            "cloud.oracle.com.\n",
            "retrieved 2017-11-15.\n",
            "\"from russia with love\" (pdf).\n",
            "retrieved 2007-12-09. psychologist and scientific american: mind contributing editor robert epstein reports how he was initially fooled by a chatterbot posing as an attractive girl in a personal ad he answered on a dating website.\n",
            "in the ad, the girl portrayed herself as being in southern california and then soon revealed, in poor english, that she was actually in russia.\n",
            "he became suspicious after a couple of months of email exchanges, sent her an email test of gibberish, and she still replied in general terms.\n",
            "the dating website is not named.\n",
            "scientific american: mind, octobernovember 2007, page 1617, \"from russia with love: how i got fooled (and somewhat humiliated) by a computer\".\n",
            "also available online.\n",
            "bird, jordan j.; ekart, aniko; faria, diego r. (june 2018).\n",
            "advances in computational intelligence systems (1st ed.).\n",
            "nottingham, uk: springer.\n",
            "pp.\n",
            "179190. isbn 978-3-319-97982-3. retrieved 3 december 2018.\n",
            "references\n",
            "computer history museum (2006), \"internet history1970's\", exhibits, computer history museum, archived from the original on 2008-02-21, retrieved 2008-03-05\n",
            "gzeldere, gven; franchi, stefano (1995-07-24), \"constructions of the mind\", stanford humanities review, sehr, stanford university, 4 (2), retrieved 2008-03-05\n",
            "mauldin, michael (1994), \"chatterbots, tinymuds, and the turing test: entering the loebner prize competition\", proceedings of the eleventh national conference on artificial intelligence, aaai press, retrieved 2008-03-05 (abstract)\n",
            "network working group (1973), \"rfc 439, parry encounters the doctor\", internet engineering task force, internet society, retrieved 2008-03-05\n",
            "sondheim, alan j (1997), <nettime> important documents from the early internet (1972), nettime.org, archived from the original on 2008-06-13, retrieved 2008-03-05\n",
            "searle, john (1980), \"minds, brains and programs\", behavioral and brain sciences, 3 (3): 417457, doi:10.1017/s0140525x00005756\n",
            "shevat, amir (2017).\n",
            "designing bots: creating conversational experiences (first ed.).\n",
            "sebastopol, ca: o'reilly media.\n",
            "isbn 9781491974827. oclc 962125282.\n",
            "turing, alan (1950), \"computing machinery and intelligence\", mind, 59: 43360, doi:10.1093/mind/lix.236.433\n",
            "weizenbaum, joseph (january 1966), \"elizaa computer program for the study of natural language communication between man and machine\", communications of the acm, 9 (1): 3645, doi:10.1145/365153.365168\n",
            "vte\n",
            "natural language processing\n"
          ]
        }
      ]
    },
    {
      "cell_type": "markdown",
      "metadata": {
        "id": "v50urpMobR19"
      },
      "source": [
        "#### 1.2.4 Word tokenization\n",
        "\n",
        "We will use the funtion .word_tokenizer to convert sentences into a list of words.\n",
        "\n",
        "<font color=red>Hints:</font>\n",
        "*   web search \"ntlk word_tokenizer\"\n",
        "*   Review: https://pythonspot.com/tokenizing-words-and-sentences-with-nltk/\n",
        "\n"
      ]
    },
    {
      "cell_type": "code",
      "metadata": {
        "id": "cwaN2FTfbR1-",
        "colab": {
          "base_uri": "https://localhost:8080/"
        },
        "outputId": "a7398bee-7421-40c0-ef68-1576192a1f49"
      },
      "source": [
        "word_tokenizer = word_tokenize(df)\n",
        "print(word_tokenizer)"
      ],
      "execution_count": 39,
      "outputs": [
        {
          "output_type": "stream",
          "name": "stdout",
          "text": [
            "['chatbot', 'from', 'wikipedia', ',', 'the', 'free', 'encyclopedia', 'jump', 'to', 'navigationjump', 'to', 'search', 'a', 'chatbot', '(', 'also', 'known', 'as', 'a', 'smartbot', ',', 'talkbot', ',', 'chatterbot', ',', 'bot', ',', 'im', 'bot', ',', 'interactive', 'agent', ',', 'conversational', 'interface', 'or', 'artificial', 'conversational', 'entity', ')', 'is', 'a', 'computer', 'program', 'or', 'an', 'artificial', 'intelligence', 'which', 'conducts', 'a', 'conversation', 'via', 'auditory', 'or', 'textual', 'methods', '.', '[', '1', ']', 'such', 'programs', 'are', 'often', 'designed', 'to', 'convincingly', 'simulate', 'how', 'a', 'human', 'would', 'behave', 'as', 'a', 'conversational', 'partner', ',', 'thereby', 'passing', 'the', 'turing', 'test', '.', 'chatbots', 'are', 'typically', 'used', 'in', 'dialog', 'systems', 'for', 'various', 'practical', 'purposes', 'including', 'customer', 'service', 'or', 'information', 'acquisition', '.', 'some', 'chatbots', 'use', 'sophisticated', 'natural', 'language', 'processing', 'systems', ',', 'but', 'many', 'simpler', 'ones', 'scan', 'for', 'keywords', 'within', 'the', 'input', ',', 'then', 'pull', 'a', 'reply', 'with', 'the', 'most', 'matching', 'keywords', ',', 'or', 'the', 'most', 'similar', 'wording', 'pattern', ',', 'from', 'a', 'database', '.', 'the', 'term', '``', 'chatterbot', \"''\", 'was', 'originally', 'coined', 'by', 'michael', 'mauldin', '(', 'creator', 'of', 'the', 'first', 'verbot', ',', 'julia', ')', 'in', '1994', 'to', 'describe', 'these', 'conversational', 'programs', '.', '[', '2', ']', 'today', ',', 'most', 'chatbots', 'are', 'accessed', 'via', 'virtual', 'assistants', 'such', 'as', 'google', 'assistant', 'and', 'amazon', 'alexa', ',', 'via', 'messaging', 'apps', 'such', 'as', 'facebook', 'messenger', 'or', 'wechat', ',', 'or', 'via', 'individual', 'organizations', \"'\", 'apps', 'and', 'websites', '.', '[', '3', ']', '[', '4', ']', 'chatbots', 'can', 'be', 'classified', 'into', 'usage', 'categories', 'such', 'as', 'conversational', 'commerce', '(', 'e-commerce', 'via', 'chat', ')', ',', 'analytics', ',', 'communication', ',', 'customer', 'support', ',', 'design', ',', 'developer', 'tools', ',', 'education', ',', 'entertainment', ',', 'finance', ',', 'food', ',', 'games', ',', 'health', ',', 'hr', ',', 'marketing', ',', 'news', ',', 'personal', ',', 'productivity', ',', 'shopping', ',', 'social', ',', 'sports', ',', 'travel', 'and', 'utilities', '.', '[', '5', ']', 'background', 'in', '1950', ',', 'alan', 'turing', \"'s\", 'famous', 'article', '``', 'computing', 'machinery', 'and', 'intelligence', \"''\", 'was', 'published', ',', '[', '6', ']', 'which', 'proposed', 'what', 'is', 'now', 'called', 'the', 'turing', 'test', 'as', 'a', 'criterion', 'of', 'intelligence', '.', 'this', 'criterion', 'depends', 'on', 'the', 'ability', 'of', 'a', 'computer', 'program', 'to', 'impersonate', 'a', 'human', 'in', 'a', 'real-time', 'written', 'conversation', 'with', 'a', 'human', 'judge', ',', 'sufficiently', 'well', 'that', 'the', 'judge', 'is', 'unable', 'to', 'distinguish', 'reliablyon', 'the', 'basis', 'of', 'the', 'conversational', 'content', 'alonebetween', 'the', 'program', 'and', 'a', 'real', 'human', '.', 'the', 'notoriety', 'of', 'turing', \"'s\", 'proposed', 'test', 'stimulated', 'great', 'interest', 'in', 'joseph', 'weizenbaum', \"'s\", 'program', 'eliza', ',', 'published', 'in', '1966', ',', 'which', 'seemed', 'to', 'be', 'able', 'to', 'fool', 'users', 'into', 'believing', 'that', 'they', 'were', 'conversing', 'with', 'a', 'real', 'human', '.', 'however', 'weizenbaum', 'himself', 'did', 'not', 'claim', 'that', 'eliza', 'was', 'genuinely', 'intelligent', ',', 'and', 'the', 'introduction', 'to', 'his', 'paper', 'presented', 'it', 'more', 'as', 'a', 'debunking', 'exercise', ':', '[', 'in', ']', 'artificial', 'intelligence', '...', 'machines', 'are', 'made', 'to', 'behave', 'in', 'wondrous', 'ways', ',', 'often', 'sufficient', 'to', 'dazzle', 'even', 'the', 'most', 'experienced', 'observer', '.', 'but', 'once', 'a', 'particular', 'program', 'is', 'unmasked', ',', 'once', 'its', 'inner', 'workings', 'are', 'explained', '...', 'its', 'magic', 'crumbles', 'away', ';', 'it', 'stands', 'revealed', 'as', 'a', 'mere', 'collection', 'of', 'procedures', '...', 'the', 'observer', 'says', 'to', 'himself', '``', 'i', 'could', 'have', 'written', 'that', \"''\", '.', 'with', 'that', 'thought', 'he', 'moves', 'the', 'program', 'in', 'question', 'from', 'the', 'shelf', 'marked', '``', 'intelligent', \"''\", ',', 'to', 'that', 'reserved', 'for', 'curios', '...', 'the', 'object', 'of', 'this', 'paper', 'is', 'to', 'cause', 'just', 'such', 'a', 're-evaluation', 'of', 'the', 'program', 'about', 'to', 'be', '``', 'explained', \"''\", '.', 'few', 'programs', 'ever', 'needed', 'it', 'more', '.', '[', '7', ']', 'eliza', \"'s\", 'key', 'method', 'of', 'operation', '(', 'copied', 'by', 'chatbot', 'designers', 'ever', 'since', ')', 'involves', 'the', 'recognition', 'of', 'cue', 'words', 'or', 'phrases', 'in', 'the', 'input', ',', 'and', 'the', 'output', 'of', 'corresponding', 'pre-prepared', 'or', 'pre-programmed', 'responses', 'that', 'can', 'move', 'the', 'conversation', 'forward', 'in', 'an', 'apparently', 'meaningful', 'way', '(', 'e.g', '.', 'by', 'responding', 'to', 'any', 'input', 'that', 'contains', 'the', 'word', \"'mother\", \"'\", 'with', \"'tell\", 'me', 'more', 'about', 'your', 'family', \"'\", ')', '.', '[', '8', ']', 'thus', 'an', 'illusion', 'of', 'understanding', 'is', 'generated', ',', 'even', 'though', 'the', 'processing', 'involved', 'has', 'been', 'merely', 'superficial', '.', 'eliza', 'showed', 'that', 'such', 'an', 'illusion', 'is', 'surprisingly', 'easy', 'to', 'generate', ',', 'because', 'human', 'judges', 'are', 'so', 'ready', 'to', 'give', 'the', 'benefit', 'of', 'the', 'doubt', 'when', 'conversational', 'responses', 'are', 'capable', 'of', 'being', 'interpreted', 'as', '``', 'intelligent', \"''\", '.', 'interface', 'designers', 'have', 'come', 'to', 'appreciate', 'that', 'humans', \"'\", 'readiness', 'to', 'interpret', 'computer', 'output', 'as', 'genuinely', 'conversationaleven', 'when', 'it', 'is', 'actually', 'based', 'on', 'rather', 'simple', 'pattern-matchingcan', 'be', 'exploited', 'for', 'useful', 'purposes', '.', 'most', 'people', 'prefer', 'to', 'engage', 'with', 'programs', 'that', 'are', 'human-like', ',', 'and', 'this', 'gives', 'chatbot-style', 'techniques', 'a', 'potentially', 'useful', 'role', 'in', 'interactive', 'systems', 'that', 'need', 'to', 'elicit', 'information', 'from', 'users', ',', 'as', 'long', 'as', 'that', 'information', 'is', 'relatively', 'straightforward', 'and', 'falls', 'into', 'predictable', 'categories', '.', 'thus', ',', 'for', 'example', ',', 'online', 'help', 'systems', 'can', 'usefully', 'employ', 'chatbot', 'techniques', 'to', 'identify', 'the', 'area', 'of', 'help', 'that', 'users', 'require', ',', 'potentially', 'providing', 'a', '``', 'friendlier', \"''\", 'interface', 'than', 'a', 'more', 'formal', 'search', 'or', 'menu', 'system', '.', 'this', 'sort', 'of', 'usage', 'holds', 'the', 'prospect', 'of', 'moving', 'chatbot', 'technology', 'from', 'weizenbaum', \"'s\", '``', 'shelf', '...', 'reserved', 'for', 'curios', \"''\", 'to', 'that', 'marked', '``', 'genuinely', 'useful', 'computational', 'methods', \"''\", '.', 'development', 'the', 'classic', 'historic', 'early', 'chatbots', 'are', 'eliza', '(', '1966', ')', 'and', 'parry', '(', '1972', ')', '.', '[', '9', ']', '[', '10', ']', '[', '11', ']', '[', '12', ']', 'more', 'recent', 'notable', 'programs', 'include', 'a.l.i.c.e.', ',', 'jabberwacky', 'and', 'd.u.d.e', '(', 'agence', 'nationale', 'de', 'la', 'recherche', 'and', 'cnrs', '2006', ')', '.', 'while', 'eliza', 'and', 'parry', 'were', 'used', 'exclusively', 'to', 'simulate', 'typed', 'conversation', ',', 'many', 'chatbots', 'now', 'include', 'functional', 'features', 'such', 'as', 'games', 'and', 'web', 'searching', 'abilities', '.', 'in', '1984', ',', 'a', 'book', 'called', 'the', 'policeman', \"'s\", 'beard', 'is', 'half', 'constructed', 'was', 'published', ',', 'allegedly', 'written', 'by', 'the', 'chatbot', 'racter', '(', 'though', 'the', 'program', 'as', 'released', 'would', 'not', 'have', 'been', 'capable', 'of', 'doing', 'so', ')', '.', '[', '13', ']', 'one', 'pertinent', 'field', 'of', 'ai', 'research', 'is', 'natural', 'language', 'processing', '.', 'usually', ',', 'weak', 'ai', 'fields', 'employ', 'specialized', 'software', 'or', 'programming', 'languages', 'created', 'specifically', 'for', 'the', 'narrow', 'function', 'required', '.', 'for', 'example', ',', 'a.l.i.c.e', '.', 'uses', 'a', 'markup', 'language', 'called', 'aiml', ',', 'which', 'is', 'specific', 'to', 'its', 'function', 'as', 'a', 'conversational', 'agent', ',', 'and', 'has', 'since', 'been', 'adopted', 'by', 'various', 'other', 'developers', 'of', ',', 'so', 'called', ',', 'alicebots', '.', 'nevertheless', ',', 'a.l.i.c.e', '.', 'is', 'still', 'purely', 'based', 'on', 'pattern', 'matching', 'techniques', 'without', 'any', 'reasoning', 'capabilities', ',', 'the', 'same', 'technique', 'eliza', 'was', 'using', 'back', 'in', '1966.', 'this', 'is', 'not', 'strong', 'ai', ',', 'which', 'would', 'require', 'sapience', 'and', 'logical', 'reasoning', 'abilities', '.', 'jabberwacky', 'learns', 'new', 'responses', 'and', 'context', 'based', 'on', 'real-time', 'user', 'interactions', ',', 'rather', 'than', 'being', 'driven', 'from', 'a', 'static', 'database', '.', 'some', 'more', 'recent', 'chatbots', 'also', 'combine', 'real-time', 'learning', 'with', 'evolutionary', 'algorithms', 'that', 'optimise', 'their', 'ability', 'to', 'communicate', 'based', 'on', 'each', 'conversation', 'held', '.', 'still', ',', 'there', 'is', 'currently', 'no', 'general', 'purpose', 'conversational', 'artificial', 'intelligence', ',', 'and', 'some', 'software', 'developers', 'focus', 'on', 'the', 'practical', 'aspect', ',', 'information', 'retrieval', '.', 'chatbot', 'competitions', 'focus', 'on', 'the', 'turing', 'test', 'or', 'more', 'specific', 'goals', '.', 'two', 'such', 'annual', 'contests', 'are', 'the', 'loebner', 'prize', 'and', 'the', 'chatterbox', 'challenge', '(', 'the', 'latter', 'has', 'been', 'offline', 'since', '2015', ',', 'however', 'materials', 'can', 'still', 'be', 'found', 'from', 'web', 'archives', ')', '.', '[', '14', ']', 'application', 'see', 'also', ':', 'virtual', 'assistant', 'aeromexico', 'airline', 'chatbot', 'running', 'on', 'facebook', 'messenger', ',', 'march', '2018', 'messaging', 'apps', 'many', 'companies', \"'\", 'chatbots', 'run', 'on', 'messaging', 'apps', 'like', 'facebook', 'messenger', '(', 'since', '2016', ')', ',', 'wechat', '(', 'since', '2013', ')', ',', '[', '15', ']', 'whatsapp', ',', 'livechat', ',', 'kik', ',', 'slack', ',', 'line', ',', 'telegram', ',', 'or', 'simply', 'via', 'sms', '.', 'they', 'are', 'used', 'for', 'b2c', 'customer', 'service', ',', 'sales', 'and', 'marketing', '.', '[', '16', ']', 'in', '2016', ',', 'facebook', 'messenger', 'allowed', 'developers', 'to', 'place', 'chatbots', 'on', 'their', 'platform', '.', 'there', 'were', '30,000', 'bots', 'created', 'for', 'messenger', 'in', 'the', 'first', 'six', 'months', ',', 'rising', 'to', '100,000', 'by', 'september', '2017', '.', '[', '17', ']', 'since', 'september', '2017', ',', 'this', 'has', 'also', 'been', 'as', 'part', 'of', 'a', 'pilot', 'program', 'on', 'whatsapp', '.', 'airlines', 'klm', 'and', 'aeromxico', 'both', 'announced', 'their', 'participation', 'in', 'the', 'testing', ';', '[', '18', ']', '[', '19', ']', '[', '20', ']', '[', '21', ']', 'both', 'airlines', 'had', 'previously', 'launched', 'customer', 'services', 'on', 'the', 'facebook', 'messenger', 'platform', '.', 'the', 'bots', 'usually', 'appear', 'as', 'one', 'of', 'the', 'user', \"'s\", 'contacts', ',', 'but', 'can', 'sometimes', 'act', 'as', 'participants', 'in', 'a', 'group', 'chat', '.', 'many', 'banks', ',', 'insurers', ',', 'media', 'companies', ',', 'e-commerce', 'companies', ',', 'airlines', ',', 'hotel', 'chains', ',', 'retailers', ',', 'health', 'care', 'providers', ',', 'government', 'entities', 'and', 'restaurant', 'chains', 'have', 'used', 'chatbots', 'to', 'answer', 'simple', 'questions', ',', 'increase', 'customer', 'engagement', ',', '[', '22', ']', 'for', 'promotion', ',', 'and', 'to', 'offer', 'additional', 'ways', 'to', 'order', 'from', 'them', '.', '[', '23', ']', '[', '24', ']', 'a', '2017', 'study', 'showed', '4', '%', 'of', 'companies', 'used', 'chatbots', '.', '[', '25', ']', 'according', 'to', 'a', '2016', 'study', ',', '80', '%', 'of', 'businesses', 'said', 'they', 'intended', 'to', 'have', 'one', 'by', '2020', '.', '[', '26', ']', 'as', 'part', 'of', 'company', 'apps', 'and', 'websites', 'previous', 'generations', 'of', 'chatbots', 'were', 'present', 'on', 'company', 'websites', ',', 'e.g', '.', 'ask', 'jenn', 'from', 'alaska', 'airlines', 'which', 'debuted', 'in', '2008', '[', '27', ']', 'or', 'expedia', \"'s\", 'virtual', 'customer', 'service', 'agent', 'which', 'launched', 'in', '2011', '.', '[', '27', ']', '[', '28', ']', 'the', 'newer', 'generation', 'of', 'chatbots', 'includes', 'ibm', 'watson-powered', '``', 'rocky', \"''\", ',', 'introduced', 'in', 'february', '2017', 'by', 'the', 'new', 'york', 'city-based', 'e-commerce', 'company', 'rare', 'carat', 'to', 'provide', 'information', 'to', 'prospective', 'diamond', 'buyers', '.', '[', '29', ']', '[', '30', ']', 'company', 'internal', 'platforms', 'other', 'companies', 'explore', 'ways', 'they', 'can', 'use', 'chatbots', 'internally', ',', 'for', 'example', 'for', 'customer', 'support', ',', 'human', 'resources', ',', 'or', 'even', 'in', 'internet-of-things', '(', 'iot', ')', 'projects', '.', 'overstock.com', ',', 'for', 'one', ',', 'has', 'reportedly', 'launched', 'a', 'chatbot', 'named', 'mila', 'to', 'automate', 'certain', 'simple', 'yet', 'time-consuming', 'processes', 'when', 'requesting', 'for', 'a', 'sick', 'leave', '.', '[', '31', ']', 'other', 'large', 'companies', 'such', 'as', 'lloyds', 'banking', 'group', ',', 'royal', 'bank', 'of', 'scotland', ',', 'renault', 'and', 'citron', 'are', 'now', 'using', 'automated', 'online', 'assistants', 'instead', 'of', 'call', 'centres', 'with', 'humans', 'to', 'provide', 'a', 'first', 'point', 'of', 'contact', '.', 'a', 'saas', 'chatbot', 'business', 'ecosystem', 'has', 'been', 'steadily', 'growing', 'since', 'the', 'f8', 'conference', 'when', 'facebook', \"'s\", 'mark', 'zuckerberg', 'unveiled', 'that', 'messenger', 'would', 'allow', 'chatbots', 'into', 'the', 'app', '.', '[', '32', ']', 'in', 'large', 'companies', ',', 'like', 'in', 'hospitals', 'and', 'aviation', 'organizations', ',', 'it', 'architects', 'are', 'designing', 'reference', 'architectures', 'for', 'intelligent', 'chatbots', 'that', 'are', 'used', 'to', 'unlock', 'and', 'share', 'knowledge', 'and', 'experience', 'in', 'the', 'organization', 'more', 'efficiently', ',', 'and', 'reduce', 'the', 'errors', 'in', 'answers', 'from', 'expert', 'service', 'desks', 'significantly.', '[', '33', ']', '.', 'these', 'intelligent', 'chatbots', 'make', 'use', 'of', 'all', 'kinds', 'of', 'artificial', 'intelligence', 'like', 'image', 'moderation', 'and', 'natural', 'language', 'understanding', '(', 'nlu', ')', ',', 'natural', 'language', 'generation', '(', 'nlg', ')', ',', 'machine', 'learning', 'and', 'deep', 'learning', '.', 'toys', 'chatbots', 'have', 'also', 'been', 'incorporated', 'into', 'devices', 'not', 'primarily', 'meant', 'for', 'computing', 'such', 'as', 'toys', '.', '[', '34', ']', 'hello', 'barbie', 'is', 'an', 'internet-connected', 'version', 'of', 'the', 'doll', 'that', 'uses', 'a', 'chatbot', 'provided', 'by', 'the', 'company', 'toytalk', ',', '[', '35', ']', 'which', 'previously', 'used', 'the', 'chatbot', 'for', 'a', 'range', 'of', 'smartphone-based', 'characters', 'for', 'children', '.', '[', '36', ']', 'these', 'characters', \"'\", 'behaviors', 'are', 'constrained', 'by', 'a', 'set', 'of', 'rules', 'that', 'in', 'effect', 'emulate', 'a', 'particular', 'character', 'and', 'produce', 'a', 'storyline', '.', '[', '37', ']', 'ibm', \"'s\", 'watson', 'computer', 'has', 'been', 'used', 'as', 'the', 'basis', 'for', 'chatbot-based', 'educational', 'toys', 'for', 'companies', 'such', 'as', 'cognitoys', '[', '34', ']', 'intended', 'to', 'interact', 'with', 'children', 'for', 'educational', 'purposes', '.', '[', '38', ']', 'chatbot', 'creation', 'the', 'process', 'of', 'creating', 'a', 'chatbot', 'follows', 'a', 'pattern', 'similar', 'to', 'the', 'development', 'of', 'a', 'web', 'page', 'or', 'a', 'mobile', 'app', '.', 'it', 'can', 'be', 'divided', 'into', 'design', ',', 'building', ',', 'analytics', 'and', 'maintenance', '.', '[', '39', ']', 'design', 'the', 'chatbot', 'design', 'is', 'the', 'process', 'that', 'defines', 'the', 'interaction', 'between', 'the', 'user', 'and', 'the', 'chatbot', '.', 'the', 'chatbot', 'designer', 'will', 'define', 'the', 'chatbot', 'personality', ',', 'the', 'questions', 'that', 'will', 'be', 'asked', 'to', 'the', 'users', ',', 'and', 'the', 'overall', 'interaction', '.', '[', '40', ']', '[', '41', ']', 'it', 'can', 'be', 'viewed', 'as', 'a', 'subset', 'of', 'the', 'conversational', 'design', '.', 'in', 'order', 'to', 'speed', 'up', 'this', 'process', ',', 'designers', 'can', 'use', 'dedicated', 'chatbot', 'design', 'tools', 'that', 'allow', 'for', 'immediate', 'preview', ',', 'team', 'collaboration', 'and', 'video', 'export', '.', '[', '42', ']', 'an', 'important', 'part', 'of', 'the', 'chatbot', 'design', 'is', 'also', 'centered', 'around', 'user', 'testing', '.', 'user', 'testing', 'can', 'be', 'performed', 'following', 'the', 'same', 'principles', 'that', 'guide', 'the', 'user', 'testing', 'of', 'graphical', 'interfaces', '.', '[', '43', ']', 'building', 'the', 'process', 'of', 'building', 'a', 'chatbot', 'can', 'be', 'divided', 'into', 'two', 'main', 'tasks', ':', 'understanding', 'the', 'user', \"'s\", 'intent', 'and', 'producing', 'the', 'correct', 'answer', '.', 'the', 'first', 'task', 'involves', 'understanding', 'the', 'user', 'input', '.', 'in', 'order', 'to', 'properly', 'understand', 'a', 'user', 'input', 'in', 'a', 'free', 'text', 'form', ',', 'a', 'natural', 'language', 'processing', 'engine', 'can', 'be', 'used', '.', '[', '44', ']', 'the', 'second', 'task', 'may', 'involve', 'different', 'approaches', 'depending', 'on', 'the', 'type', 'of', 'the', 'response', 'that', 'the', 'chatbot', 'will', 'generate', '.', 'analytics', 'the', 'usage', 'of', 'the', 'chatbot', 'can', 'be', 'monitored', 'in', 'order', 'to', 'spot', 'potential', 'flaws', 'or', 'problems', '.', 'it', 'can', 'also', 'provide', 'useful', 'insights', 'that', 'can', 'improve', 'the', 'final', 'user', 'experience', '.', '[', '45', ']', 'maintenance', 'to', 'keep', 'chatbots', 'up', 'to', 'speed', 'with', 'changing', 'company', 'products', 'and', 'services', ',', 'traditional', 'chatbot', 'development', 'platforms', 'require', 'ongoing', 'maintenance', '.', 'this', 'can', 'either', 'be', 'in', 'the', 'form', 'of', 'an', 'ongoing', 'service', 'provider', 'or', 'for', 'larger', 'enterprises', 'in', 'the', 'form', 'of', 'an', 'in-house', 'chatbot', 'training', 'team', '.', '[', '46', ']', 'to', 'eliminate', 'these', 'costs', ',', 'some', 'startups', 'are', 'experimenting', 'with', 'artificial', 'intelligence', 'to', 'develop', 'self-learning', 'chatbots', ',', 'particularly', 'in', 'customer', 'service', 'applications', '.', 'chatbot', 'development', 'platforms', 'the', 'process', 'of', 'building', ',', 'testing', 'and', 'deploying', 'chatbots', 'can', 'be', 'done', 'on', 'cloud-based', 'chatbot', 'development', 'platforms', '[', '47', ']', 'offered', 'by', 'cloud', 'platform', 'as', 'a', 'service', '(', 'paas', ')', 'providers', 'such', 'as', 'oracle', 'cloud', 'platform', 'and', 'ibm', 'watson', '.', '[', '48', ']', '[', '49', ']', '[', '50', ']', 'these', 'cloud', 'platforms', 'provide', 'natural', 'language', 'processing', ',', 'artificial', 'intelligence', 'and', 'mobile', 'backend', 'as', 'a', 'service', 'for', 'chatbot', 'development', '.', 'malicious', 'use', 'malicious', 'chatbots', 'are', 'frequently', 'used', 'to', 'fill', 'chat', 'rooms', 'with', 'spam', 'and', 'advertisements', ',', 'by', 'mimicking', 'human', 'behavior', 'and', 'conversations', 'or', 'to', 'entice', 'people', 'into', 'revealing', 'personal', 'information', ',', 'such', 'as', 'bank', 'account', 'numbers', '.', 'they', 'are', 'commonly', 'found', 'on', 'yahoo', '!', 'messenger', ',', 'windows', 'live', 'messenger', ',', 'aol', 'instant', 'messenger', 'and', 'other', 'instant', 'messaging', 'protocols', '.', 'there', 'has', 'also', 'been', 'a', 'published', 'report', 'of', 'a', 'chatbot', 'used', 'in', 'a', 'fake', 'personal', 'ad', 'on', 'a', 'dating', 'service', \"'s\", 'website', '.', '[', '51', ']', 'tay', ',', 'an', 'ai', 'chatbot', 'that', 'learns', 'from', 'previous', 'interaction', ',', 'caused', 'major', 'controversy', 'due', 'to', 'it', 'being', 'targeted', 'by', 'internet', 'trolls', 'on', 'twitter', '.', 'the', 'bot', 'was', 'exploited', ',', 'and', 'after', '16', 'hours', 'began', 'to', 'send', 'extremely', 'offensive', 'tweets', 'to', 'users', '.', 'this', 'suggests', 'that', 'although', 'the', 'bot', 'learnt', 'effectively', 'from', 'experience', ',', 'adequate', 'protection', 'was', 'not', 'put', 'in', 'place', 'to', 'prevent', 'misuse', '.', '[', '52', ']', 'see', 'also', 'applications', 'of', 'artificial', 'intelligence', 'eugene', 'goostman', 'interactive', 'online', 'characters', 'list', 'of', 'chatterbots', 'sitepal', 'social', 'bot', 'tay', 'twitterbot', 'citations', '``', 'what', 'is', 'a', 'chatbot', '?', \"''\", '.', 'techtarget.com', '.', 'retrieved', '30', 'january', '2017.', 'mauldin', '1994', 'orf', ',', 'darren', '.', '``', 'google', 'assistant', 'is', 'a', 'mega', 'ai', 'bot', 'that', 'wants', 'to', 'be', 'absoutely', 'everywhere', \"''\", '.', '``', 'the', '8', 'best', 'chatbots', 'of', '2016', \"''\", '.', '21', 'december', '2016.', 'https', ':', '//recast.ai/blog/2017-messenger-bot-landscape/', '(', 'turing', '1950', ')', '(', 'weizenbaum', '1966', ',', 'p.', '36', ')', '(', 'weizenbaum', '1966', ',', 'pp', '.', '445', ')', 'gzelderefranchi', '1995', 'computer', 'history', 'museum', '2006', 'sondheim', '1997', 'network', 'working', 'group', '1973transcript', 'of', 'a', 'session', 'between', 'parry', 'and', 'eliza', '.', '(', 'this', 'is', 'not', 'the', 'dialogue', 'from', 'the', 'iccc', ',', 'which', 'took', 'place', 'october', '2426', ',', '1972', ',', 'whereas', 'this', 'session', 'is', 'from', 'september', '18', ',', '1972', '.', ')', 'www.everything.com', '13', 'november', '1999', '(', 'in', 'german', ')', 'chatroboter', 'simulieren', 'menschen', '``', 'china', ',', 'wechat', ',', 'and', 'the', 'origins', 'of', 'chatbots', 'chatbots', 'magazine', \"''\", '.', '12', 'march', '2017.', 'retrieved', '2', 'july', '2018.', 'beaver', ',', 'laurie', '(', 'july', '2016', ')', '.', 'the', 'chatbots', 'explainer', '.', 'bi', 'intelligence', '.', '``', 'facebook', 'messenger', 'hits', '100,000', 'bots', \"''\", '.', 'retrieved', '2017-09-22', '.', '``', 'klm', 'claims', 'airline', 'first', 'with', 'whatsapp', 'business', 'platform', \"''\", '.', 'staff', ',', 'forbes', '(', '26', 'october', '2017', ')', '.', '``', 'aeromxico', 'te', 'atender', 'por', 'whatsapp', 'durante', '2018', \"''\", '.', 'retrieved', '2', 'july', '2018.', 'redaccin', '(', '27', 'october', '2017', ')', '.', '``', 'podrs', 'hacer', \"'check\", 'in', \"'\", 'y', 'consultar', 'tu', 'vuelo', 'con', 'aeromxico', 'a', 'travs', 'de', 'whatsapp', \"''\", '.', 'retrieved', '2', 'july', '2018', 'via', 'huff', 'post', '.', '``', 'building', 'for', 'people', ',', 'and', 'now', 'businesses', \"''\", '.', 'whatsapp.com', '.', 'retrieved', '2', 'july', '2018', '.', '``', 'she', 'is', 'the', 'company', \"'s\", 'most', 'effective', 'employee', \"''\", '.', 'nordea', 'news', '.', '``', 'better', 'believe', 'the', 'bot', 'boom', 'is', 'blowing', 'up', 'big', 'for', 'b2b', ',', 'b2c', 'businesses', \"''\", '.', 'venturebeat', '.', '``', 'chatbots', 'take', 'education', 'to', 'the', 'next', 'level', 'chatbot', 'news', 'daily', \"''\", '.', 'chatbot', 'news', 'daily', '.', '2016-09-29.', 'retrieved', '2017-06-23', '.', '``', 'the', 'ai', 'revolution', 'is', 'underway', '!', 'pm360', \"''\", '.', 'www.pm360online.com', '.', 'retrieved', '2', 'july', '2018', '.', '``', '80', '%', 'of', 'businesses', 'want', 'chatbots', 'by', '2020', \"''\", '.', 'retrieved', '2', 'july', '2018', '.', '``', 'a', 'virtual', 'travel', 'agent', 'with', 'all', 'the', 'answers', \"''\", '.', 'the', 'new', 'york', 'times', '.', '4', 'march', '2008', '.', '``', 'chatbot', 'vendor', 'directory', 'released', '``', '.', 'www.hypergridbusiness.com', '.', '``', 'rare', 'carat', \"'s\", 'watson-powered', 'chatbot', 'will', 'help', 'you', 'put', 'a', 'diamond', 'ring', 'on', 'it', \"''\", '.', 'techcrunch', '.', 'february', '15', ',', '2017', '.', '``', '10', 'ways', 'you', 'may', 'have', 'already', 'used', 'ibm', 'watson', \"''\", '.', 'venturebeat', '.', 'march', '10', ',', '2017.', 'greenfield', ',', 'rebecca', '.', '``', 'chatbots', 'are', 'your', 'newest', ',', 'dumbest', 'co-workers', \"''\", '.', 'bloomberg', '.', '``', 'facebook', 'opens', 'its', 'messenger', 'platform', 'to', 'chatbots', \"''\", '.', '12', 'april', '2016', '.', '``', 'chatbot', 'reference', 'architecture', \"''\", '.', '1', 'january', '2019.', 'amy', '(', '2015-02-23', ')', '.', '``', 'conversational', 'toys', 'the', 'latest', 'trend', 'in', 'speech', 'technology', \"''\", '.', 'virtual', 'agent', 'chat', '.', 'retrieved', '2016-08-11.', 'nagy', ',', 'evie', '.', '``', 'using', 'toytalk', 'technology', ',', 'new', 'hello', 'barbie', 'will', 'have', 'real', 'conversations', 'with', 'kids', \"''\", '.', 'fast', 'company', '.', 'retrieved', '18', 'march', '2015.', 'oren', 'jacob', ',', 'the', 'co-founder', 'and', 'ceo', 'of', 'toytalk', 'interviewed', 'on', 'the', 'tv', 'show', 'triangulation', 'on', 'the', 'twit.tv', 'network', '``', 'artificial', 'intelligence', 'script', 'tool', \"''\", '.', 'takahashi', ',', 'dean', '.', '``', 'elemental', \"'s\", 'smart', 'connected', 'toy', 'taps', 'ibm', \"'s\", 'watson', 'supercomputer', 'for', 'its', 'brains', \"''\", '.', 'venture', 'beat', '.', 'retrieved', '15', 'may', '2015', '.', '``', 'awesome', 'chatbots', 'tools', \"''\", '.', '``', 'how', 'to', 'design', 'a', 'robust', 'chatbot', 'interaction', \"''\", '.', '``', 'principles', 'of', 'bot', 'design', \"''\", '.', 'implementations', 'include', 'botsociety', 'botmock', 'and', 'botframe', '``', 'how', 'to', 'perform', 'user', 'testing', 'on', 'your', 'chatbot', \"''\", '.', 'implementations', 'include', 'rasa', ',', 'wit.ai', ',', 'dialogflow', 'and', 'watson', '``', 'what', 'are', 'the', 'most', 'common', 'words', 'your', 'bot', 'receives', 'or', 'sends', \"''\", '.', '``', 'how', 'much', 'it', 'costs', 'to', 'make', 'a', 'chatbot', \"''\", '.', 'yuan', ',', 'michael', '(', '2018-02-19', ')', '.', 'chatbots', ':', 'building', 'intelligent', ',', 'cross-platform', ',', 'messaging', 'bots', '.', 'pearson', 'education', '.', 'isbn', '9780134650616', '.', '``', 'oracle', 'launches', 'a', 'chatbot', 'development', 'platform', '|', 'venturebeat', \"''\", '.', 'venturebeat.com', '.', 'retrieved', '2017-11-15', '.', '``', 'oracle', 'introduces', 'ai-powered', 'intelligent', 'bots', 'to', 'help', 'enterprises', 'engage', 'customers', 'and', 'employees', \"''\", '.', 'www.oracle.com', '.', 'retrieved', '2017-11-15', '.', '``', 'mobile', 'service', '|', 'oracle', 'cloud', \"''\", '.', 'cloud.oracle.com', '.', 'retrieved', '2017-11-15', '.', '``', 'from', 'russia', 'with', 'love', \"''\", '(', 'pdf', ')', '.', 'retrieved', '2007-12-09.', 'psychologist', 'and', 'scientific', 'american', ':', 'mind', 'contributing', 'editor', 'robert', 'epstein', 'reports', 'how', 'he', 'was', 'initially', 'fooled', 'by', 'a', 'chatterbot', 'posing', 'as', 'an', 'attractive', 'girl', 'in', 'a', 'personal', 'ad', 'he', 'answered', 'on', 'a', 'dating', 'website', '.', 'in', 'the', 'ad', ',', 'the', 'girl', 'portrayed', 'herself', 'as', 'being', 'in', 'southern', 'california', 'and', 'then', 'soon', 'revealed', ',', 'in', 'poor', 'english', ',', 'that', 'she', 'was', 'actually', 'in', 'russia', '.', 'he', 'became', 'suspicious', 'after', 'a', 'couple', 'of', 'months', 'of', 'email', 'exchanges', ',', 'sent', 'her', 'an', 'email', 'test', 'of', 'gibberish', ',', 'and', 'she', 'still', 'replied', 'in', 'general', 'terms', '.', 'the', 'dating', 'website', 'is', 'not', 'named', '.', 'scientific', 'american', ':', 'mind', ',', 'octobernovember', '2007', ',', 'page', '1617', ',', '``', 'from', 'russia', 'with', 'love', ':', 'how', 'i', 'got', 'fooled', '(', 'and', 'somewhat', 'humiliated', ')', 'by', 'a', 'computer', \"''\", '.', 'also', 'available', 'online', '.', 'bird', ',', 'jordan', 'j.', ';', 'ekart', ',', 'aniko', ';', 'faria', ',', 'diego', 'r.', '(', 'june', '2018', ')', '.', 'advances', 'in', 'computational', 'intelligence', 'systems', '(', '1st', 'ed.', ')', '.', 'nottingham', ',', 'uk', ':', 'springer', '.', 'pp', '.', '179190.', 'isbn', '978-3-319-97982-3.', 'retrieved', '3', 'december', '2018.', 'references', 'computer', 'history', 'museum', '(', '2006', ')', ',', '``', 'internet', 'history1970', \"'s\", \"''\", ',', 'exhibits', ',', 'computer', 'history', 'museum', ',', 'archived', 'from', 'the', 'original', 'on', '2008-02-21', ',', 'retrieved', '2008-03-05', 'gzeldere', ',', 'gven', ';', 'franchi', ',', 'stefano', '(', '1995-07-24', ')', ',', '``', 'constructions', 'of', 'the', 'mind', \"''\", ',', 'stanford', 'humanities', 'review', ',', 'sehr', ',', 'stanford', 'university', ',', '4', '(', '2', ')', ',', 'retrieved', '2008-03-05', 'mauldin', ',', 'michael', '(', '1994', ')', ',', '``', 'chatterbots', ',', 'tinymuds', ',', 'and', 'the', 'turing', 'test', ':', 'entering', 'the', 'loebner', 'prize', 'competition', \"''\", ',', 'proceedings', 'of', 'the', 'eleventh', 'national', 'conference', 'on', 'artificial', 'intelligence', ',', 'aaai', 'press', ',', 'retrieved', '2008-03-05', '(', 'abstract', ')', 'network', 'working', 'group', '(', '1973', ')', ',', '``', 'rfc', '439', ',', 'parry', 'encounters', 'the', 'doctor', \"''\", ',', 'internet', 'engineering', 'task', 'force', ',', 'internet', 'society', ',', 'retrieved', '2008-03-05', 'sondheim', ',', 'alan', 'j', '(', '1997', ')', ',', '<', 'nettime', '>', 'important', 'documents', 'from', 'the', 'early', 'internet', '(', '1972', ')', ',', 'nettime.org', ',', 'archived', 'from', 'the', 'original', 'on', '2008-06-13', ',', 'retrieved', '2008-03-05', 'searle', ',', 'john', '(', '1980', ')', ',', '``', 'minds', ',', 'brains', 'and', 'programs', \"''\", ',', 'behavioral', 'and', 'brain', 'sciences', ',', '3', '(', '3', ')', ':', '417457', ',', 'doi:10.1017/s0140525x00005756', 'shevat', ',', 'amir', '(', '2017', ')', '.', 'designing', 'bots', ':', 'creating', 'conversational', 'experiences', '(', 'first', 'ed.', ')', '.', 'sebastopol', ',', 'ca', ':', \"o'reilly\", 'media', '.', 'isbn', '9781491974827.', 'oclc', '962125282.', 'turing', ',', 'alan', '(', '1950', ')', ',', '``', 'computing', 'machinery', 'and', 'intelligence', \"''\", ',', 'mind', ',', '59', ':', '43360', ',', 'doi:10.1093/mind/lix.236.433', 'weizenbaum', ',', 'joseph', '(', 'january', '1966', ')', ',', '``', 'elizaa', 'computer', 'program', 'for', 'the', 'study', 'of', 'natural', 'language', 'communication', 'between', 'man', 'and', 'machine', \"''\", ',', 'communications', 'of', 'the', 'acm', ',', '9', '(', '1', ')', ':', '3645', ',', 'doi:10.1145/365153.365168', 'vte', 'natural', 'language', 'processing']\n"
          ]
        }
      ]
    },
    {
      "cell_type": "markdown",
      "metadata": {
        "id": "YI8W5YpXbR2C"
      },
      "source": [
        "Now we have our tokens!\n",
        "\n",
        "It is useful to inspect our tokens to make sure they look as expected, and to make sure that we have enough information to train our chatbot. Each sentence token can be considered one piece of knowledge as they provide a single piece of information about your knowledge base. The size of your knowledge base will determine how capable your chatbot will be. \n",
        "\n",
        "The code to print the lengths of your sentence and word tokens are below.\n",
        "\n",
        "<font color=red>Your code:</font> "
      ]
    },
    {
      "cell_type": "code",
      "metadata": {
        "id": "AjkRuZ-5bR2D",
        "colab": {
          "base_uri": "https://localhost:8080/"
        },
        "outputId": "116353fb-c42a-4b0a-9c70-9fa03b26283f"
      },
      "source": [
        "# Use this to check the size of your knowledge base. There should be at least 150 sentence tokens, and if possible, up to 1000\n",
        "# to provide enough context for your chatbot.\n",
        "print(len(sent_tokens))\n",
        "print(len(word_tokenizer))"
      ],
      "execution_count": 40,
      "outputs": [
        {
          "output_type": "stream",
          "name": "stdout",
          "text": [
            "183\n",
            "3660\n"
          ]
        }
      ]
    },
    {
      "cell_type": "markdown",
      "metadata": {
        "id": "k__VLGthbR2G"
      },
      "source": [
        "Great job! we now have an idea of the amount of information passed to our chatbot. If you find that you do not have enough sentence tokens, this is the time to go back out and search for more information!  \n",
        "  \n",
        "#### 1.2.5 Lemmatization \n",
        "\n",
        "We will lemmatize our word tokens using the WordNetLemmatizer that we have downloaded."
      ]
    },
    {
      "cell_type": "code",
      "metadata": {
        "id": "ESUg1XAybR2H"
      },
      "source": [
        "lemmer = nltk.stem.WordNetLemmatizer() #Initiate lemmer class. WordNet is a semantically-oriented dictionary of English included in NLTK.\n",
        "def LemTokens(tokens):\n",
        "    return [lemmer.lemmatize(token) for token in tokens]"
      ],
      "execution_count": 41,
      "outputs": []
    },
    {
      "cell_type": "markdown",
      "metadata": {
        "id": "-yKoSJd9bR2K"
      },
      "source": [
        "#### 1.2.6 Normalization\n",
        "\n",
        "We also write functions to remove punctuation since that will not be useful for our knowledge base."
      ]
    },
    {
      "cell_type": "code",
      "metadata": {
        "id": "rFbd98OHbR2K"
      },
      "source": [
        "remove_punct_dict = dict((ord(punct), None) for punct in string.punctuation)\n",
        "def LemNormalize(text):\n",
        "    return LemTokens(nltk.word_tokenize(text.lower().translate(remove_punct_dict))) #see previous section 1.2.5 lemmatization"
      ],
      "execution_count": 42,
      "outputs": []
    },
    {
      "cell_type": "markdown",
      "metadata": {
        "id": "x0x_EHfFbR2O"
      },
      "source": [
        "Time to see how these functions work! call the function on the following sentence and print the output. What has our function done to the test sentence?\n",
        "\n",
        "<font color=red> Hints: </font>\n",
        "*   Please do not miss out 2 x '`#your code here`' below\n",
        "*   `test_sentence`, `test_word_tokens`\n",
        "\n"
      ]
    },
    {
      "cell_type": "code",
      "metadata": {
        "id": "l2m_9ortbR2Q",
        "colab": {
          "base_uri": "https://localhost:8080/"
        },
        "outputId": "5df9a59c-c6e5-4e87-aa95-963fa7e2064c"
      },
      "source": [
        "test_sentence='Today was a wonderful day. The sun was shining so brightly and the birds were chirping loudly!'\n",
        "test_word_tokens = nltk.word_tokenize(test_sentence)# converts documents to list of words\n",
        "\n",
        "lemmer = nltk.stem.WordNetLemmatizer()\n",
        "def LemTokens(tokens):\n",
        "    return [lemmer.lemmatize(token) for token in tokens]\n",
        "\n",
        "LemTokens(test_word_tokens)"
      ],
      "execution_count": 43,
      "outputs": [
        {
          "output_type": "execute_result",
          "data": {
            "text/plain": [
              "['Today',\n",
              " 'wa',\n",
              " 'a',\n",
              " 'wonderful',\n",
              " 'day',\n",
              " '.',\n",
              " 'The',\n",
              " 'sun',\n",
              " 'wa',\n",
              " 'shining',\n",
              " 'so',\n",
              " 'brightly',\n",
              " 'and',\n",
              " 'the',\n",
              " 'bird',\n",
              " 'were',\n",
              " 'chirping',\n",
              " 'loudly',\n",
              " '!']"
            ]
          },
          "metadata": {},
          "execution_count": 43
        }
      ]
    },
    {
      "cell_type": "markdown",
      "metadata": {
        "id": "7HDSboO1bR2U"
      },
      "source": [
        "## 2. Matching topics with cosine similarity\n",
        "\n",
        "Congratulations, you have now converted your knowledge database from text into sentences and tokens! Do you remember what is the next step after this? Computers are good at processing numbers, and therefore, we will next convert our tokens into numbers!\n",
        "\n",
        "To do so, we will revisit the bag of words and tf-idf from acquire stage and experience 2.\n",
        "\n",
        "How does having our document vector help us to create our chatbot?  \n",
        "\n",
        "### 2.1 How would computer finds similarity?\n",
        "\n",
        "Suppose you want to create a chatbot that can read your input, 'considers' what your input is talking about, and then respond with something that makes the most sense. One of the most common ways is by taking the question, and looking for information within the dataset that is very similar to our question. For example, if the questions contains the phrase 'computer failure', we will assume that the answer lies in sentences that contains words similar to 'computer failure' like 'computer crash', or 'hardware failure'. \n",
        "\n",
        "### 2.2 What is [cosine similarity](https://en.wikipedia.org/wiki/Cosine_similarity)?\n",
        "\n",
        "Remember that we will convert our dataset into document vectors? cosine similarity allows us to find similar vectors, and these vectors will be assumed to be similar in meaning. \n",
        "\n",
        "### Let us work through an example below!\n",
        "\n",
        "#### 2.2.1 Dataset\n",
        "\n",
        "Here, we have 3 sentences. The first 2 are our mini knowledge base, while the third one is our sample question. We will process them into document vectors, and then use cosine similarity to see which one of the knowledge base can give us better answer to the question!"
      ]
    },
    {
      "cell_type": "code",
      "metadata": {
        "id": "RTDmIe0sbR2V"
      },
      "source": [
        "# Let us take two sentences to be the knowledge base, and one more which is a question.\n",
        "Sentence_1='John is my father'\n",
        "Sentence_2='Jane is my mother'\n",
        "Question='who is my father'"
      ],
      "execution_count": 44,
      "outputs": []
    },
    {
      "cell_type": "markdown",
      "metadata": {
        "id": "BHRcQNQ3bR2Z"
      },
      "source": [
        "#### 2.2.2 Vocabulary\n",
        "\n",
        "The vocabulary is a list of all the words that exist in our sentence and questions.   \n",
        "\n",
        "### Task: List down the vocabulary included in the dataset"
      ]
    },
    {
      "cell_type": "code",
      "metadata": {
        "id": "F1kMQQSnbR2a"
      },
      "source": [
        "Vocabulary = ['John', 'is', 'my', 'father', 'Jane', 'mother', 'who']"
      ],
      "execution_count": 45,
      "outputs": []
    },
    {
      "cell_type": "markdown",
      "metadata": {
        "id": "RLy-0Pd2bR2c"
      },
      "source": [
        "#### 2.2.3 Bag of words\n",
        "\n",
        "How would we put this into a bag of words? \n",
        "\n",
        "### Task: Construct an array to represent the information from the two sentences above using a bag of words technique.  \n",
        "\n",
        "<font color=red>Hints 1:</font>  The array should be of size (3,7), and each number within the array is either 0 or 1 to indicate the presence of that word in the row.  \n",
        "<font color=red>Hints 2:</font>  An array is constructed using the function `array_name = np.array([[row 1],[row 2],[row 3]])`\n",
        "\n",
        "<font color=red>Hints 3:</font> : https://www.w3schools.com/python/numpy_creating_arrays.asp"
      ]
    },
    {
      "cell_type": "code",
      "metadata": {
        "colab": {
          "base_uri": "https://localhost:8080/"
        },
        "id": "vXcGQoRTs7mq",
        "outputId": "413f8579-ac86-458e-c93e-108874b904cd"
      },
      "source": [
        "from sklearn.feature_extraction.text import CountVectorizer\n",
        "corpus = ['John is my father', 'Jane is my mother', 'who is my father']\n",
        "countvectorizer = CountVectorizer()\n",
        "X = countvectorizer.fit_transform(corpus)\n",
        "bag_of_words = X.toarray()\n",
        "print(bag_of_words)\n",
        "\n",
        "\n"
      ],
      "execution_count": 166,
      "outputs": [
        {
          "output_type": "stream",
          "name": "stdout",
          "text": [
            "[[1 1 0 1 0 1 0]\n",
            " [0 1 1 0 1 1 0]\n",
            " [1 1 0 0 0 1 1]]\n"
          ]
        }
      ]
    },
    {
      "cell_type": "markdown",
      "metadata": {
        "id": "gwB6khktf179"
      },
      "source": [
        "In your bag of words, the first 2 rows encode all your knowledge that is contained in sentence 1 and sentence 2. The third row encodes your question.\n",
        "To find the piece of knowledge closest to your question, we simply look for the sentence with the highest cosine similarity to your question.\n",
        "\n",
        "2.2.4 Finding cosine similarity\n",
        "Remember at the beginning of the exercise when we imported all our libraries? One of the libraries was called from sklearn.metrics.pairwise import cosine_similarity. The cosine_similarity function allows us to compare sentences. Imagine each sentence as a vector, which is a line pointing in some direction. Cosine similarity calculates the angles between each line and the more similar two lines are, the smaller their angle, and the higher their cosine similarity.\n",
        "\n",
        "Let us calculate the cosine similarities between each piece of information in our knowledge base, and the question. Remember the first row of our array corresponds to sentence 1, and the second row corresponds to sentence 2. Let us see which sentence has a higher cosine similarity to the question!\n",
        "\n",
        "Task: Use indexing function to select only the top 2 rows of bag of words\n",
        "Hints: https://www.w3schools.com/python/numpy_array_slicing.asp"
      ]
    },
    {
      "cell_type": "code",
      "metadata": {
        "colab": {
          "base_uri": "https://localhost:8080/"
        },
        "id": "PC-WaeMyjU9X",
        "outputId": "17679ffa-9ce4-4cd6-df3e-b296a482231a"
      },
      "source": [
        "bag_of_words[:2]"
      ],
      "execution_count": 170,
      "outputs": [
        {
          "output_type": "execute_result",
          "data": {
            "text/plain": [
              "array([[1, 1, 0, 1, 0, 1, 0],\n",
              "       [0, 1, 1, 0, 1, 1, 0]])"
            ]
          },
          "metadata": {},
          "execution_count": 170
        }
      ]
    },
    {
      "cell_type": "markdown",
      "metadata": {
        "id": "Mur-X58MbR2m"
      },
      "source": [
        "Great, you have your database selected, now we want to list the question which is at the last row of the variable `bag_of_words`:"
      ]
    },
    {
      "cell_type": "code",
      "metadata": {
        "id": "DR2_RhktbR2n",
        "colab": {
          "base_uri": "https://localhost:8080/"
        },
        "outputId": "2948723b-2b4c-4462-e453-7e044e4fab32"
      },
      "source": [
        "print (bag_of_words[-1,:].reshape(1, -1))"
      ],
      "execution_count": 173,
      "outputs": [
        {
          "output_type": "stream",
          "name": "stdout",
          "text": [
            "[[1 1 0 0 0 1 1]]\n"
          ]
        }
      ]
    },
    {
      "cell_type": "code",
      "metadata": {
        "scrolled": true,
        "id": "HI8wGbGpbR2q",
        "colab": {
          "base_uri": "https://localhost:8080/"
        },
        "outputId": "7a96f9a6-dea5-47ad-ac6d-34943c3ab38a"
      },
      "source": [
        "print (bag_of_words[-1,:])"
      ],
      "execution_count": 174,
      "outputs": [
        {
          "output_type": "stream",
          "name": "stdout",
          "text": [
            "[1 1 0 0 0 1 1]\n"
          ]
        }
      ]
    },
    {
      "cell_type": "markdown",
      "metadata": {
        "id": "hM8BciVfbR2t"
      },
      "source": [
        "What is the difference between the 2 output above? Try using the lines for the cosine simililarity exercise below"
      ]
    },
    {
      "cell_type": "markdown",
      "metadata": {
        "id": "vI_CYRylbR2u"
      },
      "source": [
        "We are now ready to apply the cosine similarity\n",
        "\n",
        "<font color=red>Hints:</font> \n",
        "* Don't forget '`# your code here`'\n",
        "* list the question which is at the last row of the variable `bag_of_words`\n",
        "* Read more of `cosine_similarity()`: https://scikit-learn.org/stable/modules/generated/sklearn.metrics.pairwise.cosine_similarity.html "
      ]
    },
    {
      "cell_type": "code",
      "metadata": {
        "id": "uDOj3moFbR2v",
        "colab": {
          "base_uri": "https://localhost:8080/"
        },
        "outputId": "8f240025-21f2-485a-b1a1-66383f92ef0e"
      },
      "source": [
        "# Remember our database\n",
        "# Sentence_1='John is my father'\n",
        "# Sentence_2='Jane is my mother'\n",
        "# Question='who is my father'\n",
        "\n",
        "cosine_similarity(bag_of_words[:2,:], bag_of_words[-1,:].reshape(1, -1))"
      ],
      "execution_count": 176,
      "outputs": [
        {
          "output_type": "execute_result",
          "data": {
            "text/plain": [
              "array([[0.75],\n",
              "       [0.5 ]])"
            ]
          },
          "metadata": {},
          "execution_count": 176
        }
      ]
    },
    {
      "cell_type": "markdown",
      "metadata": {
        "id": "Shil7n7-bR2y"
      },
      "source": [
        "#### Now, analyze the result!\n",
        "\n",
        "Which sentence had a higher cosine similarity, and was it the answer you expected? \n",
        "\n",
        "If you got your chatbot to return the sentence with the highest cosine similarity score as the answer, would it have answered the question correctly? That is basically how a chatbot answers questions!  \n",
        "  \n",
        "### Task: Now, can you think of a question which would cause sentence 2 to have a higher cosine similarity? Show us the score!\n",
        "\n",
        "<font color=red>Hints:</font>  \n",
        "*   code are similar to above but different `bag_of_words` inputs\n",
        "*   Suggested update to bag of words. This would correspond to the question: ‘Who is my mother?’\n",
        "\n"
      ]
    },
    {
      "cell_type": "code",
      "metadata": {
        "id": "O2EpIo4PbR2z",
        "colab": {
          "base_uri": "https://localhost:8080/"
        },
        "outputId": "d31612bd-b686-45f4-c013-b805a282b849"
      },
      "source": [
        "from sklearn.feature_extraction.text import CountVectorizer\n",
        "corpus = ['John is my father', 'Jane is my mother', 'who is my father', 'Who is my mother']\n",
        "countvectorizer = CountVectorizer()\n",
        "X = countvectorizer.fit_transform(corpus)\n",
        "bag_of_words = X.toarray()\n",
        "\n",
        "\n",
        "# Suggest an update to the initial sentences and the resulting bag of words.\n",
        "\n",
        "cosine_similarity(bag_of_words[:2,:], bag_of_words[-1,:].reshape(1, -1))"
      ],
      "execution_count": 178,
      "outputs": [
        {
          "output_type": "execute_result",
          "data": {
            "text/plain": [
              "array([[0.5 ],\n",
              "       [0.75]])"
            ]
          },
          "metadata": {},
          "execution_count": 178
        }
      ]
    },
    {
      "cell_type": "markdown",
      "metadata": {
        "id": "Eai3iqasbR22"
      },
      "source": [
        "Congratulations! Now that your chatbot has brains, let us give it a mouth!"
      ]
    },
    {
      "cell_type": "markdown",
      "metadata": {
        "id": "NpHsZSiRbR23"
      },
      "source": [
        "## 3. Get your chatbot to say its first words\n",
        "\n",
        "### 3.1 Greetings\n",
        "At the start of every conversation, your chatbot may expect a greeting. These greetings are not a question, but your chatbot should have a reply to the greeting too. We can input some common greetings you expect to receive, and get your chatbot to reply with a random selection of greeting responses.  \n",
        "   \n",
        "Tip: Your chatbot may throw up some warnings. Do not worry about those as long as your chatbot is giving you reasonable answers."
      ]
    },
    {
      "cell_type": "markdown",
      "metadata": {
        "id": "luR_l4hrbR23"
      },
      "source": [
        "#### 3.1.1 Create list of inputs and responses\n",
        "\n",
        "Let's first create the list of greetings your chatbot will have"
      ]
    },
    {
      "cell_type": "code",
      "metadata": {
        "id": "5LuNhrHqbR24"
      },
      "source": [
        "GREETING_INPUTS = [\"hello\", \"hi\", \"greetings\", \"sup\", \"what's up\",\"hey\", \"hey there\"]\n",
        "GREETING_RESPONSES = [\"hi\", \"hey\", \"*nods*\", \"hi there\", \"hello\", \"I am glad! You are talking to me\"]"
      ],
      "execution_count": 179,
      "outputs": []
    },
    {
      "cell_type": "markdown",
      "metadata": {
        "id": "VVXn2rvLbR26"
      },
      "source": [
        "### Task: Add some greeting inputs and responses to personalize your chatbot. \n",
        "\n",
        "<font color=red>Hints:</font>  add on to above GREETING_INPUTS and GREETING_RESPONSES"
      ]
    },
    {
      "cell_type": "code",
      "metadata": {
        "id": "lJZC4xKabR27"
      },
      "source": [
        "GREETING_INPUTS = [\"hello\", \"hi\", \"greetings\", \"sup\", \"what's up\",\"hey\", \"hey there\", \"It's nice to meet you\", \"It's a pleasure to meet you\"]\n",
        "GREETING_RESPONSES = [\"hi\", \"hey\", \"*nods*\", \"hi there\", \"hello\", \"I am glad! You are talking to me\", \"Hi there sir!\"]"
      ],
      "execution_count": 181,
      "outputs": []
    },
    {
      "cell_type": "markdown",
      "metadata": {
        "id": "ErYdX9olbR3D"
      },
      "source": [
        "#### 3.1.2 Create function to receive and return greetings"
      ]
    },
    {
      "cell_type": "code",
      "metadata": {
        "id": "VhovPaAYbR3E"
      },
      "source": [
        "def greeting(sentence):\n",
        "    for word in sentence.split(): # Looks at each word in your sentence\n",
        "        if word.lower() in GREETING_INPUTS: # checks if the word matches a GREETING_INPUT\n",
        "            return random.choice(GREETING_RESPONSES) # replies with a GREETING_RESPONSE"
      ],
      "execution_count": 182,
      "outputs": []
    },
    {
      "cell_type": "markdown",
      "metadata": {
        "id": "XSxQi7l5bR3H"
      },
      "source": [
        "Let's test this out! type different types of greetings into the chatbot and see how it responds. Run the greeting a few different times. Do you get the same answer each time?  \n",
        "<font color=red>Hints:</font> \n",
        "\n",
        "\n",
        "*   pressing ctrl-enter allows you to run the highlighted cell. Holding ctrl and pressing enter multiple times allows you to run the same cell repeatedly.\n",
        "*   use `greeting()`\n",
        "\n",
        "\n",
        "\n"
      ]
    },
    {
      "cell_type": "code",
      "metadata": {
        "id": "gJwEW7vlbR3I",
        "colab": {
          "base_uri": "https://localhost:8080/",
          "height": 35
        },
        "outputId": "cdaa7e47-0163-479c-e5f4-112cd6eab12d"
      },
      "source": [
        "greeting('hello')"
      ],
      "execution_count": 191,
      "outputs": [
        {
          "output_type": "execute_result",
          "data": {
            "application/vnd.google.colaboratory.intrinsic+json": {
              "type": "string"
            },
            "text/plain": [
              "'I am glad! You are talking to me'"
            ]
          },
          "metadata": {},
          "execution_count": 191
        }
      ]
    },
    {
      "cell_type": "markdown",
      "metadata": {
        "id": "uzrdkwvObR3L"
      },
      "source": [
        "#### 3.1.3 Create function to receive questions and return answers\n",
        "\n",
        "Now let us define a function to calculate a response when someone asks the robot a question. \n",
        "\n",
        "The response function:\n",
        "1. Takes in a question\n",
        "2. Uses cosine similarity to find the closest sentence to the question\n",
        "3. Returns that sentence as an answer\n",
        "\n",
        "To prevent the chatbot from returning completely useless answers, we will only return an answer if it has a cosine similarity greater than 0. Otherise, the chatbot will simply say that it does not understand the question."
      ]
    },
    {
      "cell_type": "code",
      "metadata": {
        "id": "pzCcnqSVbR3M"
      },
      "source": [
        "def response(user_response):\n",
        "    \n",
        "    robo_response='' # initialize a variable to contain string\n",
        "    sent_tokens.append(user_response) #add user response to sent_tokens\n",
        "    TfidfVec = TfidfVectorizer(tokenizer=LemNormalize, stop_words='english') \n",
        "    tfidf = TfidfVec.fit_transform(sent_tokens) #get tfidf value\n",
        "    vals = cosine_similarity(tfidf[-1], tfidf) #get cosine similarity value\n",
        "    idx=vals.argsort()[0][-2] \n",
        "    flat = vals.flatten() \n",
        "    flat.sort() #sort in ascending order\n",
        "    req_tfidf = flat[-2] \n",
        "    \n",
        "    if(req_tfidf==0):\n",
        "        robo_response=robo_response+\"I am sorry! I don't understand you\"\n",
        "        return robo_response\n",
        "    else:\n",
        "        robo_response = robo_response+sent_tokens[idx]\n",
        "        return robo_response"
      ],
      "execution_count": 212,
      "outputs": []
    },
    {
      "cell_type": "markdown",
      "metadata": {
        "id": "EQt3sL_RbR3P"
      },
      "source": [
        "#### 3.1.4 Testing the response function\n",
        "\n",
        "Test the response function. Write some questions into the response() function and inspect the results. Are they close to the answers? \n",
        "\n",
        "If you constantly get the response 'I'm sorry! I don't understand you', you might need to add more information into your knowledge base.\n",
        "\n",
        "<font color=red>Your code:</font>"
      ]
    },
    {
      "cell_type": "code",
      "metadata": {
        "scrolled": true,
        "id": "QpPK0DETbR3Q",
        "colab": {
          "base_uri": "https://localhost:8080/",
          "height": 89
        },
        "outputId": "254c659c-f92d-4a5c-fe6c-514e3f17c8e8"
      },
      "source": [
        "response('Facebook')"
      ],
      "execution_count": 216,
      "outputs": [
        {
          "output_type": "stream",
          "name": "stderr",
          "text": [
            "/usr/local/lib/python3.7/dist-packages/sklearn/feature_extraction/text.py:385: UserWarning: Your stop_words may be inconsistent with your preprocessing. Tokenizing the stop words generated tokens ['ha', 'le', 'u', 'wa'] not in stop_words.\n",
            "  'stop_words.' % sorted(inconsistent))\n"
          ]
        },
        {
          "output_type": "execute_result",
          "data": {
            "application/vnd.google.colaboratory.intrinsic+json": {
              "type": "string"
            },
            "text/plain": [
              "'facebook?'"
            ]
          },
          "metadata": {},
          "execution_count": 216
        }
      ]
    },
    {
      "cell_type": "markdown",
      "metadata": {
        "id": "z2I3ZEdwbR3T"
      },
      "source": [
        "#### 3.1.5 Adding more information into knowledge base\n",
        "\n",
        "You can add more information into your knowledge base either by hand, for specific answers you have, or by searching for and adding more data into the text file!"
      ]
    },
    {
      "cell_type": "markdown",
      "metadata": {
        "id": "eZ8EmeH0bR3U"
      },
      "source": [
        "## 4. Test your clever chatbot!\n",
        "\n",
        "#### 4.1.1 Testing your chatbot\n",
        "Now it is time to test your chatbot. This chatbot will be run entirely inside your jupyter notebook. You can train your chatbot to do specific tasks on commands. \n",
        "\n",
        "For instance:\n",
        "1. Saying 'bye' will cause the chatbot to shutdown. \n",
        "2. Giving a response that is one of the greeting phrases will cause the chatbot to give a greeting in return.   "
      ]
    },
    {
      "cell_type": "markdown",
      "metadata": {
        "id": "zSeTCjwsbR3V"
      },
      "source": [
        "You can add more features to your chatbot based on a list of keywords that triggers a certain behavior. For example, you can get your chatbot to tell the time, to tell a joke, or even print pictures.\n",
        "  \n",
        "Your basic chatbot is written below. You can play with it to see how well it can understand questions in your knowledge base. It will not be able to answer questions very well because chatbots require many thousands of sentences which takes many days to train. It should still be able to answer simple questions!  \n",
        "\n",
        "#### 4.1.2 Adding time features to your chatbot\n",
        "\n",
        "You will now add more features to your chatbot to improve its capabilities! For a start, add a feature to your chatbot that will allow it to tell you the time if the user inputs 'time'.  \n",
        "Hint: Use a similar template to the greeting function above. You can get the current time by importing datetime and calling `datetime.datetime.now()`."
      ]
    },
    {
      "cell_type": "code",
      "metadata": {
        "id": "6DKXptjabR3W",
        "colab": {
          "base_uri": "https://localhost:8080/",
          "height": 35
        },
        "outputId": "c04cc6cc-b4c6-4bf2-95b3-a0dc45de8f61"
      },
      "source": [
        "import datetime\n",
        "\n",
        "def tell_time(sentence):\n",
        "    for word in sentence.split():\n",
        "        # your code here. Hint: check user input 'time'\n",
        "            currentdt = datetime.datetime.now()\n",
        "            return currentdt.strftime(\"%Y-%m-%d %H:%M:%S\")\n",
        "\n",
        "tell_time('time')"
      ],
      "execution_count": 217,
      "outputs": [
        {
          "output_type": "execute_result",
          "data": {
            "application/vnd.google.colaboratory.intrinsic+json": {
              "type": "string"
            },
            "text/plain": [
              "'2021-11-09 09:50:51'"
            ]
          },
          "metadata": {},
          "execution_count": 217
        }
      ]
    },
    {
      "cell_type": "markdown",
      "metadata": {
        "id": "JyeU87_5bR3a"
      },
      "source": [
        "### Test your chatbot now!"
      ]
    },
    {
      "cell_type": "code",
      "metadata": {
        "id": "6xKNSVCTbR3b",
        "colab": {
          "base_uri": "https://localhost:8080/"
        },
        "outputId": "59735d02-75d5-4948-fe90-fb196716109c"
      },
      "source": [
        "flag=True\n",
        "print(\"ROBO: My name is Robo. I will answer your queries about Chatbots. If you want to exit, type Bye!\")\n",
        "while(flag==True):\n",
        "    user_response = input()\n",
        "    user_response=user_response.lower()\n",
        "    if(user_response!='bye'):\n",
        "        if(user_response=='thanks' or user_response=='thank you' ):\n",
        "            flag=False\n",
        "            print(\"ROBO: You are welcome..\")\n",
        "        else:\n",
        "            if(greeting(user_response)!=None):\n",
        "                print(\"ROBO: \"+greeting(user_response))\n",
        "                # Uncomment the statement below once you have written your tell_time fuction.\n",
        "#             if(tell_time(user_response)!=None):\n",
        "#                 print(\"ROBO: \"+tell_time(user_response))\n",
        "            else:\n",
        "                print(\"ROBO: \",end=\"\")\n",
        "                print(response(user_response))\n",
        "                sent_tokens.remove(user_response)\n",
        "    else:\n",
        "        flag=False\n",
        "        print(\"ROBO: Bye! take care..\")"
      ],
      "execution_count": 218,
      "outputs": [
        {
          "name": "stdout",
          "output_type": "stream",
          "text": [
            "ROBO: My name is Robo. I will answer your queries about Chatbots. If you want to exit, type Bye!\n",
            "how are you doing?\n"
          ]
        },
        {
          "output_type": "stream",
          "name": "stderr",
          "text": [
            "/usr/local/lib/python3.7/dist-packages/sklearn/feature_extraction/text.py:385: UserWarning: Your stop_words may be inconsistent with your preprocessing. Tokenizing the stop words generated tokens ['ha', 'le', 'u', 'wa'] not in stop_words.\n",
            "  'stop_words.' % sorted(inconsistent))\n"
          ]
        },
        {
          "name": "stdout",
          "output_type": "stream",
          "text": [
            "ROBO: in 1984, a book called the policeman's beard is half constructed was published, allegedly written by the chatbot racter (though the program as released would not have been capable of doing so).\n",
            "your name?\n"
          ]
        },
        {
          "output_type": "stream",
          "name": "stderr",
          "text": [
            "/usr/local/lib/python3.7/dist-packages/sklearn/feature_extraction/text.py:385: UserWarning: Your stop_words may be inconsistent with your preprocessing. Tokenizing the stop words generated tokens ['ha', 'le', 'u', 'wa'] not in stop_words.\n",
            "  'stop_words.' % sorted(inconsistent))\n"
          ]
        },
        {
          "name": "stdout",
          "output_type": "stream",
          "text": [
            "ROBO: I am sorry! I don't understand you\n",
            "tell me more about yourself\n"
          ]
        },
        {
          "output_type": "stream",
          "name": "stderr",
          "text": [
            "/usr/local/lib/python3.7/dist-packages/sklearn/feature_extraction/text.py:385: UserWarning: Your stop_words may be inconsistent with your preprocessing. Tokenizing the stop words generated tokens ['ha', 'le', 'u', 'wa'] not in stop_words.\n",
            "  'stop_words.' % sorted(inconsistent))\n"
          ]
        },
        {
          "name": "stdout",
          "output_type": "stream",
          "text": [
            "ROBO: by responding to any input that contains the word 'mother' with 'tell me more about your family').\n",
            "who is your mother?\n"
          ]
        },
        {
          "output_type": "stream",
          "name": "stderr",
          "text": [
            "/usr/local/lib/python3.7/dist-packages/sklearn/feature_extraction/text.py:385: UserWarning: Your stop_words may be inconsistent with your preprocessing. Tokenizing the stop words generated tokens ['ha', 'le', 'u', 'wa'] not in stop_words.\n",
            "  'stop_words.' % sorted(inconsistent))\n"
          ]
        },
        {
          "name": "stdout",
          "output_type": "stream",
          "text": [
            "ROBO: by responding to any input that contains the word 'mother' with 'tell me more about your family').\n",
            "who is your mother\n"
          ]
        },
        {
          "output_type": "stream",
          "name": "stderr",
          "text": [
            "/usr/local/lib/python3.7/dist-packages/sklearn/feature_extraction/text.py:385: UserWarning: Your stop_words may be inconsistent with your preprocessing. Tokenizing the stop words generated tokens ['ha', 'le', 'u', 'wa'] not in stop_words.\n",
            "  'stop_words.' % sorted(inconsistent))\n"
          ]
        },
        {
          "name": "stdout",
          "output_type": "stream",
          "text": [
            "ROBO: by responding to any input that contains the word 'mother' with 'tell me more about your family').\n",
            "mother\n"
          ]
        },
        {
          "output_type": "stream",
          "name": "stderr",
          "text": [
            "/usr/local/lib/python3.7/dist-packages/sklearn/feature_extraction/text.py:385: UserWarning: Your stop_words may be inconsistent with your preprocessing. Tokenizing the stop words generated tokens ['ha', 'le', 'u', 'wa'] not in stop_words.\n",
            "  'stop_words.' % sorted(inconsistent))\n"
          ]
        },
        {
          "output_type": "stream",
          "name": "stdout",
          "text": [
            "ROBO: by responding to any input that contains the word 'mother' with 'tell me more about your family').\n",
            "hi\n",
            "ROBO: I am glad! You are talking to me\n",
            "bye\n",
            "ROBO: Bye! take care..\n"
          ]
        }
      ]
    },
    {
      "cell_type": "markdown",
      "metadata": {
        "id": "m7n2pN7bbR3e"
      },
      "source": [
        "Now you have a very basic chatbot that can be trained on data you have chosen. Improve your chatbot in the following ways:\n",
        "1. increase the number of greeting inputs and greeting responses\n",
        "2. increase the number of words to say goodbye i.e. see you!, quit, exit\n",
        "3. train your chatbot on a different topic, or add to your chatbot's knowledge base by adding more data"
      ]
    }
  ]
}